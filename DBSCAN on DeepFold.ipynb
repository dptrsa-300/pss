{
 "cells": [
  {
   "cell_type": "markdown",
   "id": "b2997827",
   "metadata": {},
   "source": [
    "# Clustering on DeepFold Embeddings\n",
    "Haerang Lee\n",
    "\n",
    "I'm going to take Skyler's DeepFold embeddings. Those files are in `embeddings/DeepFold` in the GCS bucket.\n",
    "\n",
    "Then let me run some clustering models on top of it.\n",
    "\n",
    "**Silly question**: If I want to put this notebook under a directory, how do I access `utils` in the parent directory? Right now I just put my notebook in the home dir."
   ]
  },
  {
   "cell_type": "code",
   "execution_count": 1,
   "id": "31305d27",
   "metadata": {},
   "outputs": [],
   "source": [
    "from google.cloud import storage\n",
    "import argparse\n",
    "import gzip\n",
    "import os\n",
    "import sys\n",
    "import time\n",
    "from multiprocessing import Pool\n",
    "\n",
    "import numpy as np\n",
    "import pandas as pd\n",
    "from tqdm.auto import tqdm\n",
    "\n",
    "from utils import gcs_utils as gcs"
   ]
  },
  {
   "cell_type": "code",
   "execution_count": 2,
   "id": "1e064b07",
   "metadata": {},
   "outputs": [],
   "source": [
    "# Get all the keys from gcs\n",
    "allkeys = gcs.list_keys()"
   ]
  },
  {
   "cell_type": "code",
   "execution_count": 3,
   "id": "41f78067",
   "metadata": {
    "scrolled": true
   },
   "outputs": [
    {
     "data": {
      "text/plain": [
       "['/annotations/blast_annotations.csv',\n",
       " 'UP000005640_9606_HUMAN.tar',\n",
       " 'UP000005640_9606_HUMAN/cif/AF-A0A024R1R8-F1-model_v1.cif.gz',\n",
       " 'UP000005640_9606_HUMAN/cif/AF-A0A024RBG1-F1-model_v1.cif.gz',\n",
       " 'UP000005640_9606_HUMAN/cif/AF-A0A024RCN7-F1-model_v1.cif.gz',\n",
       " 'UP000005640_9606_HUMAN/cif/AF-A0A075B6H5-F1-model_v1.cif.gz',\n",
       " 'UP000005640_9606_HUMAN/cif/AF-A0A075B6H7-F1-model_v1.cif.gz',\n",
       " 'UP000005640_9606_HUMAN/cif/AF-A0A075B6H8-F1-model_v1.cif.gz',\n",
       " 'UP000005640_9606_HUMAN/cif/AF-A0A075B6H9-F1-model_v1.cif.gz',\n",
       " 'UP000005640_9606_HUMAN/cif/AF-A0A075B6I0-F1-model_v1.cif.gz']"
      ]
     },
     "execution_count": 3,
     "metadata": {},
     "output_type": "execute_result"
    }
   ],
   "source": [
    "# What's in here?\n",
    "allkeys[0:10]"
   ]
  },
  {
   "cell_type": "code",
   "execution_count": 4,
   "id": "48398bc0",
   "metadata": {},
   "outputs": [
    {
     "data": {
      "text/plain": [
       "46812"
      ]
     },
     "execution_count": 4,
     "metadata": {},
     "output_type": "execute_result"
    }
   ],
   "source": [
    "# How many files are there?\n",
    "len(allkeys)"
   ]
  },
  {
   "cell_type": "code",
   "execution_count": 5,
   "id": "68dda701",
   "metadata": {
    "scrolled": true
   },
   "outputs": [
    {
     "name": "stdout",
     "output_type": "stream",
     "text": [
      "embeddings/\n",
      "embeddings/DeepFold/\n",
      "embeddings/DeepFold/embeddings_0.csv\n",
      "embeddings/DeepFold/embeddings_1.csv\n",
      "embeddings/DeepFold/embeddings_10.csv\n",
      "embeddings/DeepFold/embeddings_11.csv\n",
      "embeddings/DeepFold/embeddings_12.csv\n",
      "embeddings/DeepFold/embeddings_13.csv\n",
      "embeddings/DeepFold/embeddings_14.csv\n",
      "embeddings/DeepFold/embeddings_15.csv\n",
      "embeddings/DeepFold/embeddings_16.csv\n",
      "embeddings/DeepFold/embeddings_17.csv\n",
      "embeddings/DeepFold/embeddings_18.csv\n",
      "embeddings/DeepFold/embeddings_19.csv\n",
      "embeddings/DeepFold/embeddings_2.csv\n",
      "embeddings/DeepFold/embeddings_20.csv\n",
      "embeddings/DeepFold/embeddings_21.csv\n",
      "embeddings/DeepFold/embeddings_22.csv\n",
      "embeddings/DeepFold/embeddings_23.csv\n",
      "embeddings/DeepFold/embeddings_3.csv\n",
      "embeddings/DeepFold/embeddings_4.csv\n",
      "embeddings/DeepFold/embeddings_5.csv\n",
      "embeddings/DeepFold/embeddings_6.csv\n",
      "embeddings/DeepFold/embeddings_7.csv\n",
      "embeddings/DeepFold/embeddings_8.csv\n",
      "embeddings/DeepFold/embeddings_9.csv\n"
     ]
    }
   ],
   "source": [
    "# I just want the DeepFold embedding files\n",
    "for k in allkeys:\n",
    "    if \"embed\" in k:\n",
    "        print(k)"
   ]
  },
  {
   "cell_type": "code",
   "execution_count": 6,
   "id": "4c7ecc19",
   "metadata": {},
   "outputs": [],
   "source": [
    "prefix = 'embeddings/DeepFold'\n",
    "keys = gcs.list_file_paths(prefix)"
   ]
  },
  {
   "cell_type": "markdown",
   "id": "f09ed37e",
   "metadata": {},
   "source": [
    "There are 24 files in the embeddings folder, each containing 1,000 proteins (except the last one). Here are the file names."
   ]
  },
  {
   "cell_type": "code",
   "execution_count": 7,
   "id": "63614748",
   "metadata": {
    "scrolled": true
   },
   "outputs": [
    {
     "data": {
      "text/plain": [
       "['gs://capstone-fall21-protein/embeddings/DeepFold/',\n",
       " 'gs://capstone-fall21-protein/embeddings/DeepFold/embeddings_0.csv',\n",
       " 'gs://capstone-fall21-protein/embeddings/DeepFold/embeddings_1.csv',\n",
       " 'gs://capstone-fall21-protein/embeddings/DeepFold/embeddings_10.csv',\n",
       " 'gs://capstone-fall21-protein/embeddings/DeepFold/embeddings_11.csv',\n",
       " 'gs://capstone-fall21-protein/embeddings/DeepFold/embeddings_12.csv',\n",
       " 'gs://capstone-fall21-protein/embeddings/DeepFold/embeddings_13.csv',\n",
       " 'gs://capstone-fall21-protein/embeddings/DeepFold/embeddings_14.csv',\n",
       " 'gs://capstone-fall21-protein/embeddings/DeepFold/embeddings_15.csv',\n",
       " 'gs://capstone-fall21-protein/embeddings/DeepFold/embeddings_16.csv',\n",
       " 'gs://capstone-fall21-protein/embeddings/DeepFold/embeddings_17.csv',\n",
       " 'gs://capstone-fall21-protein/embeddings/DeepFold/embeddings_18.csv',\n",
       " 'gs://capstone-fall21-protein/embeddings/DeepFold/embeddings_19.csv',\n",
       " 'gs://capstone-fall21-protein/embeddings/DeepFold/embeddings_2.csv',\n",
       " 'gs://capstone-fall21-protein/embeddings/DeepFold/embeddings_20.csv',\n",
       " 'gs://capstone-fall21-protein/embeddings/DeepFold/embeddings_21.csv',\n",
       " 'gs://capstone-fall21-protein/embeddings/DeepFold/embeddings_22.csv',\n",
       " 'gs://capstone-fall21-protein/embeddings/DeepFold/embeddings_23.csv',\n",
       " 'gs://capstone-fall21-protein/embeddings/DeepFold/embeddings_3.csv',\n",
       " 'gs://capstone-fall21-protein/embeddings/DeepFold/embeddings_4.csv',\n",
       " 'gs://capstone-fall21-protein/embeddings/DeepFold/embeddings_5.csv',\n",
       " 'gs://capstone-fall21-protein/embeddings/DeepFold/embeddings_6.csv',\n",
       " 'gs://capstone-fall21-protein/embeddings/DeepFold/embeddings_7.csv',\n",
       " 'gs://capstone-fall21-protein/embeddings/DeepFold/embeddings_8.csv',\n",
       " 'gs://capstone-fall21-protein/embeddings/DeepFold/embeddings_9.csv']"
      ]
     },
     "execution_count": 7,
     "metadata": {},
     "output_type": "execute_result"
    }
   ],
   "source": [
    "keys"
   ]
  },
  {
   "cell_type": "markdown",
   "id": "57b66d05",
   "metadata": {},
   "source": [
    "One of those embeddings files contains 1,000 proteins.\n",
    "The first three elements appear to be empty data, or just `'', '0', '1\\n0'`. The remaining 2,000 are pairs of protein name and relevant embedding (2\\*1000)."
   ]
  },
  {
   "cell_type": "code",
   "execution_count": 8,
   "id": "923ea197",
   "metadata": {},
   "outputs": [
    {
     "data": {
      "text/plain": [
       "'gs://capstone-fall21-protein/embeddings/DeepFold/embeddings_0.csv'"
      ]
     },
     "execution_count": 8,
     "metadata": {},
     "output_type": "execute_result"
    }
   ],
   "source": [
    "keys[1]"
   ]
  },
  {
   "cell_type": "code",
   "execution_count": 65,
   "id": "1259d68d",
   "metadata": {},
   "outputs": [
    {
     "data": {
      "text/plain": [
       "'embeddings/DeepFold/embeddings_7.csv'"
      ]
     },
     "execution_count": 65,
     "metadata": {},
     "output_type": "execute_result"
    }
   ],
   "source": [
    "key = gcs.uri_to_bucket_and_key(keys[22])[1]\n",
    "key"
   ]
  },
  {
   "cell_type": "markdown",
   "id": "c440fccb",
   "metadata": {},
   "source": [
    "## Download and Parse DeepFold Embeddings"
   ]
  },
  {
   "cell_type": "code",
   "execution_count": 68,
   "id": "febd6411",
   "metadata": {},
   "outputs": [],
   "source": [
    "# Let me download one and play with it.\n",
    "df_emb = gcs.download_text(key)"
   ]
  },
  {
   "cell_type": "code",
   "execution_count": 69,
   "id": "d085e221",
   "metadata": {},
   "outputs": [],
   "source": [
    "# Decode it then split it into a list.\n",
    "df_emb_decode = df_emb.decode('utf-8').split(\",\")"
   ]
  },
  {
   "cell_type": "code",
   "execution_count": 70,
   "id": "a2ab387d",
   "metadata": {},
   "outputs": [
    {
     "data": {
      "text/plain": [
       "2003"
      ]
     },
     "execution_count": 70,
     "metadata": {},
     "output_type": "execute_result"
    }
   ],
   "source": [
    "# 2003 items, where the first few are not just metadata or empty strings\n",
    "len(df_emb_decode)"
   ]
  },
  {
   "cell_type": "code",
   "execution_count": 71,
   "id": "d21ab470",
   "metadata": {},
   "outputs": [
    {
     "data": {
      "text/plain": [
       "['', '0', '1\\n0', 'AF-P52758-F1-model_v1']"
      ]
     },
     "execution_count": 71,
     "metadata": {},
     "output_type": "execute_result"
    }
   ],
   "source": [
    "# Item index 3 is where the real data starts. That's the protein name.\n",
    "df_emb_decode[0:4]"
   ]
  },
  {
   "cell_type": "code",
   "execution_count": 75,
   "id": "c04818db",
   "metadata": {
    "scrolled": true
   },
   "outputs": [
    {
     "data": {
      "text/plain": [
       "'\"[0.02314364 0.         0.         0.         0.         0.\\n 0.21306136 0.         0.         0.         0.         0.\\n 0.00894155 0.14864615 0.         0.16724743 0.         0.\\n 0.         0.         0.14527881 0.         0.05551712 0.01512884\\n 0.         0.         0.         0.03125526 0.         0.\\n 0.08913685 0.         0.         0.         0.         0.\\n 0.13471818 0.         0.         0.         0.         0.11604603\\n 0.         0.         0.0529888  0.00097862 0.         0.\\n 0.         0.         0.00811869 0.         0.         0.02698607\\n 0.         0.         0.         0.         0.07556766 0.\\n 0.18254162 0.00297375 0.         0.         0.         0.\\n 0.         0.         0.02795849 0.         0.         0.06582197\\n 0.         0.         0.04518154 0.         0.         0.\\n 0.         0.         0.07439934 0.         0.1683139  0.\\n 0.         0.         0.01760291 0.         0.07878704 0.01621049\\n 0.         0.12183473 0.         0.02944913 0.         0.\\n 0.14381258 0.02073403 0.07590045 0.         0.         0.\\n 0.         0.01363126 0.07208093 0.         0.         0.\\n 0.         0.12615182 0.         0.         0.         0.14108258\\n 0.         0.         0.         0.         0.04168807 0.\\n 0.         0.06576484 0.         0.         0.         0.\\n 0.         0.00971658 0.05059295 0.06317799 0.         0.\\n 0.03253891 0.         0.         0.         0.         0.\\n 0.00962644 0.         0.         0.         0.         0.\\n 0.00792778 0.03608674 0.03793285 0.12598439 0.         0.10180479\\n 0.         0.1096139  0.03835648 0.         0.0555568  0.\\n 0.         0.0545046  0.         0.         0.         0.\\n 0.         0.         0.02885103 0.         0.00431074 0.\\n 0.05139066 0.         0.30635807 0.         0.00679156 0.\\n 0.09452131 0.         0.         0.         0.13394403 0.09762918\\n 0.         0.02310242 0.         0.         0.06708985 0.\\n 0.         0.06497151 0.         0.         0.         0.\\n 0.         0.         0.         0.         0.         0.\\n 0.         0.         0.02407264 0.         0.         0.\\n 0.         0.         0.05431239 0.         0.         0.05462025\\n 0.10273146 0.08540751 0.         0.00790119 0.         0.\\n 0.169093   0.         0.         0.         0.04370213 0.\\n 0.         0.12707384 0.         0.         0.         0.01961581\\n 0.         0.         0.         0.02918626 0.         0.\\n 0.         0.0036897  0.01159351 0.         0.06846355 0.\\n 0.         0.         0.         0.02200389 0.         0.02000592\\n 0.         0.         0.0318802  0.09190645 0.         0.\\n 0.         0.0169356  0.19742802 0.02531848 0.08357864 0.00223953\\n 0.         0.         0.04056058 0.05070694 0.         0.\\n 0.25617096 0.         0.         0.         0.         0.\\n 0.         0.05889191 0.         0.         0.         0.03604541\\n 0.         0.         0.         0.1064846  0.08369392 0.14878869\\n 0.         0.00135816 0.10710653 0.         0.         0.\\n 0.         0.11444912 0.         0.         0.         0.02669412\\n 0.         0.01393781 0.         0.07296172 0.         0.\\n 0.         0.         0.         0.         0.         0.04067323\\n 0.         0.         0.         0.         0.0231672  0.\\n 0.         0.         0.04752928 0.03145236 0.00324641 0.\\n 0.         0.02926644 0.00244213 0.         0.09553625 0.\\n 0.01650584 0.07412088 0.11087363 0.         0.         0.\\n 0.         0.01643748 0.         0.         0.01589641 0.\\n 0.05473797 0.         0.02218097 0.0710637  0.0212361  0.25800192\\n 0.         0.         0.         0.         0.         0.\\n 0.13236551 0.         0.         0.         0.         0.\\n 0.00063163 0.         0.         0.         0.         0.08648559\\n 0.04083654 0.01081329 0.09609775 0.         0.11838535 0.07038995\\n 0.         0.         0.         0.         0.         0.\\n 0.         0.         0.         0.         0.         0.\\n 0.08174036 0.         0.         0.02403302 0.         0.06239022\\n 0.04072979 0.         0.         0.01147999 0.         0.00352042\\n 0.01732604 0.         0.02485226 0.         0.02280044 0.\\n 0.         0.        ]\"\\n1'"
      ]
     },
     "execution_count": 75,
     "metadata": {},
     "output_type": "execute_result"
    }
   ],
   "source": [
    "# ... Followed by the 398-length vector that represents a DeepFold embedding\n",
    "df_emb_decode[4]"
   ]
  },
  {
   "cell_type": "code",
   "execution_count": 91,
   "id": "f7f0a046",
   "metadata": {},
   "outputs": [],
   "source": [
    "# Let's figure out how to parse the DeepFold embedding. \n",
    "# There's a lot of funny stuff in here.\n",
    "# First, get rid of the file number at the end and just keep the vector\n",
    "\n",
    "sample_emb = df_emb_decode[6].rsplit('\\n', 1)[0]"
   ]
  },
  {
   "cell_type": "code",
   "execution_count": 165,
   "id": "aed1768b",
   "metadata": {
    "scrolled": true
   },
   "outputs": [
    {
     "data": {
      "text/plain": [
       "array(['0.', '0.', '0.', '0.', '0.05980834', '0.', '0.11338624',\n",
       "       '0.03886417', '0.02524441', '0.', '0.', '0.', '0.', '0.05950396',\n",
       "       '0.01365902', '0.12355073', '0.00876983', '0.01822875',\n",
       "       '0.09609001', '0.04257268', '0.04186481', '0.02684545',\n",
       "       '0.03763113', '0.', '0.03659998', '0.', '0.', '0.', '0.059562',\n",
       "       '0.', '0.06115272', '0.1620137', '0.03983198', '0.01684552',\n",
       "       '0.02932842', '0.00660839', '0.00770707', '0.04277336',\n",
       "       '0.01949005', '0.', '0.', '0.', '0.', '0.04254051', '0.07754262',\n",
       "       '0.02618456', '0.', '0.', '0.', '0.', '0.', '0.', '0.01862345',\n",
       "       '0.', '0.04642207', '0.', '0.', '0.07284059', '0.06610846',\n",
       "       '0.12522222', '0.', '0.', '0.', '0.03716445', '0.', '0.',\n",
       "       '0.04749022', '0.', '0.03763493', '0.0703754', '0.', '0.',\n",
       "       '0.02273948', '0.', '0.00482177', '0.03592151', '0.', '0.', '0.',\n",
       "       '0.', '0.00829109', '0.02022448', '0.12619579', '0.', '0.', '0.',\n",
       "       '0.06418524', '0.', '0.', '0.09890323', '0.', '0.', '0.00144561',\n",
       "       '0.', '0.09147837', '0.06295256', '0.00653698', '0.', '0.12657993',\n",
       "       '0.', '0.', '0.04163909', '0.', '0.', '0.', '0.02829257',\n",
       "       '0.04039153', '0.06628565', '0.', '0.0087872', '0.0084249',\n",
       "       '0.03270797', '0.14450833', '0.', '0.00741809', '0.', '0.04919405',\n",
       "       '0.', '0.', '0.13808498', '0.09374839', '0.', '0.12582865',\n",
       "       '0.01426593', '0.', '0.15031183', '0.02470017', '0.', '0.03085166',\n",
       "       '0.04417508', '0.0006746', '0.03350945', '0.01194865',\n",
       "       '0.05489074', '0.', '0.07116625', '0.', '0.', '0.', '0.', '0.',\n",
       "       '0.', '0.', '0.01899349', '0.', '0.07686512', '0.', '0.06435193',\n",
       "       '0.', '0.', '0.', '0.15322883', '0.', '0.09604248', '0.02390816',\n",
       "       '0.08016782', '0.', '0.04388826', '0.13394573', '0.', '0.06688856',\n",
       "       '0.', '0.02585234', '0.1017904', '0.0282887', '0.', '0.', '0.',\n",
       "       '0.', '0.01998496', '0.05055141', '0.09936758', '0.', '0.',\n",
       "       '0.17462678', '0.05487485', '0.', '0.', '0.08260254', '0.04759179',\n",
       "       '0.', '0.', '0.', '0.00697605', '0.03123792', '0.', '0.04067155',\n",
       "       '0.08182963', '0.', '0.', '0.', '0.', '0.02955717', '0.',\n",
       "       '0.00343344', '0.03440702', '0.', '0.', '0.06064336', '0.',\n",
       "       '0.04429209', '0.11123917', '0.', '0.', '0.08772237', '0.08640277',\n",
       "       '0.', '0.02345176', '0.15484817', '0.', '0.05288275', '0.', '0.',\n",
       "       '0.', '0.', '0.', '0.11364133', '0.', '0.01076936', '0.03315537',\n",
       "       '0.12002372', '0.03057418', '0.03092458', '0.', '0.00837152',\n",
       "       '0.00635424', '0.', '0.', '0.', '0.', '0.', '0.07709942',\n",
       "       '0.03182171', '0.', '0.01376555', '0.01781355', '0.03038462', '0.',\n",
       "       '0.', '0.', '0.00578539', '0.', '0.09882674', '0.01823773', '0.',\n",
       "       '0.03258087', '0.', '0.02911014', '0.03968379', '0.', '0.03894253',\n",
       "       '0.00932875', '0.08347307', '0.03994662', '0.17834936',\n",
       "       '0.09543647', '0.', '0.', '0.', '0.', '0.05920684', '0.07714174',\n",
       "       '0.04363203', '0.03916556', '0.02598635', '0.', '0.06922439', '0.',\n",
       "       '0.', '0.', '0.', '0.18209377', '0.02272743', '0.05665448', '0.',\n",
       "       '0.04883811', '0.', '0.07745793', '0.', '0.0973512', '0.',\n",
       "       '0.02732183', '0.03171235', '0.11221045', '0.', '0.0436484', '0.',\n",
       "       '0.', '0.', '0.', '0.01079782', '0.', '0.04995101', '0.08127663',\n",
       "       '0.', '0.01610788', '0.', '0.00311978', '0.', '0.', '0.08783942',\n",
       "       '0.0316363', '0.', '0.', '0.10540186', '0.08023261', '0.01441455',\n",
       "       '0.02311896', '0.', '0.', '0.', '0.06996151', '0.15908292',\n",
       "       '0.01964344', '0.', '0.04563855', '0.', '0.02551155', '0.', '0.',\n",
       "       '0.02156669', '0.07118768', '0.', '0.', '0.', '0.', '0.06478353',\n",
       "       '0.', '0.', '0.', '0.04115181', '0.', '0.08003301', '0.', '0.',\n",
       "       '0.', '0.', '0.08841439', '0.04027123', '0.', '0.02714846',\n",
       "       '0.09262609', '0.', '0.05707483', '0.00997529', '0.17844826', '0.',\n",
       "       '0.', '0.03517175', '0.1809456', '0.02974886', '0.', '0.',\n",
       "       '0.0219439', '0.01037093', '0.04509848', '0.', '0.04460922',\n",
       "       '0.02651942', '0.', '0.', '0.', '0.', '0.08297099', '0.1446617',\n",
       "       '0.', '0.', '0.', '0.0002086', '0.02008559', '0.06630368',\n",
       "       '0.18600738', '0.03415132', '0.02067097', '0.01145675', '0.', '0.',\n",
       "       '0.03768767', '0.01105373', '0.', '0.', '0.', '0.', '0.06230666',\n",
       "       '0.04061314', '0.', '0.', '0.', '0.04654699', '0.03952103', '0.',\n",
       "       '0.10568485', '0.', '0.', '0.08500329', '0.03520707', '0.', '0.'],\n",
       "      dtype='<U10')"
      ]
     },
     "execution_count": 165,
     "metadata": {},
     "output_type": "execute_result"
    }
   ],
   "source": [
    "# Now get rid of the double quotes and brackets to just get the values of the array\n",
    "\n",
    "sample_emb_np = np.array(sample_emb[2:-2].split())\n",
    "sample_emb_np"
   ]
  },
  {
   "cell_type": "code",
   "execution_count": 166,
   "id": "08e1a65c",
   "metadata": {},
   "outputs": [
    {
     "data": {
      "text/plain": [
       "(398,)"
      ]
     },
     "execution_count": 166,
     "metadata": {},
     "output_type": "execute_result"
    }
   ],
   "source": [
    "# Size is as expected \n",
    "\n",
    "sample_emb_np.shape"
   ]
  },
  {
   "cell_type": "code",
   "execution_count": 125,
   "id": "e55cb08e",
   "metadata": {},
   "outputs": [
    {
     "data": {
      "text/plain": [
       "'AF-P52758-F1-model_v1'"
      ]
     },
     "execution_count": 125,
     "metadata": {},
     "output_type": "execute_result"
    }
   ],
   "source": [
    "# items 0-2 in the embedding file are not relevant. \n",
    "# Take the rest and convert into a numpy array \n",
    "    # First column is the protein names\n",
    "    # Second  column is the DeepFold. vector (size 398)\n",
    "\n",
    "np_emb = np.array(df_emb_decode[3:]).reshape(1000, 2)"
   ]
  },
  {
   "cell_type": "code",
   "execution_count": 233,
   "id": "d5c448c1",
   "metadata": {},
   "outputs": [],
   "source": [
    "# Let's take those columns separately to clean it up\n",
    "\n",
    "X=np_emb[:,1].reshape(1000,1)\n",
    "protein=np_emb[:,0].reshape(1000,1)"
   ]
  },
  {
   "cell_type": "code",
   "execution_count": 236,
   "id": "a0d3e80a",
   "metadata": {},
   "outputs": [
    {
     "data": {
      "text/plain": [
       "(1000, 1)"
      ]
     },
     "execution_count": 236,
     "metadata": {},
     "output_type": "execute_result"
    }
   ],
   "source": [
    "X.shape"
   ]
  },
  {
   "cell_type": "markdown",
   "id": "11a16616",
   "metadata": {},
   "source": [
    "## Parsing function"
   ]
  },
  {
   "cell_type": "code",
   "execution_count": 234,
   "id": "e5f88f02",
   "metadata": {},
   "outputs": [],
   "source": [
    "def parse_deepfold_embedding(unparsed):\n",
    "    \"\"\"Given a single DeepFold vector in a text format, \n",
    "    drop the metadata and convert the into a numpy array.\"\"\"\n",
    "    \n",
    "    return np.array([float(n) for n in unparsed[0].rsplit('\\n', 1)[0][2:-2].split()])"
   ]
  },
  {
   "cell_type": "code",
   "execution_count": 301,
   "id": "4cf75b85",
   "metadata": {},
   "outputs": [],
   "source": [
    "# Map the custom parse function. \n",
    "# The result is in a list.\n",
    "\n",
    "parsed_list = list(map(parse_deepfold_embedding, X))"
   ]
  },
  {
   "cell_type": "markdown",
   "id": "8cb81738",
   "metadata": {},
   "source": [
    "# Proteins that are missing DeepFold emeddings"
   ]
  },
  {
   "cell_type": "code",
   "execution_count": 302,
   "id": "3b8eec29",
   "metadata": {},
   "outputs": [],
   "source": [
    "# Unfortunately, not every protein has a 398-D embedding.\n",
    "# Let's find those out. \n",
    "\n",
    "missing=[]\n",
    "for i in range(len(parsed_list)):\n",
    "    if len(parsed_list[i])!= 398:\n",
    "        missing.append(i)"
   ]
  },
  {
   "cell_type": "code",
   "execution_count": 295,
   "id": "f9e2fa40",
   "metadata": {},
   "outputs": [
    {
     "data": {
      "text/plain": [
       "array(['AF-P53803-F1-model_v1', 'AF-P56378-F1-model_v1',\n",
       "       'AF-P56381-F1-model_v1', 'AF-P58511-F1-model_v1',\n",
       "       'AF-P62273-F1-model_v1', 'AF-P62328-F1-model_v1',\n",
       "       'AF-P62891-F1-model_v1', 'AF-P62945-F1-model_v1',\n",
       "       'AF-P63313-F1-model_v1', 'AF-P80294-F1-model_v1',\n",
       "       'AF-P80297-F1-model_v1', 'AF-P84101-F1-model_v1',\n",
       "       'AF-Q00LT1-F1-model_v1'], dtype='<U6076')"
      ]
     },
     "execution_count": 295,
     "metadata": {},
     "output_type": "execute_result"
    }
   ],
   "source": [
    "# These proteisns are missing DeepFold embeddings\n",
    "\n",
    "np_emb[missing, 0]"
   ]
  },
  {
   "cell_type": "code",
   "execution_count": 296,
   "id": "fcfe9ea3",
   "metadata": {},
   "outputs": [
    {
     "data": {
      "text/plain": [
       "[3, 4, 4, 4, 4, 4, 4, 4, 4, 4, 4, 4, 4]"
      ]
     },
     "execution_count": 296,
     "metadata": {},
     "output_type": "execute_result"
    }
   ],
   "source": [
    "[len(embedding) for embedding in np_emb[missing, 1]]"
   ]
  },
  {
   "cell_type": "code",
   "execution_count": 297,
   "id": "5e3564a8",
   "metadata": {},
   "outputs": [
    {
     "data": {
      "text/plain": [
       "array(['\\n60', '\\n220', '\\n221', '\\n340', '\\n551', '\\n563', '\\n600',\n",
       "       '\\n608', '\\n648', '\\n781', '\\n782', '\\n834', '\\n987'],\n",
       "      dtype='<U6076')"
      ]
     },
     "execution_count": 297,
     "metadata": {},
     "output_type": "execute_result"
    }
   ],
   "source": [
    "np_emb[missing, 1]"
   ]
  },
  {
   "cell_type": "code",
   "execution_count": 305,
   "id": "56570837",
   "metadata": {},
   "outputs": [
    {
     "data": {
      "text/plain": [
       "13"
      ]
     },
     "execution_count": 305,
     "metadata": {},
     "output_type": "execute_result"
    }
   ],
   "source": [
    "len(missing)"
   ]
  },
  {
   "cell_type": "code",
   "execution_count": 303,
   "id": "8f80364b",
   "metadata": {},
   "outputs": [
    {
     "data": {
      "text/plain": [
       "(987, 398)"
      ]
     },
     "execution_count": 303,
     "metadata": {},
     "output_type": "execute_result"
    }
   ],
   "source": [
    "# Let's generate a clean dataset by eliminating the proteins with missing embeddings \n",
    "# We end up with 987 out of 1,000 proteins. \n",
    "\n",
    "X_clean = np.stack([x for i,x in enumerate(parsed_list) if i not in missing])\n",
    "X_clean.shape"
   ]
  },
  {
   "cell_type": "code",
   "execution_count": 299,
   "id": "88d6dfe1",
   "metadata": {},
   "outputs": [
    {
     "data": {
      "text/plain": [
       "(987, 1)"
      ]
     },
     "execution_count": 299,
     "metadata": {},
     "output_type": "execute_result"
    }
   ],
   "source": [
    "protein_clean =  np.stack([x for i,x in enumerate(protein) if i not in missing])\n",
    "protein_clean.shape"
   ]
  },
  {
   "cell_type": "markdown",
   "id": "faf373b8",
   "metadata": {},
   "source": [
    "# Clustering"
   ]
  },
  {
   "cell_type": "code",
   "execution_count": 316,
   "id": "0da69f45",
   "metadata": {},
   "outputs": [],
   "source": [
    "from sklearn.cluster import DBSCAN\n",
    "clustering = DBSCAN(eps=0.5, min_samples=5).fit(X_clean)"
   ]
  },
  {
   "cell_type": "code",
   "execution_count": 317,
   "id": "986e5b74",
   "metadata": {},
   "outputs": [
    {
     "name": "stdout",
     "output_type": "stream",
     "text": [
      "[[ -1 552]\n",
      " [  0   5]\n",
      " [  1 257]\n",
      " [  2  21]\n",
      " [  3  33]\n",
      " [  4   5]\n",
      " [  5  40]\n",
      " [  6  26]\n",
      " [  7  20]\n",
      " [  8   8]\n",
      " [  9   8]\n",
      " [ 10  12]]\n"
     ]
    }
   ],
   "source": [
    "print(np.asarray(np.unique(clustering.labels_, return_counts=True)).T)"
   ]
  },
  {
   "cell_type": "markdown",
   "id": "9a8e60bc",
   "metadata": {},
   "source": [
    "---\n",
    "\n",
    "# Hyperparam tuning\n",
    "\n",
    "Next steps for me:\n",
    "1. I’m going to add in some form of evaluation metrics. Exploring using BLAST or other more traditional cluster evaluation techniques like the Elbow method. Then I’ll try to figure out what a reasonable outcome means and how to optimize for it.\n",
    "1. I’ll write the code to tune the hyperparams.\n",
    "1. Finally, I am going to write a .py file to download all the proteins and run a DB scan on all the proteins, then tune the hyperparams."
   ]
  },
  {
   "cell_type": "markdown",
   "id": "a74924e8",
   "metadata": {},
   "source": [
    "## Ideal number of clusters for the data\n",
    "\n",
    "\n",
    "DBSCAN takes two inputs: `eps` and `min_samples`. Since this is an unsupervised model, here are some validity functions I can use to determine the right hyperparam values. \n",
    "\n",
    "First, let me try the Silhouette coefficient."
   ]
  },
  {
   "cell_type": "code",
   "execution_count": 319,
   "id": "1bffcf40",
   "metadata": {},
   "outputs": [],
   "source": [
    "from sklearn.metrics import silhouette_samples, silhouette_score\n"
   ]
  },
  {
   "cell_type": "code",
   "execution_count": 344,
   "id": "0f426205",
   "metadata": {
    "scrolled": true
   },
   "outputs": [
    {
     "name": "stdout",
     "output_type": "stream",
     "text": [
      "min_samples = 5: 0.0878836258259686\n",
      "min_samples = 10: 0.09233013108149128\n",
      "min_samples = 15: 0.0931771750487543\n",
      "min_samples = 20: 0.09302338428730225\n",
      "min_samples = 25: 0.09592920073634915\n",
      "min_samples = 30: 0.09522166192796085\n",
      "min_samples = 35: 0.09503834723374222\n",
      "min_samples = 40: 0.09623713712167237\n",
      "min_samples = 45: 0.09623713712167237\n",
      "min_samples = 50: 0.0965156529388127\n",
      "min_samples = 55: 0.09798522659017606\n",
      "min_samples = 60: 0.09615374573902442\n",
      "min_samples = 65: 0.09707610885170077\n",
      "min_samples = 70: 0.09736258993747669\n",
      "min_samples = 75: 0.09768536284564597\n",
      "min_samples = 80: 0.09777008789765693\n",
      "min_samples = 85: 0.09847861209642206\n",
      "min_samples = 90: 0.10008703778391964\n",
      "min_samples = 95: 0.10021354866502505\n",
      "min_samples = 100: 0.09867890593139018\n",
      "min_samples = 105: 0.09945751277936156\n",
      "min_samples = 110: 0.09945751277936156\n",
      "min_samples = 115: 0.09945751277936156\n",
      "min_samples = 120: 0.09975458237952906\n",
      "min_samples = 125: 0.09957527231470707\n",
      "min_samples = 130: 0.09957527231470707\n",
      "min_samples = 135: 0.09957527231470707\n",
      "min_samples = 140: 0.09940835589336891\n",
      "min_samples = 145: 0.09946289892647467\n",
      "min_samples = 150: 0.09968969400558335\n",
      "min_samples = 155: 0.09994635643362708\n",
      "min_samples = 160: 0.09994635643362708\n",
      "min_samples = 165: 0.09996879475275447\n",
      "min_samples = 170: 0.09996879475275447\n",
      "min_samples = 175: 0.10019600298927343\n",
      "min_samples = 180: 0.10019600298927343\n",
      "min_samples = 185: 0.10019600298927343\n",
      "min_samples = 190: 0.099843383104516\n",
      "min_samples = 195: 0.10160599481999856\n"
     ]
    }
   ],
   "source": [
    "# Let's just use my data from above, where the size is 987.\n",
    "range_min_samples = range(5, 200, 5)\n",
    "\n",
    "for n in range_min_samples:\n",
    "    clustering = DBSCAN(eps=1, min_samples=n).fit(X_clean)\n",
    "    cluster_labels = clustering.labels_\n",
    "    \n",
    "    silhouette_avg = silhouette_score(X_clean, cluster_labels)\n",
    "    print(\"min_samples = \" + str(n) + \":\", str(silhouette_avg))\n",
    "    \n",
    "    sample_silhouette_values = silhouette_samples(X_clean, cluster_labels)"
   ]
  },
  {
   "cell_type": "code",
   "execution_count": 336,
   "id": "9f77ed8c",
   "metadata": {},
   "outputs": [
    {
     "data": {
      "text/plain": [
       "(987,)"
      ]
     },
     "execution_count": 336,
     "metadata": {},
     "output_type": "execute_result"
    }
   ],
   "source": [
    "sample_silhouette_values.shape"
   ]
  },
  {
   "cell_type": "markdown",
   "id": "2b313d15",
   "metadata": {},
   "source": [
    "## Euclidean distances between points\n",
    "\n",
    "The parameter `eps` in DBSCAN represents the distance threshold below which the two points are considered neighbors to each other. I have no idea what the range of distances look like, so let me find out. \n",
    "\n",
    "A thorough way to do this is to find out the distance between every point and every other point. Given I have 1,000 points, I'll get 1,000^2 distances. It's OK to do with 1,000 points but may cause an issue with 23,000. We'll see.\n",
    "\n",
    "Let me do the proper way first. Then, if I need to optimize it later, I'll sample and find the epsilons from the 23,000 full dataset."
   ]
  },
  {
   "cell_type": "code",
   "execution_count": 367,
   "id": "e6d4d530",
   "metadata": {},
   "outputs": [
    {
     "data": {
      "text/plain": [
       "(987, 398)"
      ]
     },
     "execution_count": 367,
     "metadata": {},
     "output_type": "execute_result"
    }
   ],
   "source": [
    "X_clean.shape"
   ]
  },
  {
   "cell_type": "markdown",
   "id": "343d569a",
   "metadata": {},
   "source": [
    "`sklearn.metrics.pairwise.euclidean_distances` calculates the euclidean distance between a pair of row vector x and y is computed as:\n",
    "```dist(x, y) = sqrt(dot(x, x) - 2 * dot(x, y) + dot(y, y))```\n",
    "\n",
    "> However, this is not the most precise way of doing this computation, because this equation potentially suffers from “catastrophic cancellation”. Also, the distance matrix returned by this function may not be exactly symmetric as required by, e.g., scipy.spatial.distance functions.\n",
    "\n",
    "Not sure what that means, but I'll figure it out.\n",
    "\n",
    "[source](https://scikit-learn.org/stable/modules/generated/sklearn.metrics.pairwise.euclidean_distances.html)"
   ]
  },
  {
   "cell_type": "code",
   "execution_count": 368,
   "id": "29d31732",
   "metadata": {},
   "outputs": [
    {
     "data": {
      "text/plain": [
       "(987, 987)"
      ]
     },
     "execution_count": 368,
     "metadata": {},
     "output_type": "execute_result"
    }
   ],
   "source": [
    "from sklearn.metrics.pairwise import euclidean_distances\n",
    "ed = euclidean_distances(X_clean, X_clean)\n",
    "ed.shape"
   ]
  },
  {
   "cell_type": "markdown",
   "id": "05e1c5ff",
   "metadata": {},
   "source": [
    "So now I have a 987 by 987 matrix."
   ]
  },
  {
   "cell_type": "code",
   "execution_count": 386,
   "id": "2d5e74db",
   "metadata": {},
   "outputs": [
    {
     "data": {
      "text/plain": [
       "0.0"
      ]
     },
     "execution_count": 386,
     "metadata": {},
     "output_type": "execute_result"
    }
   ],
   "source": [
    "min_ed = np.min(ed)\n",
    "min_ed"
   ]
  },
  {
   "cell_type": "code",
   "execution_count": 387,
   "id": "a1a814e3",
   "metadata": {},
   "outputs": [
    {
     "data": {
      "text/plain": [
       "1.4114782477784376"
      ]
     },
     "execution_count": 387,
     "metadata": {},
     "output_type": "execute_result"
    }
   ],
   "source": [
    "max_ed = np.max(ed)\n",
    "max_ed"
   ]
  },
  {
   "cell_type": "code",
   "execution_count": 384,
   "id": "044924c8",
   "metadata": {},
   "outputs": [
    {
     "data": {
      "text/plain": [
       "1.203486147373727"
      ]
     },
     "execution_count": 384,
     "metadata": {},
     "output_type": "execute_result"
    }
   ],
   "source": [
    "np.median(ed)"
   ]
  },
  {
   "cell_type": "code",
   "execution_count": 394,
   "id": "c928ec73",
   "metadata": {},
   "outputs": [
    {
     "data": {
      "image/png": "[encoded data removed]",
      "text/plain": [
       "<Figure size 432x288 with 1 Axes>"
      ]
     },
     "metadata": {
      "needs_background": "light"
     },
     "output_type": "display_data"
    }
   ],
   "source": [
    "import matplotlib.pyplot as plt\n",
    "\n",
    "plt.scatter(range(0,987**2), np.sort(ed.flatten()))\n",
    "plt.axvline(987**2/2)\n",
    "plt.show()"
   ]
  },
  {
   "cell_type": "markdown",
   "id": "67bb8d7d",
   "metadata": {},
   "source": [
    "The euclidean distance among my 987 proteins range from 0 to 1.41, median is about 1.2. If I expect there to be 10-50 clusters within a dataset of 1,000 proteins, then I think my epsilon has got to be much smaller than this median. "
   ]
  },
  {
   "cell_type": "markdown",
   "id": "975ea95b",
   "metadata": {},
   "source": [
    "Try different epsilons now."
   ]
  },
  {
   "cell_type": "code",
   "execution_count": 395,
   "id": "07b76e25",
   "metadata": {},
   "outputs": [
    {
     "name": "stdout",
     "output_type": "stream",
     "text": [
      "eps = 0.1: Everything is a noise!\n",
      "eps = 0.2: -0.0065\n",
      "eps = 0.3: -0.1116\n",
      "eps = 0.4: 0.0274\n",
      "eps = 0.5: 0.0745\n",
      "eps = 0.6: 0.1006\n",
      "eps = 0.7: 0.0621\n",
      "eps = 0.8: 0.0858\n",
      "eps = 0.9: 0.0836\n",
      "eps = 1.0: 0.0923\n"
     ]
    }
   ],
   "source": [
    "range_eps = np.linspace(start=0.1, stop=1.0, num=10)\n",
    "\n",
    "for n in range_eps:\n",
    "    clustering = DBSCAN(eps=n, min_samples=10).fit(X_clean)\n",
    "    cluster_labels = clustering.labels_\n",
    "    \n",
    "    if len(np.unique(cluster_labels))==1:\n",
    "        print(\"eps = \" + str(round(n, 2)) + \": Everything is a noise!\")\n",
    "    else:\n",
    "        silhouette_avg = silhouette_score(X_clean, cluster_labels)\n",
    "        print(\"eps = \" + str(round(n, 2)) + \":\", \n",
    "              str(round(silhouette_avg, 4)))\n",
    "\n",
    "        sample_silhouette_values = silhouette_samples(X_clean, cluster_labels)"
   ]
  },
  {
   "cell_type": "markdown",
   "id": "2db43f13",
   "metadata": {},
   "source": [
    "Now let's try doing a manual grid search. We want to maximize the silouette score."
   ]
  },
  {
   "cell_type": "code",
   "execution_count": 597,
   "id": "2bd35d90",
   "metadata": {},
   "outputs": [],
   "source": [
    "range_eps = np.linspace(start=0.1, stop=1.0, num=10)\n",
    "range_min_samples = range(10, 200, 10)\n",
    "\n",
    "\n",
    "def dbscan_gridsearch(X, range_eps, range_min_samples):\n",
    "    search_results = []\n",
    "    for i in range_eps:\n",
    "        for j in range_min_samples:\n",
    "            clustering = DBSCAN(eps=i, min_samples=j).fit(X)\n",
    "            cluster_labels = clustering.labels_\n",
    "\n",
    "            if len(np.unique(cluster_labels))==1:\n",
    "                print(\"eps=\" + str(round(i, 2)) + \", min_samples=\" + str(j)  \n",
    "                      + \": Everything is a noise!\")\n",
    "            else:\n",
    "                sil_sc = silhouette_score(X, cluster_labels)\n",
    "                db_sc = davies_bouldin_score(X, cluster_labels)\n",
    "                print(\"eps=\" + str(round(i, 2)) \n",
    "                      + \" | min_samples=\" + str(j) \n",
    "                      + \" | Silhouette \"+ str(round(sil_sc, 4))\n",
    "                      + \" | DB sc \"+ str(round(db_sc, 4)))\n",
    "                search_results.append(((i, j), sil_sc, db_sc))\n",
    "\n",
    "    return sorted(search_results, key=lambda x: x[1], reverse=True)\n",
    "\n"
   ]
  },
  {
   "cell_type": "code",
   "execution_count": null,
   "id": "4ab25eac",
   "metadata": {},
   "outputs": [],
   "source": [
    "search_results = dbscan_gridsearch(X_clean, range_eps, range_min_samples)"
   ]
  },
  {
   "cell_type": "code",
   "execution_count": 408,
   "id": "d637f369",
   "metadata": {
    "scrolled": true
   },
   "outputs": [
    {
     "data": {
      "text/plain": [
       "[((0.6, 10), 0.10062334395122446),\n",
       " ((1.0, 180), 0.10019600298927343),\n",
       " ((1.0, 90), 0.10008703778391964),\n",
       " ((1.0, 170), 0.09996879475275447),\n",
       " ((1.0, 160), 0.09994635643362708),\n",
       " ((1.0, 190), 0.099843383104516),\n",
       " ((1.0, 120), 0.09975458237952906),\n",
       " ((1.0, 150), 0.09968969400558335),\n",
       " ((0.9, 30), 0.09966479716754044),\n",
       " ((1.0, 130), 0.09957527231470707),\n",
       " ((1.0, 110), 0.09945751277936156),\n",
       " ((1.0, 140), 0.09940835589336891),\n",
       " ((1.0, 100), 0.09867890593139018),\n",
       " ((1.0, 80), 0.09777008789765693),\n",
       " ((1.0, 70), 0.09736258993747669),\n",
       " ((1.0, 50), 0.0965156529388127),\n",
       " ((0.9, 60), 0.09642652017197094),\n",
       " ((0.9, 190), 0.09629273988643941),\n",
       " ((0.9, 180), 0.09625210701405415),\n",
       " ((0.9, 80), 0.09624053687037468),\n",
       " ((1.0, 40), 0.09623713712167237),\n",
       " ((1.0, 60), 0.09615374573902442),\n",
       " ((0.9, 50), 0.09614604537402098),\n",
       " ((0.9, 100), 0.09604364933028252),\n",
       " ((0.9, 70), 0.09601265971793706),\n",
       " ((0.9, 110), 0.0959877864207942),\n",
       " ((0.9, 120), 0.0959877864207942),\n",
       " ((0.9, 130), 0.09568807086067671),\n",
       " ((0.9, 90), 0.09558881716396911),\n",
       " ((0.9, 140), 0.09528522336695115),\n",
       " ((1.0, 30), 0.09522166192796085),\n",
       " ((0.9, 150), 0.09503497211369637),\n",
       " ((0.9, 160), 0.0943294775527959),\n",
       " ((0.9, 170), 0.09431104914239828),\n",
       " ((0.9, 40), 0.09425259628553623),\n",
       " ((0.7000000000000001, 30), 0.09316984145452059),\n",
       " ((1.0, 20), 0.09302338428730225),\n",
       " ((1.0, 10), 0.09233013108149128),\n",
       " ((0.8, 70), 0.0894383882122932),\n",
       " ((0.8, 80), 0.0894383882122932),\n",
       " ((0.8, 90), 0.08925748559910748),\n",
       " ((0.8, 20), 0.0887984125995101),\n",
       " ((0.8, 110), 0.08852429123141344),\n",
       " ((0.6, 20), 0.0884427665184617),\n",
       " ((0.8, 100), 0.08816785728402195),\n",
       " ((0.8, 120), 0.08812998361683541),\n",
       " ((0.8, 50), 0.08783809720135012),\n",
       " ((0.8, 60), 0.087516093844652),\n",
       " ((0.8, 130), 0.08743258086719122),\n",
       " ((0.9, 20), 0.08671854304898358),\n",
       " ((0.8, 140), 0.08611593113537899),\n",
       " ((0.8, 10), 0.08580494567198423),\n",
       " ((0.8, 40), 0.08500632042546427),\n",
       " ((0.8, 150), 0.08377898456393858),\n",
       " ((0.9, 10), 0.08364157872797186),\n",
       " ((0.8, 160), 0.08237978194902354),\n",
       " ((0.7000000000000001, 20), 0.08143245834278721),\n",
       " ((0.8, 30), 0.08090847673021784),\n",
       " ((0.8, 170), 0.08042893778744142),\n",
       " ((0.8, 180), 0.07736597071942786),\n",
       " ((0.8, 190), 0.0745449913892438),\n",
       " ((0.5, 10), 0.07450913693659045),\n",
       " ((0.7000000000000001, 40), 0.07242905511483597),\n",
       " ((0.7000000000000001, 50), 0.07175719268446591),\n",
       " ((0.6, 30), 0.0708165334448621),\n",
       " ((0.7000000000000001, 60), 0.07057925785039873),\n",
       " ((0.7000000000000001, 70), 0.0681160626907938),\n",
       " ((0.7000000000000001, 80), 0.06741546562545431),\n",
       " ((0.7000000000000001, 90), 0.0668495409033933),\n",
       " ((0.7000000000000001, 100), 0.0656993480796814),\n",
       " ((0.7000000000000001, 110), 0.06401415558005957),\n",
       " ((0.7000000000000001, 10), 0.06209544850147582),\n",
       " ((0.7000000000000001, 120), 0.05971430948199135),\n",
       " ((0.5, 20), 0.05706958932630636),\n",
       " ((0.7000000000000001, 130), 0.05436852094063774),\n",
       " ((0.6, 40), 0.049610092397126875),\n",
       " ((0.6, 50), 0.047275583548978775),\n",
       " ((0.6, 60), 0.043461580431662844),\n",
       " ((0.6, 70), 0.04292896398138327),\n",
       " ((0.6, 80), 0.041480747213307224),\n",
       " ((0.6, 100), 0.03378010368857992),\n",
       " ((0.7000000000000001, 140), 0.032526636219244176),\n",
       " ((0.5, 50), 0.02979400561983962),\n",
       " ((0.5, 60), 0.02892983015133575),\n",
       " ((0.4, 10), 0.027426074024788145),\n",
       " ((0.5, 30), 0.022949286539875532),\n",
       " ((0.7000000000000001, 150), 0.016312563672737944),\n",
       " ((0.4, 30), 0.014656130401514192),\n",
       " ((0.4, 40), 0.012087344073204633),\n",
       " ((0.6, 90), 0.005820626625563744),\n",
       " ((0.4, 20), 0.004003411838789628),\n",
       " ((0.2, 10), -0.00651389697387488),\n",
       " ((0.5, 40), -0.011991889562644756),\n",
       " ((0.30000000000000004, 10), -0.1115815565893576)]"
      ]
     },
     "execution_count": 408,
     "metadata": {},
     "output_type": "execute_result"
    }
   ],
   "source": [
    "search_results"
   ]
  },
  {
   "cell_type": "markdown",
   "id": "8cb874d8",
   "metadata": {},
   "source": [
    "Looks like the winner is: `eps=0.6, min_samples=10`\n",
    "\n",
    "Now that we have a working grid search of sorts, let's try working on the entire dataset."
   ]
  },
  {
   "cell_type": "markdown",
   "id": "7cc07d4c",
   "metadata": {},
   "source": [
    "# Full dataset"
   ]
  },
  {
   "cell_type": "code",
   "execution_count": 410,
   "id": "0f78f546",
   "metadata": {},
   "outputs": [
    {
     "data": {
      "text/plain": [
       "24"
      ]
     },
     "execution_count": 410,
     "metadata": {},
     "output_type": "execute_result"
    }
   ],
   "source": [
    "# This is the list of file paths in gcs \n",
    "len(keys[1:])"
   ]
  },
  {
   "cell_type": "code",
   "execution_count": 414,
   "id": "dcaece84",
   "metadata": {},
   "outputs": [
    {
     "data": {
      "text/plain": [
       "(987, 1)"
      ]
     },
     "execution_count": 414,
     "metadata": {},
     "output_type": "execute_result"
    }
   ],
   "source": [
    "protein_clean.shape"
   ]
  },
  {
   "cell_type": "code",
   "execution_count": 550,
   "id": "a453a664",
   "metadata": {},
   "outputs": [
    {
     "data": {
      "text/plain": [
       "array([], shape=(0, 1), dtype=float64)"
      ]
     },
     "execution_count": 550,
     "metadata": {},
     "output_type": "execute_result"
    }
   ],
   "source": [
    "missing = np.empty((0,1))\n",
    "missing"
   ]
  },
  {
   "cell_type": "code",
   "execution_count": 551,
   "id": "9c98fbd3",
   "metadata": {},
   "outputs": [
    {
     "data": {
      "text/plain": [
       "array(['2'], dtype='<U32')"
      ]
     },
     "execution_count": 551,
     "metadata": {},
     "output_type": "execute_result"
    }
   ],
   "source": [
    "np.append(missing, \"2\")"
   ]
  },
  {
   "cell_type": "code",
   "execution_count": 554,
   "id": "8fc64b52",
   "metadata": {},
   "outputs": [
    {
     "data": {
      "text/plain": [
       "array(['2', '2', '2'], dtype='<U32')"
      ]
     },
     "execution_count": 554,
     "metadata": {},
     "output_type": "execute_result"
    }
   ],
   "source": [
    "missing = np.append(missing, \"2\")\n",
    "missing"
   ]
  },
  {
   "cell_type": "code",
   "execution_count": 556,
   "id": "7ba26c1e",
   "metadata": {
    "scrolled": true
   },
   "outputs": [
    {
     "name": "stdout",
     "output_type": "stream",
     "text": [
      "1 embeddings/DeepFold/embeddings_0.csv 1000 1000\n",
      "2 embeddings/DeepFold/embeddings_1.csv 1000 1000\n",
      "3 embeddings/DeepFold/embeddings_10.csv 1000 1000\n",
      "4 embeddings/DeepFold/embeddings_11.csv 1000 1000\n",
      "5 embeddings/DeepFold/embeddings_12.csv 1000 1000\n",
      "6 embeddings/DeepFold/embeddings_13.csv 1000 1000\n",
      "7 embeddings/DeepFold/embeddings_14.csv 1000 1000\n",
      "8 embeddings/DeepFold/embeddings_15.csv 1000 1000\n",
      "9 embeddings/DeepFold/embeddings_16.csv 1000 1000\n",
      "10 embeddings/DeepFold/embeddings_17.csv 1000 1000\n",
      "11 embeddings/DeepFold/embeddings_18.csv 1000 1000\n",
      "12 embeddings/DeepFold/embeddings_19.csv 1000 1000\n",
      "13 embeddings/DeepFold/embeddings_2.csv 1000 1000\n",
      "14 embeddings/DeepFold/embeddings_20.csv 1000 1000\n",
      "15 embeddings/DeepFold/embeddings_21.csv 1000 1000\n",
      "16 embeddings/DeepFold/embeddings_22.csv 1000 1000\n",
      "17 embeddings/DeepFold/embeddings_23.csv 391 391\n",
      "18 embeddings/DeepFold/embeddings_3.csv 1000 1000\n",
      "19 embeddings/DeepFold/embeddings_4.csv 1000 1000\n",
      "20 embeddings/DeepFold/embeddings_5.csv 1000 1000\n",
      "21 embeddings/DeepFold/embeddings_6.csv 1000 1000\n",
      "22 embeddings/DeepFold/embeddings_7.csv 1000 1000\n",
      "23 embeddings/DeepFold/embeddings_8.csv 1000 1000\n",
      "24 embeddings/DeepFold/embeddings_9.csv 1000 1000\n"
     ]
    }
   ],
   "source": [
    "missing_full=[]\n",
    "X_hold = [] \n",
    "protein_name_hold = []\n",
    "z=0\n",
    "\n",
    "for key in keys[1:]:\n",
    "    missing=np.empty((0,1))\n",
    "    z+=1 \n",
    "    # Loop through all 24 DeepFold embedding files\n",
    "    \n",
    "    # I actually only need the file path once in the right storage.\n",
    "    key = gcs.uri_to_bucket_and_key(key)[1]\n",
    "    \n",
    "    \n",
    "    # Download, decode, and split into list. Ignore first 3 items.\n",
    "    df_emb = gcs.download_text(key)\\\n",
    "             .decode('utf-8').split(\",\")[3:]\n",
    "    \n",
    "    n_proteins = int((len(df_emb))/2)\n",
    "    \n",
    "    \n",
    "    # Take as np array and reshape\n",
    "    np_emb = np.array(df_emb).reshape(n_proteins, 2)\n",
    "    \n",
    "    # Now take the embeddings and protein names separately. \n",
    "    X=np_emb[:,1].reshape(n_proteins,1)\n",
    "    protein=np_emb[:,0].reshape(n_proteins,1)\n",
    "    \n",
    "    # Parse the values of embeddings\n",
    "    parsed_list = list(map(parse_deepfold_embedding, X))\n",
    "    print(z, key, n_proteins, len(parsed_list))\n",
    "    \n",
    "    # Identify proteins where the DeepFold embeddings could not be generated\n",
    "    for i in range(len(parsed_list)):\n",
    "        if len(parsed_list[i])!= 398:\n",
    "            missing = np.append(missing, i)\n",
    "    \n",
    "    # Take the remainder and stack.\n",
    "    print(\"missing\", len(missing))\n",
    "    X_clean = np.stack([x for i,x in enumerate(parsed_list) if i not in missing])\n",
    "    \n",
    "    protein_clean =  np.stack([x for i,x in enumerate(protein) if i not in missing])\n",
    "    \n",
    "    X_hold.append(X_clean)\n",
    "    protein_name_hold.append(protein_clean)\n",
    "    \n",
    "    missing_full.append(missing)\n",
    "    \n",
    "X_full = np.vstack(X_hold)\n",
    "protein_name_full = np.vstack(protein_name_hold)"
   ]
  },
  {
   "cell_type": "code",
   "execution_count": 557,
   "id": "40e04a9b",
   "metadata": {},
   "outputs": [
    {
     "data": {
      "text/plain": [
       "24"
      ]
     },
     "execution_count": 557,
     "metadata": {},
     "output_type": "execute_result"
    }
   ],
   "source": [
    "len(X_hold)"
   ]
  },
  {
   "cell_type": "code",
   "execution_count": 559,
   "id": "2d01d11a",
   "metadata": {},
   "outputs": [
    {
     "data": {
      "text/plain": [
       "(23188, 398)"
      ]
     },
     "execution_count": 559,
     "metadata": {},
     "output_type": "execute_result"
    }
   ],
   "source": [
    "X_full.shape"
   ]
  },
  {
   "cell_type": "code",
   "execution_count": 561,
   "id": "6eea845a",
   "metadata": {},
   "outputs": [
    {
     "data": {
      "text/plain": [
       "(23188, 1)"
      ]
     },
     "execution_count": 561,
     "metadata": {},
     "output_type": "execute_result"
    }
   ],
   "source": [
    "protein_name_full.shape"
   ]
  },
  {
   "cell_type": "code",
   "execution_count": 558,
   "id": "8b417785",
   "metadata": {},
   "outputs": [
    {
     "name": "stdout",
     "output_type": "stream",
     "text": [
      "931 931\n",
      "995 1926\n",
      "982 2908\n",
      "996 3904\n",
      "1000 4904\n",
      "993 5897\n",
      "998 6895\n",
      "997 7892\n",
      "997 8889\n",
      "993 9882\n",
      "999 10881\n",
      "995 11876\n",
      "999 12875\n",
      "996 13871\n",
      "994 14865\n",
      "999 15864\n",
      "384 16248\n",
      "993 17241\n",
      "971 18212\n",
      "997 19209\n",
      "998 20207\n",
      "987 21194\n",
      "996 22190\n",
      "998 23188\n"
     ]
    }
   ],
   "source": [
    "t = 0\n",
    "for x in X_hold:\n",
    "    t += len(x)\n",
    "    print(len(x), t)"
   ]
  },
  {
   "cell_type": "code",
   "execution_count": 560,
   "id": "aa0d3ae5",
   "metadata": {},
   "outputs": [
    {
     "name": "stdout",
     "output_type": "stream",
     "text": [
      "69 69\n",
      "5 74\n",
      "18 92\n",
      "4 96\n",
      "0 96\n",
      "7 103\n",
      "2 105\n",
      "3 108\n",
      "3 111\n",
      "7 118\n",
      "1 119\n",
      "5 124\n",
      "1 125\n",
      "4 129\n",
      "6 135\n",
      "1 136\n",
      "7 143\n",
      "7 150\n",
      "29 179\n",
      "3 182\n",
      "2 184\n",
      "13 197\n",
      "4 201\n",
      "2 203\n"
     ]
    }
   ],
   "source": [
    "t = 0\n",
    "for missing in missing_full:\n",
    "    t+= len (missing)\n",
    "    print(len (missing), t)\n",
    "    "
   ]
  },
  {
   "cell_type": "markdown",
   "id": "d60f40cd",
   "metadata": {},
   "source": [
    "## Cluster full data"
   ]
  },
  {
   "cell_type": "code",
   "execution_count": 563,
   "id": "d655549f",
   "metadata": {},
   "outputs": [
    {
     "data": {
      "text/plain": [
       "(23188, 23188)"
      ]
     },
     "execution_count": 563,
     "metadata": {},
     "output_type": "execute_result"
    }
   ],
   "source": [
    "ed = euclidean_distances(X_full, X_full)\n",
    "ed.shape"
   ]
  },
  {
   "cell_type": "code",
   "execution_count": 564,
   "id": "98977f3f",
   "metadata": {},
   "outputs": [
    {
     "name": "stdout",
     "output_type": "stream",
     "text": [
      "0.0 1.4139664121859254 1.1273183258469868\n"
     ]
    }
   ],
   "source": [
    "min_ed = np.min(ed)\n",
    "max_ed = np.max(ed)\n",
    "median_ed = np.median(ed)\n",
    "\n",
    "print(min_ed, max_ed, median_ed)"
   ]
  },
  {
   "cell_type": "code",
   "execution_count": 566,
   "id": "6ebc8e10",
   "metadata": {},
   "outputs": [],
   "source": [
    "ed_flatten = ed.flatten()"
   ]
  },
  {
   "cell_type": "code",
   "execution_count": 567,
   "id": "d09dd316",
   "metadata": {},
   "outputs": [
    {
     "data": {
      "text/plain": [
       "(537683344,)"
      ]
     },
     "execution_count": 567,
     "metadata": {},
     "output_type": "execute_result"
    }
   ],
   "source": [
    "ed_flatten.shape"
   ]
  },
  {
   "cell_type": "code",
   "execution_count": 569,
   "id": "a0dfdc4d",
   "metadata": {},
   "outputs": [],
   "source": [
    "sample_ed = np.random.choice(ed_flatten, 10000)"
   ]
  },
  {
   "cell_type": "code",
   "execution_count": 570,
   "id": "965a73f6",
   "metadata": {},
   "outputs": [
    {
     "data": {
      "image/png": "[encoded data removed]",
      "text/plain": [
       "<Figure size 432x288 with 1 Axes>"
      ]
     },
     "metadata": {
      "needs_background": "light"
     },
     "output_type": "display_data"
    }
   ],
   "source": [
    "plt.scatter(range(len(sample_ed)), np.sort(sample_ed))\n",
    "plt.axvline(len(sample_ed)/2)\n",
    "plt.axvline(len(sample_ed)/4)\n",
    "plt.axvline(len(sample_ed)/10)\n",
    "plt.axvline(len(sample_ed)/100)\n",
    "plt.show()"
   ]
  },
  {
   "cell_type": "code",
   "execution_count": 579,
   "id": "3e18525e",
   "metadata": {
    "scrolled": true
   },
   "outputs": [
    {
     "name": "stdout",
     "output_type": "stream",
     "text": [
      "eps=0.01, min_samples=6: 0.0375\n",
      "eps=0.01, min_samples=10: 0.0373\n",
      "eps=0.01, min_samples=20: Everything is a noise!\n",
      "eps=0.01, min_samples=50: Everything is a noise!\n",
      "eps=0.05, min_samples=6: -0.3107\n",
      "eps=0.05, min_samples=10: -0.2714\n",
      "eps=0.05, min_samples=20: -0.0019\n",
      "eps=0.05, min_samples=50: Everything is a noise!\n",
      "eps=0.1, min_samples=6: -0.2799\n",
      "eps=0.1, min_samples=10: -0.2512\n",
      "eps=0.1, min_samples=20: -0.1754\n",
      "eps=0.1, min_samples=50: -0.1734\n",
      "eps=0.14, min_samples=6: -0.2852\n",
      "eps=0.14, min_samples=10: -0.2336\n",
      "eps=0.14, min_samples=20: -0.1649\n",
      "eps=0.14, min_samples=50: -0.1611\n",
      "eps=0.18, min_samples=6: -0.2991\n",
      "eps=0.18, min_samples=10: -0.2322\n",
      "eps=0.18, min_samples=20: -0.1748\n",
      "eps=0.18, min_samples=50: -0.1385\n",
      "eps=0.23, min_samples=6: -0.2685\n",
      "eps=0.23, min_samples=10: -0.2201\n",
      "eps=0.23, min_samples=20: -0.1761\n",
      "eps=0.23, min_samples=50: -0.1139\n",
      "eps=0.27, min_samples=6: -0.2521\n",
      "eps=0.27, min_samples=10: -0.1708\n",
      "eps=0.27, min_samples=20: -0.1255\n",
      "eps=0.27, min_samples=50: -0.0783\n",
      "eps=0.31, min_samples=6: -0.2293\n",
      "eps=0.31, min_samples=10: -0.167\n",
      "eps=0.31, min_samples=20: -0.1015\n",
      "eps=0.31, min_samples=50: -0.0439\n",
      "eps=0.36, min_samples=6: -0.247\n",
      "eps=0.36, min_samples=10: -0.1718\n",
      "eps=0.36, min_samples=20: -0.0295\n",
      "eps=0.36, min_samples=50: -0.0602\n",
      "eps=0.4, min_samples=6: -0.2298\n",
      "eps=0.4, min_samples=10: -0.1694\n",
      "eps=0.4, min_samples=20: -0.068\n",
      "eps=0.4, min_samples=50: 0.0393\n"
     ]
    }
   ],
   "source": [
    "range_eps = np.linspace(start=0.01, stop=0.4, num=10)\n",
    "range_min_samples = [6, 10, 20, 50]\n",
    "\n",
    "search_results = dbscan_gridsearch(X_full, range_eps, range_min_samples)"
   ]
  },
  {
   "cell_type": "code",
   "execution_count": 580,
   "id": "6f21e25e",
   "metadata": {},
   "outputs": [
    {
     "data": {
      "text/plain": [
       "[((0.4, 50), 0.03931216541220179),\n",
       " ((0.01, 6), 0.03747445419787705),\n",
       " ((0.01, 10), 0.03730325397721368),\n",
       " ((0.05333333333333334, 20), -0.0019460757743058764),\n",
       " ((0.3566666666666667, 20), -0.029535562960465934),\n",
       " ((0.31333333333333335, 50), -0.043851232626381305),\n",
       " ((0.3566666666666667, 50), -0.06021006804430112),\n",
       " ((0.4, 20), -0.06795527335991867),\n",
       " ((0.27, 50), -0.07826343078054432),\n",
       " ((0.31333333333333335, 20), -0.10149997424791281),\n",
       " ((0.22666666666666668, 50), -0.11389911319901799),\n",
       " ((0.27, 20), -0.12550232213492626),\n",
       " ((0.18333333333333335, 50), -0.13854957240320845),\n",
       " ((0.14, 50), -0.16110176422752162),\n",
       " ((0.14, 20), -0.16494733715050022),\n",
       " ((0.31333333333333335, 10), -0.16695737123267568),\n",
       " ((0.4, 10), -0.1693958706331228),\n",
       " ((0.27, 10), -0.17081896888575304),\n",
       " ((0.3566666666666667, 10), -0.17184541880643803),\n",
       " ((0.09666666666666666, 50), -0.1733683752162049),\n",
       " ((0.18333333333333335, 20), -0.17479692670569114),\n",
       " ((0.09666666666666666, 20), -0.17539015238446645),\n",
       " ((0.22666666666666668, 20), -0.1760579270308802),\n",
       " ((0.22666666666666668, 10), -0.22014507899545432),\n",
       " ((0.31333333333333335, 6), -0.22926966872462662),\n",
       " ((0.4, 6), -0.22979758945205594),\n",
       " ((0.18333333333333335, 10), -0.23222071579836745),\n",
       " ((0.14, 10), -0.23358394264621177),\n",
       " ((0.3566666666666667, 6), -0.24700533384456658),\n",
       " ((0.09666666666666666, 10), -0.25115102572501796),\n",
       " ((0.27, 6), -0.25214334285454376),\n",
       " ((0.22666666666666668, 6), -0.2685104666860735),\n",
       " ((0.05333333333333334, 10), -0.2714214778803648),\n",
       " ((0.09666666666666666, 6), -0.279940239941152),\n",
       " ((0.14, 6), -0.28522610258595965),\n",
       " ((0.18333333333333335, 6), -0.29905318813258897),\n",
       " ((0.05333333333333334, 6), -0.3107213602909132)]"
      ]
     },
     "execution_count": 580,
     "metadata": {},
     "output_type": "execute_result"
    }
   ],
   "source": [
    "search_results"
   ]
  },
  {
   "cell_type": "code",
   "execution_count": 581,
   "id": "b437b7ba",
   "metadata": {},
   "outputs": [],
   "source": [
    "# At first, the grid search tried to tell me eps=0.6 was good\n",
    "clustering = DBSCAN(eps=0.6, min_samples=25).fit(X_full)"
   ]
  },
  {
   "cell_type": "code",
   "execution_count": 582,
   "id": "683d7c23",
   "metadata": {},
   "outputs": [
    {
     "name": "stdout",
     "output_type": "stream",
     "text": [
      "[[   -1  6235]\n",
      " [    0 16518]\n",
      " [    1   253]\n",
      " [    2   133]\n",
      " [    3    49]]\n"
     ]
    }
   ],
   "source": [
    "print(np.asarray(np.unique(clustering.labels_, return_counts=True)).T)"
   ]
  },
  {
   "cell_type": "markdown",
   "id": "70600b9c",
   "metadata": {},
   "source": [
    "Oh no, the epsilon is too generous. So I ran grid search again but limited eps to 0.4. Anything below that would give me only negative Silhouette scores."
   ]
  },
  {
   "cell_type": "code",
   "execution_count": 583,
   "id": "1f0e3ed2",
   "metadata": {
    "scrolled": true
   },
   "outputs": [
    {
     "name": "stdout",
     "output_type": "stream",
     "text": [
      "[[   -1 11434]\n",
      " [    0 10544]\n",
      " [    1   224]\n",
      " [    2     9]\n",
      " [    3    11]\n",
      " [    4    72]\n",
      " [    5    15]\n",
      " [    6    10]\n",
      " [    7    17]\n",
      " [    8    16]\n",
      " [    9    86]\n",
      " [   10    12]\n",
      " [   11    95]\n",
      " [   12    19]\n",
      " [   13    15]\n",
      " [   14    14]\n",
      " [   15    15]\n",
      " [   16    53]\n",
      " [   17    20]\n",
      " [   18    11]\n",
      " [   19    39]\n",
      " [   20    11]\n",
      " [   21    22]\n",
      " [   22    70]\n",
      " [   23    13]\n",
      " [   24    16]\n",
      " [   25    12]\n",
      " [   26    16]\n",
      " [   27    17]\n",
      " [   28    11]\n",
      " [   29    20]\n",
      " [   30    23]\n",
      " [   31    12]\n",
      " [   32    30]\n",
      " [   33    13]\n",
      " [   34    35]\n",
      " [   35    12]\n",
      " [   36    18]\n",
      " [   37    13]\n",
      " [   38    17]\n",
      " [   39    10]\n",
      " [   40    12]\n",
      " [   41    10]\n",
      " [   42    24]\n",
      " [   43    20]]\n"
     ]
    }
   ],
   "source": [
    "clustering = DBSCAN(eps=0.4, min_samples=10).fit(X_full)\n",
    "print(np.asarray(np.unique(clustering.labels_, return_counts=True)).T)"
   ]
  },
  {
   "cell_type": "markdown",
   "id": "30fb7353",
   "metadata": {},
   "source": [
    "The cluster sizes look OK now, but almost half the proteins are considered noise, and 40% are in cluster index 0."
   ]
  },
  {
   "cell_type": "code",
   "execution_count": 573,
   "id": "6c248f49",
   "metadata": {
    "scrolled": true
   },
   "outputs": [
    {
     "name": "stdout",
     "output_type": "stream",
     "text": [
      "[[   -1  7937]\n",
      " [    0 14182]\n",
      " [    1   245]\n",
      " [    2    11]\n",
      " [    3    11]\n",
      " [    4    19]\n",
      " [    5    16]\n",
      " [    6    10]\n",
      " [    7    18]\n",
      " [    8    36]\n",
      " [    9   120]\n",
      " [   10    41]\n",
      " [   11    11]\n",
      " [   12    20]\n",
      " [   13    15]\n",
      " [   14    21]\n",
      " [   15    12]\n",
      " [   16    15]\n",
      " [   17    13]\n",
      " [   18   107]\n",
      " [   19    12]\n",
      " [   20    20]\n",
      " [   21    22]\n",
      " [   22    15]\n",
      " [   23    12]\n",
      " [   24    39]\n",
      " [   25    11]\n",
      " [   26    15]\n",
      " [   27    11]\n",
      " [   28    16]\n",
      " [   29    10]\n",
      " [   30    18]\n",
      " [   31    13]\n",
      " [   32    12]\n",
      " [   33     9]\n",
      " [   34    10]\n",
      " [   35    18]\n",
      " [   36    14]\n",
      " [   37     7]\n",
      " [   38    24]\n",
      " [   39    10]\n",
      " [   40    10]]\n"
     ]
    }
   ],
   "source": [
    "clustering = DBSCAN(eps=0.5, min_samples=10).fit(X_full)\n",
    "print(np.asarray(np.unique(clustering.labels_, return_counts=True)).T)"
   ]
  },
  {
   "cell_type": "markdown",
   "id": "cd44a9d4",
   "metadata": {},
   "source": [
    "Even 0.5 is too generous for an epsilon. See how big cluster 0 is!"
   ]
  },
  {
   "cell_type": "code",
   "execution_count": 574,
   "id": "df39fb86",
   "metadata": {},
   "outputs": [
    {
     "name": "stdout",
     "output_type": "stream",
     "text": [
      "[[   -1 10211]\n",
      " [    0 11243]\n",
      " [    1     5]\n",
      " [    2   234]\n",
      " [    3     5]\n",
      " [    4     5]\n",
      " [    5     9]\n",
      " [    6    11]\n",
      " [    7     8]\n",
      " [    8     5]\n",
      " [    9    15]\n",
      " [   10    10]\n",
      " [   11     7]\n",
      " [   12     5]\n",
      " [   13     5]\n",
      " [   14    17]\n",
      " [   15    16]\n",
      " [   16     5]\n",
      " [   17     7]\n",
      " [   18     6]\n",
      " [   19     6]\n",
      " [   20    12]\n",
      " [   21    98]\n",
      " [   22     8]\n",
      " [   23    10]\n",
      " [   24    19]\n",
      " [   25     5]\n",
      " [   26     6]\n",
      " [   27    15]\n",
      " [   28    14]\n",
      " [   29    71]\n",
      " [   30     7]\n",
      " [   31    12]\n",
      " [   32    14]\n",
      " [   33     8]\n",
      " [   34    20]\n",
      " [   35    11]\n",
      " [   36     6]\n",
      " [   37     8]\n",
      " [   38     5]\n",
      " [   39     5]\n",
      " [   40     9]\n",
      " [   41     6]\n",
      " [   42     5]\n",
      " [   43    18]\n",
      " [   44     7]\n",
      " [   45     7]\n",
      " [   46     9]\n",
      " [   47     5]\n",
      " [   48    11]\n",
      " [   49     5]\n",
      " [   50     9]\n",
      " [   51    16]\n",
      " [   52     6]\n",
      " [   53    22]\n",
      " [   54     6]\n",
      " [   55    69]\n",
      " [   56     4]\n",
      " [   57     4]\n",
      " [   58    13]\n",
      " [   59    13]\n",
      " [   60     9]\n",
      " [   61    12]\n",
      " [   62    39]\n",
      " [   63     9]\n",
      " [   64    17]\n",
      " [   65    11]\n",
      " [   66    35]\n",
      " [   67     5]\n",
      " [   68     5]\n",
      " [   69    20]\n",
      " [   70     5]\n",
      " [   71     7]\n",
      " [   72     5]\n",
      " [   73    11]\n",
      " [   74     6]\n",
      " [   75     5]\n",
      " [   76     5]\n",
      " [   77     6]\n",
      " [   78     7]\n",
      " [   79     6]\n",
      " [   80    30]\n",
      " [   81     6]\n",
      " [   82     5]\n",
      " [   83     7]\n",
      " [   84     5]\n",
      " [   85     5]\n",
      " [   86     6]\n",
      " [   87    12]\n",
      " [   88     6]\n",
      " [   89     7]\n",
      " [   90     7]\n",
      " [   91     7]\n",
      " [   92     5]\n",
      " [   93     7]\n",
      " [   94     7]\n",
      " [   95     5]\n",
      " [   96     5]\n",
      " [   97     5]\n",
      " [   98     6]\n",
      " [   99     5]\n",
      " [  100     7]\n",
      " [  101     6]\n",
      " [  102    10]\n",
      " [  103     6]\n",
      " [  104     5]\n",
      " [  105     8]\n",
      " [  106     9]\n",
      " [  107     9]\n",
      " [  108     5]\n",
      " [  109     5]\n",
      " [  110     5]\n",
      " [  111    18]\n",
      " [  112     8]\n",
      " [  113     9]\n",
      " [  114     5]\n",
      " [  115     7]\n",
      " [  116     5]\n",
      " [  117     6]\n",
      " [  118     4]\n",
      " [  119     5]\n",
      " [  120     6]\n",
      " [  121     5]\n",
      " [  122     6]\n",
      " [  123     7]\n",
      " [  124     9]\n",
      " [  125     5]\n",
      " [  126    13]\n",
      " [  127     9]\n",
      " [  128     7]\n",
      " [  129     5]\n",
      " [  130     6]\n",
      " [  131    17]\n",
      " [  132     5]\n",
      " [  133     6]\n",
      " [  134     9]\n",
      " [  135     6]\n",
      " [  136     5]\n",
      " [  137    10]\n",
      " [  138     7]\n",
      " [  139     7]\n",
      " [  140     5]\n",
      " [  141     7]\n",
      " [  142     5]\n",
      " [  143     5]\n",
      " [  144     5]\n",
      " [  145    24]\n",
      " [  146     4]\n",
      " [  147     5]\n",
      " [  148    20]\n",
      " [  149     5]\n",
      " [  150     5]]\n"
     ]
    }
   ],
   "source": [
    "# So I guess eps=0.4 it is. \n",
    "clustering = DBSCAN(eps=0.40, min_samples=5).fit(X_full)\n",
    "print(np.asarray(np.unique(clustering.labels_, return_counts=True)).T)"
   ]
  },
  {
   "cell_type": "markdown",
   "id": "c31a97bf",
   "metadata": {},
   "source": [
    "Still almost half of the points are considered noise. Can I reduce it if I lower the min_samples param?"
   ]
  },
  {
   "cell_type": "code",
   "execution_count": 575,
   "id": "5b2975fe",
   "metadata": {},
   "outputs": [
    {
     "name": "stdout",
     "output_type": "stream",
     "text": [
      "[[   -1  7490]\n",
      " [    0 11612]\n",
      " [    1     5]\n",
      " ...\n",
      " [ 1126     2]\n",
      " [ 1127     2]\n",
      " [ 1128     2]]\n"
     ]
    }
   ],
   "source": [
    "clustering = DBSCAN(eps=0.40, min_samples=2).fit(X_full)\n",
    "print(np.asarray(np.unique(clustering.labels_, return_counts=True)).T)"
   ]
  },
  {
   "cell_type": "markdown",
   "id": "6ce76c73",
   "metadata": {},
   "source": [
    "So the noise went down somewhat, but still substantial. And cluster 0 is still too big.\n",
    "\n",
    "## DB Score Metric\n",
    "Try instead of Silhouette score. \n",
    "Lower the DB index value, better is the clustering. It also has a drawback. A good value reported by this method does not imply the best information retrieval"
   ]
  },
  {
   "cell_type": "code",
   "execution_count": 587,
   "id": "8dcf22c3",
   "metadata": {},
   "outputs": [
    {
     "name": "stdout",
     "output_type": "stream",
     "text": [
      "[[   -1 10211]\n",
      " [    0 11243]\n",
      " [    1     5]\n",
      " [    2   234]\n",
      " [    3     5]\n",
      " [    4     5]\n",
      " [    5     9]\n",
      " [    6    11]\n",
      " [    7     8]\n",
      " [    8     5]\n",
      " [    9    15]\n",
      " [   10    10]\n",
      " [   11     7]\n",
      " [   12     5]\n",
      " [   13     5]\n",
      " [   14    17]\n",
      " [   15    16]\n",
      " [   16     5]\n",
      " [   17     7]\n",
      " [   18     6]\n",
      " [   19     6]\n",
      " [   20    12]\n",
      " [   21    98]\n",
      " [   22     8]\n",
      " [   23    10]\n",
      " [   24    19]\n",
      " [   25     5]\n",
      " [   26     6]\n",
      " [   27    15]\n",
      " [   28    14]\n",
      " [   29    71]\n",
      " [   30     7]\n",
      " [   31    12]\n",
      " [   32    14]\n",
      " [   33     8]\n",
      " [   34    20]\n",
      " [   35    11]\n",
      " [   36     6]\n",
      " [   37     8]\n",
      " [   38     5]\n",
      " [   39     5]\n",
      " [   40     9]\n",
      " [   41     6]\n",
      " [   42     5]\n",
      " [   43    18]\n",
      " [   44     7]\n",
      " [   45     7]\n",
      " [   46     9]\n",
      " [   47     5]\n",
      " [   48    11]\n",
      " [   49     5]\n",
      " [   50     9]\n",
      " [   51    16]\n",
      " [   52     6]\n",
      " [   53    22]\n",
      " [   54     6]\n",
      " [   55    69]\n",
      " [   56     4]\n",
      " [   57     4]\n",
      " [   58    13]\n",
      " [   59    13]\n",
      " [   60     9]\n",
      " [   61    12]\n",
      " [   62    39]\n",
      " [   63     9]\n",
      " [   64    17]\n",
      " [   65    11]\n",
      " [   66    35]\n",
      " [   67     5]\n",
      " [   68     5]\n",
      " [   69    20]\n",
      " [   70     5]\n",
      " [   71     7]\n",
      " [   72     5]\n",
      " [   73    11]\n",
      " [   74     6]\n",
      " [   75     5]\n",
      " [   76     5]\n",
      " [   77     6]\n",
      " [   78     7]\n",
      " [   79     6]\n",
      " [   80    30]\n",
      " [   81     6]\n",
      " [   82     5]\n",
      " [   83     7]\n",
      " [   84     5]\n",
      " [   85     5]\n",
      " [   86     6]\n",
      " [   87    12]\n",
      " [   88     6]\n",
      " [   89     7]\n",
      " [   90     7]\n",
      " [   91     7]\n",
      " [   92     5]\n",
      " [   93     7]\n",
      " [   94     7]\n",
      " [   95     5]\n",
      " [   96     5]\n",
      " [   97     5]\n",
      " [   98     6]\n",
      " [   99     5]\n",
      " [  100     7]\n",
      " [  101     6]\n",
      " [  102    10]\n",
      " [  103     6]\n",
      " [  104     5]\n",
      " [  105     8]\n",
      " [  106     9]\n",
      " [  107     9]\n",
      " [  108     5]\n",
      " [  109     5]\n",
      " [  110     5]\n",
      " [  111    18]\n",
      " [  112     8]\n",
      " [  113     9]\n",
      " [  114     5]\n",
      " [  115     7]\n",
      " [  116     5]\n",
      " [  117     6]\n",
      " [  118     4]\n",
      " [  119     5]\n",
      " [  120     6]\n",
      " [  121     5]\n",
      " [  122     6]\n",
      " [  123     7]\n",
      " [  124     9]\n",
      " [  125     5]\n",
      " [  126    13]\n",
      " [  127     9]\n",
      " [  128     7]\n",
      " [  129     5]\n",
      " [  130     6]\n",
      " [  131    17]\n",
      " [  132     5]\n",
      " [  133     6]\n",
      " [  134     9]\n",
      " [  135     6]\n",
      " [  136     5]\n",
      " [  137    10]\n",
      " [  138     7]\n",
      " [  139     7]\n",
      " [  140     5]\n",
      " [  141     7]\n",
      " [  142     5]\n",
      " [  143     5]\n",
      " [  144     5]\n",
      " [  145    24]\n",
      " [  146     4]\n",
      " [  147     5]\n",
      " [  148    20]\n",
      " [  149     5]\n",
      " [  150     5]]\n"
     ]
    },
    {
     "data": {
      "text/plain": [
       "1.3084095018843407"
      ]
     },
     "execution_count": 587,
     "metadata": {},
     "output_type": "execute_result"
    }
   ],
   "source": [
    "from sklearn.metrics import davies_bouldin_score\n",
    "\n",
    "# For my favorite model so far \n",
    "clustering = DBSCAN(eps=0.40, min_samples=5).fit(X_full)\n",
    "print(np.asarray(np.unique(clustering.labels_, return_counts=True)).T)\n",
    "\n",
    "davies_bouldin_score(X_full, clustering.labels_)"
   ]
  },
  {
   "cell_type": "code",
   "execution_count": 585,
   "id": "fb77450c",
   "metadata": {},
   "outputs": [],
   "source": []
  },
  {
   "cell_type": "code",
   "execution_count": 586,
   "id": "7c07047c",
   "metadata": {
    "scrolled": true
   },
   "outputs": [
    {
     "name": "stdout",
     "output_type": "stream",
     "text": [
      "eps=0.01, min_samples=6: 0.8989\n",
      "eps=0.01, min_samples=10: 0.8984\n",
      "eps=0.01, min_samples=20: Everything is a noise!\n",
      "eps=0.01, min_samples=50: Everything is a noise!\n",
      "eps=0.05, min_samples=6: 0.9951\n",
      "eps=0.05, min_samples=10: 0.9808\n",
      "eps=0.05, min_samples=20: 0.9988\n",
      "eps=0.05, min_samples=50: Everything is a noise!\n",
      "eps=0.1, min_samples=6: 1.0155\n",
      "eps=0.1, min_samples=10: 1.0012\n",
      "eps=0.1, min_samples=20: 1.2122\n",
      "eps=0.1, min_samples=50: 1.1999\n",
      "eps=0.14, min_samples=6: 1.0308\n",
      "eps=0.14, min_samples=10: 1.0068\n",
      "eps=0.14, min_samples=20: 1.1046\n",
      "eps=0.14, min_samples=50: 1.1522\n",
      "eps=0.18, min_samples=6: 1.0937\n",
      "eps=0.18, min_samples=10: 1.0704\n",
      "eps=0.18, min_samples=20: 1.0905\n",
      "eps=0.18, min_samples=50: 1.2035\n",
      "eps=0.23, min_samples=6: 1.1513\n",
      "eps=0.23, min_samples=10: 1.1714\n",
      "eps=0.23, min_samples=20: 1.2384\n",
      "eps=0.23, min_samples=50: 1.2159\n",
      "eps=0.27, min_samples=6: 1.1877\n",
      "eps=0.27, min_samples=10: 1.187\n",
      "eps=0.27, min_samples=20: 1.2673\n",
      "eps=0.27, min_samples=50: 1.663\n",
      "eps=0.31, min_samples=6: 1.2364\n",
      "eps=0.31, min_samples=10: 1.233\n",
      "eps=0.31, min_samples=20: 1.3492\n",
      "eps=0.31, min_samples=50: 1.8091\n",
      "eps=0.36, min_samples=6: 1.2946\n",
      "eps=0.36, min_samples=10: 1.3312\n",
      "eps=0.36, min_samples=20: 1.4439\n",
      "eps=0.36, min_samples=50: 1.6088\n",
      "eps=0.4, min_samples=6: 1.3335\n",
      "eps=0.4, min_samples=10: 1.4241\n",
      "eps=0.4, min_samples=20: 1.6769\n",
      "eps=0.4, min_samples=50: 1.6877\n"
     ]
    }
   ],
   "source": [
    "range_eps = np.linspace(start=0.01, stop=0.4, num=5)\n",
    "range_min_samples = [6, 10, 20, 50]\n",
    "\n",
    "search_results = dbscan_gridsearch(X_full, range_eps, range_min_samples)"
   ]
  },
  {
   "cell_type": "code",
   "execution_count": null,
   "id": "6852dc90",
   "metadata": {},
   "outputs": [],
   "source": []
  },
  {
   "cell_type": "markdown",
   "id": "46d9b949",
   "metadata": {},
   "source": [
    "# Refinement\n",
    "\n",
    "To try\n",
    "Next things to try:\n",
    "1. Reduce dimensionality of DeepFold embeddings to 100\n",
    "2. Incorporate BLAST and see what it says about clusters\n",
    "3. When RMSD & TM score are ready then incorporate them to see what they say about clusters\n",
    "4. Save model & results (some form of pipeline) "
   ]
  },
  {
   "cell_type": "code",
   "execution_count": 594,
   "id": "c96534d4",
   "metadata": {},
   "outputs": [
    {
     "name": "stdout",
     "output_type": "stream",
     "text": [
      "X_full orig shape (23188, 398)\n",
      "X_transformed new shape (23188, 100)\n"
     ]
    }
   ],
   "source": [
    "from sklearn.manifold import Isomap\n",
    "\n",
    "embedding = Isomap(n_components=100)\n",
    "print(\"X_full orig shape\", X_full.shape)\n",
    "X_transformed = embedding.fit_transform(X_full)\n",
    "print(\"X_transformed new shape\", X_transformed.shape)"
   ]
  },
  {
   "cell_type": "code",
   "execution_count": 595,
   "id": "bb0e8957",
   "metadata": {
    "scrolled": true
   },
   "outputs": [
    {
     "name": "stdout",
     "output_type": "stream",
     "text": [
      "[[   -1 18785]\n",
      " [    0    46]\n",
      " [    1    20]\n",
      " [    2    28]\n",
      " [    3    12]\n",
      " [    4     8]\n",
      " [    5     7]\n",
      " [    6    21]\n",
      " [    7    30]\n",
      " [    8     6]\n",
      " [    9     8]\n",
      " [   10     5]\n",
      " [   11   902]\n",
      " [   12    10]\n",
      " [   13     5]\n",
      " [   14    11]\n",
      " [   15   313]\n",
      " [   16    12]\n",
      " [   17     6]\n",
      " [   18     5]\n",
      " [   19     7]\n",
      " [   20    23]\n",
      " [   21     5]\n",
      " [   22     5]\n",
      " [   23     6]\n",
      " [   24   824]\n",
      " [   25     5]\n",
      " [   26     5]\n",
      " [   27    12]\n",
      " [   28     7]\n",
      " [   29     9]\n",
      " [   30     7]\n",
      " [   31     5]\n",
      " [   32    34]\n",
      " [   33     5]\n",
      " [   34     6]\n",
      " [   35     6]\n",
      " [   36    16]\n",
      " [   37    10]\n",
      " [   38    58]\n",
      " [   39    24]\n",
      " [   40     7]\n",
      " [   41    18]\n",
      " [   42    10]\n",
      " [   43    18]\n",
      " [   44     6]\n",
      " [   45    49]\n",
      " [   46     7]\n",
      " [   47    11]\n",
      " [   48     7]\n",
      " [   49    10]\n",
      " [   50     5]\n",
      " [   51     5]\n",
      " [   52    12]\n",
      " [   53    38]\n",
      " [   54    11]\n",
      " [   55     5]\n",
      " [   56     8]\n",
      " [   57    21]\n",
      " [   58     6]\n",
      " [   59   105]\n",
      " [   60     9]\n",
      " [   61    16]\n",
      " [   62     8]\n",
      " [   63    41]\n",
      " [   64     8]\n",
      " [   65     7]\n",
      " [   66    10]\n",
      " [   67    17]\n",
      " [   68     8]\n",
      " [   69    15]\n",
      " [   70     5]\n",
      " [   71     5]\n",
      " [   72    17]\n",
      " [   73    12]\n",
      " [   74    11]\n",
      " [   75    23]\n",
      " [   76     7]\n",
      " [   77     6]\n",
      " [   78    15]\n",
      " [   79    15]\n",
      " [   80     6]\n",
      " [   81     9]\n",
      " [   82     5]\n",
      " [   83     6]\n",
      " [   84     6]\n",
      " [   85    17]\n",
      " [   86     6]\n",
      " [   87    14]\n",
      " [   88    33]\n",
      " [   89    16]\n",
      " [   90     5]\n",
      " [   91     6]\n",
      " [   92    26]\n",
      " [   93    18]\n",
      " [   94     9]\n",
      " [   95    13]\n",
      " [   96     6]\n",
      " [   97     6]\n",
      " [   98    10]\n",
      " [   99     5]\n",
      " [  100     8]\n",
      " [  101     5]\n",
      " [  102    14]\n",
      " [  103    74]\n",
      " [  104   136]\n",
      " [  105     7]\n",
      " [  106     8]\n",
      " [  107    27]\n",
      " [  108     8]\n",
      " [  109    21]\n",
      " [  110    19]\n",
      " [  111     4]\n",
      " [  112     5]\n",
      " [  113     5]\n",
      " [  114     5]\n",
      " [  115     7]\n",
      " [  116    29]\n",
      " [  117     7]\n",
      " [  118    12]\n",
      " [  119     9]\n",
      " [  120    16]\n",
      " [  121     5]\n",
      " [  122     7]\n",
      " [  123     8]\n",
      " [  124     7]\n",
      " [  125    10]\n",
      " [  126    86]\n",
      " [  127    21]\n",
      " [  128     9]\n",
      " [  129     8]\n",
      " [  130     8]\n",
      " [  131     6]\n",
      " [  132     6]\n",
      " [  133     5]\n",
      " [  134     6]\n",
      " [  135    15]\n",
      " [  136     5]\n",
      " [  137     6]\n",
      " [  138     5]\n",
      " [  139     6]\n",
      " [  140     5]\n",
      " [  141     5]\n",
      " [  142     5]\n",
      " [  143     6]\n",
      " [  144     3]\n",
      " [  145     6]\n",
      " [  146     5]\n",
      " [  147     7]\n",
      " [  148     6]\n",
      " [  149     5]\n",
      " [  150     7]\n",
      " [  151    23]\n",
      " [  152    14]\n",
      " [  153    11]\n",
      " [  154     6]\n",
      " [  155     5]\n",
      " [  156     7]\n",
      " [  157     6]\n",
      " [  158    21]\n",
      " [  159     5]\n",
      " [  160     8]\n",
      " [  161     5]\n",
      " [  162     6]\n",
      " [  163    14]\n",
      " [  164     5]\n",
      " [  165     7]\n",
      " [  166     5]\n",
      " [  167     4]\n",
      " [  168    30]\n",
      " [  169     6]\n",
      " [  170     6]\n",
      " [  171     9]\n",
      " [  172     7]\n",
      " [  173     5]\n",
      " [  174     5]\n",
      " [  175     6]\n",
      " [  176     5]\n",
      " [  177     5]\n",
      " [  178     7]\n",
      " [  179     5]\n",
      " [  180     9]\n",
      " [  181     5]\n",
      " [  182     5]\n",
      " [  183     6]\n",
      " [  184     5]\n",
      " [  185     5]\n",
      " [  186     5]\n",
      " [  187     5]\n",
      " [  188     5]\n",
      " [  189    20]]\n",
      "db score 1.0470941734572052\n",
      "silhouette score -0.3288595566964832\n"
     ]
    }
   ],
   "source": [
    "\n",
    "clustering = DBSCAN(eps=0.40, min_samples=5).fit(X_transformed)\n",
    "print(np.asarray(np.unique(clustering.labels_, return_counts=True)).T)\n",
    "\n",
    "print(\"db score\", davies_bouldin_score(X_transformed, clustering.labels_))\n",
    "print(\"silhouette score\", silhouette_score(X_transformed, clustering.labels_))"
   ]
  },
  {
   "cell_type": "code",
   "execution_count": 596,
   "id": "7029e2d9",
   "metadata": {},
   "outputs": [],
   "source": [
    "import bz2\n",
    "import pickle\n",
    "\n",
    "filename='DeepFold_100'\n",
    "# outfile = open(filename,'wb')\n",
    "outfile = bz2.BZ2File(filename, 'w')\n",
    "pickle.dump(X_transformed,outfile)\n",
    "outfile.close()"
   ]
  },
  {
   "cell_type": "code",
   "execution_count": 598,
   "id": "5d7f8dea",
   "metadata": {},
   "outputs": [
    {
     "name": "stdout",
     "output_type": "stream",
     "text": [
      "eps=0.01 | min_samples=6 | Silhouette -0.0395 | DB sc0.9699\n",
      "eps=0.01 | min_samples=10 | Silhouette -0.0382 | DB sc1.1048\n",
      "eps=0.01 | min_samples=20 | Silhouette -0.0382 | DB sc1.1048\n",
      "eps=0.01, min_samples=50: Everything is a noise!\n",
      "eps=0.11 | min_samples=6 | Silhouette -0.3824 | DB sc1.0562\n",
      "eps=0.11 | min_samples=10 | Silhouette -0.3613 | DB sc1.2508\n",
      "eps=0.11 | min_samples=20 | Silhouette -0.0382 | DB sc1.1048\n",
      "eps=0.11, min_samples=50: Everything is a noise!\n",
      "eps=0.2 | min_samples=6 | Silhouette -0.3715 | DB sc1.0174\n",
      "eps=0.2 | min_samples=10 | Silhouette -0.3494 | DB sc1.1472\n",
      "eps=0.2 | min_samples=20 | Silhouette -0.3242 | DB sc1.4486\n",
      "eps=0.2 | min_samples=50 | Silhouette -0.333 | DB sc2.105\n",
      "eps=0.3 | min_samples=6 | Silhouette -0.3448 | DB sc1.0512\n",
      "eps=0.3 | min_samples=10 | Silhouette -0.3065 | DB sc1.0323\n",
      "eps=0.3 | min_samples=20 | Silhouette -0.3112 | DB sc1.5302\n",
      "eps=0.3 | min_samples=50 | Silhouette -0.3008 | DB sc1.9564\n",
      "eps=0.4 | min_samples=6 | Silhouette -0.3133 | DB sc1.0767\n",
      "eps=0.4 | min_samples=10 | Silhouette -0.314 | DB sc1.1801\n",
      "eps=0.4 | min_samples=20 | Silhouette -0.3086 | DB sc1.3886\n",
      "eps=0.4 | min_samples=50 | Silhouette -0.2765 | DB sc1.776\n"
     ]
    }
   ],
   "source": [
    "range_eps = np.linspace(start=0.01, stop=0.4, num=5)\n",
    "range_min_samples = [6, 10, 20, 50]\n",
    "\n",
    "search_results = dbscan_gridsearch(X_transformed, range_eps, range_min_samples)"
   ]
  },
  {
   "cell_type": "code",
   "execution_count": 599,
   "id": "dda89bac",
   "metadata": {},
   "outputs": [
    {
     "name": "stdout",
     "output_type": "stream",
     "text": [
      "[[   -1 23126]\n",
      " [    0     5]\n",
      " [    1    38]\n",
      " [    2     9]\n",
      " [    3     5]\n",
      " [    4     5]]\n",
      "db score 0.7437789005385177\n",
      "silhouette score -0.03969639145839799\n"
     ]
    }
   ],
   "source": [
    "clustering = DBSCAN(eps=0.01, min_samples=5).fit(X_transformed)\n",
    "print(np.asarray(np.unique(clustering.labels_, return_counts=True)).T)\n",
    "\n",
    "print(\"db score\", davies_bouldin_score(X_transformed, clustering.labels_))\n",
    "print(\"silhouette score\", silhouette_score(X_transformed, clustering.labels_))"
   ]
  },
  {
   "cell_type": "markdown",
   "id": "f6a188b2",
   "metadata": {},
   "source": [
    "The Silhouette score just won't go down. The lowest DB is 09,9699\n",
    "But if I do that, everything is a noise. That's not helpful."
   ]
  },
  {
   "cell_type": "code",
   "execution_count": 600,
   "id": "17a3ed06",
   "metadata": {},
   "outputs": [
    {
     "name": "stdout",
     "output_type": "stream",
     "text": [
      "[[   -1 21353]\n",
      " [    0    11]\n",
      " [    1     8]\n",
      " [    2    25]\n",
      " [    3     8]\n",
      " [    4    18]\n",
      " [    5    11]\n",
      " [    6     8]\n",
      " [    7   302]\n",
      " [    8     5]\n",
      " [    9    35]\n",
      " [   10     6]\n",
      " [   11     8]\n",
      " [   12     6]\n",
      " [   13     7]\n",
      " [   14     5]\n",
      " [   15    16]\n",
      " [   16   250]\n",
      " [   17   211]\n",
      " [   18    13]\n",
      " [   19     5]\n",
      " [   20     8]\n",
      " [   21     7]\n",
      " [   22     5]\n",
      " [   23     5]\n",
      " [   24     6]\n",
      " [   25    16]\n",
      " [   26     7]\n",
      " [   27    17]\n",
      " [   28     6]\n",
      " [   29     9]\n",
      " [   30     4]\n",
      " [   31    13]\n",
      " [   32    22]\n",
      " [   33     9]\n",
      " [   34     5]\n",
      " [   35    11]\n",
      " [   36    38]\n",
      " [   37     9]\n",
      " [   38     6]\n",
      " [   39     5]\n",
      " [   40     5]\n",
      " [   41     6]\n",
      " [   42     8]\n",
      " [   43    19]\n",
      " [   44    12]\n",
      " [   45     6]\n",
      " [   46     6]\n",
      " [   47    23]\n",
      " [   48     6]\n",
      " [   49     5]\n",
      " [   50    17]\n",
      " [   51    13]\n",
      " [   52    11]\n",
      " [   53     7]\n",
      " [   54     8]\n",
      " [   55     6]\n",
      " [   56     7]\n",
      " [   57    14]\n",
      " [   58    71]\n",
      " [   59     7]\n",
      " [   60    12]\n",
      " [   61    12]\n",
      " [   62     8]\n",
      " [   63    18]\n",
      " [   64    13]\n",
      " [   65     5]\n",
      " [   66    53]\n",
      " [   67    17]\n",
      " [   68    13]\n",
      " [   69     5]\n",
      " [   70     5]\n",
      " [   71     5]\n",
      " [   72     6]\n",
      " [   73    12]\n",
      " [   74     6]\n",
      " [   75     5]\n",
      " [   76    12]\n",
      " [   77     9]\n",
      " [   78    10]\n",
      " [   79     6]\n",
      " [   80     9]\n",
      " [   81    14]\n",
      " [   82     6]\n",
      " [   83    12]\n",
      " [   84     5]\n",
      " [   85     7]\n",
      " [   86    28]\n",
      " [   87     7]\n",
      " [   88     5]\n",
      " [   89     5]\n",
      " [   90     5]\n",
      " [   91     7]\n",
      " [   92     5]\n",
      " [   93     6]\n",
      " [   94     6]\n",
      " [   95     5]\n",
      " [   96     5]\n",
      " [   97     5]\n",
      " [   98     5]\n",
      " [   99     5]\n",
      " [  100     5]\n",
      " [  101     5]\n",
      " [  102    18]]\n",
      "db score 0.9494008782338386\n",
      "silhouette score -0.3683301327341394\n"
     ]
    }
   ],
   "source": [
    "clustering = DBSCAN(eps=0.2, min_samples=5).fit(X_transformed)\n",
    "print(np.asarray(np.unique(clustering.labels_, return_counts=True)).T)\n",
    "\n",
    "print(\"db score\", davies_bouldin_score(X_transformed, clustering.labels_))\n",
    "print(\"silhouette score\", silhouette_score(X_transformed, clustering.labels_))"
   ]
  },
  {
   "cell_type": "markdown",
   "id": "f5fee465",
   "metadata": {},
   "source": [
    "Seems like a good DB score prefers a lot of noise ... that's not good."
   ]
  },
  {
   "cell_type": "code",
   "execution_count": 613,
   "id": "b1b0ef16",
   "metadata": {},
   "outputs": [
    {
     "name": "stdout",
     "output_type": "stream",
     "text": [
      "db score 1.1163529723463534\n",
      "silhouette score -0.22253601828397357\n",
      "[[   -1  9557]\n",
      " [    0   237]\n",
      " [    1     5]\n",
      " [    2    25]\n",
      " [    3    33]\n",
      " [    4    19]\n",
      " [    5    48]\n",
      " [    6     9]\n",
      " [    7     7]\n",
      " [    8     7]\n",
      " [    9    34]\n",
      " [   10     6]\n",
      " [   11     5]\n",
      " [   12    14]\n",
      " [   13 10404]\n",
      " [   14    10]\n",
      " [   15    11]\n",
      " [   16     5]\n",
      " [   17    24]\n",
      " [   18    14]\n",
      " [   19     8]\n",
      " [   20    81]\n",
      " [   21     6]\n",
      " [   22    10]\n",
      " [   23    12]\n",
      " [   24     6]\n",
      " [   25    10]\n",
      " [   26    37]\n",
      " [   27     7]\n",
      " [   28    24]\n",
      " [   29    50]\n",
      " [   30    17]\n",
      " [   31     7]\n",
      " [   32     5]\n",
      " [   33    10]\n",
      " [   34     6]\n",
      " [   35     9]\n",
      " [   36     7]\n",
      " [   37     5]\n",
      " [   38     5]\n",
      " [   39    17]\n",
      " [   40     5]\n",
      " [   41     7]\n",
      " [   42    77]\n",
      " [   43     7]\n",
      " [   44     5]\n",
      " [   45    54]\n",
      " [   46    29]\n",
      " [   47     7]\n",
      " [   48    47]\n",
      " [   49     9]\n",
      " [   50     8]\n",
      " [   51    19]\n",
      " [   52     8]\n",
      " [   53    14]\n",
      " [   54    22]\n",
      " [   55    13]\n",
      " [   56    86]\n",
      " [   57     6]\n",
      " [   58    25]\n",
      " [   59     7]\n",
      " [   60    14]\n",
      " [   61     6]\n",
      " [   62     9]\n",
      " [   63    38]\n",
      " [   64    13]\n",
      " [   65     7]\n",
      " [   66    14]\n",
      " [   67    10]\n",
      " [   68     6]\n",
      " [   69    31]\n",
      " [   70     7]\n",
      " [   71    37]\n",
      " [   72    12]\n",
      " [   73     9]\n",
      " [   74    10]\n",
      " [   75     5]\n",
      " [   76     8]\n",
      " [   77     8]\n",
      " [   78    16]\n",
      " [   79     6]\n",
      " [   80    28]\n",
      " [   81     6]\n",
      " [   82     6]\n",
      " [   83   210]\n",
      " [   84     5]\n",
      " [   85    11]\n",
      " [   86     8]\n",
      " [   87     7]\n",
      " [   88    28]\n",
      " [   89     9]\n",
      " [   90    10]\n",
      " [   91     5]\n",
      " [   92     5]\n",
      " [   93     8]\n",
      " [   94    21]\n",
      " [   95    14]\n",
      " [   96    14]\n",
      " [   97    25]\n",
      " [   98    48]\n",
      " [   99     6]\n",
      " [  100     5]\n",
      " [  101    15]\n",
      " [  102    11]\n",
      " [  103     7]\n",
      " [  104    18]\n",
      " [  105     8]\n",
      " [  106     7]\n",
      " [  107    20]\n",
      " [  108    11]\n",
      " [  109    16]\n",
      " [  110    10]\n",
      " [  111     6]\n",
      " [  112    20]\n",
      " [  113    12]\n",
      " [  114     9]\n",
      " [  115     8]\n",
      " [  116     6]\n",
      " [  117    21]\n",
      " [  118    22]\n",
      " [  119     6]\n",
      " [  120     6]\n",
      " [  121    35]\n",
      " [  122    11]\n",
      " [  123     5]\n",
      " [  124     8]\n",
      " [  125    11]\n",
      " [  126     7]\n",
      " [  127     5]\n",
      " [  128    25]\n",
      " [  129     4]\n",
      " [  130     5]\n",
      " [  131     7]\n",
      " [  132    11]\n",
      " [  133     5]\n",
      " [  134     8]\n",
      " [  135    25]\n",
      " [  136    21]\n",
      " [  137     7]\n",
      " [  138     6]\n",
      " [  139     5]\n",
      " [  140    17]\n",
      " [  141     9]\n",
      " [  142     9]\n",
      " [  143     6]\n",
      " [  144     9]\n",
      " [  145     8]\n",
      " [  146     7]\n",
      " [  147     5]\n",
      " [  148     5]\n",
      " [  149     6]\n",
      " [  150     8]\n",
      " [  151    10]\n",
      " [  152     6]\n",
      " [  153     5]\n",
      " [  154    15]\n",
      " [  155     6]\n",
      " [  156     5]\n",
      " [  157     8]\n",
      " [  158     6]\n",
      " [  159     7]\n",
      " [  160     6]\n",
      " [  161     8]\n",
      " [  162    11]\n",
      " [  163    17]\n",
      " [  164     7]\n",
      " [  165     7]\n",
      " [  166     7]\n",
      " [  167     6]\n",
      " [  168     5]\n",
      " [  169     5]\n",
      " [  170     5]\n",
      " [  171     8]\n",
      " [  172    19]\n",
      " [  173     7]\n",
      " [  174     7]\n",
      " [  175     8]\n",
      " [  176     7]\n",
      " [  177     7]\n",
      " [  178     5]\n",
      " [  179     5]\n",
      " [  180     5]\n",
      " [  181    16]\n",
      " [  182     5]\n",
      " [  183     6]\n",
      " [  184     5]\n",
      " [  185     7]\n",
      " [  186     7]\n",
      " [  187     5]\n",
      " [  188     5]\n",
      " [  189     5]\n",
      " [  190     5]\n",
      " [  191     6]\n",
      " [  192     5]\n",
      " [  193    13]\n",
      " [  194    11]\n",
      " [  195     7]\n",
      " [  196     5]\n",
      " [  197     7]\n",
      " [  198     5]\n",
      " [  199     5]\n",
      " [  200     6]\n",
      " [  201     6]\n",
      " [  202     5]\n",
      " [  203    12]\n",
      " [  204     9]\n",
      " [  205     8]\n",
      " [  206     8]\n",
      " [  207     5]\n",
      " [  208     5]\n",
      " [  209     5]\n",
      " [  210     7]\n",
      " [  211    15]\n",
      " [  212     5]\n",
      " [  213     5]\n",
      " [  214     5]\n",
      " [  215     5]\n",
      " [  216     5]\n",
      " [  217     6]\n",
      " [  218     8]\n",
      " [  219     5]\n",
      " [  220     9]\n",
      " [  221     5]\n",
      " [  222    12]\n",
      " [  223     5]\n",
      " [  224     5]\n",
      " [  225     6]\n",
      " [  226     5]\n",
      " [  227     6]\n",
      " [  228     9]\n",
      " [  229     5]\n",
      " [  230    13]\n",
      " [  231    11]\n",
      " [  232     5]\n",
      " [  233    20]\n",
      " [  234     6]\n",
      " [  235     4]\n",
      " [  236     5]\n",
      " [  237     5]\n",
      " [  238     5]]\n"
     ]
    }
   ],
   "source": [
    "clustering = DBSCAN(eps=1.05, min_samples=5).fit(X_transformed)\n",
    "print(\"db score\", davies_bouldin_score(X_transformed, clustering.labels_))\n",
    "print(\"silhouette score\", silhouette_score(X_transformed, clustering.labels_))\n",
    "print(np.asarray(np.unique(clustering.labels_, return_counts=True)).T)"
   ]
  },
  {
   "cell_type": "markdown",
   "id": "84fdda6c",
   "metadata": {},
   "source": [
    "Let's try an even lower dimension."
   ]
  },
  {
   "cell_type": "code",
   "execution_count": 614,
   "id": "86637a85",
   "metadata": {},
   "outputs": [
    {
     "name": "stdout",
     "output_type": "stream",
     "text": [
      "X_full orig shape (23188, 398)\n"
     ]
    },
    {
     "ename": "NameError",
     "evalue": "name 'X_transformed_40' is not defined",
     "output_type": "error",
     "traceback": [
      "\u001b[0;31m---------------------------------------------------------------------------\u001b[0m",
      "\u001b[0;31mNameError\u001b[0m                                 Traceback (most recent call last)",
      "\u001b[0;32m/var/folders/zz/58vwrfdn6p5bgkhdv0xng5780000gn/T/ipykernel_64790/733100293.py\u001b[0m in \u001b[0;36m<module>\u001b[0;34m\u001b[0m\n\u001b[1;32m      2\u001b[0m \u001b[0mprint\u001b[0m\u001b[0;34m(\u001b[0m\u001b[0;34m\"X_full orig shape\"\u001b[0m\u001b[0;34m,\u001b[0m \u001b[0mX_full\u001b[0m\u001b[0;34m.\u001b[0m\u001b[0mshape\u001b[0m\u001b[0;34m)\u001b[0m\u001b[0;34m\u001b[0m\u001b[0;34m\u001b[0m\u001b[0m\n\u001b[1;32m      3\u001b[0m \u001b[0mX_transformed\u001b[0m \u001b[0;34m=\u001b[0m \u001b[0membedding\u001b[0m\u001b[0;34m.\u001b[0m\u001b[0mfit_transform\u001b[0m\u001b[0;34m(\u001b[0m\u001b[0mX_full\u001b[0m\u001b[0;34m)\u001b[0m\u001b[0;34m\u001b[0m\u001b[0;34m\u001b[0m\u001b[0m\n\u001b[0;32m----> 4\u001b[0;31m \u001b[0mprint\u001b[0m\u001b[0;34m(\u001b[0m\u001b[0;34m\"X_transformed new shape\"\u001b[0m\u001b[0;34m,\u001b[0m \u001b[0mX_transformed_40\u001b[0m\u001b[0;34m.\u001b[0m\u001b[0mshape\u001b[0m\u001b[0;34m)\u001b[0m\u001b[0;34m\u001b[0m\u001b[0;34m\u001b[0m\u001b[0m\n\u001b[0m",
      "\u001b[0;31mNameError\u001b[0m: name 'X_transformed_40' is not defined"
     ]
    }
   ],
   "source": [
    "embedding = Isomap(n_components=40)\n",
    "print(\"X_full orig shape\", X_full.shape)\n",
    "X_transformed_40 = embedding.fit_transform(X_full)\n",
    "print(\"X_transformed new shape\", X_transformed_40.shape)"
   ]
  },
  {
   "cell_type": "code",
   "execution_count": 616,
   "id": "b06fd577",
   "metadata": {},
   "outputs": [
    {
     "name": "stdout",
     "output_type": "stream",
     "text": [
      "X_transformed new shape (23188, 40)\n"
     ]
    }
   ],
   "source": [
    "print(\"X_transformed new shape\", X_transformed_40.shape)"
   ]
  },
  {
   "cell_type": "code",
   "execution_count": null,
   "id": "389f313a",
   "metadata": {},
   "outputs": [],
   "source": []
  },
  {
   "cell_type": "code",
   "execution_count": 617,
   "id": "de43af53",
   "metadata": {},
   "outputs": [
    {
     "name": "stdout",
     "output_type": "stream",
     "text": [
      "db score 1.0857150025250557\n",
      "silhouette score -0.22373402613466922\n",
      "[[   -1  5621]\n",
      " [    0 15334]\n",
      " [    1     6]\n",
      " [    2    25]\n",
      " [    3   125]\n",
      " [    4    42]\n",
      " [    5     9]\n",
      " [    6     8]\n",
      " [    7     8]\n",
      " [    8     7]\n",
      " [    9    22]\n",
      " [   10    10]\n",
      " [   11    11]\n",
      " [   12     4]\n",
      " [   13    40]\n",
      " [   14     5]\n",
      " [   15     8]\n",
      " [   16    15]\n",
      " [   17    13]\n",
      " [   18    41]\n",
      " [   19     7]\n",
      " [   20    19]\n",
      " [   21    10]\n",
      " [   22     9]\n",
      " [   23     5]\n",
      " [   24     5]\n",
      " [   25    20]\n",
      " [   26     5]\n",
      " [   27    20]\n",
      " [   28     7]\n",
      " [   29     8]\n",
      " [   30     7]\n",
      " [   31    27]\n",
      " [   32     7]\n",
      " [   33    14]\n",
      " [   34    11]\n",
      " [   35    41]\n",
      " [   36     8]\n",
      " [   37     9]\n",
      " [   38    10]\n",
      " [   39    20]\n",
      " [   40     6]\n",
      " [   41     9]\n",
      " [   42    19]\n",
      " [   43     6]\n",
      " [   44    15]\n",
      " [   45    87]\n",
      " [   46    23]\n",
      " [   47    12]\n",
      " [   48    38]\n",
      " [   49    13]\n",
      " [   50    62]\n",
      " [   51     6]\n",
      " [   52     8]\n",
      " [   53    11]\n",
      " [   54     8]\n",
      " [   55    19]\n",
      " [   56     7]\n",
      " [   57    27]\n",
      " [   58     8]\n",
      " [   59    15]\n",
      " [   60     5]\n",
      " [   61     6]\n",
      " [   62    11]\n",
      " [   63     7]\n",
      " [   64    65]\n",
      " [   65    17]\n",
      " [   66    22]\n",
      " [   67     5]\n",
      " [   68    11]\n",
      " [   69     5]\n",
      " [   70    15]\n",
      " [   71     9]\n",
      " [   72    12]\n",
      " [   73    12]\n",
      " [   74     9]\n",
      " [   75     5]\n",
      " [   76    11]\n",
      " [   77     6]\n",
      " [   78    11]\n",
      " [   79    19]\n",
      " [   80    20]\n",
      " [   81     9]\n",
      " [   82     6]\n",
      " [   83     9]\n",
      " [   84     9]\n",
      " [   85     7]\n",
      " [   86     8]\n",
      " [   87    28]\n",
      " [   88     7]\n",
      " [   89    25]\n",
      " [   90     6]\n",
      " [   91     5]\n",
      " [   92     6]\n",
      " [   93     5]\n",
      " [   94     7]\n",
      " [   95     8]\n",
      " [   96     6]\n",
      " [   97     8]\n",
      " [   98    11]\n",
      " [   99    22]\n",
      " [  100     6]\n",
      " [  101     5]\n",
      " [  102    10]\n",
      " [  103    13]\n",
      " [  104     5]\n",
      " [  105    12]\n",
      " [  106     5]\n",
      " [  107     5]\n",
      " [  108     9]\n",
      " [  109     8]\n",
      " [  110     4]\n",
      " [  111     7]\n",
      " [  112     7]\n",
      " [  113    12]\n",
      " [  114     6]\n",
      " [  115     6]\n",
      " [  116     7]\n",
      " [  117     7]\n",
      " [  118     5]\n",
      " [  119     9]\n",
      " [  120     7]\n",
      " [  121     7]\n",
      " [  122    11]\n",
      " [  123    14]\n",
      " [  124     5]\n",
      " [  125     6]\n",
      " [  126     5]\n",
      " [  127     5]\n",
      " [  128     5]\n",
      " [  129     5]\n",
      " [  130     6]\n",
      " [  131     9]\n",
      " [  132    15]\n",
      " [  133    10]\n",
      " [  134     8]\n",
      " [  135     6]\n",
      " [  136     8]\n",
      " [  137    21]\n",
      " [  138     7]\n",
      " [  139     6]\n",
      " [  140     7]\n",
      " [  141     7]\n",
      " [  142     7]\n",
      " [  143     5]\n",
      " [  144     7]\n",
      " [  145    18]\n",
      " [  146     5]\n",
      " [  147     6]\n",
      " [  148     5]\n",
      " [  149     8]\n",
      " [  150     5]\n",
      " [  151     5]\n",
      " [  152     9]\n",
      " [  153     5]\n",
      " [  154     7]\n",
      " [  155     9]\n",
      " [  156     5]\n",
      " [  157    10]\n",
      " [  158     5]\n",
      " [  159     5]\n",
      " [  160     5]\n",
      " [  161     6]\n",
      " [  162     6]\n",
      " [  163     7]\n",
      " [  164    11]\n",
      " [  165     8]\n",
      " [  166    13]\n",
      " [  167    11]\n",
      " [  168     8]\n",
      " [  169     5]\n",
      " [  170     6]\n",
      " [  171    17]\n",
      " [  172     5]\n",
      " [  173     7]\n",
      " [  174     9]\n",
      " [  175     6]\n",
      " [  176    11]\n",
      " [  177     5]\n",
      " [  178     6]\n",
      " [  179     5]\n",
      " [  180     5]\n",
      " [  181     8]\n",
      " [  182     5]\n",
      " [  183     5]\n",
      " [  184     3]\n",
      " [  185     5]\n",
      " [  186     4]\n",
      " [  187    13]\n",
      " [  188    11]\n",
      " [  189     6]\n",
      " [  190     5]\n",
      " [  191     5]\n",
      " [  192     5]]\n"
     ]
    }
   ],
   "source": [
    "clustering = DBSCAN(eps=1.05, min_samples=5).fit(X_transformed_40)\n",
    "print(\"db score\", davies_bouldin_score(X_transformed_40, clustering.labels_))\n",
    "print(\"silhouette score\", silhouette_score(X_transformed_40, clustering.labels_))\n",
    "print(np.asarray(np.unique(clustering.labels_, return_counts=True)).T)"
   ]
  },
  {
   "cell_type": "code",
   "execution_count": 618,
   "id": "a9f86d65",
   "metadata": {},
   "outputs": [],
   "source": [
    "filename='DeepFold_40'\n",
    "# outfile = open(filename,'wb')\n",
    "outfile = bz2.BZ2File(filename, 'w')\n",
    "pickle.dump(X_transformed_40,outfile)\n",
    "outfile.close()"
   ]
  },
  {
   "cell_type": "code",
   "execution_count": 619,
   "id": "c440e036",
   "metadata": {},
   "outputs": [
    {
     "name": "stdout",
     "output_type": "stream",
     "text": [
      "eps=0.01 | min_samples=6 | Silhouette -0.0248 | DB sc0.9589\n",
      "eps=0.01 | min_samples=10 | Silhouette -0.0146 | DB sc1.0661\n",
      "eps=0.01 | min_samples=20 | Silhouette -0.0146 | DB sc1.0661\n",
      "eps=0.01, min_samples=50: Everything is a noise!\n",
      "eps=0.11 | min_samples=6 | Silhouette -0.421 | DB sc1.0821\n",
      "eps=0.11 | min_samples=10 | Silhouette -0.3925 | DB sc1.165\n",
      "eps=0.11 | min_samples=20 | Silhouette -0.3459 | DB sc1.6814\n",
      "eps=0.11 | min_samples=50 | Silhouette -0.1919 | DB sc1.6075\n",
      "eps=0.2 | min_samples=6 | Silhouette -0.3982 | DB sc0.9748\n",
      "eps=0.2 | min_samples=10 | Silhouette -0.3386 | DB sc0.9561\n",
      "eps=0.2 | min_samples=20 | Silhouette -0.3356 | DB sc1.4594\n",
      "eps=0.2 | min_samples=50 | Silhouette -0.3146 | DB sc1.7525\n",
      "eps=0.3 | min_samples=6 | Silhouette -0.3526 | DB sc0.9871\n",
      "eps=0.3 | min_samples=10 | Silhouette -0.35 | DB sc1.0859\n",
      "eps=0.3 | min_samples=20 | Silhouette -0.339 | DB sc1.5298\n",
      "eps=0.3 | min_samples=50 | Silhouette -0.2837 | DB sc1.62\n",
      "eps=0.4 | min_samples=6 | Silhouette -0.3476 | DB sc1.0869\n",
      "eps=0.4 | min_samples=10 | Silhouette -0.3199 | DB sc1.1012\n",
      "eps=0.4 | min_samples=20 | Silhouette -0.2689 | DB sc1.4089\n",
      "eps=0.4 | min_samples=50 | Silhouette -0.2833 | DB sc2.076\n"
     ]
    }
   ],
   "source": [
    "range_eps = np.linspace(start=0.01, stop=0.4, num=5)\n",
    "range_min_samples = [6, 10, 20, 50]\n",
    "\n",
    "search_results = dbscan_gridsearch(X_transformed_40, range_eps, range_min_samples)"
   ]
  },
  {
   "cell_type": "code",
   "execution_count": 621,
   "id": "7dfae400",
   "metadata": {},
   "outputs": [
    {
     "name": "stdout",
     "output_type": "stream",
     "text": [
      "db score 1.3592895954379502\n",
      "silhouette score 0.008792897315928833\n",
      "[[   -1  5990]\n",
      " [    0 16334]\n",
      " [    1    25]\n",
      " [    2   127]\n",
      " [    3    40]\n",
      " [    4    32]\n",
      " [    5    41]\n",
      " [    6    23]\n",
      " [    7    51]\n",
      " [    8    44]\n",
      " [    9    20]\n",
      " [   10    89]\n",
      " [   11    23]\n",
      " [   12    38]\n",
      " [   13    70]\n",
      " [   14    34]\n",
      " [   15    22]\n",
      " [   16    20]\n",
      " [   17    20]\n",
      " [   18    30]\n",
      " [   19    21]\n",
      " [   20    21]\n",
      " [   21    29]\n",
      " [   22    21]\n",
      " [   23    23]]\n"
     ]
    }
   ],
   "source": [
    "clustering = DBSCAN(eps=1.4, min_samples=20).fit(X_transformed_40)\n",
    "print(\"db score\", davies_bouldin_score(X_transformed_40, clustering.labels_))\n",
    "print(\"silhouette score\", silhouette_score(X_transformed_40, clustering.labels_))\n",
    "print(np.asarray(np.unique(clustering.labels_, return_counts=True)).T)"
   ]
  },
  {
   "cell_type": "code",
   "execution_count": 622,
   "id": "718a4f90",
   "metadata": {},
   "outputs": [
    {
     "name": "stdout",
     "output_type": "stream",
     "text": [
      "db score 1.3814992755965319\n",
      "silhouette score -0.05627926561239578\n",
      "[[   -1  6664]\n",
      " [    0 15603]\n",
      " [    1    25]\n",
      " [    2   127]\n",
      " [    3    29]\n",
      " [    4    32]\n",
      " [    5    32]\n",
      " [    6    41]\n",
      " [    7    20]\n",
      " [    8    84]\n",
      " [    9    50]\n",
      " [   10    38]\n",
      " [   11    20]\n",
      " [   12    88]\n",
      " [   13    23]\n",
      " [   14    38]\n",
      " [   15    66]\n",
      " [   16    33]\n",
      " [   17    22]\n",
      " [   18    18]\n",
      " [   19    20]\n",
      " [   20    30]\n",
      " [   21    21]\n",
      " [   22    23]\n",
      " [   23    21]\n",
      " [   24    20]]\n"
     ]
    }
   ],
   "source": [
    "clustering = DBSCAN(eps=1.3, min_samples=20).fit(X_transformed_40)\n",
    "print(\"db score\", davies_bouldin_score(X_transformed_40, clustering.labels_))\n",
    "print(\"silhouette score\", silhouette_score(X_transformed_40, clustering.labels_))\n",
    "print(np.asarray(np.unique(clustering.labels_, return_counts=True)).T)"
   ]
  },
  {
   "cell_type": "code",
   "execution_count": null,
   "id": "3dc409ed",
   "metadata": {},
   "outputs": [],
   "source": []
  }
 ],
 "metadata": {
  "kernelspec": {
   "display_name": "Python 3 (ipykernel)",
   "language": "python",
   "name": "python3"
  },
  "language_info": {
   "codemirror_mode": {
    "name": "ipython",
    "version": 3
   },
   "file_extension": ".py",
   "mimetype": "text/x-python",
   "name": "python",
   "nbconvert_exporter": "python",
   "pygments_lexer": "ipython3",
   "version": "3.9.7"
  }
 },
 "nbformat": 4,
 "nbformat_minor": 5
}
