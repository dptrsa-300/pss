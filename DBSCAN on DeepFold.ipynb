{
 "cells": [
  {
   "cell_type": "markdown",
   "id": "b2997827",
   "metadata": {},
   "source": [
    "# Clustering on DeepFold Embeddings\n",
    "Haerang Lee\n",
    "\n",
    "I'm going to take Skyler's DeepFold embeddings. Those files are in `embeddings/DeepFold` in the GCS bucket.\n",
    "\n",
    "Then let me run some clustering models on top of it.\n",
    "\n",
    "**Silly question**: If I want to put this notebook under a directory, how do I access `utils` in the parent directory? Right now I just put my notebook in the home dir."
   ]
  },
  {
   "cell_type": "code",
   "execution_count": 1,
   "id": "31305d27",
   "metadata": {},
   "outputs": [],
   "source": [
    "from google.cloud import storage\n",
    "import argparse\n",
    "import gzip\n",
    "import os\n",
    "import sys\n",
    "import time\n",
    "from multiprocessing import Pool\n",
    "\n",
    "import numpy as np\n",
    "import pandas as pd\n",
    "from tqdm.auto import tqdm\n",
    "\n",
    "from utils import gcs_utils as gcs"
   ]
  },
  {
   "cell_type": "code",
   "execution_count": 624,
   "id": "1e064b07",
   "metadata": {},
   "outputs": [],
   "source": [
    "# Get all the keys from gcs\n",
    "allkeys = gcs.list_keys()"
   ]
  },
  {
   "cell_type": "code",
   "execution_count": 625,
   "id": "41f78067",
   "metadata": {
    "scrolled": true
   },
   "outputs": [
    {
     "data": {
      "text/plain": [
       "['/annotations/blast_annotations.csv',\n",
       " 'UP000005640_9606_HUMAN.tar',\n",
       " 'UP000005640_9606_HUMAN/cif/AF-A0A024R1R8-F1-model_v1.cif.gz',\n",
       " 'UP000005640_9606_HUMAN/cif/AF-A0A024RBG1-F1-model_v1.cif.gz',\n",
       " 'UP000005640_9606_HUMAN/cif/AF-A0A024RCN7-F1-model_v1.cif.gz',\n",
       " 'UP000005640_9606_HUMAN/cif/AF-A0A075B6H5-F1-model_v1.cif.gz',\n",
       " 'UP000005640_9606_HUMAN/cif/AF-A0A075B6H7-F1-model_v1.cif.gz',\n",
       " 'UP000005640_9606_HUMAN/cif/AF-A0A075B6H8-F1-model_v1.cif.gz',\n",
       " 'UP000005640_9606_HUMAN/cif/AF-A0A075B6H9-F1-model_v1.cif.gz',\n",
       " 'UP000005640_9606_HUMAN/cif/AF-A0A075B6I0-F1-model_v1.cif.gz']"
      ]
     },
     "execution_count": 625,
     "metadata": {},
     "output_type": "execute_result"
    }
   ],
   "source": [
    "# What's in here?\n",
    "allkeys[0:10]"
   ]
  },
  {
   "cell_type": "code",
   "execution_count": 626,
   "id": "48398bc0",
   "metadata": {},
   "outputs": [
    {
     "data": {
      "text/plain": [
       "46838"
      ]
     },
     "execution_count": 626,
     "metadata": {},
     "output_type": "execute_result"
    }
   ],
   "source": [
    "# How many files are there?\n",
    "len(allkeys)"
   ]
  },
  {
   "cell_type": "code",
   "execution_count": 627,
   "id": "68dda701",
   "metadata": {
    "scrolled": true
   },
   "outputs": [
    {
     "name": "stdout",
     "output_type": "stream",
     "text": [
      "embeddings/\n",
      "embeddings/DeepFold/\n",
      "embeddings/DeepFold/embeddings_0.csv\n",
      "embeddings/DeepFold/embeddings_1.csv\n",
      "embeddings/DeepFold/embeddings_10.csv\n",
      "embeddings/DeepFold/embeddings_11.csv\n",
      "embeddings/DeepFold/embeddings_12.csv\n",
      "embeddings/DeepFold/embeddings_13.csv\n",
      "embeddings/DeepFold/embeddings_14.csv\n",
      "embeddings/DeepFold/embeddings_15.csv\n",
      "embeddings/DeepFold/embeddings_16.csv\n",
      "embeddings/DeepFold/embeddings_17.csv\n",
      "embeddings/DeepFold/embeddings_18.csv\n",
      "embeddings/DeepFold/embeddings_19.csv\n",
      "embeddings/DeepFold/embeddings_2.csv\n",
      "embeddings/DeepFold/embeddings_20.csv\n",
      "embeddings/DeepFold/embeddings_3.csv\n",
      "embeddings/DeepFold/embeddings_4.csv\n",
      "embeddings/DeepFold/embeddings_5.csv\n",
      "embeddings/DeepFold/embeddings_6.csv\n",
      "embeddings/DeepFold/embeddings_7.csv\n",
      "embeddings/DeepFold/embeddings_8.csv\n",
      "embeddings/DeepFold/embeddings_9.csv\n"
     ]
    }
   ],
   "source": [
    "# I just want the DeepFold embedding files\n",
    "for k in allkeys:\n",
    "    if \"embed\" in k:\n",
    "        print(k)"
   ]
  },
  {
   "cell_type": "code",
   "execution_count": 628,
   "id": "4c7ecc19",
   "metadata": {},
   "outputs": [],
   "source": [
    "prefix = 'embeddings/DeepFold'\n",
    "keys = gcs.list_file_paths(prefix)"
   ]
  },
  {
   "cell_type": "markdown",
   "id": "998d5e2c",
   "metadata": {},
   "source": [
    "There are 21 files in the embeddings folder, each containing 1,000 proteins (except the last one). Here are the file names."
   ]
  },
  {
   "cell_type": "code",
   "execution_count": 629,
   "id": "63614748",
   "metadata": {
    "scrolled": true
   },
   "outputs": [
    {
     "data": {
      "text/plain": [
       "['gs://capstone-fall21-protein/embeddings/DeepFold/',\n",
       " 'gs://capstone-fall21-protein/embeddings/DeepFold/embeddings_0.csv',\n",
       " 'gs://capstone-fall21-protein/embeddings/DeepFold/embeddings_1.csv',\n",
       " 'gs://capstone-fall21-protein/embeddings/DeepFold/embeddings_10.csv',\n",
       " 'gs://capstone-fall21-protein/embeddings/DeepFold/embeddings_11.csv',\n",
       " 'gs://capstone-fall21-protein/embeddings/DeepFold/embeddings_12.csv',\n",
       " 'gs://capstone-fall21-protein/embeddings/DeepFold/embeddings_13.csv',\n",
       " 'gs://capstone-fall21-protein/embeddings/DeepFold/embeddings_14.csv',\n",
       " 'gs://capstone-fall21-protein/embeddings/DeepFold/embeddings_15.csv',\n",
       " 'gs://capstone-fall21-protein/embeddings/DeepFold/embeddings_16.csv',\n",
       " 'gs://capstone-fall21-protein/embeddings/DeepFold/embeddings_17.csv',\n",
       " 'gs://capstone-fall21-protein/embeddings/DeepFold/embeddings_18.csv',\n",
       " 'gs://capstone-fall21-protein/embeddings/DeepFold/embeddings_19.csv',\n",
       " 'gs://capstone-fall21-protein/embeddings/DeepFold/embeddings_2.csv',\n",
       " 'gs://capstone-fall21-protein/embeddings/DeepFold/embeddings_20.csv',\n",
       " 'gs://capstone-fall21-protein/embeddings/DeepFold/embeddings_3.csv',\n",
       " 'gs://capstone-fall21-protein/embeddings/DeepFold/embeddings_4.csv',\n",
       " 'gs://capstone-fall21-protein/embeddings/DeepFold/embeddings_5.csv',\n",
       " 'gs://capstone-fall21-protein/embeddings/DeepFold/embeddings_6.csv',\n",
       " 'gs://capstone-fall21-protein/embeddings/DeepFold/embeddings_7.csv',\n",
       " 'gs://capstone-fall21-protein/embeddings/DeepFold/embeddings_8.csv',\n",
       " 'gs://capstone-fall21-protein/embeddings/DeepFold/embeddings_9.csv']"
      ]
     },
     "execution_count": 629,
     "metadata": {},
     "output_type": "execute_result"
    }
   ],
   "source": [
    "keys"
   ]
  },
  {
   "cell_type": "markdown",
   "id": "66be994b",
   "metadata": {},
   "source": [
    "One of those embeddings files contains 1,000 proteins.\n",
    "The first three elements appear to be empty data, or just `'', '0', '1\\n0'`. The remaining 2,000 are pairs of protein name and relevant embedding (2\\*1000)."
   ]
  },
  {
   "cell_type": "code",
   "execution_count": 630,
   "id": "923ea197",
   "metadata": {},
   "outputs": [
    {
     "data": {
      "text/plain": [
       "'gs://capstone-fall21-protein/embeddings/DeepFold/embeddings_0.csv'"
      ]
     },
     "execution_count": 630,
     "metadata": {},
     "output_type": "execute_result"
    }
   ],
   "source": [
    "keys[1]"
   ]
  },
  {
   "cell_type": "code",
   "execution_count": 632,
   "id": "1259d68d",
   "metadata": {},
   "outputs": [
    {
     "data": {
      "text/plain": [
       "'embeddings/DeepFold/embeddings_1.csv'"
      ]
     },
     "execution_count": 632,
     "metadata": {},
     "output_type": "execute_result"
    }
   ],
   "source": [
    "key = gcs.uri_to_bucket_and_key(keys[2])[1]\n",
    "key"
   ]
  },
  {
   "cell_type": "markdown",
   "id": "6af81b13",
   "metadata": {},
   "source": [
    "## Download and Parse DeepFold Embeddings"
   ]
  },
  {
   "cell_type": "code",
   "execution_count": 637,
   "id": "febd6411",
   "metadata": {},
   "outputs": [],
   "source": [
    "# Let me download one and play with it.\n",
    "df_emb = gcs.download_text(key)"
   ]
  },
  {
   "cell_type": "code",
   "execution_count": 638,
   "id": "d085e221",
   "metadata": {},
   "outputs": [],
   "source": [
    "# Decode it then split it into a list.\n",
    "df_emb_decode = df_emb.decode('utf-8').split(\",\")"
   ]
  },
  {
   "cell_type": "code",
   "execution_count": 639,
   "id": "58d668ba",
   "metadata": {},
   "outputs": [
    {
     "data": {
      "text/plain": [
       "1002"
      ]
     },
     "execution_count": 639,
     "metadata": {},
     "output_type": "execute_result"
    }
   ],
   "source": [
    "# 1002 items, where the first few are not just metadata or empty strings\n",
    "len(df_emb_decode)"
   ]
  },
  {
   "cell_type": "code",
   "execution_count": 641,
   "id": "508196f9",
   "metadata": {},
   "outputs": [
    {
     "data": {
      "text/plain": [
       "['protein_id', 'deepfold\\nQ13200']"
      ]
     },
     "execution_count": 641,
     "metadata": {},
     "output_type": "execute_result"
    }
   ],
   "source": [
    "# Item index 2 is where the real data starts. That's the protein name.\n",
    "df_emb_decode[0:2]"
   ]
  },
  {
   "cell_type": "code",
   "execution_count": 642,
   "id": "2932834a",
   "metadata": {
    "scrolled": true
   },
   "outputs": [
    {
     "data": {
      "text/plain": [
       "'\"[5.96747687e-03 0.00000000e+00 1.85894519e-02 0.00000000e+00\\n 0.00000000e+00 0.00000000e+00 1.58412028e-02 6.06489480e-02\\n 1.20269276e-01 0.00000000e+00 1.09242159e-03 0.00000000e+00\\n 3.65636125e-02 2.16107760e-02 0.00000000e+00 2.00002007e-02\\n 0.00000000e+00 2.02822257e-02 4.80303104e-04 0.00000000e+00\\n 1.04048893e-01 0.00000000e+00 3.60421650e-02 4.14775945e-02\\n 1.24980044e-02 0.00000000e+00 6.08191919e-03 1.06642962e-01\\n 2.12292913e-02 3.20112929e-02 9.43305343e-03 7.48014897e-02\\n 0.00000000e+00 0.00000000e+00 2.28349902e-02 0.00000000e+00\\n 7.61815533e-03 1.36520118e-01 1.64051410e-02 0.00000000e+00\\n 8.02622437e-02 0.00000000e+00 4.27073240e-02 2.12408379e-02\\n 9.43467468e-02 0.00000000e+00 2.17287447e-02 0.00000000e+00\\n 3.11355650e-01 0.00000000e+00 1.02889389e-01 0.00000000e+00\\n 1.73968710e-02 0.00000000e+00 0.00000000e+00 2.08255574e-02\\n 8.63376930e-02 0.00000000e+00 0.00000000e+00 0.00000000e+00\\n 3.49744782e-02 2.44668610e-02 0.00000000e+00 8.66087794e-04\\n 0.00000000e+00 0.00000000e+00 0.00000000e+00 3.72517668e-02\\n 0.00000000e+00 1.30015761e-02 3.50680435e-03 7.26943230e-03\\n 3.95493396e-03 0.00000000e+00 0.00000000e+00 4.06903289e-02\\n 0.00000000e+00 0.00000000e+00 3.86578552e-02 3.78003158e-02\\n 0.00000000e+00 0.00000000e+00 7.16043338e-02 0.00000000e+00\\n 1.53659713e-02 4.46790271e-03 0.00000000e+00 2.95771193e-02\\n 0.00000000e+00 4.05450426e-02 3.51133980e-02 8.30523949e-03\\n 0.00000000e+00 8.90856236e-03 0.00000000e+00 0.00000000e+00\\n 4.39219736e-02 1.19738445e-01 7.22180761e-04 0.00000000e+00\\n 0.00000000e+00 0.00000000e+00 0.00000000e+00 0.00000000e+00\\n 2.68717818e-02 1.12248324e-02 0.00000000e+00 2.49648169e-01\\n 0.00000000e+00 1.03685662e-01 0.00000000e+00 0.00000000e+00\\n 2.45898850e-02 7.53316805e-02 0.00000000e+00 0.00000000e+00\\n 0.00000000e+00 3.37492861e-02 1.23415440e-02 4.87685651e-02\\n 9.60413739e-03 0.00000000e+00 0.00000000e+00 6.72549307e-02\\n 0.00000000e+00 7.92232621e-03 6.94530308e-02 0.00000000e+00\\n 1.95043329e-02 9.57372249e-04 6.52151462e-03 8.79133642e-02\\n 0.00000000e+00 4.07006145e-02 1.78024620e-01 2.27451995e-02\\n 3.02024633e-02 0.00000000e+00 5.59366727e-03 1.97925884e-02\\n 5.88811142e-03 0.00000000e+00 7.11646304e-02 0.00000000e+00\\n 3.85841727e-02 0.00000000e+00 4.27229740e-02 0.00000000e+00\\n 0.00000000e+00 8.57448298e-03 0.00000000e+00 4.86068726e-02\\n 4.91077006e-02 6.65387958e-02 0.00000000e+00 0.00000000e+00\\n 0.00000000e+00 2.10466590e-02 2.69399900e-02 1.05340155e-02\\n 0.00000000e+00 0.00000000e+00 7.89804235e-02 1.98458973e-02\\n 0.00000000e+00 0.00000000e+00 2.45066527e-02 3.63514555e-04\\n 7.41487965e-02 0.00000000e+00 9.21040252e-02 3.89232002e-02\\n 4.04971503e-02 0.00000000e+00 0.00000000e+00 0.00000000e+00\\n 2.96805333e-02 5.41049130e-02 8.89976393e-04 6.16084263e-02\\n 0.00000000e+00 2.87028365e-02 0.00000000e+00 1.70812085e-02\\n 0.00000000e+00 0.00000000e+00 0.00000000e+00 0.00000000e+00\\n 1.20444857e-02 0.00000000e+00 3.34237963e-02 0.00000000e+00\\n 0.00000000e+00 3.49483728e-01 0.00000000e+00 0.00000000e+00\\n 0.00000000e+00 0.00000000e+00 4.94216848e-03 0.00000000e+00\\n 2.11763587e-02 0.00000000e+00 0.00000000e+00 1.09250307e-01\\n 1.41890988e-01 3.14039737e-02 4.13463190e-02 6.32410198e-02\\n 3.68425399e-02 0.00000000e+00 5.46771213e-02 5.37594557e-02\\n 0.00000000e+00 0.00000000e+00 4.05846536e-02 7.80269504e-03\\n 1.24121420e-01 1.05868362e-01 4.03077453e-02 0.00000000e+00\\n 0.00000000e+00 0.00000000e+00 0.00000000e+00 0.00000000e+00\\n 0.00000000e+00 0.00000000e+00 6.42612111e-03 0.00000000e+00\\n 0.00000000e+00 0.00000000e+00 0.00000000e+00 9.69582703e-03\\n 0.00000000e+00 1.79910585e-02 5.67480251e-02 5.37353940e-02\\n 4.20335717e-02 6.88398480e-02 0.00000000e+00 0.00000000e+00\\n 8.89536068e-02 0.00000000e+00 3.06087472e-02 1.17267825e-01\\n 9.47439671e-02 1.74272433e-02 0.00000000e+00 0.00000000e+00\\n 4.88971435e-02 1.23915896e-01 0.00000000e+00 0.00000000e+00\\n 0.00000000e+00 0.00000000e+00 0.00000000e+00 4.95867655e-02\\n 0.00000000e+00 2.70830672e-02 0.00000000e+00 0.00000000e+00\\n 0.00000000e+00 3.15911658e-02 5.59028909e-02 0.00000000e+00\\n 4.15417701e-02 7.96199590e-03 1.14690501e-03 0.00000000e+00\\n 1.12165846e-01 1.61382984e-02 0.00000000e+00 9.31469202e-02\\n 0.00000000e+00 0.00000000e+00 7.80988261e-02 0.00000000e+00\\n 0.00000000e+00 0.00000000e+00 6.39517652e-03 1.27170816e-01\\n 3.96030024e-02 0.00000000e+00 0.00000000e+00 2.37302538e-02\\n 8.27282220e-02 2.97079310e-02 0.00000000e+00 0.00000000e+00\\n 7.47050941e-02 0.00000000e+00 0.00000000e+00 0.00000000e+00\\n 0.00000000e+00 3.54626291e-02 0.00000000e+00 0.00000000e+00\\n 0.00000000e+00 0.00000000e+00 1.94631502e-04 3.44930962e-02\\n 0.00000000e+00 4.30598017e-03 0.00000000e+00 0.00000000e+00\\n 0.00000000e+00 3.89382355e-02 3.29387151e-02 2.69750413e-02\\n 0.00000000e+00 2.83682849e-02 2.25523431e-02 0.00000000e+00\\n 0.00000000e+00 0.00000000e+00 6.68439548e-03 0.00000000e+00\\n 4.03391756e-02 0.00000000e+00 1.63763743e-02 0.00000000e+00\\n 7.19794556e-02 0.00000000e+00 4.13057134e-02 0.00000000e+00\\n 9.66075435e-03 8.88964534e-02 1.79216154e-02 0.00000000e+00\\n 0.00000000e+00 0.00000000e+00 6.64666593e-02 0.00000000e+00\\n 4.55237776e-02 6.06298745e-02 7.19166920e-02 8.77549425e-02\\n 0.00000000e+00 1.33093745e-01 0.00000000e+00 4.13569994e-02\\n 0.00000000e+00 6.85409363e-03 3.24337073e-02 0.00000000e+00\\n 4.67700176e-02 0.00000000e+00 0.00000000e+00 6.18921220e-02\\n 8.92968848e-02 0.00000000e+00 1.58347748e-02 1.05527721e-01\\n 0.00000000e+00 9.86492410e-02 1.30000606e-01 0.00000000e+00\\n 0.00000000e+00 1.18506931e-01 1.48150399e-02 6.79469034e-02\\n 2.78865080e-02 0.00000000e+00 0.00000000e+00 0.00000000e+00\\n 4.89133261e-02 1.25673726e-01 0.00000000e+00 9.68237296e-02\\n 0.00000000e+00 0.00000000e+00 0.00000000e+00 2.21586362e-01\\n 9.28993598e-02 0.00000000e+00 0.00000000e+00 8.13360233e-03\\n 0.00000000e+00 0.00000000e+00 0.00000000e+00 0.00000000e+00\\n 0.00000000e+00 0.00000000e+00 0.00000000e+00 9.21606552e-03\\n 9.53295752e-02 4.93375473e-02 0.00000000e+00 3.43420804e-02\\n 0.00000000e+00 1.25080394e-02 0.00000000e+00 0.00000000e+00\\n 4.10412475e-02 0.00000000e+00 0.00000000e+00 0.00000000e+00\\n 0.00000000e+00 0.00000000e+00]\"\\nA4UGR9'"
      ]
     },
     "execution_count": 642,
     "metadata": {},
     "output_type": "execute_result"
    }
   ],
   "source": [
    "df_emb_decode[3]"
   ]
  },
  {
   "cell_type": "code",
   "execution_count": 643,
   "id": "fbdce6d1",
   "metadata": {},
   "outputs": [],
   "source": [
    "# Let's figure out how to parse the DeepFold embedding. \n",
    "# There's a lot of funny stuff in here.\n",
    "# First, get rid of the file number at the end and just keep the vector\n",
    "\n",
    "sample_emb = df_emb_decode[3].rsplit('\\n', 1)[0]"
   ]
  },
  {
   "cell_type": "code",
   "execution_count": 648,
   "id": "4cbfbe93",
   "metadata": {},
   "outputs": [
    {
     "data": {
      "text/plain": [
       "'\"[5.96747687e-03 0.00000000e+00 1.858945'"
      ]
     },
     "execution_count": 648,
     "metadata": {},
     "output_type": "execute_result"
    }
   ],
   "source": [
    "sample_emb[0:40]"
   ]
  },
  {
   "cell_type": "code",
   "execution_count": 651,
   "id": "21a0c662",
   "metadata": {
    "scrolled": true
   },
   "outputs": [
    {
     "data": {
      "text/plain": [
       "array([5.96747687e-03, 0.00000000e+00, 1.85894519e-02, 0.00000000e+00,\n",
       "       0.00000000e+00, 0.00000000e+00, 1.58412028e-02, 6.06489480e-02,\n",
       "       1.20269276e-01, 0.00000000e+00, 1.09242159e-03, 0.00000000e+00,\n",
       "       3.65636125e-02, 2.16107760e-02, 0.00000000e+00, 2.00002007e-02,\n",
       "       0.00000000e+00, 2.02822257e-02, 4.80303104e-04, 0.00000000e+00,\n",
       "       1.04048893e-01, 0.00000000e+00, 3.60421650e-02, 4.14775945e-02,\n",
       "       1.24980044e-02, 0.00000000e+00, 6.08191919e-03, 1.06642962e-01,\n",
       "       2.12292913e-02, 3.20112929e-02, 9.43305343e-03, 7.48014897e-02,\n",
       "       0.00000000e+00, 0.00000000e+00, 2.28349902e-02, 0.00000000e+00,\n",
       "       7.61815533e-03, 1.36520118e-01, 1.64051410e-02, 0.00000000e+00,\n",
       "       8.02622437e-02, 0.00000000e+00, 4.27073240e-02, 2.12408379e-02,\n",
       "       9.43467468e-02, 0.00000000e+00, 2.17287447e-02, 0.00000000e+00,\n",
       "       3.11355650e-01, 0.00000000e+00, 1.02889389e-01, 0.00000000e+00,\n",
       "       1.73968710e-02, 0.00000000e+00, 0.00000000e+00, 2.08255574e-02,\n",
       "       8.63376930e-02, 0.00000000e+00, 0.00000000e+00, 0.00000000e+00,\n",
       "       3.49744782e-02, 2.44668610e-02, 0.00000000e+00, 8.66087794e-04,\n",
       "       0.00000000e+00, 0.00000000e+00, 0.00000000e+00, 3.72517668e-02,\n",
       "       0.00000000e+00, 1.30015761e-02, 3.50680435e-03, 7.26943230e-03,\n",
       "       3.95493396e-03, 0.00000000e+00, 0.00000000e+00, 4.06903289e-02,\n",
       "       0.00000000e+00, 0.00000000e+00, 3.86578552e-02, 3.78003158e-02,\n",
       "       0.00000000e+00, 0.00000000e+00, 7.16043338e-02, 0.00000000e+00,\n",
       "       1.53659713e-02, 4.46790271e-03, 0.00000000e+00, 2.95771193e-02,\n",
       "       0.00000000e+00, 4.05450426e-02, 3.51133980e-02, 8.30523949e-03,\n",
       "       0.00000000e+00, 8.90856236e-03, 0.00000000e+00, 0.00000000e+00,\n",
       "       4.39219736e-02, 1.19738445e-01, 7.22180761e-04, 0.00000000e+00,\n",
       "       0.00000000e+00, 0.00000000e+00, 0.00000000e+00, 0.00000000e+00,\n",
       "       2.68717818e-02, 1.12248324e-02, 0.00000000e+00, 2.49648169e-01,\n",
       "       0.00000000e+00, 1.03685662e-01, 0.00000000e+00, 0.00000000e+00,\n",
       "       2.45898850e-02, 7.53316805e-02, 0.00000000e+00, 0.00000000e+00,\n",
       "       0.00000000e+00, 3.37492861e-02, 1.23415440e-02, 4.87685651e-02,\n",
       "       9.60413739e-03, 0.00000000e+00, 0.00000000e+00, 6.72549307e-02,\n",
       "       0.00000000e+00, 7.92232621e-03, 6.94530308e-02, 0.00000000e+00,\n",
       "       1.95043329e-02, 9.57372249e-04, 6.52151462e-03, 8.79133642e-02,\n",
       "       0.00000000e+00, 4.07006145e-02, 1.78024620e-01, 2.27451995e-02,\n",
       "       3.02024633e-02, 0.00000000e+00, 5.59366727e-03, 1.97925884e-02,\n",
       "       5.88811142e-03, 0.00000000e+00, 7.11646304e-02, 0.00000000e+00,\n",
       "       3.85841727e-02, 0.00000000e+00, 4.27229740e-02, 0.00000000e+00,\n",
       "       0.00000000e+00, 8.57448298e-03, 0.00000000e+00, 4.86068726e-02,\n",
       "       4.91077006e-02, 6.65387958e-02, 0.00000000e+00, 0.00000000e+00,\n",
       "       0.00000000e+00, 2.10466590e-02, 2.69399900e-02, 1.05340155e-02,\n",
       "       0.00000000e+00, 0.00000000e+00, 7.89804235e-02, 1.98458973e-02,\n",
       "       0.00000000e+00, 0.00000000e+00, 2.45066527e-02, 3.63514555e-04,\n",
       "       7.41487965e-02, 0.00000000e+00, 9.21040252e-02, 3.89232002e-02,\n",
       "       4.04971503e-02, 0.00000000e+00, 0.00000000e+00, 0.00000000e+00,\n",
       "       2.96805333e-02, 5.41049130e-02, 8.89976393e-04, 6.16084263e-02,\n",
       "       0.00000000e+00, 2.87028365e-02, 0.00000000e+00, 1.70812085e-02,\n",
       "       0.00000000e+00, 0.00000000e+00, 0.00000000e+00, 0.00000000e+00,\n",
       "       1.20444857e-02, 0.00000000e+00, 3.34237963e-02, 0.00000000e+00,\n",
       "       0.00000000e+00, 3.49483728e-01, 0.00000000e+00, 0.00000000e+00,\n",
       "       0.00000000e+00, 0.00000000e+00, 4.94216848e-03, 0.00000000e+00,\n",
       "       2.11763587e-02, 0.00000000e+00, 0.00000000e+00, 1.09250307e-01,\n",
       "       1.41890988e-01, 3.14039737e-02, 4.13463190e-02, 6.32410198e-02,\n",
       "       3.68425399e-02, 0.00000000e+00, 5.46771213e-02, 5.37594557e-02,\n",
       "       0.00000000e+00, 0.00000000e+00, 4.05846536e-02, 7.80269504e-03,\n",
       "       1.24121420e-01, 1.05868362e-01, 4.03077453e-02, 0.00000000e+00,\n",
       "       0.00000000e+00, 0.00000000e+00, 0.00000000e+00, 0.00000000e+00,\n",
       "       0.00000000e+00, 0.00000000e+00, 6.42612111e-03, 0.00000000e+00,\n",
       "       0.00000000e+00, 0.00000000e+00, 0.00000000e+00, 9.69582703e-03,\n",
       "       0.00000000e+00, 1.79910585e-02, 5.67480251e-02, 5.37353940e-02,\n",
       "       4.20335717e-02, 6.88398480e-02, 0.00000000e+00, 0.00000000e+00,\n",
       "       8.89536068e-02, 0.00000000e+00, 3.06087472e-02, 1.17267825e-01,\n",
       "       9.47439671e-02, 1.74272433e-02, 0.00000000e+00, 0.00000000e+00,\n",
       "       4.88971435e-02, 1.23915896e-01, 0.00000000e+00, 0.00000000e+00,\n",
       "       0.00000000e+00, 0.00000000e+00, 0.00000000e+00, 4.95867655e-02,\n",
       "       0.00000000e+00, 2.70830672e-02, 0.00000000e+00, 0.00000000e+00,\n",
       "       0.00000000e+00, 3.15911658e-02, 5.59028909e-02, 0.00000000e+00,\n",
       "       4.15417701e-02, 7.96199590e-03, 1.14690501e-03, 0.00000000e+00,\n",
       "       1.12165846e-01, 1.61382984e-02, 0.00000000e+00, 9.31469202e-02,\n",
       "       0.00000000e+00, 0.00000000e+00, 7.80988261e-02, 0.00000000e+00,\n",
       "       0.00000000e+00, 0.00000000e+00, 6.39517652e-03, 1.27170816e-01,\n",
       "       3.96030024e-02, 0.00000000e+00, 0.00000000e+00, 2.37302538e-02,\n",
       "       8.27282220e-02, 2.97079310e-02, 0.00000000e+00, 0.00000000e+00,\n",
       "       7.47050941e-02, 0.00000000e+00, 0.00000000e+00, 0.00000000e+00,\n",
       "       0.00000000e+00, 3.54626291e-02, 0.00000000e+00, 0.00000000e+00,\n",
       "       0.00000000e+00, 0.00000000e+00, 1.94631502e-04, 3.44930962e-02,\n",
       "       0.00000000e+00, 4.30598017e-03, 0.00000000e+00, 0.00000000e+00,\n",
       "       0.00000000e+00, 3.89382355e-02, 3.29387151e-02, 2.69750413e-02,\n",
       "       0.00000000e+00, 2.83682849e-02, 2.25523431e-02, 0.00000000e+00,\n",
       "       0.00000000e+00, 0.00000000e+00, 6.68439548e-03, 0.00000000e+00,\n",
       "       4.03391756e-02, 0.00000000e+00, 1.63763743e-02, 0.00000000e+00,\n",
       "       7.19794556e-02, 0.00000000e+00, 4.13057134e-02, 0.00000000e+00,\n",
       "       9.66075435e-03, 8.88964534e-02, 1.79216154e-02, 0.00000000e+00,\n",
       "       0.00000000e+00, 0.00000000e+00, 6.64666593e-02, 0.00000000e+00,\n",
       "       4.55237776e-02, 6.06298745e-02, 7.19166920e-02, 8.77549425e-02,\n",
       "       0.00000000e+00, 1.33093745e-01, 0.00000000e+00, 4.13569994e-02,\n",
       "       0.00000000e+00, 6.85409363e-03, 3.24337073e-02, 0.00000000e+00,\n",
       "       4.67700176e-02, 0.00000000e+00, 0.00000000e+00, 6.18921220e-02,\n",
       "       8.92968848e-02, 0.00000000e+00, 1.58347748e-02, 1.05527721e-01,\n",
       "       0.00000000e+00, 9.86492410e-02, 1.30000606e-01, 0.00000000e+00,\n",
       "       0.00000000e+00, 1.18506931e-01, 1.48150399e-02, 6.79469034e-02,\n",
       "       2.78865080e-02, 0.00000000e+00, 0.00000000e+00, 0.00000000e+00,\n",
       "       4.89133261e-02, 1.25673726e-01, 0.00000000e+00, 9.68237296e-02,\n",
       "       0.00000000e+00, 0.00000000e+00, 0.00000000e+00, 2.21586362e-01,\n",
       "       9.28993598e-02, 0.00000000e+00, 0.00000000e+00, 8.13360233e-03,\n",
       "       0.00000000e+00, 0.00000000e+00, 0.00000000e+00, 0.00000000e+00,\n",
       "       0.00000000e+00, 0.00000000e+00, 0.00000000e+00, 9.21606552e-03,\n",
       "       9.53295752e-02, 4.93375473e-02, 0.00000000e+00, 3.43420804e-02,\n",
       "       0.00000000e+00, 1.25080394e-02, 0.00000000e+00, 0.00000000e+00,\n",
       "       4.10412475e-02, 0.00000000e+00, 0.00000000e+00, 0.00000000e+00,\n",
       "       0.00000000e+00, 0.00000000e+00])"
      ]
     },
     "execution_count": 651,
     "metadata": {},
     "output_type": "execute_result"
    }
   ],
   "source": [
    "# Now get rid of the double quotes and brackets to just get the values of the array\n",
    "\n",
    "sample_emb_np = np.array(sample_emb[2:-2].split()).astype(float)\n",
    "sample_emb_np"
   ]
  },
  {
   "cell_type": "code",
   "execution_count": 652,
   "id": "5327a0ed",
   "metadata": {},
   "outputs": [
    {
     "data": {
      "text/plain": [
       "(398,)"
      ]
     },
     "execution_count": 652,
     "metadata": {},
     "output_type": "execute_result"
    }
   ],
   "source": [
    "# Size is as expected \n",
    "\n",
    "sample_emb_np.shape"
   ]
  },
  {
   "cell_type": "code",
   "execution_count": 686,
   "id": "d53c128b",
   "metadata": {},
   "outputs": [
    {
     "data": {
      "text/plain": [
       "398"
      ]
     },
     "execution_count": 686,
     "metadata": {},
     "output_type": "execute_result"
    }
   ],
   "source": [
    "len(sample_emb_np)"
   ]
  },
  {
   "cell_type": "code",
   "execution_count": null,
   "id": "22b6ff90",
   "metadata": {},
   "outputs": [],
   "source": []
  },
  {
   "cell_type": "code",
   "execution_count": 696,
   "id": "e9bc8ea4",
   "metadata": {},
   "outputs": [],
   "source": [
    "def protein_file_processor(key):\n",
    "    i = 2\n",
    "    X = np.empty((0,398), dtype=float)\n",
    "    protein = np.empty((0,1), dtype=str)\n",
    "\n",
    "    df_emb_decode = gcs.download_text(key).decode('utf-8').split(\",\")    \n",
    "    \n",
    "    # If any embedding hasn't been generated, then put it into missing \n",
    "    missing_protein=[]\n",
    "\n",
    "    while i < len(df_emb_decode):\n",
    "        pair = df_emb_decode[i].rsplit('\\n', 1)\n",
    "        # parse feature vec. Remove double quotes and brackets. Split and cast as float.\n",
    "        feature_vec = np.array(pair[0][2:-2].split()).astype(float)\n",
    "        protein_id = pair[1]\n",
    "\n",
    "        # Only take the vector if we have a feature vec of length 398 \n",
    "        if len(feature_vec) != 398:\n",
    "            missing_protein.append(protein_id)\n",
    "            i+=1\n",
    "            continue\n",
    "\n",
    "        X = np.concatenate((X, feature_vec.reshape(1,398)))\n",
    "        protein = np.append(protein, protein_id)\n",
    "        i+=1\n",
    "    \n",
    "    return X, protein, missing_protein \n"
   ]
  },
  {
   "cell_type": "code",
   "execution_count": 743,
   "id": "918d77c8",
   "metadata": {},
   "outputs": [],
   "source": [
    "X, protein, missing_protein = protein_file_processor(key)"
   ]
  },
  {
   "cell_type": "code",
   "execution_count": 744,
   "id": "fd0fbc25",
   "metadata": {},
   "outputs": [
    {
     "name": "stdout",
     "output_type": "stream",
     "text": [
      "(991, 398)\n",
      "(991,)\n",
      "9\n"
     ]
    }
   ],
   "source": [
    "print(X.shape)\n",
    "print(protein.shape)\n",
    "print(len(missing_protein))"
   ]
  },
  {
   "cell_type": "markdown",
   "id": "5b1f4437",
   "metadata": {},
   "source": [
    "# Clustering"
   ]
  },
  {
   "cell_type": "code",
   "execution_count": 699,
   "id": "4dfcba3a",
   "metadata": {},
   "outputs": [],
   "source": [
    "from sklearn.cluster import DBSCAN\n",
    "clustering = DBSCAN(eps=0.5, min_samples=5).fit(X)"
   ]
  },
  {
   "cell_type": "code",
   "execution_count": 700,
   "id": "8e893576",
   "metadata": {},
   "outputs": [
    {
     "name": "stdout",
     "output_type": "stream",
     "text": [
      "[[ -1 540]\n",
      " [  0 405]\n",
      " [  1  19]\n",
      " [  2  17]\n",
      " [  3   5]]\n"
     ]
    }
   ],
   "source": [
    "print(np.asarray(np.unique(clustering.labels_, return_counts=True)).T)"
   ]
  },
  {
   "cell_type": "markdown",
   "id": "be793a13",
   "metadata": {},
   "source": [
    "---\n",
    "\n",
    "# Hyperparam tuning\n",
    "\n",
    "Next steps for me:\n",
    "1. I’m going to add in some form of evaluation metrics. Exploring using BLAST or other more traditional cluster evaluation techniques like the Elbow method. Then I’ll try to figure out what a reasonable outcome means and how to optimize for it.\n",
    "1. I’ll write the code to tune the hyperparams.\n",
    "1. Finally, I am going to write a .py file to download all the proteins and run a DB scan on all the proteins, then tune the hyperparams."
   ]
  },
  {
   "cell_type": "markdown",
   "id": "2da527e9",
   "metadata": {},
   "source": [
    "## Ideal number of clusters for the data\n",
    "\n",
    "\n",
    "DBSCAN takes two inputs: `eps` and `min_samples`. Since this is an unsupervised model, here are some validity functions I can use to determine the right hyperparam values. \n",
    "\n",
    "First, let me try the Silhouette coefficient."
   ]
  },
  {
   "cell_type": "code",
   "execution_count": 701,
   "id": "af47c332",
   "metadata": {},
   "outputs": [],
   "source": [
    "from sklearn.metrics import silhouette_samples, silhouette_score\n"
   ]
  },
  {
   "cell_type": "code",
   "execution_count": 702,
   "id": "e292eda1",
   "metadata": {
    "scrolled": true
   },
   "outputs": [
    {
     "name": "stdout",
     "output_type": "stream",
     "text": [
      "min_samples = 5: 0.15547580995368857\n",
      "min_samples = 10: 0.15951951421274593\n",
      "min_samples = 15: 0.16128840631626357\n",
      "min_samples = 20: 0.16178131410768568\n",
      "min_samples = 25: 0.16224428994449333\n",
      "min_samples = 30: 0.16224428994449333\n",
      "min_samples = 35: 0.16224428994449333\n",
      "min_samples = 40: 0.16224428994449333\n",
      "min_samples = 45: 0.16140126621833725\n",
      "min_samples = 50: 0.16140126621833725\n",
      "min_samples = 55: 0.1607021447052012\n",
      "min_samples = 60: 0.161718420016649\n",
      "min_samples = 65: 0.16189488788086173\n",
      "min_samples = 70: 0.16173836322297142\n",
      "min_samples = 75: 0.16173836322297142\n",
      "min_samples = 80: 0.16173836322297142\n",
      "min_samples = 85: 0.16185411745587697\n",
      "min_samples = 90: 0.16185411745587697\n",
      "min_samples = 95: 0.16185411745587697\n",
      "min_samples = 100: 0.16185411745587697\n",
      "min_samples = 105: 0.16240360182963584\n",
      "min_samples = 110: 0.16206755944009069\n",
      "min_samples = 115: 0.16206755944009069\n",
      "min_samples = 120: 0.16206755944009069\n",
      "min_samples = 125: 0.16206755944009069\n",
      "min_samples = 130: 0.16145426704572186\n",
      "min_samples = 135: 0.16145426704572186\n",
      "min_samples = 140: 0.16145426704572186\n",
      "min_samples = 145: 0.16145426704572186\n",
      "min_samples = 150: 0.16145426704572186\n",
      "min_samples = 155: 0.16145426704572186\n",
      "min_samples = 160: 0.16145426704572186\n",
      "min_samples = 165: 0.16145426704572186\n",
      "min_samples = 170: 0.16145426704572186\n",
      "min_samples = 175: 0.16145426704572186\n",
      "min_samples = 180: 0.16147480816206922\n",
      "min_samples = 185: 0.16174550306017713\n",
      "min_samples = 190: 0.16174550306017713\n",
      "min_samples = 195: 0.16174550306017713\n"
     ]
    }
   ],
   "source": [
    "# Let's just use my data from above, where the size is 987.\n",
    "range_min_samples = range(5, 200, 5)\n",
    "\n",
    "for n in range_min_samples:\n",
    "    clustering = DBSCAN(eps=1, min_samples=n).fit(X)\n",
    "    cluster_labels = clustering.labels_\n",
    "    \n",
    "    silhouette_avg = silhouette_score(X, cluster_labels)\n",
    "    print(\"min_samples = \" + str(n) + \":\", str(silhouette_avg))\n",
    "    \n",
    "    sample_silhouette_values = silhouette_samples(X, cluster_labels)"
   ]
  },
  {
   "cell_type": "code",
   "execution_count": 703,
   "id": "c8a5e3f4",
   "metadata": {},
   "outputs": [
    {
     "data": {
      "text/plain": [
       "(986,)"
      ]
     },
     "execution_count": 703,
     "metadata": {},
     "output_type": "execute_result"
    }
   ],
   "source": [
    "sample_silhouette_values.shape"
   ]
  },
  {
   "cell_type": "markdown",
   "id": "cc53e03a",
   "metadata": {},
   "source": [
    "## Euclidean distances between points\n",
    "\n",
    "The parameter `eps` in DBSCAN represents the distance threshold below which the two points are considered neighbors to each other. I have no idea what the range of distances look like, so let me find out. \n",
    "\n",
    "A thorough way to do this is to find out the distance between every point and every other point. Given I have 1,000 points, I'll get 1,000^2 distances. It's OK to do with 1,000 points but may cause an issue with 23,000. We'll see.\n",
    "\n",
    "Let me do the proper way first. Then, if I need to optimize it later, I'll sample and find the epsilons from the 23,000 full dataset."
   ]
  },
  {
   "cell_type": "code",
   "execution_count": 704,
   "id": "4abacff3",
   "metadata": {},
   "outputs": [
    {
     "data": {
      "text/plain": [
       "(986, 398)"
      ]
     },
     "execution_count": 704,
     "metadata": {},
     "output_type": "execute_result"
    }
   ],
   "source": [
    "X.shape"
   ]
  },
  {
   "cell_type": "markdown",
   "id": "c4c71bff",
   "metadata": {},
   "source": [
    "`sklearn.metrics.pairwise.euclidean_distances` calculates the euclidean distance between a pair of row vector x and y is computed as:\n",
    "```dist(x, y) = sqrt(dot(x, x) - 2 * dot(x, y) + dot(y, y))```\n",
    "\n",
    "> However, this is not the most precise way of doing this computation, because this equation potentially suffers from “catastrophic cancellation”. Also, the distance matrix returned by this function may not be exactly symmetric as required by, e.g., scipy.spatial.distance functions.\n",
    "\n",
    "Not sure what that means, but I'll figure it out.\n",
    "\n",
    "[source](https://scikit-learn.org/stable/modules/generated/sklearn.metrics.pairwise.euclidean_distances.html)"
   ]
  },
  {
   "cell_type": "code",
   "execution_count": 705,
   "id": "9b7373f8",
   "metadata": {},
   "outputs": [
    {
     "data": {
      "text/plain": [
       "(986, 986)"
      ]
     },
     "execution_count": 705,
     "metadata": {},
     "output_type": "execute_result"
    }
   ],
   "source": [
    "from sklearn.metrics.pairwise import euclidean_distances\n",
    "ed = euclidean_distances(X, X)\n",
    "ed.shape"
   ]
  },
  {
   "cell_type": "markdown",
   "id": "250b4cca",
   "metadata": {},
   "source": [
    "So now I have a 986 by 986 matrix."
   ]
  },
  {
   "cell_type": "code",
   "execution_count": 706,
   "id": "c80f0169",
   "metadata": {},
   "outputs": [
    {
     "data": {
      "text/plain": [
       "0.0"
      ]
     },
     "execution_count": 706,
     "metadata": {},
     "output_type": "execute_result"
    }
   ],
   "source": [
    "min_ed = np.min(ed)\n",
    "min_ed"
   ]
  },
  {
   "cell_type": "code",
   "execution_count": 387,
   "id": "981d0a08",
   "metadata": {},
   "outputs": [
    {
     "data": {
      "text/plain": [
       "1.4114782477784376"
      ]
     },
     "execution_count": 387,
     "metadata": {},
     "output_type": "execute_result"
    }
   ],
   "source": [
    "max_ed = np.max(ed)\n",
    "max_ed"
   ]
  },
  {
   "cell_type": "code",
   "execution_count": 384,
   "id": "071b4697",
   "metadata": {},
   "outputs": [
    {
     "data": {
      "text/plain": [
       "1.203486147373727"
      ]
     },
     "execution_count": 384,
     "metadata": {},
     "output_type": "execute_result"
    }
   ],
   "source": [
    "np.median(ed)"
   ]
  },
  {
   "cell_type": "code",
   "execution_count": 394,
   "id": "cd88e849",
   "metadata": {},
   "outputs": [
    {
     "data": {
      "image/png": "[encoded data removed]",
      "text/plain": [
       "<Figure size 432x288 with 1 Axes>"
      ]
     },
     "metadata": {
      "needs_background": "light"
     },
     "output_type": "display_data"
    }
   ],
   "source": [
    "import matplotlib.pyplot as plt\n",
    "\n",
    "plt.scatter(range(0,987**2), np.sort(ed.flatten()))\n",
    "plt.axvline(987**2/2)\n",
    "plt.show()"
   ]
  },
  {
   "cell_type": "markdown",
   "id": "f204a5df",
   "metadata": {},
   "source": [
    "The euclidean distance among my 987 proteins range from 0 to 1.41, median is about 1.2. If I expect there to be 10-50 clusters within a dataset of 1,000 proteins, then I think my epsilon has got to be much smaller than this median. "
   ]
  },
  {
   "cell_type": "markdown",
   "id": "b2fc78b7",
   "metadata": {},
   "source": [
    "Try different epsilons now."
   ]
  },
  {
   "cell_type": "code",
   "execution_count": 395,
   "id": "9cf11aa5",
   "metadata": {},
   "outputs": [
    {
     "name": "stdout",
     "output_type": "stream",
     "text": [
      "eps = 0.1: Everything is a noise!\n",
      "eps = 0.2: -0.0065\n",
      "eps = 0.3: -0.1116\n",
      "eps = 0.4: 0.0274\n",
      "eps = 0.5: 0.0745\n",
      "eps = 0.6: 0.1006\n",
      "eps = 0.7: 0.0621\n",
      "eps = 0.8: 0.0858\n",
      "eps = 0.9: 0.0836\n",
      "eps = 1.0: 0.0923\n"
     ]
    }
   ],
   "source": [
    "range_eps = np.linspace(start=0.1, stop=1.0, num=10)\n",
    "\n",
    "for n in range_eps:\n",
    "    clustering = DBSCAN(eps=n, min_samples=10).fit(X)\n",
    "    cluster_labels = clustering.labels_\n",
    "    \n",
    "    if len(np.unique(cluster_labels))==1:\n",
    "        print(\"eps = \" + str(round(n, 2)) + \": Everything is a noise!\")\n",
    "    else:\n",
    "        silhouette_avg = silhouette_score(X, cluster_labels)\n",
    "        print(\"eps = \" + str(round(n, 2)) + \":\", \n",
    "              str(round(silhouette_avg, 4)))\n",
    "\n",
    "        sample_silhouette_values = silhouette_samples(X, cluster_labels)"
   ]
  },
  {
   "cell_type": "markdown",
   "id": "6141270e",
   "metadata": {},
   "source": [
    "Now let's try doing a manual grid search. We want to maximize the silouette score."
   ]
  },
  {
   "cell_type": "code",
   "execution_count": 597,
   "id": "3b7b4fb2",
   "metadata": {},
   "outputs": [],
   "source": [
    "range_eps = np.linspace(start=0.1, stop=1.0, num=10)\n",
    "range_min_samples = range(10, 200, 10)\n",
    "\n",
    "from sklearn.metrics import davies_bouldin_score\n",
    "\n",
    "\n",
    "def dbscan_gridsearch(X, range_eps, range_min_samples):\n",
    "    search_results = []\n",
    "    for i in range_eps:\n",
    "        for j in range_min_samples:\n",
    "            clustering = DBSCAN(eps=i, min_samples=j).fit(X)\n",
    "            cluster_labels = clustering.labels_\n",
    "\n",
    "            if len(np.unique(cluster_labels))==1:\n",
    "                print(\"eps=\" + str(round(i, 2)) + \", min_samples=\" + str(j)  \n",
    "                      + \": Everything is a noise!\")\n",
    "            else:\n",
    "                sil_sc = silhouette_score(X, cluster_labels)\n",
    "                db_sc = davies_bouldin_score(X, cluster_labels)\n",
    "                print(\"eps=\" + str(round(i, 2)) \n",
    "                      + \" | min_samples=\" + str(j) \n",
    "                      + \" | Silhouette \"+ str(round(sil_sc, 4))\n",
    "                      + \" | DB sc \"+ str(round(db_sc, 4)))\n",
    "                search_results.append(((i, j), sil_sc, db_sc))\n",
    "\n",
    "    return sorted(search_results, key=lambda x: x[1], reverse=True)\n",
    "\n"
   ]
  },
  {
   "cell_type": "code",
   "execution_count": null,
   "id": "de28c9d3",
   "metadata": {},
   "outputs": [],
   "source": [
    "search_results = dbscan_gridsearch(X, range_eps, range_min_samples)"
   ]
  },
  {
   "cell_type": "code",
   "execution_count": 408,
   "id": "9b00f0d9",
   "metadata": {
    "scrolled": true
   },
   "outputs": [
    {
     "data": {
      "text/plain": [
       "[((0.6, 10), 0.10062334395122446),\n",
       " ((1.0, 180), 0.10019600298927343),\n",
       " ((1.0, 90), 0.10008703778391964),\n",
       " ((1.0, 170), 0.09996879475275447),\n",
       " ((1.0, 160), 0.09994635643362708),\n",
       " ((1.0, 190), 0.099843383104516),\n",
       " ((1.0, 120), 0.09975458237952906),\n",
       " ((1.0, 150), 0.09968969400558335),\n",
       " ((0.9, 30), 0.09966479716754044),\n",
       " ((1.0, 130), 0.09957527231470707),\n",
       " ((1.0, 110), 0.09945751277936156),\n",
       " ((1.0, 140), 0.09940835589336891),\n",
       " ((1.0, 100), 0.09867890593139018),\n",
       " ((1.0, 80), 0.09777008789765693),\n",
       " ((1.0, 70), 0.09736258993747669),\n",
       " ((1.0, 50), 0.0965156529388127),\n",
       " ((0.9, 60), 0.09642652017197094),\n",
       " ((0.9, 190), 0.09629273988643941),\n",
       " ((0.9, 180), 0.09625210701405415),\n",
       " ((0.9, 80), 0.09624053687037468),\n",
       " ((1.0, 40), 0.09623713712167237),\n",
       " ((1.0, 60), 0.09615374573902442),\n",
       " ((0.9, 50), 0.09614604537402098),\n",
       " ((0.9, 100), 0.09604364933028252),\n",
       " ((0.9, 70), 0.09601265971793706),\n",
       " ((0.9, 110), 0.0959877864207942),\n",
       " ((0.9, 120), 0.0959877864207942),\n",
       " ((0.9, 130), 0.09568807086067671),\n",
       " ((0.9, 90), 0.09558881716396911),\n",
       " ((0.9, 140), 0.09528522336695115),\n",
       " ((1.0, 30), 0.09522166192796085),\n",
       " ((0.9, 150), 0.09503497211369637),\n",
       " ((0.9, 160), 0.0943294775527959),\n",
       " ((0.9, 170), 0.09431104914239828),\n",
       " ((0.9, 40), 0.09425259628553623),\n",
       " ((0.7000000000000001, 30), 0.09316984145452059),\n",
       " ((1.0, 20), 0.09302338428730225),\n",
       " ((1.0, 10), 0.09233013108149128),\n",
       " ((0.8, 70), 0.0894383882122932),\n",
       " ((0.8, 80), 0.0894383882122932),\n",
       " ((0.8, 90), 0.08925748559910748),\n",
       " ((0.8, 20), 0.0887984125995101),\n",
       " ((0.8, 110), 0.08852429123141344),\n",
       " ((0.6, 20), 0.0884427665184617),\n",
       " ((0.8, 100), 0.08816785728402195),\n",
       " ((0.8, 120), 0.08812998361683541),\n",
       " ((0.8, 50), 0.08783809720135012),\n",
       " ((0.8, 60), 0.087516093844652),\n",
       " ((0.8, 130), 0.08743258086719122),\n",
       " ((0.9, 20), 0.08671854304898358),\n",
       " ((0.8, 140), 0.08611593113537899),\n",
       " ((0.8, 10), 0.08580494567198423),\n",
       " ((0.8, 40), 0.08500632042546427),\n",
       " ((0.8, 150), 0.08377898456393858),\n",
       " ((0.9, 10), 0.08364157872797186),\n",
       " ((0.8, 160), 0.08237978194902354),\n",
       " ((0.7000000000000001, 20), 0.08143245834278721),\n",
       " ((0.8, 30), 0.08090847673021784),\n",
       " ((0.8, 170), 0.08042893778744142),\n",
       " ((0.8, 180), 0.07736597071942786),\n",
       " ((0.8, 190), 0.0745449913892438),\n",
       " ((0.5, 10), 0.07450913693659045),\n",
       " ((0.7000000000000001, 40), 0.07242905511483597),\n",
       " ((0.7000000000000001, 50), 0.07175719268446591),\n",
       " ((0.6, 30), 0.0708165334448621),\n",
       " ((0.7000000000000001, 60), 0.07057925785039873),\n",
       " ((0.7000000000000001, 70), 0.0681160626907938),\n",
       " ((0.7000000000000001, 80), 0.06741546562545431),\n",
       " ((0.7000000000000001, 90), 0.0668495409033933),\n",
       " ((0.7000000000000001, 100), 0.0656993480796814),\n",
       " ((0.7000000000000001, 110), 0.06401415558005957),\n",
       " ((0.7000000000000001, 10), 0.06209544850147582),\n",
       " ((0.7000000000000001, 120), 0.05971430948199135),\n",
       " ((0.5, 20), 0.05706958932630636),\n",
       " ((0.7000000000000001, 130), 0.05436852094063774),\n",
       " ((0.6, 40), 0.049610092397126875),\n",
       " ((0.6, 50), 0.047275583548978775),\n",
       " ((0.6, 60), 0.043461580431662844),\n",
       " ((0.6, 70), 0.04292896398138327),\n",
       " ((0.6, 80), 0.041480747213307224),\n",
       " ((0.6, 100), 0.03378010368857992),\n",
       " ((0.7000000000000001, 140), 0.032526636219244176),\n",
       " ((0.5, 50), 0.02979400561983962),\n",
       " ((0.5, 60), 0.02892983015133575),\n",
       " ((0.4, 10), 0.027426074024788145),\n",
       " ((0.5, 30), 0.022949286539875532),\n",
       " ((0.7000000000000001, 150), 0.016312563672737944),\n",
       " ((0.4, 30), 0.014656130401514192),\n",
       " ((0.4, 40), 0.012087344073204633),\n",
       " ((0.6, 90), 0.005820626625563744),\n",
       " ((0.4, 20), 0.004003411838789628),\n",
       " ((0.2, 10), -0.00651389697387488),\n",
       " ((0.5, 40), -0.011991889562644756),\n",
       " ((0.30000000000000004, 10), -0.1115815565893576)]"
      ]
     },
     "execution_count": 408,
     "metadata": {},
     "output_type": "execute_result"
    }
   ],
   "source": [
    "search_results"
   ]
  },
  {
   "cell_type": "markdown",
   "id": "c9837cf7",
   "metadata": {},
   "source": [
    "Looks like the winner is: `eps=0.6, min_samples=10`\n",
    "\n",
    "Now that we have a working grid search of sorts, let's try working on the entire dataset."
   ]
  },
  {
   "cell_type": "markdown",
   "id": "e92e7443",
   "metadata": {},
   "source": [
    "# Full dataset"
   ]
  },
  {
   "cell_type": "code",
   "execution_count": 633,
   "id": "fa03a22e",
   "metadata": {},
   "outputs": [
    {
     "data": {
      "text/plain": [
       "21"
      ]
     },
     "execution_count": 633,
     "metadata": {},
     "output_type": "execute_result"
    }
   ],
   "source": [
    "# This is the list of file paths in gcs \n",
    "len(keys[1:])"
   ]
  },
  {
   "cell_type": "code",
   "execution_count": 766,
   "id": "ef06b870",
   "metadata": {
    "scrolled": true
   },
   "outputs": [
    {
     "name": "stdout",
     "output_type": "stream",
     "text": [
      "embeddings/DeepFold/embeddings_0.csv missing 14\n",
      "embeddings/DeepFold/embeddings_1.csv missing 10\n",
      "embeddings/DeepFold/embeddings_10.csv missing 8\n",
      "embeddings/DeepFold/embeddings_11.csv missing 9\n",
      "embeddings/DeepFold/embeddings_12.csv missing 6\n",
      "embeddings/DeepFold/embeddings_13.csv missing 13\n",
      "embeddings/DeepFold/embeddings_14.csv missing 16\n",
      "embeddings/DeepFold/embeddings_15.csv missing 10\n",
      "embeddings/DeepFold/embeddings_16.csv missing 16\n",
      "embeddings/DeepFold/embeddings_17.csv missing 9\n",
      "embeddings/DeepFold/embeddings_18.csv missing 5\n",
      "embeddings/DeepFold/embeddings_19.csv missing 8\n",
      "embeddings/DeepFold/embeddings_2.csv missing 11\n",
      "embeddings/DeepFold/embeddings_20.csv missing 5\n",
      "embeddings/DeepFold/embeddings_3.csv missing 8\n",
      "embeddings/DeepFold/embeddings_4.csv missing 10\n",
      "embeddings/DeepFold/embeddings_5.csv missing 11\n",
      "embeddings/DeepFold/embeddings_6.csv missing 6\n",
      "embeddings/DeepFold/embeddings_7.csv missing 13\n",
      "embeddings/DeepFold/embeddings_8.csv missing 6\n",
      "embeddings/DeepFold/embeddings_9.csv missing 9\n"
     ]
    }
   ],
   "source": [
    "missing_full=np.empty((0,1), dtype=str)\n",
    "X_hold = [] \n",
    "protein_name_full=np.empty((0,1), dtype=str)\n",
    "z=0\n",
    "\n",
    "for key in keys[1:]:\n",
    "    # I actually only need the file path once in the right storage.\n",
    "    key = gcs.uri_to_bucket_and_key(key)[1]\n",
    "    \n",
    "    # parse the file \n",
    "    X, protein, missing_protein = protein_file_processor(key)\n",
    "    \n",
    "    # Put it into list \n",
    "    X_hold.append(X)\n",
    "    protein_name_full = np.append(protein_name_full, protein)\n",
    "    missing_full = np.append(missing_full, missing_protein)\n",
    "    \n",
    "    print(key, \"missing\", len(missing_protein))\n",
    "    \n",
    "# Stack all the X \n",
    "X_full = np.vstack(X_hold)"
   ]
  },
  {
   "cell_type": "code",
   "execution_count": 767,
   "id": "7b6cb9a6",
   "metadata": {},
   "outputs": [
    {
     "data": {
      "text/plain": [
       "21"
      ]
     },
     "execution_count": 767,
     "metadata": {},
     "output_type": "execute_result"
    }
   ],
   "source": [
    "len(X_hold)"
   ]
  },
  {
   "cell_type": "code",
   "execution_count": 768,
   "id": "4c67bcd1",
   "metadata": {},
   "outputs": [
    {
     "data": {
      "text/plain": [
       "(20301, 398)"
      ]
     },
     "execution_count": 768,
     "metadata": {},
     "output_type": "execute_result"
    }
   ],
   "source": [
    "X_full.shape"
   ]
  },
  {
   "cell_type": "code",
   "execution_count": 769,
   "id": "a056232f",
   "metadata": {},
   "outputs": [
    {
     "data": {
      "text/plain": [
       "(20301,)"
      ]
     },
     "execution_count": 769,
     "metadata": {},
     "output_type": "execute_result"
    }
   ],
   "source": [
    "protein_name_full.shape"
   ]
  },
  {
   "cell_type": "code",
   "execution_count": 770,
   "id": "5fbd9fe5",
   "metadata": {},
   "outputs": [
    {
     "data": {
      "text/plain": [
       "(203,)"
      ]
     },
     "execution_count": 770,
     "metadata": {},
     "output_type": "execute_result"
    }
   ],
   "source": [
    "missing_full.shape"
   ]
  },
  {
   "cell_type": "markdown",
   "id": "1e06112a",
   "metadata": {},
   "source": [
    "## Cluster full data"
   ]
  },
  {
   "cell_type": "code",
   "execution_count": 715,
   "id": "ba9f4815",
   "metadata": {},
   "outputs": [
    {
     "data": {
      "text/plain": [
       "(20301, 20301)"
      ]
     },
     "execution_count": 715,
     "metadata": {},
     "output_type": "execute_result"
    }
   ],
   "source": [
    "ed = euclidean_distances(X_full, X_full)\n",
    "ed.shape"
   ]
  },
  {
   "cell_type": "code",
   "execution_count": 716,
   "id": "097e1a50",
   "metadata": {},
   "outputs": [
    {
     "name": "stdout",
     "output_type": "stream",
     "text": [
      "0.0 1.413966410491882 1.1221421372670195\n"
     ]
    }
   ],
   "source": [
    "min_ed = np.min(ed)\n",
    "max_ed = np.max(ed)\n",
    "median_ed = np.median(ed)\n",
    "\n",
    "print(min_ed, max_ed, median_ed)"
   ]
  },
  {
   "cell_type": "code",
   "execution_count": 717,
   "id": "9836778a",
   "metadata": {},
   "outputs": [],
   "source": [
    "ed_flatten = ed.flatten()"
   ]
  },
  {
   "cell_type": "code",
   "execution_count": 718,
   "id": "c490d714",
   "metadata": {},
   "outputs": [
    {
     "data": {
      "text/plain": [
       "(412130601,)"
      ]
     },
     "execution_count": 718,
     "metadata": {},
     "output_type": "execute_result"
    }
   ],
   "source": [
    "ed_flatten.shape"
   ]
  },
  {
   "cell_type": "code",
   "execution_count": 719,
   "id": "106fad57",
   "metadata": {},
   "outputs": [],
   "source": [
    "sample_ed = np.random.choice(ed_flatten, 10000)"
   ]
  },
  {
   "cell_type": "code",
   "execution_count": 720,
   "id": "927f242c",
   "metadata": {},
   "outputs": [
    {
     "data": {
      "image/png": "[encoded data removed]",
      "text/plain": [
       "<Figure size 432x288 with 1 Axes>"
      ]
     },
     "metadata": {
      "needs_background": "light"
     },
     "output_type": "display_data"
    }
   ],
   "source": [
    "plt.scatter(range(len(sample_ed)), np.sort(sample_ed))\n",
    "plt.axvline(len(sample_ed)/2)\n",
    "plt.axvline(len(sample_ed)/4)\n",
    "plt.axvline(len(sample_ed)/10)\n",
    "plt.axvline(len(sample_ed)/100)\n",
    "plt.show()"
   ]
  },
  {
   "cell_type": "code",
   "execution_count": 722,
   "id": "b39e092d",
   "metadata": {
    "scrolled": true
   },
   "outputs": [
    {
     "name": "stdout",
     "output_type": "stream",
     "text": [
      "eps=0.01 | min_samples=10 | Silhouette 0.0302 | DB sc0.9076\n",
      "eps=0.01, min_samples=20: Everything is a noise!\n",
      "eps=0.01, min_samples=50: Everything is a noise!\n",
      "eps=0.11 | min_samples=10 | Silhouette -0.2743 | DB sc1.0956\n",
      "eps=0.11 | min_samples=20 | Silhouette -0.1712 | DB sc1.2291\n",
      "eps=0.11 | min_samples=50 | Silhouette -0.094 | DB sc1.2608\n",
      "eps=0.2 | min_samples=10 | Silhouette -0.2358 | DB sc1.1521\n",
      "eps=0.2 | min_samples=20 | Silhouette -0.1864 | DB sc1.1703\n",
      "eps=0.2 | min_samples=50 | Silhouette -0.1552 | DB sc1.2942\n",
      "eps=0.3 | min_samples=10 | Silhouette -0.201 | DB sc1.3\n",
      "eps=0.3 | min_samples=20 | Silhouette -0.1209 | DB sc1.3759\n",
      "eps=0.3 | min_samples=50 | Silhouette -0.0672 | DB sc1.7609\n",
      "eps=0.4 | min_samples=10 | Silhouette -0.1602 | DB sc1.4666\n",
      "eps=0.4 | min_samples=20 | Silhouette -0.0135 | DB sc1.729\n",
      "eps=0.4 | min_samples=50 | Silhouette 0.0251 | DB sc1.7484\n"
     ]
    }
   ],
   "source": [
    "range_eps = np.linspace(start=0.01, stop=0.4, num=5)\n",
    "range_min_samples = [10, 20, 50]\n",
    "\n",
    "search_results = dbscan_gridsearch(X_full, range_eps, range_min_samples)"
   ]
  },
  {
   "cell_type": "code",
   "execution_count": 723,
   "id": "8d5611fa",
   "metadata": {},
   "outputs": [
    {
     "name": "stdout",
     "output_type": "stream",
     "text": [
      "eps=0.01 | min_samples=5 | Silhouette 0.0304 | DB sc0.908\n",
      "eps=0.01 | min_samples=10 | Silhouette 0.0302 | DB sc0.9076\n",
      "eps=0.01, min_samples=20: Everything is a noise!\n",
      "eps=0.01, min_samples=50: Everything is a noise!\n",
      "eps=0.06 | min_samples=5 | Silhouette -0.3173 | DB sc1.0198\n",
      "eps=0.06 | min_samples=10 | Silhouette -0.2172 | DB sc0.9668\n",
      "eps=0.06, min_samples=20: Everything is a noise!\n",
      "eps=0.06, min_samples=50: Everything is a noise!\n",
      "eps=0.1 | min_samples=5 | Silhouette -0.309 | DB sc1.0028\n",
      "eps=0.1 | min_samples=10 | Silhouette -0.2753 | DB sc1.083\n",
      "eps=0.1 | min_samples=20 | Silhouette -0.176 | DB sc1.2115\n",
      "eps=0.1 | min_samples=50 | Silhouette -0.0981 | DB sc1.2471\n"
     ]
    }
   ],
   "source": [
    "range_eps = np.linspace(start=0.01, stop=0.1, num=3)\n",
    "range_min_samples = [5, 10, 20, 50]\n",
    "\n",
    "search_results = dbscan_gridsearch(X_full, range_eps, range_min_samples)"
   ]
  },
  {
   "cell_type": "code",
   "execution_count": null,
   "id": "c0f12927",
   "metadata": {},
   "outputs": [],
   "source": []
  },
  {
   "cell_type": "code",
   "execution_count": 724,
   "id": "f1a7f249",
   "metadata": {},
   "outputs": [],
   "source": [
    "# At first, the grid search tried to tell me eps=0.6 was good\n",
    "clustering = DBSCAN(eps=0.6, min_samples=25).fit(X_full)"
   ]
  },
  {
   "cell_type": "code",
   "execution_count": 725,
   "id": "943ffa3c",
   "metadata": {},
   "outputs": [
    {
     "name": "stdout",
     "output_type": "stream",
     "text": [
      "[[   -1  6142]\n",
      " [    0 13724]\n",
      " [    1   133]\n",
      " [    2   253]\n",
      " [    3    49]]\n"
     ]
    }
   ],
   "source": [
    "print(np.asarray(np.unique(clustering.labels_, return_counts=True)).T)"
   ]
  },
  {
   "cell_type": "markdown",
   "id": "e498d1a5",
   "metadata": {},
   "source": [
    "Oh no, the epsilon is too generous. So I ran grid search again but limited eps to 0.4. Anything below that would give me only negative Silhouette scores."
   ]
  },
  {
   "cell_type": "code",
   "execution_count": 728,
   "id": "f929d7bb",
   "metadata": {
    "scrolled": true
   },
   "outputs": [
    {
     "name": "stdout",
     "output_type": "stream",
     "text": [
      "[[   -1 11906]\n",
      " [    0  6992]\n",
      " [    1   268]\n",
      " [    2   288]\n",
      " [    3   295]\n",
      " [    4   215]\n",
      " [    5    72]\n",
      " [    6    38]\n",
      " [    7    79]\n",
      " [    8    20]\n",
      " [    9    86]\n",
      " [   10    21]\n",
      " [   11    21]]\n"
     ]
    }
   ],
   "source": [
    "clustering = DBSCAN(eps=0.4, min_samples=20).fit(X_full)\n",
    "print(np.asarray(np.unique(clustering.labels_, return_counts=True)).T)"
   ]
  },
  {
   "cell_type": "markdown",
   "id": "4d2432de",
   "metadata": {},
   "source": [
    "The cluster sizes look OK now, but almost half the proteins are considered noise, and 40% are in cluster index 0."
   ]
  },
  {
   "cell_type": "code",
   "execution_count": 729,
   "id": "9eeb5628",
   "metadata": {
    "scrolled": true
   },
   "outputs": [
    {
     "name": "stdout",
     "output_type": "stream",
     "text": [
      "[[   -1  7832]\n",
      " [    0 11527]\n",
      " [    1    12]\n",
      " [    2    19]\n",
      " [    3    20]\n",
      " [    4    12]\n",
      " [    5    15]\n",
      " [    6   245]\n",
      " [    7    19]\n",
      " [    8    11]\n",
      " [    9    20]\n",
      " [   10    11]\n",
      " [   11    11]\n",
      " [   12   120]\n",
      " [   13    12]\n",
      " [   14    21]\n",
      " [   15    15]\n",
      " [   16    10]\n",
      " [   17    41]\n",
      " [   18     9]\n",
      " [   19    10]\n",
      " [   20    18]\n",
      " [   21    22]\n",
      " [   22    18]\n",
      " [   23    28]\n",
      " [   24    13]\n",
      " [   25    21]\n",
      " [   26    15]\n",
      " [   27    16]\n",
      " [   28    18]\n",
      " [   29    13]\n",
      " [   30    15]\n",
      " [   31    11]\n",
      " [   32    11]\n",
      " [   33    12]\n",
      " [   34    16]\n",
      " [   35    19]\n",
      " [   36    14]\n",
      " [   37    12]\n",
      " [   38    10]\n",
      " [   39     7]]\n"
     ]
    }
   ],
   "source": [
    "clustering = DBSCAN(eps=0.5, min_samples=10).fit(X_full)\n",
    "print(np.asarray(np.unique(clustering.labels_, return_counts=True)).T)"
   ]
  },
  {
   "cell_type": "markdown",
   "id": "53670756",
   "metadata": {},
   "source": [
    "Even 0.5 is too generous for an epsilon. See how big cluster 0 is!"
   ]
  },
  {
   "cell_type": "code",
   "execution_count": 730,
   "id": "f03f5042",
   "metadata": {},
   "outputs": [
    {
     "name": "stdout",
     "output_type": "stream",
     "text": [
      "[[  -1 9999]\n",
      " [   0 8790]\n",
      " [   1   12]\n",
      " [   2   15]\n",
      " [   3   19]\n",
      " [   4    5]\n",
      " [   5    6]\n",
      " [   6    8]\n",
      " [   7   41]\n",
      " [   8   15]\n",
      " [   9    9]\n",
      " [  10  234]\n",
      " [  11    5]\n",
      " [  12   15]\n",
      " [  13   39]\n",
      " [  14   10]\n",
      " [  15    4]\n",
      " [  16   16]\n",
      " [  17   10]\n",
      " [  18   11]\n",
      " [  19    6]\n",
      " [  20    5]\n",
      " [  21   98]\n",
      " [  22    7]\n",
      " [  23    9]\n",
      " [  24   12]\n",
      " [  25   20]\n",
      " [  26    9]\n",
      " [  27    5]\n",
      " [  28    8]\n",
      " [  29    5]\n",
      " [  30   71]\n",
      " [  31    7]\n",
      " [  32    6]\n",
      " [  33    5]\n",
      " [  34    8]\n",
      " [  35    9]\n",
      " [  36    7]\n",
      " [  37   10]\n",
      " [  38    9]\n",
      " [  39    6]\n",
      " [  40   16]\n",
      " [  41   22]\n",
      " [  42    5]\n",
      " [  43   18]\n",
      " [  44    6]\n",
      " [  45    5]\n",
      " [  46    5]\n",
      " [  47   35]\n",
      " [  48   11]\n",
      " [  49   17]\n",
      " [  50   11]\n",
      " [  51    7]\n",
      " [  52    7]\n",
      " [  53    6]\n",
      " [  54    6]\n",
      " [  55    6]\n",
      " [  56    5]\n",
      " [  57    6]\n",
      " [  58    9]\n",
      " [  59    6]\n",
      " [  60    7]\n",
      " [  61   10]\n",
      " [  62    7]\n",
      " [  63    6]\n",
      " [  64    6]\n",
      " [  65   13]\n",
      " [  66   13]\n",
      " [  67    5]\n",
      " [  68    7]\n",
      " [  69    7]\n",
      " [  70    5]\n",
      " [  71    8]\n",
      " [  72    5]\n",
      " [  73    5]\n",
      " [  74    6]\n",
      " [  75    9]\n",
      " [  76   11]\n",
      " [  77    5]\n",
      " [  78   14]\n",
      " [  79    6]\n",
      " [  80    7]\n",
      " [  81    5]\n",
      " [  82    5]\n",
      " [  83    8]\n",
      " [  84    9]\n",
      " [  85    5]\n",
      " [  86    5]\n",
      " [  87    8]\n",
      " [  88    6]\n",
      " [  89    5]\n",
      " [  90    5]\n",
      " [  91    9]\n",
      " [  92    5]\n",
      " [  93    7]\n",
      " [  94    7]\n",
      " [  95    5]\n",
      " [  96    5]\n",
      " [  97    7]\n",
      " [  98    7]\n",
      " [  99    8]\n",
      " [ 100    5]\n",
      " [ 101    5]\n",
      " [ 102    5]\n",
      " [ 103    5]\n",
      " [ 104    5]\n",
      " [ 105    6]\n",
      " [ 106    4]\n",
      " [ 107    9]\n",
      " [ 108    7]\n",
      " [ 109    6]\n",
      " [ 110    6]\n",
      " [ 111    5]\n",
      " [ 112   11]\n",
      " [ 113   11]\n",
      " [ 114    6]\n",
      " [ 115    7]\n",
      " [ 116    5]\n",
      " [ 117    7]\n",
      " [ 118    9]\n",
      " [ 119    5]\n",
      " [ 120    7]\n",
      " [ 121    5]\n",
      " [ 122    5]\n",
      " [ 123    5]\n",
      " [ 124    6]\n",
      " [ 125    5]\n",
      " [ 126    5]\n",
      " [ 127    5]\n",
      " [ 128    5]\n",
      " [ 129    5]\n",
      " [ 130    6]\n",
      " [ 131    5]\n",
      " [ 132    5]\n",
      " [ 133    5]\n",
      " [ 134    5]\n",
      " [ 135    6]\n",
      " [ 136    5]\n",
      " [ 137    5]]\n"
     ]
    }
   ],
   "source": [
    "# So I guess eps=0.4 it is. \n",
    "clustering = DBSCAN(eps=0.40, min_samples=5).fit(X_full)\n",
    "print(np.asarray(np.unique(clustering.labels_, return_counts=True)).T)"
   ]
  },
  {
   "cell_type": "markdown",
   "id": "af2bdc27",
   "metadata": {},
   "source": [
    "Still almost half of the points are considered noise. Can I reduce it if I lower the min_samples param?"
   ]
  },
  {
   "cell_type": "code",
   "execution_count": 731,
   "id": "0d071b4d",
   "metadata": {},
   "outputs": [
    {
     "name": "stdout",
     "output_type": "stream",
     "text": [
      "[[  -1 7450]\n",
      " [   0 9026]\n",
      " [   1    2]\n",
      " ...\n",
      " [1091    2]\n",
      " [1092    2]\n",
      " [1093    2]]\n"
     ]
    }
   ],
   "source": [
    "clustering = DBSCAN(eps=0.40, min_samples=2).fit(X_full)\n",
    "print(np.asarray(np.unique(clustering.labels_, return_counts=True)).T)"
   ]
  },
  {
   "cell_type": "markdown",
   "id": "a274ff01",
   "metadata": {},
   "source": [
    "So the noise went down somewhat, but still substantial. And cluster 0 is still too big.\n",
    "\n"
   ]
  },
  {
   "cell_type": "code",
   "execution_count": 586,
   "id": "e6aac7ed",
   "metadata": {
    "scrolled": true
   },
   "outputs": [
    {
     "name": "stdout",
     "output_type": "stream",
     "text": [
      "eps=0.01, min_samples=6: 0.8989\n",
      "eps=0.01, min_samples=10: 0.8984\n",
      "eps=0.01, min_samples=20: Everything is a noise!\n",
      "eps=0.01, min_samples=50: Everything is a noise!\n",
      "eps=0.05, min_samples=6: 0.9951\n",
      "eps=0.05, min_samples=10: 0.9808\n",
      "eps=0.05, min_samples=20: 0.9988\n",
      "eps=0.05, min_samples=50: Everything is a noise!\n",
      "eps=0.1, min_samples=6: 1.0155\n",
      "eps=0.1, min_samples=10: 1.0012\n",
      "eps=0.1, min_samples=20: 1.2122\n",
      "eps=0.1, min_samples=50: 1.1999\n",
      "eps=0.14, min_samples=6: 1.0308\n",
      "eps=0.14, min_samples=10: 1.0068\n",
      "eps=0.14, min_samples=20: 1.1046\n",
      "eps=0.14, min_samples=50: 1.1522\n",
      "eps=0.18, min_samples=6: 1.0937\n",
      "eps=0.18, min_samples=10: 1.0704\n",
      "eps=0.18, min_samples=20: 1.0905\n",
      "eps=0.18, min_samples=50: 1.2035\n",
      "eps=0.23, min_samples=6: 1.1513\n",
      "eps=0.23, min_samples=10: 1.1714\n",
      "eps=0.23, min_samples=20: 1.2384\n",
      "eps=0.23, min_samples=50: 1.2159\n",
      "eps=0.27, min_samples=6: 1.1877\n",
      "eps=0.27, min_samples=10: 1.187\n",
      "eps=0.27, min_samples=20: 1.2673\n",
      "eps=0.27, min_samples=50: 1.663\n",
      "eps=0.31, min_samples=6: 1.2364\n",
      "eps=0.31, min_samples=10: 1.233\n",
      "eps=0.31, min_samples=20: 1.3492\n",
      "eps=0.31, min_samples=50: 1.8091\n",
      "eps=0.36, min_samples=6: 1.2946\n",
      "eps=0.36, min_samples=10: 1.3312\n",
      "eps=0.36, min_samples=20: 1.4439\n",
      "eps=0.36, min_samples=50: 1.6088\n",
      "eps=0.4, min_samples=6: 1.3335\n",
      "eps=0.4, min_samples=10: 1.4241\n",
      "eps=0.4, min_samples=20: 1.6769\n",
      "eps=0.4, min_samples=50: 1.6877\n"
     ]
    }
   ],
   "source": [
    "range_eps = np.linspace(start=0.01, stop=0.4, num=5)\n",
    "range_min_samples = [6, 10, 20, 50]\n",
    "\n",
    "search_results = dbscan_gridsearch(X_full, range_eps, range_min_samples)"
   ]
  },
  {
   "cell_type": "markdown",
   "id": "0ef02c50",
   "metadata": {},
   "source": [
    "# Refinement\n",
    "\n",
    "To try\n",
    "Next things to try:\n",
    "1. Reduce dimensionality of DeepFold embeddings to 100\n",
    "2. Incorporate BLAST and see what it says about clusters\n",
    "3. When RMSD & TM score are ready then incorporate them to see what they say about clusters\n",
    "4. Save model & results (some form of pipeline) "
   ]
  },
  {
   "cell_type": "code",
   "execution_count": 732,
   "id": "696a1bd6",
   "metadata": {},
   "outputs": [
    {
     "name": "stdout",
     "output_type": "stream",
     "text": [
      "X_full orig shape (20301, 398)\n",
      "X_transformed new shape (20301, 100)\n"
     ]
    }
   ],
   "source": [
    "from sklearn.manifold import Isomap\n",
    "\n",
    "embedding = Isomap(n_components=100)\n",
    "print(\"X_full orig shape\", X_full.shape)\n",
    "X_transformed = embedding.fit_transform(X_full)\n",
    "print(\"X_transformed new shape\", X_transformed.shape)"
   ]
  },
  {
   "cell_type": "code",
   "execution_count": 733,
   "id": "d088a132",
   "metadata": {
    "scrolled": true
   },
   "outputs": [
    {
     "name": "stdout",
     "output_type": "stream",
     "text": [
      "db score 1.239694043783252\n",
      "silhouette score -0.36896264426309094\n",
      "[[   -1 16805]\n",
      " [    0    82]\n",
      " [    1   313]\n",
      " [    2    18]\n",
      " [    3    12]\n",
      " [    4   651]\n",
      " [    5     6]\n",
      " [    6    51]\n",
      " [    7   791]\n",
      " [    8    23]\n",
      " [    9    14]\n",
      " [   10    20]\n",
      " [   11     6]\n",
      " [   12     6]\n",
      " [   13    30]\n",
      " [   14    13]\n",
      " [   15     5]\n",
      " [   16     7]\n",
      " [   17     5]\n",
      " [   18     7]\n",
      " [   19    34]\n",
      " [   20    11]\n",
      " [   21     9]\n",
      " [   22    51]\n",
      " [   23    12]\n",
      " [   24    41]\n",
      " [   25    66]\n",
      " [   26    28]\n",
      " [   27    11]\n",
      " [   28     6]\n",
      " [   29     6]\n",
      " [   30    10]\n",
      " [   31    11]\n",
      " [   32    12]\n",
      " [   33     9]\n",
      " [   34    21]\n",
      " [   35     8]\n",
      " [   36     5]\n",
      " [   37     9]\n",
      " [   38    16]\n",
      " [   39    12]\n",
      " [   40    24]\n",
      " [   41    45]\n",
      " [   42     6]\n",
      " [   43     8]\n",
      " [   44     6]\n",
      " [   45     8]\n",
      " [   46    13]\n",
      " [   47    11]\n",
      " [   48    27]\n",
      " [   49     6]\n",
      " [   50     5]\n",
      " [   51    12]\n",
      " [   52    26]\n",
      " [   53    11]\n",
      " [   54     5]\n",
      " [   55     9]\n",
      " [   56    11]\n",
      " [   57     9]\n",
      " [   58    14]\n",
      " [   59     7]\n",
      " [   60    11]\n",
      " [   61     7]\n",
      " [   62    10]\n",
      " [   63    14]\n",
      " [   64    14]\n",
      " [   65     7]\n",
      " [   66    15]\n",
      " [   67     7]\n",
      " [   68     5]\n",
      " [   69    38]\n",
      " [   70     4]\n",
      " [   71     5]\n",
      " [   72     7]\n",
      " [   73    12]\n",
      " [   74     7]\n",
      " [   75    15]\n",
      " [   76    17]\n",
      " [   77    10]\n",
      " [   78     8]\n",
      " [   79     6]\n",
      " [   80     9]\n",
      " [   81     5]\n",
      " [   82     7]\n",
      " [   83    10]\n",
      " [   84     7]\n",
      " [   85     8]\n",
      " [   86     5]\n",
      " [   87    12]\n",
      " [   88    16]\n",
      " [   89     7]\n",
      " [   90     6]\n",
      " [   91     7]\n",
      " [   92     5]\n",
      " [   93     6]\n",
      " [   94     6]\n",
      " [   95     5]\n",
      " [   96     8]\n",
      " [   97     6]\n",
      " [   98     5]\n",
      " [   99    21]\n",
      " [  100     7]\n",
      " [  101     6]\n",
      " [  102     6]\n",
      " [  103     5]\n",
      " [  104    15]\n",
      " [  105     6]\n",
      " [  106     7]\n",
      " [  107     8]\n",
      " [  108     8]\n",
      " [  109     5]\n",
      " [  110     5]\n",
      " [  111     5]\n",
      " [  112     6]\n",
      " [  113     5]\n",
      " [  114     8]\n",
      " [  115     8]\n",
      " [  116     5]\n",
      " [  117     5]\n",
      " [  118     5]\n",
      " [  119    11]\n",
      " [  120     6]\n",
      " [  121     6]\n",
      " [  122     6]\n",
      " [  123     5]\n",
      " [  124    15]\n",
      " [  125     8]\n",
      " [  126    11]\n",
      " [  127     6]\n",
      " [  128     7]\n",
      " [  129     7]\n",
      " [  130    10]\n",
      " [  131     5]\n",
      " [  132     8]\n",
      " [  133     5]\n",
      " [  134     5]\n",
      " [  135     5]\n",
      " [  136     5]\n",
      " [  137     7]\n",
      " [  138     5]\n",
      " [  139     5]\n",
      " [  140     5]\n",
      " [  141     5]\n",
      " [  142     7]\n",
      " [  143     5]\n",
      " [  144     6]\n",
      " [  145     5]\n",
      " [  146     7]\n",
      " [  147     5]\n",
      " [  148     5]\n",
      " [  149     5]\n",
      " [  150     6]\n",
      " [  151     6]\n",
      " [  152     5]\n",
      " [  153     5]\n",
      " [  154     5]\n",
      " [  155     5]\n",
      " [  156     5]\n",
      " [  157     8]\n",
      " [  158     6]\n",
      " [  159     6]\n",
      " [  160     5]\n",
      " [  161     5]\n",
      " [  162     5]\n",
      " [  163     5]]\n"
     ]
    }
   ],
   "source": [
    "print(\"db score\", davies_bouldin_score(X_transformed, clustering.labels_))\n",
    "print(\"silhouette score\", silhouette_score(X_transformed, clustering.labels_))\n",
    "\n",
    "clustering = DBSCAN(eps=0.40, min_samples=5).fit(X_transformed)\n",
    "print(np.asarray(np.unique(clustering.labels_, return_counts=True)).T)"
   ]
  },
  {
   "cell_type": "code",
   "execution_count": 734,
   "id": "a0eaf180",
   "metadata": {},
   "outputs": [],
   "source": [
    "import bz2\n",
    "import pickle\n",
    "\n",
    "filename='DeepFold_100'\n",
    "# outfile = open(filename,'wb')\n",
    "outfile = bz2.BZ2File(filename, 'w')\n",
    "pickle.dump(X_transformed,outfile)\n",
    "outfile.close()"
   ]
  },
  {
   "cell_type": "code",
   "execution_count": 735,
   "id": "d760ea4d",
   "metadata": {},
   "outputs": [
    {
     "name": "stdout",
     "output_type": "stream",
     "text": [
      "eps=0.01 | min_samples=6 | Silhouette -0.0314 | DB sc0.959\n",
      "eps=0.01 | min_samples=10 | Silhouette -0.0303 | DB sc1.0896\n",
      "eps=0.01 | min_samples=20 | Silhouette -0.0303 | DB sc1.0896\n",
      "eps=0.01, min_samples=50: Everything is a noise!\n",
      "eps=0.2 | min_samples=6 | Silhouette -0.3837 | DB sc1.0347\n",
      "eps=0.2 | min_samples=10 | Silhouette -0.3619 | DB sc1.1401\n",
      "eps=0.2 | min_samples=20 | Silhouette -0.274 | DB sc1.5345\n",
      "eps=0.2, min_samples=50: Everything is a noise!\n",
      "eps=0.4 | min_samples=6 | Silhouette -0.3386 | DB sc1.1288\n",
      "eps=0.4 | min_samples=10 | Silhouette -0.3281 | DB sc1.1633\n",
      "eps=0.4 | min_samples=20 | Silhouette -0.2883 | DB sc1.7143\n",
      "eps=0.4 | min_samples=50 | Silhouette -0.2948 | DB sc2.0808\n"
     ]
    }
   ],
   "source": [
    "range_eps = np.linspace(start=0.01, stop=0.4, num=3)\n",
    "range_min_samples = [6, 10, 20, 50]\n",
    "\n",
    "search_results = dbscan_gridsearch(X_transformed, range_eps, range_min_samples)"
   ]
  },
  {
   "cell_type": "code",
   "execution_count": 736,
   "id": "7a8e5f8a",
   "metadata": {},
   "outputs": [
    {
     "name": "stdout",
     "output_type": "stream",
     "text": [
      "[[   -1 20239]\n",
      " [    0     9]\n",
      " [    1    38]\n",
      " [    2     5]\n",
      " [    3     5]\n",
      " [    4     5]]\n",
      "db score 0.7432744146160294\n",
      "silhouette score -0.0318883748680955\n"
     ]
    }
   ],
   "source": [
    "clustering = DBSCAN(eps=0.01, min_samples=5).fit(X_transformed)\n",
    "print(np.asarray(np.unique(clustering.labels_, return_counts=True)).T)\n",
    "\n",
    "print(\"db score\", davies_bouldin_score(X_transformed, clustering.labels_))\n",
    "print(\"silhouette score\", silhouette_score(X_transformed, clustering.labels_))"
   ]
  },
  {
   "cell_type": "markdown",
   "id": "c9b1ecbc",
   "metadata": {},
   "source": [
    "The Silhouette score just won't go down. The lowest DB is 09,9699\n",
    "But if I do that, everything is a noise. That's not helpful."
   ]
  },
  {
   "cell_type": "code",
   "execution_count": 737,
   "id": "f75d3926",
   "metadata": {
    "scrolled": true
   },
   "outputs": [
    {
     "name": "stdout",
     "output_type": "stream",
     "text": [
      "[[   -1 19020]\n",
      " [    0   248]\n",
      " [    1    82]\n",
      " [    2     5]\n",
      " [    3    10]\n",
      " [    4   174]\n",
      " [    5    13]\n",
      " [    6    16]\n",
      " [    7     5]\n",
      " [    8    22]\n",
      " [    9     5]\n",
      " [   10     5]\n",
      " [   11     8]\n",
      " [   12    25]\n",
      " [   13     9]\n",
      " [   14     6]\n",
      " [   15     8]\n",
      " [   16    11]\n",
      " [   17     6]\n",
      " [   18     8]\n",
      " [   19     8]\n",
      " [   20     5]\n",
      " [   21    14]\n",
      " [   22    19]\n",
      " [   23    13]\n",
      " [   24     6]\n",
      " [   25    28]\n",
      " [   26    13]\n",
      " [   27     8]\n",
      " [   28     5]\n",
      " [   29    13]\n",
      " [   30    11]\n",
      " [   31     5]\n",
      " [   32    13]\n",
      " [   33    12]\n",
      " [   34     7]\n",
      " [   35    12]\n",
      " [   36     5]\n",
      " [   37    18]\n",
      " [   38    38]\n",
      " [   39     5]\n",
      " [   40     5]\n",
      " [   41     7]\n",
      " [   42     6]\n",
      " [   43     5]\n",
      " [   44     6]\n",
      " [   45     5]\n",
      " [   46     5]\n",
      " [   47     5]\n",
      " [   48     7]\n",
      " [   49     5]\n",
      " [   50    11]\n",
      " [   51     5]\n",
      " [   52     9]\n",
      " [   53     8]\n",
      " [   54     5]\n",
      " [   55    16]\n",
      " [   56     6]\n",
      " [   57     5]\n",
      " [   58     5]\n",
      " [   59     8]\n",
      " [   60    11]\n",
      " [   61     5]\n",
      " [   62     6]\n",
      " [   63     5]\n",
      " [   64     5]\n",
      " [   65    11]\n",
      " [   66    15]\n",
      " [   67    15]\n",
      " [   68     7]\n",
      " [   69     7]\n",
      " [   70     5]\n",
      " [   71     5]\n",
      " [   72     8]\n",
      " [   73     5]\n",
      " [   74     7]\n",
      " [   75     5]\n",
      " [   76    10]\n",
      " [   77     5]\n",
      " [   78     7]\n",
      " [   79     6]\n",
      " [   80     6]\n",
      " [   81     5]\n",
      " [   82     6]\n",
      " [   83     5]\n",
      " [   84     5]\n",
      " [   85     7]\n",
      " [   86     6]\n",
      " [   87     5]\n",
      " [   88     6]\n",
      " [   89     6]\n",
      " [   90     5]\n",
      " [   91     5]\n",
      " [   92     6]]\n",
      "db score 1.01613188009593\n",
      "silhouette score -0.3942365766246513\n"
     ]
    }
   ],
   "source": [
    "clustering = DBSCAN(eps=0.2, min_samples=5).fit(X_transformed)\n",
    "print(np.asarray(np.unique(clustering.labels_, return_counts=True)).T)\n",
    "\n",
    "print(\"db score\", davies_bouldin_score(X_transformed, clustering.labels_))\n",
    "print(\"silhouette score\", silhouette_score(X_transformed, clustering.labels_))"
   ]
  },
  {
   "cell_type": "markdown",
   "id": "36d8ac1b",
   "metadata": {},
   "source": [
    "Seems like a good DB score prefers 90% noise ... that's not good."
   ]
  },
  {
   "cell_type": "code",
   "execution_count": 738,
   "id": "e7083d72",
   "metadata": {},
   "outputs": [
    {
     "name": "stdout",
     "output_type": "stream",
     "text": [
      "db score 1.1029491392725665\n",
      "silhouette score -0.20530384198852022\n",
      "[[  -1 8283]\n",
      " [   0 9449]\n",
      " [   1   11]\n",
      " [   2   10]\n",
      " [   3   18]\n",
      " [   4   18]\n",
      " [   5  108]\n",
      " [   6    6]\n",
      " [   7   19]\n",
      " [   8   65]\n",
      " [   9   30]\n",
      " [  10   14]\n",
      " [  11   23]\n",
      " [  12    8]\n",
      " [  13   24]\n",
      " [  14  213]\n",
      " [  15   35]\n",
      " [  16   16]\n",
      " [  17   24]\n",
      " [  18   53]\n",
      " [  19    6]\n",
      " [  20    6]\n",
      " [  21   10]\n",
      " [  22    7]\n",
      " [  23    7]\n",
      " [  24    8]\n",
      " [  25    7]\n",
      " [  26    6]\n",
      " [  27    6]\n",
      " [  28   47]\n",
      " [  29    7]\n",
      " [  30   11]\n",
      " [  31   45]\n",
      " [  32   87]\n",
      " [  33    7]\n",
      " [  34    8]\n",
      " [  35   31]\n",
      " [  36   22]\n",
      " [  37   12]\n",
      " [  38    9]\n",
      " [  39   12]\n",
      " [  40    9]\n",
      " [  41   12]\n",
      " [  42   19]\n",
      " [  43   12]\n",
      " [  44   42]\n",
      " [  45    9]\n",
      " [  46    5]\n",
      " [  47    9]\n",
      " [  48    8]\n",
      " [  49    6]\n",
      " [  50   36]\n",
      " [  51    6]\n",
      " [  52    5]\n",
      " [  53    6]\n",
      " [  54    7]\n",
      " [  55   16]\n",
      " [  56    4]\n",
      " [  57   15]\n",
      " [  58    9]\n",
      " [  59   19]\n",
      " [  60    9]\n",
      " [  61    7]\n",
      " [  62    7]\n",
      " [  63   10]\n",
      " [  64   77]\n",
      " [  65   10]\n",
      " [  66    9]\n",
      " [  67    5]\n",
      " [  68    8]\n",
      " [  69    6]\n",
      " [  70    6]\n",
      " [  71    5]\n",
      " [  72    6]\n",
      " [  73    8]\n",
      " [  74   16]\n",
      " [  75   22]\n",
      " [  76    5]\n",
      " [  77   20]\n",
      " [  78    5]\n",
      " [  79   13]\n",
      " [  80    9]\n",
      " [  81    5]\n",
      " [  82    5]\n",
      " [  83   46]\n",
      " [  84   10]\n",
      " [  85   13]\n",
      " [  86   10]\n",
      " [  87   29]\n",
      " [  88   17]\n",
      " [  89    7]\n",
      " [  90    6]\n",
      " [  91   10]\n",
      " [  92    9]\n",
      " [  93   10]\n",
      " [  94   25]\n",
      " [  95    8]\n",
      " [  96   13]\n",
      " [  97    8]\n",
      " [  98   38]\n",
      " [  99   14]\n",
      " [ 100    6]\n",
      " [ 101    6]\n",
      " [ 102   18]\n",
      " [ 103    6]\n",
      " [ 104   14]\n",
      " [ 105    9]\n",
      " [ 106    6]\n",
      " [ 107   12]\n",
      " [ 108    5]\n",
      " [ 109   14]\n",
      " [ 110   14]\n",
      " [ 111    7]\n",
      " [ 112    8]\n",
      " [ 113    5]\n",
      " [ 114    6]\n",
      " [ 115   14]\n",
      " [ 116    5]\n",
      " [ 117   11]\n",
      " [ 118    5]\n",
      " [ 119    7]\n",
      " [ 120    9]\n",
      " [ 121    8]\n",
      " [ 122    8]\n",
      " [ 123    6]\n",
      " [ 124   14]\n",
      " [ 125    8]\n",
      " [ 126    5]\n",
      " [ 127    7]\n",
      " [ 128    6]\n",
      " [ 129    5]\n",
      " [ 130    7]\n",
      " [ 131    5]\n",
      " [ 132   10]\n",
      " [ 133    7]\n",
      " [ 134    8]\n",
      " [ 135   18]\n",
      " [ 136   17]\n",
      " [ 137   14]\n",
      " [ 138    5]\n",
      " [ 139    5]\n",
      " [ 140    5]\n",
      " [ 141    8]\n",
      " [ 142    6]\n",
      " [ 143    5]\n",
      " [ 144   12]\n",
      " [ 145    6]\n",
      " [ 146    5]\n",
      " [ 147    6]\n",
      " [ 148   12]\n",
      " [ 149    5]\n",
      " [ 150    5]\n",
      " [ 151   13]\n",
      " [ 152    6]\n",
      " [ 153    5]\n",
      " [ 154    7]\n",
      " [ 155    8]\n",
      " [ 156    7]\n",
      " [ 157   11]\n",
      " [ 158    4]\n",
      " [ 159    5]\n",
      " [ 160    5]\n",
      " [ 161    6]\n",
      " [ 162    7]\n",
      " [ 163    4]\n",
      " [ 164    7]\n",
      " [ 165    6]\n",
      " [ 166    5]\n",
      " [ 167    6]\n",
      " [ 168    5]\n",
      " [ 169    7]\n",
      " [ 170    6]\n",
      " [ 171    5]\n",
      " [ 172    8]\n",
      " [ 173    6]\n",
      " [ 174    7]\n",
      " [ 175    8]\n",
      " [ 176    5]\n",
      " [ 177    5]\n",
      " [ 178    5]\n",
      " [ 179    6]\n",
      " [ 180    5]\n",
      " [ 181    5]\n",
      " [ 182    5]\n",
      " [ 183    6]\n",
      " [ 184    5]\n",
      " [ 185    6]\n",
      " [ 186    6]\n",
      " [ 187    4]\n",
      " [ 188    6]\n",
      " [ 189    5]\n",
      " [ 190    5]\n",
      " [ 191    5]\n",
      " [ 192   10]\n",
      " [ 193    5]\n",
      " [ 194    5]\n",
      " [ 195    5]\n",
      " [ 196    5]\n",
      " [ 197    5]\n",
      " [ 198    5]]\n"
     ]
    }
   ],
   "source": [
    "clustering = DBSCAN(eps=1.05, min_samples=5).fit(X_transformed)\n",
    "print(\"db score\", davies_bouldin_score(X_transformed, clustering.labels_))\n",
    "print(\"silhouette score\", silhouette_score(X_transformed, clustering.labels_))\n",
    "print(np.asarray(np.unique(clustering.labels_, return_counts=True)).T)"
   ]
  },
  {
   "cell_type": "markdown",
   "id": "27d4a26e",
   "metadata": {},
   "source": [
    "I want to investigate what's happening here. "
   ]
  },
  {
   "cell_type": "code",
   "execution_count": 771,
   "id": "c2dc6295",
   "metadata": {},
   "outputs": [
    {
     "data": {
      "text/plain": [
       "array([-1, -1,  0, -1,  0,  0,  0,  1,  0,  0])"
      ]
     },
     "execution_count": 771,
     "metadata": {},
     "output_type": "execute_result"
    }
   ],
   "source": [
    "clustering.labels_[0:10]"
   ]
  },
  {
   "cell_type": "code",
   "execution_count": 774,
   "id": "788f9b06",
   "metadata": {},
   "outputs": [
    {
     "data": {
      "text/plain": [
       "array(['P09529', 'Q9UPU9', 'Q9UHI5', 'P29034', 'Q9HCL3', 'Q2I0M5',\n",
       "       'Q9Y639', 'Q13247', 'Q14596', 'Q86UP9'], dtype='<U10')"
      ]
     },
     "execution_count": 774,
     "metadata": {},
     "output_type": "execute_result"
    }
   ],
   "source": [
    "clus_no=0\n",
    "\n",
    "protein_name_full[clustering.labels_==clus_no][0:10]"
   ]
  },
  {
   "cell_type": "code",
   "execution_count": null,
   "id": "444a2eea",
   "metadata": {},
   "outputs": [],
   "source": []
  }
 ],
 "metadata": {
  "kernelspec": {
   "display_name": "Python 3 (ipykernel)",
   "language": "python",
   "name": "python3"
  },
  "language_info": {
   "codemirror_mode": {
    "name": "ipython",
    "version": 3
   },
   "file_extension": ".py",
   "mimetype": "text/x-python",
   "name": "python",
   "nbconvert_exporter": "python",
   "pygments_lexer": "ipython3",
   "version": "3.9.7"
  }
 },
 "nbformat": 4,
 "nbformat_minor": 5
}
