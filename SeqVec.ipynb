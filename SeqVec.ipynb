{
 "cells": [
  {
   "cell_type": "code",
   "execution_count": 1,
   "id": "02516a7b",
   "metadata": {},
   "outputs": [],
   "source": [
    "%load_ext autoreload\n",
    "%autoreload 2"
   ]
  },
  {
   "cell_type": "code",
   "execution_count": 2,
   "id": "e32cf4b6-8925-43ea-8de9-9c75cdecc217",
   "metadata": {},
   "outputs": [],
   "source": [
    "# %%bash\n",
    "# MINICONDA_INSTALLER_SCRIPT=Miniconda3-4.5.4-Linux-x86_64.sh\n",
    "# MINICONDA_PREFIX=/usr/local\n",
    "# wget https://repo.continuum.io/miniconda/$MINICONDA_INSTALLER_SCRIPT\n",
    "# chmod +x $MINICONDA_INSTALLER_SCRIPT\n",
    "# ./$MINICONDA_INSTALLER_SCRIPT -b -f -p $MINICONDA_PREFIX"
   ]
  },
  {
   "cell_type": "code",
   "execution_count": 65,
   "id": "134b0686",
   "metadata": {},
   "outputs": [],
   "source": [
    "import argparse\n",
    "import gzip\n",
    "import os\n",
    "import sys\n",
    "import time\n",
    "import io\n",
    "# from multiprocessing import Pool\n",
    "import multiprocessing\n",
    "\n",
    "import numpy as np\n",
    "import pandas as pd\n",
    "from Bio.PDB import PDBParser\n",
    "from tqdm.auto import tqdm\n",
    "import utils.gcs_utils as gcs\n",
    "import utils.spark_utils as sprk\n",
    "from utils.proteins import *"
   ]
  },
  {
   "cell_type": "code",
   "execution_count": 38,
   "id": "862d44c2",
   "metadata": {},
   "outputs": [],
   "source": [
    "import numpy as np\n",
    "from bio_embeddings.embed import SeqVecEmbedder, ProtTransBertBFDEmbedder  "
   ]
  },
  {
   "cell_type": "code",
   "execution_count": 42,
   "id": "7bfd85b5",
   "metadata": {},
   "outputs": [],
   "source": [
    "# local_dir = \"/Users/skyler.roh/Downloads/UP000005640_9606_HUMAN\"\n",
    "# files = sorted([f\"{local_dir}/{f}\" for f in os.listdir(local_dir) if f.endswith(\".cif.gz\")])\n",
    "files = gcs.list_keys(\"UP000005640_9606_HUMAN/cif\")\n",
    "fn = get_protein_sequence_from_cif"
   ]
  },
  {
   "cell_type": "code",
   "execution_count": 47,
   "id": "32a7ca5f-15ea-4a45-92e9-db0896f040a7",
   "metadata": {},
   "outputs": [],
   "source": [
    "names = pd.read_pickle(\"/home/jupyter/pss/vectorize/protein_names.pkl\")"
   ]
  },
  {
   "cell_type": "code",
   "execution_count": 45,
   "id": "0b7a309d",
   "metadata": {},
   "outputs": [],
   "source": [
    "series = []\n",
    "for file in tqdm(files):\n",
    "    content = gcs.download_gzip_to_string(file)\n",
    "    sequence = get_protein_sequence_from_cif(content)\n",
    "    sequence['protein_name'] = file.strip(\".cif.gz\").split(\"/\")[-1]\n",
    "    series.append(sequence)\n",
    "pd.concat(series)"
   ]
  },
  {
   "cell_type": "code",
   "execution_count": 154,
   "id": "5e5f2cfb",
   "metadata": {},
   "outputs": [],
   "source": [
    "sequences_df = reduce_sequence_df(pd.concat(series))"
   ]
  },
  {
   "cell_type": "code",
   "execution_count": 83,
   "id": "9ed8d760",
   "metadata": {},
   "outputs": [],
   "source": [
    "sequences_df.to_pickle(\"/home/jupyter/pss/vectorize/sequences.pkl\")"
   ]
  },
  {
   "cell_type": "code",
   "execution_count": 84,
   "id": "536a9a1d-2878-4078-9b3e-2f32614f986d",
   "metadata": {},
   "outputs": [],
   "source": [
    "sequences_df = pd.read_pickle(\"/home/jupyter/pss/vectorize/sequences.pkl\")"
   ]
  },
  {
   "cell_type": "code",
   "execution_count": 86,
   "id": "9fc384e4-c6af-4177-9be9-56673cd63fde",
   "metadata": {},
   "outputs": [
    {
     "data": {
      "text/html": [
       "<div>\n",
       "<style scoped>\n",
       "    .dataframe tbody tr th:only-of-type {\n",
       "        vertical-align: middle;\n",
       "    }\n",
       "\n",
       "    .dataframe tbody tr th {\n",
       "        vertical-align: top;\n",
       "    }\n",
       "\n",
       "    .dataframe thead th {\n",
       "        text-align: right;\n",
       "    }\n",
       "</style>\n",
       "<table border=\"1\" class=\"dataframe\">\n",
       "  <thead>\n",
       "    <tr style=\"text-align: right;\">\n",
       "      <th></th>\n",
       "      <th>pdbx_db_accession</th>\n",
       "      <th>db_code</th>\n",
       "      <th>db_name</th>\n",
       "      <th>pdbx_seq_one_letter_code</th>\n",
       "      <th>protein_name</th>\n",
       "    </tr>\n",
       "  </thead>\n",
       "  <tbody>\n",
       "    <tr>\n",
       "      <th>0</th>\n",
       "      <td>A0A024R1R8</td>\n",
       "      <td>A0A024R1R8_HUMAN</td>\n",
       "      <td>UNP</td>\n",
       "      <td>MSSHEGGKKKALKQPKKQAKEMDEEEKAFKQKQKEEQKKLEVLKAK...</td>\n",
       "      <td>AF-A0A024R1R8-F1-model_v1</td>\n",
       "    </tr>\n",
       "    <tr>\n",
       "      <th>1</th>\n",
       "      <td>A0A024RBG1</td>\n",
       "      <td>NUD4B_HUMAN</td>\n",
       "      <td>UNP</td>\n",
       "      <td>MMKFKPNQTRTYDREGFKKRAACLCFRSEQEDEVLLVSSSRYPDQW...</td>\n",
       "      <td>AF-A0A024RBG1-F1-model_v1</td>\n",
       "    </tr>\n",
       "    <tr>\n",
       "      <th>2</th>\n",
       "      <td>A0A024RCN7</td>\n",
       "      <td>A0A024RCN7_HUMAN</td>\n",
       "      <td>UNP</td>\n",
       "      <td>MERSFVWLSCLDSDSCNLTFRLGEVESHACSPSLLWNLLTQYLPPG...</td>\n",
       "      <td>AF-A0A024RCN7-F1-model_v1</td>\n",
       "    </tr>\n",
       "    <tr>\n",
       "      <th>3</th>\n",
       "      <td>A0A075B6H5</td>\n",
       "      <td>A0A075B6H5_HUMAN</td>\n",
       "      <td>UNP</td>\n",
       "      <td>METVVTTLPREGGVGPSRKMLLLLLLLGPGSGLSAVVSQHPSRVIC...</td>\n",
       "      <td>AF-A0A075B6H5-F1-model_v1</td>\n",
       "    </tr>\n",
       "    <tr>\n",
       "      <th>4</th>\n",
       "      <td>A0A075B6H7</td>\n",
       "      <td>KV37_HUMAN</td>\n",
       "      <td>UNP</td>\n",
       "      <td>MEAPAQLLFLLLLWLPDTTREIVMTQSPPTLSLSPGERVTLSCRAS...</td>\n",
       "      <td>AF-A0A075B6H7-F1-model_v1</td>\n",
       "    </tr>\n",
       "  </tbody>\n",
       "</table>\n",
       "</div>"
      ],
      "text/plain": [
       "  pdbx_db_accession           db_code db_name  \\\n",
       "0        A0A024R1R8  A0A024R1R8_HUMAN     UNP   \n",
       "1        A0A024RBG1       NUD4B_HUMAN     UNP   \n",
       "2        A0A024RCN7  A0A024RCN7_HUMAN     UNP   \n",
       "3        A0A075B6H5  A0A075B6H5_HUMAN     UNP   \n",
       "4        A0A075B6H7        KV37_HUMAN     UNP   \n",
       "\n",
       "                            pdbx_seq_one_letter_code  \\\n",
       "0  MSSHEGGKKKALKQPKKQAKEMDEEEKAFKQKQKEEQKKLEVLKAK...   \n",
       "1  MMKFKPNQTRTYDREGFKKRAACLCFRSEQEDEVLLVSSSRYPDQW...   \n",
       "2  MERSFVWLSCLDSDSCNLTFRLGEVESHACSPSLLWNLLTQYLPPG...   \n",
       "3  METVVTTLPREGGVGPSRKMLLLLLLLGPGSGLSAVVSQHPSRVIC...   \n",
       "4  MEAPAQLLFLLLLWLPDTTREIVMTQSPPTLSLSPGERVTLSCRAS...   \n",
       "\n",
       "                protein_name  \n",
       "0  AF-A0A024R1R8-F1-model_v1  \n",
       "1  AF-A0A024RBG1-F1-model_v1  \n",
       "2  AF-A0A024RCN7-F1-model_v1  \n",
       "3  AF-A0A075B6H5-F1-model_v1  \n",
       "4  AF-A0A075B6H7-F1-model_v1  "
      ]
     },
     "execution_count": 86,
     "metadata": {},
     "output_type": "execute_result"
    }
   ],
   "source": [
    "sequences_df.head()"
   ]
  },
  {
   "cell_type": "markdown",
   "id": "2b8308e2",
   "metadata": {},
   "source": [
    "## Embedding the sequences with SeqVec and ProtTrans\n",
    "Distribute with spark"
   ]
  },
  {
   "cell_type": "code",
   "execution_count": 11,
   "id": "ae3d07b1",
   "metadata": {},
   "outputs": [],
   "source": [
    "# from pyspark.sql.types import *\n",
    "# import pyspark.sql.functions as F\n",
    "# import dask.dataframe as dd\n",
    "# from dask.diagnostics import ProgressBar\n",
    "# from dask.multiprocessing import get as dget\n",
    "import time"
   ]
  },
  {
   "cell_type": "code",
   "execution_count": 12,
   "id": "72f12b3e",
   "metadata": {},
   "outputs": [],
   "source": [
    "# sparkSession = sprk.get_local_spark_session()"
   ]
  },
  {
   "cell_type": "code",
   "execution_count": 13,
   "id": "0b65546d",
   "metadata": {},
   "outputs": [],
   "source": [
    "# sequences_spark_df = sparkSession.createDataFrame(\n",
    "#     sequences_df[[\"db_code\", \"pdbx_seq_one_letter_code\"]]\n",
    "# )"
   ]
  },
  {
   "cell_type": "code",
   "execution_count": 87,
   "id": "4cb46ff6",
   "metadata": {},
   "outputs": [],
   "source": [
    "# sequences_dask = dd.from_pandas(sequences_df, 400)"
   ]
  },
  {
   "cell_type": "code",
   "execution_count": 88,
   "id": "53413dfb",
   "metadata": {},
   "outputs": [],
   "source": [
    "def seqvectorize(x, seqvec): \n",
    "    if isinstance(x, str):\n",
    "        return seqvec.reduce_per_protein(seqvec.embed(x))\n",
    "    else:\n",
    "        return [seqvec.reduce_per_protein(emb) for emb in seqvec.embed_many(x)]\n",
    "# seqvec_udf = F.udf(seqvectorize, ArrayType(ArrayType(FloatType())))"
   ]
  },
  {
   "cell_type": "code",
   "execution_count": 89,
   "id": "467ca6f2",
   "metadata": {},
   "outputs": [
    {
     "name": "stdout",
     "output_type": "stream",
     "text": [
      "initializing model\n"
     ]
    }
   ],
   "source": [
    "print(\"initializing model\")\n",
    "seqvec_model = SeqVecEmbedder()"
   ]
  },
  {
   "cell_type": "code",
   "execution_count": null,
   "id": "45bf9713",
   "metadata": {},
   "outputs": [
    {
     "name": "stdout",
     "output_type": "stream",
     "text": [
      "creating embedding vectors, batch size 100\n"
     ]
    },
    {
     "data": {
      "application/vnd.jupyter.widget-view+json": {
       "model_id": "28c79d4f235649f08dc79fb8535fe8ae",
       "version_major": 2,
       "version_minor": 0
      },
      "text/plain": [
       "  0%|          | 0/21 [00:00<?, ?it/s]"
      ]
     },
     "metadata": {},
     "output_type": "display_data"
    },
    {
     "data": {
      "application/vnd.jupyter.widget-view+json": {
       "model_id": "63781f86760f432f9ee6dfc83ae19fcf",
       "version_major": 2,
       "version_minor": 0
      },
      "text/plain": [
       "  0%|          | 0/10 [00:00<?, ?it/s]"
      ]
     },
     "metadata": {},
     "output_type": "display_data"
    },
    {
     "name": "stdout",
     "output_type": "stream",
     "text": [
      "0 to 99 finished in 192.43411922454834\n",
      "100 to 199 finished in 74.98020577430725\n",
      "200 to 299 finished in 132.2045156955719\n",
      "300 to 399 finished in 121.71075367927551\n",
      "400 to 499 finished in 157.79058170318604\n",
      "500 to 599 finished in 186.30310249328613\n",
      "600 to 699 finished in 566.0692126750946\n",
      "700 to 799 finished in 495.47400188446045\n",
      "800 to 899 finished in 303.3445870876312\n",
      "900 to 999 finished in 295.8824882507324\n"
     ]
    },
    {
     "name": "stderr",
     "output_type": "stream",
     "text": [
      "/tmp/ipykernel_13678/3035725587.py:15: SettingWithCopyWarning: \n",
      "A value is trying to be set on a copy of a slice from a DataFrame.\n",
      "Try using .loc[row_indexer,col_indexer] = value instead\n",
      "\n",
      "See the caveats in the documentation: https://pandas.pydata.org/pandas-docs/stable/user_guide/indexing.html#returning-a-view-versus-a-copy\n",
      "  sub_df[\"seqvec\"] = vectors\n"
     ]
    },
    {
     "data": {
      "application/vnd.jupyter.widget-view+json": {
       "model_id": "486847b0818b4931b7abe243c47d4495",
       "version_major": 2,
       "version_minor": 0
      },
      "text/plain": [
       "  0%|          | 0/10 [00:00<?, ?it/s]"
      ]
     },
     "metadata": {},
     "output_type": "display_data"
    }
   ],
   "source": [
    "names, vectors = [], []\n",
    "batch_size = 100\n",
    "checkpoint_size = 1000\n",
    "\n",
    "print(f\"creating embedding vectors, batch size {batch_size}\")\n",
    "for i in tqdm(range(0, sequences_df.shape[0], checkpoint_size)):\n",
    "    sub_df = sequences_df.iloc[i:i+checkpoint_size,].copy()\n",
    "    vectors = []\n",
    "    for j in tqdm(range(0, sub_df.shape[0], batch_size)):\n",
    "        start = time.time()\n",
    "        batch = sub_df.iloc[j:j+batch_size,]\n",
    "        embs = seqvectorize(list(batch.pdbx_seq_one_letter_code), seqvec_model)\n",
    "        vectors.extend(embs)\n",
    "        print(f\"{j} to {j+batch_size-1} finished in {time.time()-start//1}\")\n",
    "    sub_df[\"seqvec\"] = vectors\n",
    "    sub_df.to_pickle(f\"~/pss/vectorize/SeqVec/seqvec_vectors_{i//checkpoint_size}.pkl\")"
   ]
  },
  {
   "cell_type": "code",
   "execution_count": 174,
   "id": "f344eec0",
   "metadata": {},
   "outputs": [
    {
     "name": "stdout",
     "output_type": "stream",
     "text": [
      "[-0.00934542  0.03230684 -0.18556052 ... -0.14327957  0.19794334\n",
      "  0.12167553]\n"
     ]
    }
   ],
   "source": [
    "print(vectors[0])"
   ]
  },
  {
   "cell_type": "code",
   "execution_count": null,
   "id": "8398b7c2",
   "metadata": {},
   "outputs": [
    {
     "name": "stdout",
     "output_type": "stream",
     "text": [
      "[                                        ] | 0% Completed |  7hr 30min 29.8s"
     ]
    }
   ],
   "source": [
    "with ProgressBar():\n",
    "    res = sequences_dask \\\n",
    "        .map_partitions(lambda df: df.assign(seqvec=seqvectorize(df.pdbx_seq_one_letter_code.tolist(), seqvec_model)), meta={\"pdbx_seq_one_letter_code\": str}) \\\n",
    "        .compute(scheduler='threads')"
   ]
  },
  {
   "cell_type": "code",
   "execution_count": null,
   "id": "d0503186",
   "metadata": {},
   "outputs": [],
   "source": [
    "res.to_parquet('seqvec.parquet')"
   ]
  },
  {
   "cell_type": "code",
   "execution_count": null,
   "id": "d302cf68",
   "metadata": {},
   "outputs": [],
   "source": [
    "# sequences_spark_df \\\n",
    "#     .repartition(1000, \"db_code\") \\\n",
    "#     .withColumn(\"seqvec\", seqvec_udf(F.col(\"pdbx_seq_one_letter_code\"))).show(10)"
   ]
  }
 ],
 "metadata": {
  "environment": {
   "name": "common-cu110.m80",
   "type": "gcloud",
   "uri": "gcr.io/deeplearning-platform-release/base-cu110:m80"
  },
  "kernelspec": {
   "display_name": "Python [conda env:pss]",
   "language": "python",
   "name": "conda-env-pss-py"
  },
  "language_info": {
   "codemirror_mode": {
    "name": "ipython",
    "version": 3
   },
   "file_extension": ".py",
   "mimetype": "text/x-python",
   "name": "python",
   "nbconvert_exporter": "python",
   "pygments_lexer": "ipython3",
   "version": "3.9.7"
  }
 },
 "nbformat": 4,
 "nbformat_minor": 5
}
