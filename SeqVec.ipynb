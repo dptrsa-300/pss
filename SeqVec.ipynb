{
 "cells": [
  {
   "cell_type": "code",
   "execution_count": 2,
   "id": "02516a7b",
   "metadata": {},
   "outputs": [],
   "source": [
    "%load_ext autoreload\n",
    "%autoreload 2"
   ]
  },
  {
   "cell_type": "code",
   "execution_count": 3,
   "id": "e32cf4b6-8925-43ea-8de9-9c75cdecc217",
   "metadata": {},
   "outputs": [],
   "source": [
    "# %%bash\n",
    "# MINICONDA_INSTALLER_SCRIPT=Miniconda3-4.5.4-Linux-x86_64.sh\n",
    "# MINICONDA_PREFIX=/usr/local\n",
    "# wget https://repo.continuum.io/miniconda/$MINICONDA_INSTALLER_SCRIPT\n",
    "# chmod +x $MINICONDA_INSTALLER_SCRIPT\n",
    "# ./$MINICONDA_INSTALLER_SCRIPT -b -f -p $MINICONDA_PREFIX"
   ]
  },
  {
   "cell_type": "code",
   "execution_count": 4,
   "id": "134b0686",
   "metadata": {},
   "outputs": [],
   "source": [
    "import argparse\n",
    "import gzip\n",
    "import os\n",
    "import sys\n",
    "import time\n",
    "import io\n",
    "# from multiprocessing import Pool\n",
    "import multiprocessing\n",
    "\n",
    "import numpy as np\n",
    "import pandas as pd\n",
    "from Bio.PDB import PDBParser\n",
    "from tqdm.auto import tqdm\n",
    "import utils.gcs_utils as gcs\n",
    "import utils.spark_utils as sprk\n",
    "from utils.proteins import *"
   ]
  },
  {
   "cell_type": "code",
   "execution_count": 5,
   "id": "862d44c2",
   "metadata": {},
   "outputs": [],
   "source": [
    "import numpy as np\n",
    "from bio_embeddings.embed import SeqVecEmbedder #, ProtTransBertBFDEmbedder  "
   ]
  },
  {
   "cell_type": "code",
   "execution_count": 6,
   "id": "536a9a1d-2878-4078-9b3e-2f32614f986d",
   "metadata": {},
   "outputs": [],
   "source": [
    "sequences_df = pd.read_parquet(\"/home/jupyter/pss/structure_files/sequences/sequences.parquet\")"
   ]
  },
  {
   "cell_type": "code",
   "execution_count": 7,
   "id": "9fc384e4-c6af-4177-9be9-56673cd63fde",
   "metadata": {},
   "outputs": [
    {
     "data": {
      "text/html": [
       "<div>\n",
       "<style scoped>\n",
       "    .dataframe tbody tr th:only-of-type {\n",
       "        vertical-align: middle;\n",
       "    }\n",
       "\n",
       "    .dataframe tbody tr th {\n",
       "        vertical-align: top;\n",
       "    }\n",
       "\n",
       "    .dataframe thead th {\n",
       "        text-align: right;\n",
       "    }\n",
       "</style>\n",
       "<table border=\"1\" class=\"dataframe\">\n",
       "  <thead>\n",
       "    <tr style=\"text-align: right;\">\n",
       "      <th></th>\n",
       "      <th>pdbx_db_accession</th>\n",
       "      <th>db_code</th>\n",
       "      <th>db_name</th>\n",
       "      <th>pdbx_seq_one_letter_code</th>\n",
       "      <th>protein_filename</th>\n",
       "      <th>protein_id</th>\n",
       "    </tr>\n",
       "  </thead>\n",
       "  <tbody>\n",
       "    <tr>\n",
       "      <th>0</th>\n",
       "      <td>A0A024R1R8</td>\n",
       "      <td>A0A024R1R8_HUMAN</td>\n",
       "      <td>UNP</td>\n",
       "      <td>MSSHEGGKKKALKQPKKQAKEMDEEEKAFKQKQKEEQKKLEVLKAK...</td>\n",
       "      <td>AF-A0A024R1R8-F1-model_v1</td>\n",
       "      <td>A0A024R1R8</td>\n",
       "    </tr>\n",
       "    <tr>\n",
       "      <th>1</th>\n",
       "      <td>A0A024RBG1</td>\n",
       "      <td>NUD4B_HUMAN</td>\n",
       "      <td>UNP</td>\n",
       "      <td>MMKFKPNQTRTYDREGFKKRAACLCFRSEQEDEVLLVSSSRYPDQW...</td>\n",
       "      <td>AF-A0A024RBG1-F1-model_v1</td>\n",
       "      <td>A0A024RBG1</td>\n",
       "    </tr>\n",
       "    <tr>\n",
       "      <th>2</th>\n",
       "      <td>A0A024RCN7</td>\n",
       "      <td>A0A024RCN7_HUMAN</td>\n",
       "      <td>UNP</td>\n",
       "      <td>MERSFVWLSCLDSDSCNLTFRLGEVESHACSPSLLWNLLTQYLPPG...</td>\n",
       "      <td>AF-A0A024RCN7-F1-model_v1</td>\n",
       "      <td>A0A024RCN7</td>\n",
       "    </tr>\n",
       "    <tr>\n",
       "      <th>3</th>\n",
       "      <td>A0A075B6H5</td>\n",
       "      <td>A0A075B6H5_HUMAN</td>\n",
       "      <td>UNP</td>\n",
       "      <td>METVVTTLPREGGVGPSRKMLLLLLLLGPGSGLSAVVSQHPSRVIC...</td>\n",
       "      <td>AF-A0A075B6H5-F1-model_v1</td>\n",
       "      <td>A0A075B6H5</td>\n",
       "    </tr>\n",
       "    <tr>\n",
       "      <th>4</th>\n",
       "      <td>A0A075B6H7</td>\n",
       "      <td>KV37_HUMAN</td>\n",
       "      <td>UNP</td>\n",
       "      <td>MEAPAQLLFLLLLWLPDTTREIVMTQSPPTLSLSPGERVTLSCRAS...</td>\n",
       "      <td>AF-A0A075B6H7-F1-model_v1</td>\n",
       "      <td>A0A075B6H7</td>\n",
       "    </tr>\n",
       "  </tbody>\n",
       "</table>\n",
       "</div>"
      ],
      "text/plain": [
       "  pdbx_db_accession           db_code db_name  \\\n",
       "0        A0A024R1R8  A0A024R1R8_HUMAN     UNP   \n",
       "1        A0A024RBG1       NUD4B_HUMAN     UNP   \n",
       "2        A0A024RCN7  A0A024RCN7_HUMAN     UNP   \n",
       "3        A0A075B6H5  A0A075B6H5_HUMAN     UNP   \n",
       "4        A0A075B6H7        KV37_HUMAN     UNP   \n",
       "\n",
       "                            pdbx_seq_one_letter_code  \\\n",
       "0  MSSHEGGKKKALKQPKKQAKEMDEEEKAFKQKQKEEQKKLEVLKAK...   \n",
       "1  MMKFKPNQTRTYDREGFKKRAACLCFRSEQEDEVLLVSSSRYPDQW...   \n",
       "2  MERSFVWLSCLDSDSCNLTFRLGEVESHACSPSLLWNLLTQYLPPG...   \n",
       "3  METVVTTLPREGGVGPSRKMLLLLLLLGPGSGLSAVVSQHPSRVIC...   \n",
       "4  MEAPAQLLFLLLLWLPDTTREIVMTQSPPTLSLSPGERVTLSCRAS...   \n",
       "\n",
       "            protein_filename  protein_id  \n",
       "0  AF-A0A024R1R8-F1-model_v1  A0A024R1R8  \n",
       "1  AF-A0A024RBG1-F1-model_v1  A0A024RBG1  \n",
       "2  AF-A0A024RCN7-F1-model_v1  A0A024RCN7  \n",
       "3  AF-A0A075B6H5-F1-model_v1  A0A075B6H5  \n",
       "4  AF-A0A075B6H7-F1-model_v1  A0A075B6H7  "
      ]
     },
     "execution_count": 7,
     "metadata": {},
     "output_type": "execute_result"
    }
   ],
   "source": [
    "sequences_df.head()"
   ]
  },
  {
   "cell_type": "markdown",
   "id": "2b8308e2",
   "metadata": {},
   "source": [
    "## Embedding the sequences with SeqVec and ProtTrans\n",
    "Distribute with spark"
   ]
  },
  {
   "cell_type": "code",
   "execution_count": 9,
   "id": "ae3d07b1",
   "metadata": {},
   "outputs": [],
   "source": [
    "import time"
   ]
  },
  {
   "cell_type": "code",
   "execution_count": 10,
   "id": "53413dfb",
   "metadata": {},
   "outputs": [],
   "source": [
    "def seqvectorize(x, seqvec): \n",
    "    if isinstance(x, str):\n",
    "        return seqvec.reduce_per_protein(seqvec.embed(x))\n",
    "    else:\n",
    "        return [seqvec.reduce_per_protein(emb) for emb in seqvec.embed_many(x)]\n",
    "# seqvec_udf = F.udf(seqvectorize, ArrayType(ArrayType(FloatType())))"
   ]
  },
  {
   "cell_type": "code",
   "execution_count": 11,
   "id": "467ca6f2",
   "metadata": {},
   "outputs": [
    {
     "name": "stdout",
     "output_type": "stream",
     "text": [
      "initializing model\n"
     ]
    }
   ],
   "source": [
    "print(\"initializing model\")\n",
    "seqvec_model = SeqVecEmbedder()"
   ]
  },
  {
   "cell_type": "code",
   "execution_count": 15,
   "id": "45bf9713",
   "metadata": {},
   "outputs": [
    {
     "name": "stdout",
     "output_type": "stream",
     "text": [
      "creating embedding vectors, batch size 100\n"
     ]
    },
    {
     "data": {
      "application/vnd.jupyter.widget-view+json": {
       "model_id": "0dd6c14eaa984ef687f9de8dd82d569c",
       "version_major": 2,
       "version_minor": 0
      },
      "text/plain": [
       "  0%|          | 0/6 [00:00<?, ?it/s]"
      ]
     },
     "metadata": {},
     "output_type": "display_data"
    },
    {
     "name": "stdout",
     "output_type": "stream",
     "text": [
      "15000\n"
     ]
    },
    {
     "data": {
      "application/vnd.jupyter.widget-view+json": {
       "model_id": "41ff1e5c9bbd4fe58e96017a333d5513",
       "version_major": 2,
       "version_minor": 0
      },
      "text/plain": [
       "  0%|          | 0/10 [00:00<?, ?it/s]"
      ]
     },
     "metadata": {},
     "output_type": "display_data"
    },
    {
     "name": "stdout",
     "output_type": "stream",
     "text": [
      "0 to 99 finished in 411.20957827568054\n",
      "100 to 199 finished in 271.186429977417\n",
      "200 to 299 finished in 264.38778281211853\n",
      "300 to 399 finished in 276.5215756893158\n",
      "400 to 499 finished in 808.8707845211029\n",
      "500 to 599 finished in 374.82429552078247\n",
      "600 to 699 finished in 562.596595287323\n",
      "700 to 799 finished in 371.99365425109863\n",
      "800 to 899 finished in 643.8899238109589\n",
      "900 to 999 finished in 660.5490741729736\n",
      "16000\n"
     ]
    },
    {
     "data": {
      "application/vnd.jupyter.widget-view+json": {
       "model_id": "de03cc7b0cbe4cfe9e3aabff79474772",
       "version_major": 2,
       "version_minor": 0
      },
      "text/plain": [
       "  0%|          | 0/10 [00:00<?, ?it/s]"
      ]
     },
     "metadata": {},
     "output_type": "display_data"
    },
    {
     "name": "stdout",
     "output_type": "stream",
     "text": [
      "0 to 99 finished in 495.3925771713257\n",
      "100 to 199 finished in 546.2355153560638\n",
      "200 to 299 finished in 381.493305683136\n",
      "300 to 399 finished in 280.0316517353058\n",
      "400 to 499 finished in 236.52947282791138\n",
      "500 to 599 finished in 247.61623358726501\n",
      "600 to 699 finished in 316.8467628955841\n",
      "700 to 799 finished in 431.9063642024994\n",
      "800 to 899 finished in 331.3508496284485\n",
      "900 to 999 finished in 391.0558168888092\n",
      "17000\n"
     ]
    },
    {
     "data": {
      "application/vnd.jupyter.widget-view+json": {
       "model_id": "222ee75586e6424085e0e37d06af3b5b",
       "version_major": 2,
       "version_minor": 0
      },
      "text/plain": [
       "  0%|          | 0/10 [00:00<?, ?it/s]"
      ]
     },
     "metadata": {},
     "output_type": "display_data"
    },
    {
     "name": "stdout",
     "output_type": "stream",
     "text": [
      "0 to 99 finished in 578.3194725513458\n",
      "100 to 199 finished in 311.57104659080505\n",
      "200 to 299 finished in 413.7402150630951\n",
      "300 to 399 finished in 341.6683351993561\n",
      "400 to 499 finished in 322.30323457717896\n",
      "500 to 599 finished in 505.5489311218262\n",
      "600 to 699 finished in 309.78535532951355\n",
      "700 to 799 finished in 331.6617662906647\n",
      "800 to 899 finished in 596.1102843284607\n",
      "900 to 999 finished in 510.7164692878723\n",
      "18000\n"
     ]
    },
    {
     "data": {
      "application/vnd.jupyter.widget-view+json": {
       "model_id": "bef744eac1784a71a0ae14a568cca6d0",
       "version_major": 2,
       "version_minor": 0
      },
      "text/plain": [
       "  0%|          | 0/10 [00:00<?, ?it/s]"
      ]
     },
     "metadata": {},
     "output_type": "display_data"
    },
    {
     "name": "stdout",
     "output_type": "stream",
     "text": [
      "0 to 99 finished in 261.43460965156555\n",
      "100 to 199 finished in 594.2385849952698\n",
      "200 to 299 finished in 515.291285276413\n",
      "300 to 399 finished in 601.2114601135254\n",
      "400 to 499 finished in 306.8615906238556\n",
      "500 to 599 finished in 260.70225977897644\n",
      "600 to 699 finished in 821.8063094615936\n",
      "700 to 799 finished in 617.1864590644836\n",
      "800 to 899 finished in 305.3815903663635\n",
      "900 to 999 finished in 1172.096801996231\n",
      "19000\n"
     ]
    },
    {
     "data": {
      "application/vnd.jupyter.widget-view+json": {
       "model_id": "296dbef98a67452db178e8c5f7938bba",
       "version_major": 2,
       "version_minor": 0
      },
      "text/plain": [
       "  0%|          | 0/10 [00:00<?, ?it/s]"
      ]
     },
     "metadata": {},
     "output_type": "display_data"
    },
    {
     "name": "stdout",
     "output_type": "stream",
     "text": [
      "0 to 99 finished in 308.39139127731323\n",
      "100 to 199 finished in 504.8575084209442\n",
      "200 to 299 finished in 342.30324840545654\n",
      "300 to 399 finished in 348.4340810775757\n",
      "400 to 499 finished in 664.201943397522\n",
      "500 to 599 finished in 633.1881601810455\n",
      "600 to 699 finished in 475.62344574928284\n",
      "700 to 799 finished in 1009.9329454898834\n",
      "800 to 899 finished in 366.2454721927643\n",
      "900 to 999 finished in 452.95703196525574\n",
      "20000\n"
     ]
    },
    {
     "data": {
      "application/vnd.jupyter.widget-view+json": {
       "model_id": "27464d1a2b2c49d2bdd99e42b268c07f",
       "version_major": 2,
       "version_minor": 0
      },
      "text/plain": [
       "  0%|          | 0/6 [00:00<?, ?it/s]"
      ]
     },
     "metadata": {},
     "output_type": "display_data"
    },
    {
     "name": "stdout",
     "output_type": "stream",
     "text": [
      "0 to 99 finished in 237.67015290260315\n",
      "100 to 199 finished in 996.0906887054443\n",
      "200 to 299 finished in 398.6745812892914\n",
      "300 to 399 finished in 329.6600489616394\n",
      "400 to 499 finished in 787.0666515827179\n",
      "500 to 599 finished in 4.087510585784912\n"
     ]
    }
   ],
   "source": [
    "names, vectors = [], []\n",
    "batch_size = 100\n",
    "checkpoint_size = 1000\n",
    "\n",
    "print(f\"creating embedding vectors, batch size {batch_size}\")\n",
    "for i in tqdm(range(15*checkpoint_size, sequences_df.shape[0], checkpoint_size)):    \n",
    "    print(i)\n",
    "    sub_df = sequences_df.iloc[i:i+checkpoint_size,].copy()\n",
    "    vectors = []\n",
    "    for j in tqdm(range(0, sub_df.shape[0], batch_size)):\n",
    "        start = time.time()\n",
    "        batch = sub_df.iloc[j:j+batch_size,]\n",
    "        embs = seqvectorize(list(batch.pdbx_seq_one_letter_code), seqvec_model)\n",
    "        vectors.extend(embs)\n",
    "        print(f\"{j} to {j+batch_size-1} finished in {time.time()-start//1}\")\n",
    "    sub_df[\"seqvec\"] = vectors\n",
    "    sub_df.to_pickle(f\"~/pss/vectorize/SeqVec/seqvec_vectors_{i//checkpoint_size}.pkl\")"
   ]
  },
  {
   "cell_type": "markdown",
   "id": "7b5fbb48-c289-4bf2-8097-116a0cae5e6d",
   "metadata": {},
   "source": [
    "for part 14, contains longest protein TITIN which causes memory issues, here we will iterate through proteins 1 at a time as well as evaluate TITIN in parts"
   ]
  },
  {
   "cell_type": "code",
   "execution_count": null,
   "id": "96b1ca3d-77ce-454a-b979-13f9698c62cb",
   "metadata": {},
   "outputs": [],
   "source": [
    "sequences_df.pdbx_seq_one_letter_code.apply(len).sort_values().tail()"
   ]
  },
  {
   "cell_type": "code",
   "execution_count": null,
   "id": "eb86c64c-d66b-4fa7-8d53-c399aa4a4184",
   "metadata": {},
   "outputs": [],
   "source": [
    "tqdm.pandas()"
   ]
  },
  {
   "cell_type": "code",
   "execution_count": 23,
   "id": "71f0fa24-f13c-409f-ba02-8beacd58adf7",
   "metadata": {},
   "outputs": [],
   "source": [
    "def seqvectorize_parts(x, seqvec_model): \n",
    "    if len(x)<100000:\n",
    "        return seqvectorize(x, seqvec_model)\n",
    "    else:\n",
    "        vectors = []\n",
    "        n_parts = len(x) // 100000 + 1\n",
    "        part_len = len(x) // n_parts\n",
    "        for i in range(n_parts):\n",
    "            vectors.append(seqvectorize(x[i*part_len:(i+1)*part_len], seqvec_model))\n",
    "        return np.mean(np.vstack(vectors), axis=0)"
   ]
  },
  {
   "cell_type": "code",
   "execution_count": null,
   "id": "85352023-b590-468f-b28b-bcab42dadaab",
   "metadata": {},
   "outputs": [],
   "source": [
    "checkpoint_size = 1000\n",
    "print(f\"creating embedding vectors, batch size {batch_size}\")\n",
    "for i in tqdm(range(14*checkpoint_size, 15*checkpoint_size, checkpoint_size)):    \n",
    "    print(i)\n",
    "    sub_df = sequences_df.iloc[i:i+checkpoint_size,].copy()\n",
    "    sub_df[\"seqvec\"] = sub_df.pdbx_seq_one_letter_code.progress_apply(lambda x: seqvectorize_parts(x, seqvec_model))\n",
    "    sub_df.to_pickle(f\"~/pss/vectorize/SeqVec/seqvec_vectors_{i//checkpoint_size}.pkl\")"
   ]
  },
  {
   "cell_type": "code",
   "execution_count": null,
   "id": "7d36a729-bf8f-45a9-a079-e7ccdaaa9f64",
   "metadata": {},
   "outputs": [],
   "source": []
  }
 ],
 "metadata": {
  "environment": {
   "name": "common-cu110.m80",
   "type": "gcloud",
   "uri": "gcr.io/deeplearning-platform-release/base-cu110:m80"
  },
  "kernelspec": {
   "display_name": "Python [conda env:pss]",
   "language": "python",
   "name": "conda-env-pss-py"
  },
  "language_info": {
   "codemirror_mode": {
    "name": "ipython",
    "version": 3
   },
   "file_extension": ".py",
   "mimetype": "text/x-python",
   "name": "python",
   "nbconvert_exporter": "python",
   "pygments_lexer": "ipython3",
   "version": "3.9.7"
  }
 },
 "nbformat": 4,
 "nbformat_minor": 5
}
