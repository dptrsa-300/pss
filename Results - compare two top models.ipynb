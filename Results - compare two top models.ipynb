{
 "cells": [
  {
   "cell_type": "code",
   "execution_count": 1,
   "id": "d87b9e72",
   "metadata": {},
   "outputs": [],
   "source": [
    "from google.cloud import storage\n",
    "import argparse\n",
    "import gzip\n",
    "import os\n",
    "import sys\n",
    "import time\n",
    "from multiprocessing import Pool\n",
    "\n",
    "import numpy as np\n",
    "import pandas as pd\n",
    "from tqdm.auto import tqdm\n",
    "\n",
    "from utils import gcs_utils as gcs\n",
    "from utils import model_and_evaluate_cluster as ev\n",
    "import urllib.parse\n",
    "import urllib.request\n",
    "\n",
    "import io \n",
    "\n",
    "import importlib\n",
    "import hdbscan\n",
    "import networkx as nx \n",
    "import pickle\n",
    "\n",
    "import obonet\n",
    "import seaborn as sns\n",
    "import matplotlib.pyplot as plt"
   ]
  },
  {
   "cell_type": "code",
   "execution_count": 25,
   "id": "16ab10d1",
   "metadata": {},
   "outputs": [],
   "source": [
    "b3_pairs = gcs.download_parquet(\n",
    "    'model_outputs/no_cluster_size_limit/B3EP_A-HDBSCAN-CurveNet-all_protein_combos_per_cluster.parquet')\n",
    "\n",
    "b3 = b3_pairs[['query_protein', 'cluster']].drop_duplicates()\n",
    "b3.rename(columns={'query_protein':'protein'}, inplace=True)\n",
    "b3 = b3_pairs.pivot_table(index=['cluster'],\n",
    "              values='query_protein',\n",
    "              aggfunc=[pd.Series.nunique, len]).reset_index()\n",
    "b3.columns=['cluster', 'num_proteins', 'num_pairs']"
   ]
  },
  {
   "cell_type": "code",
   "execution_count": 26,
   "id": "b7963302",
   "metadata": {},
   "outputs": [],
   "source": []
  },
  {
   "cell_type": "code",
   "execution_count": 28,
   "id": "8a9f9066",
   "metadata": {},
   "outputs": [],
   "source": []
  },
  {
   "cell_type": "code",
   "execution_count": 46,
   "id": "6698f039",
   "metadata": {},
   "outputs": [
    {
     "data": {
      "text/plain": [
       "(3947, 3)"
      ]
     },
     "execution_count": 46,
     "metadata": {},
     "output_type": "execute_result"
    }
   ],
   "source": [
    "c3.shape"
   ]
  },
  {
   "cell_type": "code",
   "execution_count": null,
   "id": "d482e990",
   "metadata": {},
   "outputs": [],
   "source": []
  },
  {
   "cell_type": "code",
   "execution_count": null,
   "id": "61eb07a7",
   "metadata": {},
   "outputs": [],
   "source": []
  },
  {
   "cell_type": "code",
   "execution_count": 31,
   "id": "009e3727",
   "metadata": {},
   "outputs": [],
   "source": [
    "c3_pairs = gcs.download_parquet(\n",
    "    'model_outputs/no_cluster_size_limit/C3EP_B-OPTICS-Novel-COS-2-all_protein_combos_per_cluster.parquet')\n",
    "\n",
    "c3 = c3_pairs[['query_protein', 'cluster']].drop_duplicates()\n",
    "c3.rename(columns={'query_protein':'protein'}, inplace=True)\n",
    "c3 = c3_pairs.pivot_table(index=['cluster'],\n",
    "              values='query_protein',\n",
    "              aggfunc=[pd.Series.nunique, len]).reset_index()\n",
    "c3.columns=['cluster', 'num_proteins', 'num_pairs']"
   ]
  },
  {
   "cell_type": "code",
   "execution_count": 32,
   "id": "b148b575",
   "metadata": {},
   "outputs": [
    {
     "data": {
      "text/plain": [
       "(833, 3)"
      ]
     },
     "execution_count": 32,
     "metadata": {},
     "output_type": "execute_result"
    }
   ],
   "source": [
    "b3.shape"
   ]
  },
  {
   "cell_type": "code",
   "execution_count": 35,
   "id": "7625da8a",
   "metadata": {},
   "outputs": [
    {
     "data": {
      "text/plain": [
       "(3947, 3)"
      ]
     },
     "execution_count": 35,
     "metadata": {},
     "output_type": "execute_result"
    }
   ],
   "source": [
    "c3.shape"
   ]
  },
  {
   "cell_type": "code",
   "execution_count": 43,
   "id": "225ab87b",
   "metadata": {},
   "outputs": [
    {
     "data": {
      "text/html": [
       "<div>\n",
       "<style scoped>\n",
       "    .dataframe tbody tr th:only-of-type {\n",
       "        vertical-align: middle;\n",
       "    }\n",
       "\n",
       "    .dataframe tbody tr th {\n",
       "        vertical-align: top;\n",
       "    }\n",
       "\n",
       "    .dataframe thead th {\n",
       "        text-align: right;\n",
       "    }\n",
       "</style>\n",
       "<table border=\"1\" class=\"dataframe\">\n",
       "  <thead>\n",
       "    <tr style=\"text-align: right;\">\n",
       "      <th></th>\n",
       "      <th>cluster</th>\n",
       "      <th>num_proteins</th>\n",
       "      <th>num_pairs</th>\n",
       "    </tr>\n",
       "  </thead>\n",
       "  <tbody>\n",
       "    <tr>\n",
       "      <th>0</th>\n",
       "      <td>0</td>\n",
       "      <td>16</td>\n",
       "      <td>240</td>\n",
       "    </tr>\n",
       "    <tr>\n",
       "      <th>1</th>\n",
       "      <td>1</td>\n",
       "      <td>12</td>\n",
       "      <td>132</td>\n",
       "    </tr>\n",
       "    <tr>\n",
       "      <th>2</th>\n",
       "      <td>2</td>\n",
       "      <td>5</td>\n",
       "      <td>20</td>\n",
       "    </tr>\n",
       "    <tr>\n",
       "      <th>3</th>\n",
       "      <td>3</td>\n",
       "      <td>23</td>\n",
       "      <td>506</td>\n",
       "    </tr>\n",
       "    <tr>\n",
       "      <th>4</th>\n",
       "      <td>4</td>\n",
       "      <td>5</td>\n",
       "      <td>20</td>\n",
       "    </tr>\n",
       "  </tbody>\n",
       "</table>\n",
       "</div>"
      ],
      "text/plain": [
       "   cluster  num_proteins  num_pairs\n",
       "0        0            16        240\n",
       "1        1            12        132\n",
       "2        2             5         20\n",
       "3        3            23        506\n",
       "4        4             5         20"
      ]
     },
     "execution_count": 43,
     "metadata": {},
     "output_type": "execute_result"
    }
   ],
   "source": [
    "b3.head()"
   ]
  },
  {
   "cell_type": "code",
   "execution_count": 44,
   "id": "2ed5e661",
   "metadata": {},
   "outputs": [
    {
     "data": {
      "text/plain": [
       "<AxesSubplot:xlabel='num_proteins', ylabel='Count'>"
      ]
     },
     "execution_count": 44,
     "metadata": {},
     "output_type": "execute_result"
    },
    {
     "data": {
      "image/png": "[encoded data removed]",
      "text/plain": [
       "<Figure size 432x288 with 1 Axes>"
      ]
     },
     "metadata": {
      "needs_background": "light"
     },
     "output_type": "display_data"
    }
   ],
   "source": [
    "sns.histplot(data=b3, x=\"num_proteins\")\n",
    "\n"
   ]
  },
  {
   "cell_type": "code",
   "execution_count": 45,
   "id": "72cd5648",
   "metadata": {
    "scrolled": true
   },
   "outputs": [
    {
     "data": {
      "text/plain": [
       "5     175\n",
       "6     133\n",
       "7      72\n",
       "8      69\n",
       "9      59\n",
       "10     38\n",
       "11     34\n",
       "12     32\n",
       "14     21\n",
       "13     19\n",
       "Name: num_proteins, dtype: int64"
      ]
     },
     "execution_count": 45,
     "metadata": {},
     "output_type": "execute_result"
    }
   ],
   "source": [
    "b3.num_proteins.value_counts()[:10]"
   ]
  },
  {
   "cell_type": "code",
   "execution_count": 38,
   "id": "ab286719",
   "metadata": {},
   "outputs": [
    {
     "data": {
      "text/plain": [
       "<AxesSubplot:xlabel='num_proteins', ylabel='Count'>"
      ]
     },
     "execution_count": 38,
     "metadata": {},
     "output_type": "execute_result"
    },
    {
     "data": {
      "image/png": "[encoded data removed]",
      "text/plain": [
       "<Figure size 432x288 with 1 Axes>"
      ]
     },
     "metadata": {
      "needs_background": "light"
     },
     "output_type": "display_data"
    }
   ],
   "source": [
    "data = c3\n",
    "sns.histplot(data=data, x=\"num_proteins\")\n",
    "\n"
   ]
  },
  {
   "cell_type": "code",
   "execution_count": 41,
   "id": "a4261a12",
   "metadata": {},
   "outputs": [
    {
     "data": {
      "text/plain": [
       "2     2327\n",
       "3      945\n",
       "4      399\n",
       "5      160\n",
       "6       60\n",
       "7       25\n",
       "8       14\n",
       "9        7\n",
       "11       5\n",
       "13       2\n",
       "Name: num_proteins, dtype: int64"
      ]
     },
     "execution_count": 41,
     "metadata": {},
     "output_type": "execute_result"
    }
   ],
   "source": [
    "c3.num_proteins.value_counts()[:10]"
   ]
  },
  {
   "cell_type": "code",
   "execution_count": null,
   "id": "bb99ea23",
   "metadata": {},
   "outputs": [],
   "source": []
  },
  {
   "cell_type": "markdown",
   "id": "1cfeb23e",
   "metadata": {},
   "source": [
    "Comparing B3-EP-A vs C3-EP-B\n",
    "\n",
    "Cluster size: \n",
    "* B3epa cluster size 5+. And distribution is pretty even\n",
    "* C3epb cluster size is 2+. Out of 4,000 cluster, over half of them have just two proteins. "
   ]
  },
  {
   "cell_type": "code",
   "execution_count": 21,
   "id": "54332d50",
   "metadata": {},
   "outputs": [
    {
     "data": {
      "text/plain": [
       "<AxesSubplot:xlabel='protein', ylabel='Count'>"
      ]
     },
     "execution_count": 21,
     "metadata": {},
     "output_type": "execute_result"
    },
    {
     "data": {
      "image/png": "[encoded data removed]",
      "text/plain": [
       "<Figure size 432x288 with 1 Axes>"
      ]
     },
     "metadata": {
      "needs_background": "light"
     },
     "output_type": "display_data"
    }
   ],
   "source": [
    "data = c3.pivot_table(index='cluster',\n",
    "              values='protein',\n",
    "              aggfunc=len)\n",
    "\n",
    "sns.histplot(data=data, x=\"protein\")\n",
    "\n"
   ]
  },
  {
   "cell_type": "code",
   "execution_count": 60,
   "id": "26d9046f",
   "metadata": {},
   "outputs": [
    {
     "data": {
      "text/plain": [
       "23886"
      ]
     },
     "execution_count": 60,
     "metadata": {},
     "output_type": "execute_result"
    }
   ],
   "source": [
    "c3.num_pairs.sum()"
   ]
  },
  {
   "cell_type": "code",
   "execution_count": null,
   "id": "3b7c0bac",
   "metadata": {},
   "outputs": [],
   "source": []
  },
  {
   "cell_type": "markdown",
   "id": "b7b2451a",
   "metadata": {},
   "source": [
    "# overlapping proteins?"
   ]
  },
  {
   "cell_type": "code",
   "execution_count": 58,
   "id": "f79d041d",
   "metadata": {},
   "outputs": [
    {
     "data": {
      "text/plain": [
       "7391"
      ]
     },
     "execution_count": 58,
     "metadata": {},
     "output_type": "execute_result"
    }
   ],
   "source": [
    "len(set(b3_pairs.query_protein).intersection(set(c3_pairs.query_protein)))"
   ]
  },
  {
   "cell_type": "code",
   "execution_count": null,
   "id": "f08644d6",
   "metadata": {},
   "outputs": [],
   "source": []
  }
 ],
 "metadata": {
  "kernelspec": {
   "display_name": "Python 3 (ipykernel)",
   "language": "python",
   "name": "python3"
  },
  "language_info": {
   "codemirror_mode": {
    "name": "ipython",
    "version": 3
   },
   "file_extension": ".py",
   "mimetype": "text/x-python",
   "name": "python",
   "nbconvert_exporter": "python",
   "pygments_lexer": "ipython3",
   "version": "3.9.7"
  },
  "toc": {
   "base_numbering": 1,
   "nav_menu": {},
   "number_sections": true,
   "sideBar": true,
   "skip_h1_title": false,
   "title_cell": "Table of Contents",
   "title_sidebar": "Contents",
   "toc_cell": false,
   "toc_position": {},
   "toc_section_display": true,
   "toc_window_display": false
  }
 },
 "nbformat": 4,
 "nbformat_minor": 5
}
