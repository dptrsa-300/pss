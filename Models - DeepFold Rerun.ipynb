{
 "cells": [
  {
   "cell_type": "code",
   "execution_count": 1,
   "id": "f4ced124",
   "metadata": {},
   "outputs": [],
   "source": [
    "from utils import gcs_utils as gcs\n",
    "from utils import model_and_evaluate_cluster as ev\n",
    "\n",
    "import numpy as np\n",
    "import pandas as pd\n",
    "from sklearn.metrics.pairwise import euclidean_distances\n",
    "import matplotlib.pyplot as plt\n",
    "\n",
    "import importlib\n",
    "import hdbscan\n",
    "from sklearn.cluster import DBSCAN\n",
    "import io\n",
    "import os\n",
    "import pickle\n",
    "import datetime\n",
    "\n",
    "\n",
    "from sklearn.neighbors import NearestNeighbors\n",
    "import seaborn as sns\n",
    "sns.set()\n",
    "\n",
    "from sklearn.cluster import KMeans\n",
    "from kneed import KneeLocator\n",
    "import copy\n",
    "from sklearn.manifold import TSNE \n",
    "\n",
    "import matplotlib.colors as mcolors\n",
    "from matplotlib import cm \n"
   ]
  },
  {
   "cell_type": "code",
   "execution_count": 2,
   "id": "79853767",
   "metadata": {},
   "outputs": [],
   "source": [
    "prefix = 'embeddings/DeepFold/withMask=false/'\n",
    "keys = gcs.list_file_paths(prefix)[1:]"
   ]
  },
  {
   "cell_type": "code",
   "execution_count": 3,
   "id": "63850acb",
   "metadata": {},
   "outputs": [
    {
     "name": "stdout",
     "output_type": "stream",
     "text": [
      "embeddings/DeepFold/withMask=false/embeddings_00.csv\n",
      "embeddings/DeepFold/withMask=false/embeddings_01.csv\n",
      "embeddings/DeepFold/withMask=false/embeddings_02.csv\n",
      "embeddings/DeepFold/withMask=false/embeddings_03.csv\n",
      "embeddings/DeepFold/withMask=false/embeddings_04.csv\n",
      "embeddings/DeepFold/withMask=false/embeddings_05.csv\n",
      "embeddings/DeepFold/withMask=false/embeddings_06.csv\n",
      "embeddings/DeepFold/withMask=false/embeddings_07.csv\n",
      "embeddings/DeepFold/withMask=false/embeddings_08.csv\n",
      "embeddings/DeepFold/withMask=false/embeddings_09.csv\n",
      "embeddings/DeepFold/withMask=false/embeddings_10.csv\n",
      "embeddings/DeepFold/withMask=false/embeddings_11.csv\n",
      "embeddings/DeepFold/withMask=false/embeddings_12.csv\n",
      "embeddings/DeepFold/withMask=false/embeddings_13.csv\n",
      "embeddings/DeepFold/withMask=false/embeddings_14.csv\n",
      "embeddings/DeepFold/withMask=false/embeddings_15.csv\n",
      "embeddings/DeepFold/withMask=false/embeddings_16.csv\n",
      "embeddings/DeepFold/withMask=false/embeddings_17.csv\n",
      "embeddings/DeepFold/withMask=false/embeddings_18.csv\n",
      "embeddings/DeepFold/withMask=false/embeddings_19.csv\n",
      "embeddings/DeepFold/withMask=false/embeddings_20.csv\n"
     ]
    }
   ],
   "source": [
    "X_deepfold, missing_deepfold, protein_id_deepfold = ev.import_deepfold_embeddings(keys)"
   ]
  },
  {
   "cell_type": "code",
   "execution_count": 4,
   "id": "12857aec",
   "metadata": {},
   "outputs": [
    {
     "name": "stdout",
     "output_type": "stream",
     "text": [
      "(20301, 398)\n",
      "(20301,)\n"
     ]
    }
   ],
   "source": [
    "print(X_deepfold.shape)\n",
    "print(protein_id_deepfold.shape)"
   ]
  },
  {
   "cell_type": "code",
   "execution_count": 5,
   "id": "cfb3d6e5",
   "metadata": {},
   "outputs": [
    {
     "name": "stdout",
     "output_type": "stream",
     "text": [
      "(20301,)\n",
      "(20301,)\n",
      "(19325,)\n",
      "(20301, 398)\n",
      "(19325, 398)\n"
     ]
    }
   ],
   "source": [
    "protein_conf = gcs.download_parquet('structure_files/proteins_and_confidences.parquet')\n",
    "\n",
    "mask = np.isin(protein_id_deepfold,\n",
    "               np.array(protein_conf[protein_conf.confidence!='D'].protein_id)\n",
    "              )\n",
    "\n",
    "protein_id_deepfold_ep = protein_id_deepfold[mask]\n",
    "X_deepfold_ep = X_deepfold[mask]\n",
    "\n",
    "print(mask.shape)\n",
    "print(protein_id_deepfold.shape)\n",
    "print(protein_id_deepfold_ep.shape)\n",
    "print(X_deepfold.shape)\n",
    "print(X_deepfold_ep.shape)"
   ]
  },
  {
   "cell_type": "code",
   "execution_count": 16,
   "id": "1a1b249a",
   "metadata": {},
   "outputs": [
    {
     "name": "stderr",
     "output_type": "stream",
     "text": [
      "/Users/haeranglee/opt/anaconda3/envs/pss/lib/python3.9/site-packages/sklearn/utils/validation.py:63: FutureWarning: Arrays of bytes/strings is being converted to decimal numbers if dtype='numeric'. This behavior is deprecated in 0.24 and will be removed in 1.1 (renaming of 0.26). Please convert your data to numeric values explicitly instead.\n",
      "  return f(*args, **kwargs)\n"
     ]
    }
   ],
   "source": [
    "a1ep_model = DBSCAN(eps=0.0500, \n",
    "                  min_samples=2,\n",
    "                  metric='cosine').fit(X_deepfold_ep)"
   ]
  },
  {
   "cell_type": "code",
   "execution_count": 7,
   "id": "d963e808",
   "metadata": {},
   "outputs": [
    {
     "name": "stderr",
     "output_type": "stream",
     "text": [
      "/Users/haeranglee/opt/anaconda3/envs/pss/lib/python3.9/site-packages/sklearn/utils/validation.py:63: FutureWarning: Arrays of bytes/strings is being converted to decimal numbers if dtype='numeric'. This behavior is deprecated in 0.24 and will be removed in 1.1 (renaming of 0.26). Please convert your data to numeric values explicitly instead.\n",
      "  return f(*args, **kwargs)\n"
     ]
    },
    {
     "data": {
      "text/plain": [
       "HDBSCAN(algorithm='generic', metric='cosine', min_samples=1)"
      ]
     },
     "execution_count": 7,
     "metadata": {},
     "output_type": "execute_result"
    }
   ],
   "source": [
    "b1ep_model = hdbscan.HDBSCAN(algorithm='generic', \n",
    "                                     alpha= 1.0, \n",
    "                                     approx_min_span_tree=True,\n",
    "                                     gen_min_span_tree=False, \n",
    "                                     leaf_size=40, \n",
    "                                     metric='cosine', \n",
    "                                     min_cluster_size= 5, \n",
    "                                     min_samples= 1, \n",
    "                                     p=None)\n",
    "b1ep_model.fit(X_deepfold_ep)"
   ]
  },
  {
   "cell_type": "code",
   "execution_count": 8,
   "id": "539aafef",
   "metadata": {},
   "outputs": [
    {
     "name": "stderr",
     "output_type": "stream",
     "text": [
      "/Users/haeranglee/opt/anaconda3/envs/pss/lib/python3.9/site-packages/sklearn/utils/validation.py:63: FutureWarning: Arrays of bytes/strings is being converted to decimal numbers if dtype='numeric'. This behavior is deprecated in 0.24 and will be removed in 1.1 (renaming of 0.26). Please convert your data to numeric values explicitly instead.\n",
      "  return f(*args, **kwargs)\n"
     ]
    },
    {
     "data": {
      "text/plain": [
       "HDBSCAN(algorithm='generic', metric='cosine', min_samples=5)"
      ]
     },
     "execution_count": 8,
     "metadata": {},
     "output_type": "execute_result"
    }
   ],
   "source": [
    "b1epa_model = hdbscan.HDBSCAN(algorithm='generic', \n",
    "                                     alpha= 1.0, \n",
    "                                     approx_min_span_tree=True,\n",
    "                                     gen_min_span_tree=False, \n",
    "                                     leaf_size=40, \n",
    "                                     metric='cosine', \n",
    "                                     min_cluster_size= 5, \n",
    "                                     min_samples= 5, \n",
    "                                     p=None)\n",
    "b1epa_model.fit(X_deepfold_ep)"
   ]
  },
  {
   "cell_type": "code",
   "execution_count": 9,
   "id": "de52bc52",
   "metadata": {},
   "outputs": [
    {
     "name": "stderr",
     "output_type": "stream",
     "text": [
      "/Users/haeranglee/opt/anaconda3/envs/pss/lib/python3.9/site-packages/sklearn/utils/validation.py:63: FutureWarning: Arrays of bytes/strings is being converted to decimal numbers if dtype='numeric'. This behavior is deprecated in 0.24 and will be removed in 1.1 (renaming of 0.26). Please convert your data to numeric values explicitly instead.\n",
      "  return f(*args, **kwargs)\n"
     ]
    },
    {
     "data": {
      "text/plain": [
       "HDBSCAN(algorithm='generic', metric='cosine', min_cluster_size=10,\n",
       "        min_samples=1)"
      ]
     },
     "execution_count": 9,
     "metadata": {},
     "output_type": "execute_result"
    }
   ],
   "source": [
    "b1epb_model = hdbscan.HDBSCAN(algorithm='generic', \n",
    "                                     alpha= 1.0, \n",
    "                                     approx_min_span_tree=True,\n",
    "                                     gen_min_span_tree=False, \n",
    "                                     leaf_size=40, \n",
    "                                     metric='cosine', \n",
    "                                     min_cluster_size= 10, \n",
    "                                     min_samples= 1, \n",
    "                                     p=None)\n",
    "b1epb_model.fit(X_deepfold_ep)"
   ]
  },
  {
   "cell_type": "code",
   "execution_count": 10,
   "id": "c2eb515c",
   "metadata": {},
   "outputs": [
    {
     "name": "stderr",
     "output_type": "stream",
     "text": [
      "/Users/haeranglee/opt/anaconda3/envs/pss/lib/python3.9/site-packages/sklearn/utils/validation.py:63: FutureWarning: Arrays of bytes/strings is being converted to decimal numbers if dtype='numeric'. This behavior is deprecated in 0.24 and will be removed in 1.1 (renaming of 0.26). Please convert your data to numeric values explicitly instead.\n",
      "  return f(*args, **kwargs)\n"
     ]
    },
    {
     "data": {
      "text/plain": [
       "HDBSCAN(algorithm='generic', metric='cosine', min_cluster_size=10,\n",
       "        min_samples=5)"
      ]
     },
     "execution_count": 10,
     "metadata": {},
     "output_type": "execute_result"
    }
   ],
   "source": [
    "b1epc_model = hdbscan.HDBSCAN(algorithm='generic', \n",
    "                                     alpha= 1.0, \n",
    "                                     approx_min_span_tree=True,\n",
    "                                     gen_min_span_tree=False, \n",
    "                                     leaf_size=40, \n",
    "                                     metric='cosine', \n",
    "                                     min_cluster_size= 10, \n",
    "                                     min_samples= 5, \n",
    "                                     p=None)\n",
    "b1epc_model.fit(X_deepfold_ep)"
   ]
  },
  {
   "cell_type": "code",
   "execution_count": null,
   "id": "e7a5d913",
   "metadata": {},
   "outputs": [],
   "source": []
  },
  {
   "cell_type": "code",
   "execution_count": 11,
   "id": "47b20818",
   "metadata": {},
   "outputs": [],
   "source": [
    "models = [('a1ep_model', a1ep_model),\n",
    "    ('b1ep_model', b1ep_model),\n",
    "\n",
    "    ('b1epa_model', b1epa_model),\n",
    "    ('b1epb_model', b1epb_model),\n",
    "    ('b1epc_model', b1epc_model)]"
   ]
  },
  {
   "cell_type": "code",
   "execution_count": 12,
   "id": "081b0e3e",
   "metadata": {},
   "outputs": [],
   "source": [
    "for model_name, model in models:\n",
    "    file_path = 'model_outputs/no_cluster_size_limit/deepfold_redo/'+model_name +'.pkl'\n",
    "    with open(file_path, 'wb') as file:\n",
    "        pickle.dump(model, file)"
   ]
  },
  {
   "cell_type": "code",
   "execution_count": 19,
   "id": "6ed97445",
   "metadata": {},
   "outputs": [],
   "source": [
    "asp = ev.download_asp()"
   ]
  },
  {
   "cell_type": "code",
   "execution_count": 21,
   "id": "78d77147",
   "metadata": {},
   "outputs": [],
   "source": [
    "# Download sequences info \n",
    "sequences = gcs.download_parquet(\"structure_files/sequences/sequences.parquet\")\n",
    "sequences[\"seq_len\"] = sequences[\"pdbx_seq_one_letter_code\"].str.len()"
   ]
  },
  {
   "cell_type": "code",
   "execution_count": 22,
   "id": "7c76b9d5",
   "metadata": {},
   "outputs": [
    {
     "name": "stdout",
     "output_type": "stream",
     "text": [
      "DBSCAN(eps=0.05, metric='cosine', min_samples=2) started processing:  2021-12-03 07:52:30\n"
     ]
    },
    {
     "name": "stderr",
     "output_type": "stream",
     "text": [
      "/Users/haeranglee/opt/anaconda3/envs/pss/lib/python3.9/site-packages/sklearn/utils/validation.py:63: FutureWarning: Arrays of bytes/strings is being converted to decimal numbers if dtype='numeric'. This behavior is deprecated in 0.24 and will be removed in 1.1 (renaming of 0.26). Please convert your data to numeric values explicitly instead.\n",
      "  return f(*args, **kwargs)\n",
      "/Users/haeranglee/opt/anaconda3/envs/pss/lib/python3.9/site-packages/sklearn/utils/validation.py:63: FutureWarning: Arrays of bytes/strings is being converted to decimal numbers if dtype='numeric'. This behavior is deprecated in 0.24 and will be removed in 1.1 (renaming of 0.26). Please convert your data to numeric values explicitly instead.\n",
      "  return f(*args, **kwargs)\n"
     ]
    },
    {
     "name": "stdout",
     "output_type": "stream",
     "text": [
      "{'Model': \"DBSCAN(eps=0.05, metric='cosine', min_samples=2)\", 'Number of clusters categories (incl. noise)': 1222, 'Number of clusters (excl. noise)': 1221, 'Noise': 9923, 'Largest non-noise cluster': 4571, 'Noise as % of total': 0.5134799482535576, 'Noise and largest cluster as % of total': 0.750012936610608, 'Silhouette score': -0.0003605732425635734, 'DB score': 0.9327115232261285}\n",
      "DBSCAN(eps=0.05, metric='cosine', min_samples=2) - started combo generation:  2021-12-03 07:52:36\n",
      "Combo duration :  0:13:16.110444\n",
      "DBSCAN(eps=0.05, metric='cosine', min_samples=2) - started confidence level generation & seq stats:  2021-12-03 08:05:57\n",
      "Completed processing A1EP-DBSCAN-DeepFold_EP\n",
      "DBSCAN(eps=0.05, metric='cosine', min_samples=2) - completed processing:  2021-12-03 08:06:03\n",
      "\n",
      "HDBSCAN(algorithm='generic', metric='cosine', min_samples=5) started processing:  2021-12-03 08:06:03\n"
     ]
    },
    {
     "name": "stderr",
     "output_type": "stream",
     "text": [
      "/Users/haeranglee/opt/anaconda3/envs/pss/lib/python3.9/site-packages/sklearn/utils/validation.py:63: FutureWarning: Arrays of bytes/strings is being converted to decimal numbers if dtype='numeric'. This behavior is deprecated in 0.24 and will be removed in 1.1 (renaming of 0.26). Please convert your data to numeric values explicitly instead.\n",
      "  return f(*args, **kwargs)\n",
      "/Users/haeranglee/opt/anaconda3/envs/pss/lib/python3.9/site-packages/sklearn/utils/validation.py:63: FutureWarning: Arrays of bytes/strings is being converted to decimal numbers if dtype='numeric'. This behavior is deprecated in 0.24 and will be removed in 1.1 (renaming of 0.26). Please convert your data to numeric values explicitly instead.\n",
      "  return f(*args, **kwargs)\n"
     ]
    },
    {
     "name": "stdout",
     "output_type": "stream",
     "text": [
      "{'Model': \"HDBSCAN(algorithm='generic', metric='cosine', min_samples=5)\", 'Number of clusters categories (incl. noise)': 234, 'Number of clusters (excl. noise)': 233, 'Noise': 15414, 'Largest non-noise cluster': 308, 'Noise as % of total': 0.7976196636481242, 'Noise and largest cluster as % of total': 0.8135575679172057, 'Silhouette score': 0.42410288643883143, 'DB score': 0.9138225279596784, 'Length of embedding': 398}\n",
      "HDBSCAN(algorithm='generic', metric='cosine', min_samples=5) - started combo generation:  2021-12-03 08:06:05\n",
      "Combo duration :  0:00:00.857618\n",
      "HDBSCAN(algorithm='generic', metric='cosine', min_samples=5) - started confidence level generation & seq stats:  2021-12-03 08:06:06\n",
      "Completed processing B1EPA-HDBSCAN-DeepFold_EP\n",
      "HDBSCAN(algorithm='generic', metric='cosine', min_samples=5) - completed processing:  2021-12-03 08:06:10\n",
      "\n",
      "HDBSCAN(algorithm='generic', metric='cosine', min_cluster_size=10,\n",
      "        min_samples=5) started processing:  2021-12-03 08:06:10\n"
     ]
    },
    {
     "name": "stderr",
     "output_type": "stream",
     "text": [
      "/Users/haeranglee/opt/anaconda3/envs/pss/lib/python3.9/site-packages/sklearn/utils/validation.py:63: FutureWarning: Arrays of bytes/strings is being converted to decimal numbers if dtype='numeric'. This behavior is deprecated in 0.24 and will be removed in 1.1 (renaming of 0.26). Please convert your data to numeric values explicitly instead.\n",
      "  return f(*args, **kwargs)\n",
      "/Users/haeranglee/opt/anaconda3/envs/pss/lib/python3.9/site-packages/sklearn/utils/validation.py:63: FutureWarning: Arrays of bytes/strings is being converted to decimal numbers if dtype='numeric'. This behavior is deprecated in 0.24 and will be removed in 1.1 (renaming of 0.26). Please convert your data to numeric values explicitly instead.\n",
      "  return f(*args, **kwargs)\n"
     ]
    },
    {
     "name": "stdout",
     "output_type": "stream",
     "text": [
      "{'Model': \"HDBSCAN(algorithm='generic', metric='cosine', min_cluster_size=10,\\n        min_samples=5)\", 'Number of clusters categories (incl. noise)': 121, 'Number of clusters (excl. noise)': 120, 'Noise': 15191, 'Largest non-noise cluster': 754, 'Noise as % of total': 0.7860802069857697, 'Noise and largest cluster as % of total': 0.8250970245795601, 'Silhouette score': 0.40334519037732136, 'DB score': 0.9634986755259322, 'Length of embedding': 398}\n",
      "HDBSCAN(algorithm='generic', metric='cosine', min_cluster_size=10,\n",
      "        min_samples=5) - started combo generation:  2021-12-03 08:06:12\n",
      "Combo duration :  0:00:00.711368\n",
      "HDBSCAN(algorithm='generic', metric='cosine', min_cluster_size=10,\n",
      "        min_samples=5) - started confidence level generation & seq stats:  2021-12-03 08:06:13\n",
      "Completed processing B1EPC-HDBSCAN-DeepFold_EP\n",
      "HDBSCAN(algorithm='generic', metric='cosine', min_cluster_size=10,\n",
      "        min_samples=5) - completed processing:  2021-12-03 08:06:17\n",
      "\n",
      "Current date and time : \n",
      "2021-12-03 08:06:17\n"
     ]
    }
   ],
   "source": [
    "prefix = 'model_outputs/no_cluster_size_limit/deepfold_redo/'\n",
    "\n",
    "\n",
    "models = {\n",
    "          'A1EP': ('DBSCAN' , 'DeepFold_EP',  a1ep_model,  protein_id_deepfold_ep, X_deepfold_ep),\n",
    "          'B1EPA': ('HDBSCAN', 'DeepFold_EP', b1epa_model, protein_id_deepfold_ep, X_deepfold_ep),\n",
    "          'B1EPC': ('HDBSCAN', 'DeepFold_EP', b1epc_model, protein_id_deepfold_ep, X_deepfold_ep),\n",
    "\n",
    "      }\n",
    "\n",
    "for model_code, vals in models.items():\n",
    "    algo, embed, model, protein_id, X = vals \n",
    "\n",
    "    print (model, \"started processing: \", datetime.datetime.now().strftime(\"%Y-%m-%d %H:%M:%S\"))\n",
    "    # Model stats including standard cluster similarity eval \n",
    "    model_overview_stats = ev.model_overview(model, X)\n",
    "    with open(prefix + model_code + '-' + algo + '-' + embed + '-model_overview.pkl', 'wb') as file:\n",
    "        pickle.dump(model_overview_stats, file)\n",
    "    print(model_overview_stats)\n",
    "        \n",
    "    # Do more eval\n",
    "    clusters = pd.DataFrame({'protein':      protein_id, \n",
    "                            'cluster_label': model.labels_})\n",
    "    \n",
    "    with open(prefix+ model_code +'_model.pkl', 'wb') as file:\n",
    "        pickle.dump(model, file)\n",
    "    \n",
    "    with open(prefix+ model_code +'_clusters.pkl', 'wb') as file:\n",
    "        pickle.dump(clusters, file)\n",
    "    \n",
    "    \n",
    "    started_combos = datetime.datetime.now()\n",
    "    print (model, \"- started combo generation: \", datetime.datetime.now().strftime(\"%Y-%m-%d %H:%M:%S\"))\n",
    "\n",
    "    # output all protein combos for TM Align calc \n",
    "    all_protein_combos_per_cluster = ev.find_all_protein_combos_per_cluster(clusters, \n",
    "                                                                            exclude_unclustered=True, \n",
    "                                                                            max_clus_size=99999,\n",
    "                                                                            rand_seed=1710)\n",
    "    \n",
    "    print(\"Combo duration : \", datetime.datetime.now() - started_combos)\n",
    "    all_protein_combos_per_cluster.to_parquet(prefix + model_code + '-' + algo + '-' + embed + \"-all_protein_combos_per_cluster.parquet\")\n",
    "    \n",
    "    print (model, \"- started confidence level generation & seq stats: \", datetime.datetime.now().strftime(\"%Y-%m-%d %H:%M:%S\"))\n",
    "    # Confidence level per protein \n",
    "    cluster_conf = ev.protein_confidence_agg(clusters, asp)\n",
    "    \n",
    "    # Sequence stats\n",
    "    sequence_stats = ev.sequence_stats(clusters, sequences).set_index(\"cluster_label\")\n",
    "    \n",
    "    cluster_stats = ev.merge_cluster_stats(cluster_conf, sequence_stats)\n",
    "    \n",
    "    # Reorder columns\n",
    "    cluster_stats['model'] = algo\n",
    "    cluster_stats['embedding'] = embed\n",
    "    first_cols = ['model', 'embedding', 'num_proteins'] \n",
    "    ordered_cols = first_cols + list(cluster_stats.columns[~cluster_stats.columns.isin(first_cols)])\n",
    "    ordered_cols\n",
    "    cluster_stats = cluster_stats.reindex(columns=ordered_cols)\n",
    "\n",
    "    cluster_stats.to_parquet(prefix + model_code + '-' + algo + '-' + embed + '-cluster_stats.parquet')\n",
    "    \n",
    "        \n",
    "    print(\"Completed processing \"+ model_code + '-' + algo + '-' + embed)\n",
    "    print (model, \"- completed processing: \", datetime.datetime.now().strftime(\"%Y-%m-%d %H:%M:%S\"))\n",
    "    print()\n",
    "\n",
    "    \n",
    "now = datetime.datetime.now()\n",
    "print (\"Current date and time : \")\n",
    "print (now.strftime(\"%Y-%m-%d %H:%M:%S\"))"
   ]
  },
  {
   "cell_type": "code",
   "execution_count": 24,
   "id": "092d5333",
   "metadata": {},
   "outputs": [],
   "source": [
    "home_path = os.getcwd()"
   ]
  },
  {
   "cell_type": "code",
   "execution_count": 27,
   "id": "3277aa26",
   "metadata": {},
   "outputs": [
    {
     "name": "stdout",
     "output_type": "stream",
     "text": [
      "Upload: model_outputs/no_cluster_size_limit/deepfold_redo/B1EPC-HDBSCAN-DeepFold_EP-model_overview.pkl\n",
      "Upload: model_outputs/no_cluster_size_limit/deepfold_redo/A1EP-DBSCAN-DeepFold_EP-cluster_stats.parquet\n",
      "Upload: model_outputs/no_cluster_size_limit/deepfold_redo/B1EPC_clusters.pkl\n",
      "Upload: model_outputs/no_cluster_size_limit/deepfold_redo/B1EPC-HDBSCAN-DeepFold_EP-cluster_stats.parquet\n",
      "Upload: model_outputs/no_cluster_size_limit/deepfold_redo/A1EP_clusters.pkl\n",
      "Upload: model_outputs/no_cluster_size_limit/deepfold_redo/a1ep_model.pkl\n",
      "Upload: model_outputs/no_cluster_size_limit/deepfold_redo/b1epa_model.pkl\n",
      "Upload: model_outputs/no_cluster_size_limit/deepfold_redo/A1EP_noise_stats.pkl\n",
      "Upload: model_outputs/no_cluster_size_limit/deepfold_redo/b1epb_model.pkl\n",
      "Upload: model_outputs/no_cluster_size_limit/deepfold_redo/A1EP-DBSCAN-DeepFold_EP-model_overview.pkl\n",
      "Upload: model_outputs/no_cluster_size_limit/deepfold_redo/B1EPA-HDBSCAN-DeepFold_EP-all_protein_combos_per_cluster.parquet\n",
      "Upload: model_outputs/no_cluster_size_limit/deepfold_redo/B1EPA-HDBSCAN-DeepFold_EP-cluster_stats.parquet\n",
      "Upload: model_outputs/no_cluster_size_limit/deepfold_redo/B1EPA_clusters.pkl\n",
      "Upload: model_outputs/no_cluster_size_limit/deepfold_redo/b1epc_model.pkl\n",
      "Upload: model_outputs/no_cluster_size_limit/deepfold_redo/B1EPC-HDBSCAN-DeepFold_EP-all_protein_combos_per_cluster.parquet\n",
      "Upload: model_outputs/no_cluster_size_limit/deepfold_redo/B1EPA-HDBSCAN-DeepFold_EP-model_overview.pkl\n",
      "Upload: model_outputs/no_cluster_size_limit/deepfold_redo/b1ep_model.pkl\n",
      "Upload: model_outputs/no_cluster_size_limit/deepfold_redo/A1EP-DBSCAN-DeepFold_EP-all_protein_combos_per_cluster.parquet\n"
     ]
    }
   ],
   "source": [
    "for file in os.listdir(home_path + '/' + prefix):\n",
    "    print(\"Upload: \"+prefix + file)\n",
    "    gcs.upload_blob(home_path+ '/' + prefix + file, prefix + file)"
   ]
  },
  {
   "cell_type": "code",
   "execution_count": 29,
   "id": "54344c81",
   "metadata": {},
   "outputs": [
    {
     "data": {
      "text/plain": [
       "(19325, 398)"
      ]
     },
     "execution_count": 29,
     "metadata": {},
     "output_type": "execute_result"
    }
   ],
   "source": [
    "X_deepfold_ep.shape"
   ]
  },
  {
   "cell_type": "code",
   "execution_count": 32,
   "id": "944740bb",
   "metadata": {},
   "outputs": [
    {
     "name": "stderr",
     "output_type": "stream",
     "text": [
      "/Users/haeranglee/opt/anaconda3/envs/pss/lib/python3.9/site-packages/sklearn/utils/validation.py:63: FutureWarning: Arrays of bytes/strings is being converted to decimal numbers if dtype='numeric'. This behavior is deprecated in 0.24 and will be removed in 1.1 (renaming of 0.26). Please convert your data to numeric values explicitly instead.\n",
      "  return f(*args, **kwargs)\n",
      "/Users/haeranglee/opt/anaconda3/envs/pss/lib/python3.9/site-packages/sklearn/utils/validation.py:63: FutureWarning: Arrays of bytes/strings is being converted to decimal numbers if dtype='numeric'. This behavior is deprecated in 0.24 and will be removed in 1.1 (renaming of 0.26). Please convert your data to numeric values explicitly instead.\n",
      "  return f(*args, **kwargs)\n"
     ]
    },
    {
     "name": "stdout",
     "output_type": "stream",
     "text": [
      "9923\t4571\t19325\t0.5134799482535576\t0.750012936610608\t1221\t-0.0003605732425635734\t0.9327115232261285\n"
     ]
    },
    {
     "name": "stderr",
     "output_type": "stream",
     "text": [
      "/Users/haeranglee/opt/anaconda3/envs/pss/lib/python3.9/site-packages/sklearn/utils/validation.py:63: FutureWarning: Arrays of bytes/strings is being converted to decimal numbers if dtype='numeric'. This behavior is deprecated in 0.24 and will be removed in 1.1 (renaming of 0.26). Please convert your data to numeric values explicitly instead.\n",
      "  return f(*args, **kwargs)\n",
      "/Users/haeranglee/opt/anaconda3/envs/pss/lib/python3.9/site-packages/sklearn/utils/validation.py:63: FutureWarning: Arrays of bytes/strings is being converted to decimal numbers if dtype='numeric'. This behavior is deprecated in 0.24 and will be removed in 1.1 (renaming of 0.26). Please convert your data to numeric values explicitly instead.\n",
      "  return f(*args, **kwargs)\n",
      "/Users/haeranglee/opt/anaconda3/envs/pss/lib/python3.9/site-packages/sklearn/utils/validation.py:63: FutureWarning: Arrays of bytes/strings is being converted to decimal numbers if dtype='numeric'. This behavior is deprecated in 0.24 and will be removed in 1.1 (renaming of 0.26). Please convert your data to numeric values explicitly instead.\n",
      "  return f(*args, **kwargs)\n"
     ]
    },
    {
     "name": "stdout",
     "output_type": "stream",
     "text": [
      "15414\t308\t19325\t0.7976196636481242\t0.8135575679172057\t233\t0.42410288643883143\t0.9138225279596784\n",
      "15191\t754\t19325\t0.7860802069857697\t0.8250970245795601\t120\t0.40334519037732136\t0.9634986755259322\n"
     ]
    },
    {
     "name": "stderr",
     "output_type": "stream",
     "text": [
      "/Users/haeranglee/opt/anaconda3/envs/pss/lib/python3.9/site-packages/sklearn/utils/validation.py:63: FutureWarning: Arrays of bytes/strings is being converted to decimal numbers if dtype='numeric'. This behavior is deprecated in 0.24 and will be removed in 1.1 (renaming of 0.26). Please convert your data to numeric values explicitly instead.\n",
      "  return f(*args, **kwargs)\n"
     ]
    }
   ],
   "source": [
    "num_proteins = 19325\n",
    "for model in [a1ep_model ,b1epa_model ,b1epc_model]:\n",
    "    overview = ev.model_overview(model, X_deepfold_ep)\n",
    "\n",
    "    print(\n",
    "        str(overview['Noise']) + '\\t' + \n",
    "        str(overview['Largest non-noise cluster']) + '\\t' + \n",
    "        str(num_proteins) + '\\t' + \n",
    "        str(overview['Noise as % of total']) + '\\t' + \n",
    "        str(overview['Noise and largest cluster as % of total']) + '\\t' + \n",
    "        str(overview['Number of clusters (excl. noise)']) + '\\t' + \n",
    "        str(overview['Silhouette score']) + '\\t' + \n",
    "        str(overview['DB score']) \n",
    "    )"
   ]
  },
  {
   "cell_type": "code",
   "execution_count": null,
   "id": "2cfe3421",
   "metadata": {},
   "outputs": [],
   "source": [
    "9923\t4571\t19325\t0.5134799482535576\t0.750012936610608\t1221\t-0.0003605732425635734\t0.9327115232261285\n",
    "15414\t308\t19325\t0.7976196636481242\t0.8135575679172057\t233\t0.42410288643883143\t0.9138225279596784\n",
    "15191\t754\t19325\t0.7860802069857697\t0.8250970245795601\t120\t0.40334519037732136\t0.9634986755259322"
   ]
  }
 ],
 "metadata": {
  "kernelspec": {
   "display_name": "Python 3 (ipykernel)",
   "language": "python",
   "name": "python3"
  },
  "language_info": {
   "codemirror_mode": {
    "name": "ipython",
    "version": 3
   },
   "file_extension": ".py",
   "mimetype": "text/x-python",
   "name": "python",
   "nbconvert_exporter": "python",
   "pygments_lexer": "ipython3",
   "version": "3.9.7"
  },
  "toc": {
   "base_numbering": 1,
   "nav_menu": {},
   "number_sections": true,
   "sideBar": true,
   "skip_h1_title": false,
   "title_cell": "Table of Contents",
   "title_sidebar": "Contents",
   "toc_cell": false,
   "toc_position": {},
   "toc_section_display": true,
   "toc_window_display": false
  }
 },
 "nbformat": 4,
 "nbformat_minor": 5
}
