{
 "cells": [
  {
   "cell_type": "markdown",
   "id": "80d74549",
   "metadata": {},
   "source": [
    "# Models\n",
    "\n",
    "\n",
    "\n",
    "|            | [1] DeepFold | [2] SeqVec |\n",
    "|------------|--------------|------------|\n",
    "| A. DBSCAN  | A1 | A2 |\n",
    "| B. HDBSCAN | B1 | B2 |\n",
    "| C. OPTICS  | C1 | C2 |\n",
    "\n"
   ]
  },
  {
   "cell_type": "markdown",
   "id": "e2d6d07d",
   "metadata": {},
   "source": [
    "Model files generated\n",
    "\n",
    "```\n",
    "Upload: model_outputs/A1-DBSCAN-DeepFold-cluster_stats.parquet\n",
    "Upload: model_outputs/B2-HDBSCAN-SeqVec-all_protein_combos_per_cluster.parquet\n",
    "Upload: model_outputs/a1_model.pkl\n",
    "Upload: model_outputs/A1-DBSCAN-DeepFold-all_protein_combos_per_cluster.parquet\n",
    "Upload: model_outputs/B1-HDBSCAN-DeepFold-cluster_stats.parquet\n",
    "Upload: model_outputs/b2_model.pkl\n",
    "Upload: model_outputs/B2-HDBSCAN-SeqVec-cluster_stats.parquet\n",
    "Upload: model_outputs/a2_model.pkl\n",
    "Upload: model_outputs/b1_model.pkl\n",
    "Upload: model_outputs/A2-DBSCAN-SeqVec-all_protein_combos_per_cluster.parquet\n",
    "Upload: model_outputs/B1-HDBSCAN-DeepFold-all_protein_combos_per_cluster.parquet\n",
    "Upload: model_outputs/A2-DBSCAN-SeqVec-cluster_stats.parquet\n",
    "```"
   ]
  },
  {
   "cell_type": "code",
   "execution_count": 1,
   "id": "201e24c7",
   "metadata": {},
   "outputs": [],
   "source": [
    "from utils import gcs_utils as gcs\n",
    "from utils import model_and_evaluate_cluster as ev\n",
    "\n",
    "import numpy as np\n",
    "import pandas as pd\n",
    "from sklearn.metrics.pairwise import euclidean_distances\n",
    "import matplotlib.pyplot as plt\n",
    "\n",
    "import importlib\n",
    "import hdbscan\n",
    "from sklearn.cluster import DBSCAN\n",
    "import io\n",
    "import os\n",
    "import pickle\n",
    "import datetime\n"
   ]
  },
  {
   "cell_type": "code",
   "execution_count": 2,
   "id": "603a85fc",
   "metadata": {},
   "outputs": [],
   "source": [
    "prefix='model_outputs/no_cluster_size_limit/'\n",
    "a1_model = gcs.download_pkl(prefix+'A1_model.pkl')\n",
    "a2_model = gcs.download_pkl(prefix+'A2_model.pkl')\n",
    "a3_model = gcs.download_pkl(prefix+'A3_model.pkl')\n",
    "b1_model = gcs.download_pkl(prefix+'B1_model.pkl')\n",
    "b2_model = gcs.download_pkl(prefix+'B2_model.pkl')\n",
    "b3_model = gcs.download_pkl(prefix+'B3_model.pkl')\n"
   ]
  },
  {
   "cell_type": "code",
   "execution_count": 3,
   "id": "b726c9e9",
   "metadata": {},
   "outputs": [],
   "source": [
    "\n",
    "a1_clusters = gcs.download_pkl(prefix+'A1_clusters.pkl')\n",
    "a2_clusters = gcs.download_pkl(prefix+'A2_clusters.pkl')\n",
    "a3_clusters = gcs.download_pkl(prefix+'A3_clusters.pkl')\n",
    "b1_clusters = gcs.download_pkl(prefix+'B1_clusters.pkl')\n",
    "b2_clusters = gcs.download_pkl(prefix+'B2_clusters.pkl')\n",
    "b3_clusters = gcs.download_pkl(prefix+'B3_clusters.pkl')\n"
   ]
  },
  {
   "cell_type": "code",
   "execution_count": 6,
   "id": "314b642f",
   "metadata": {},
   "outputs": [],
   "source": [
    "\n",
    "a1_all_protein_combos_per_cluster = gcs.download_parquet(prefix+'A1-DBSCAN-DeepFold-all_protein_combos_per_cluster.parquet')\n",
    "a2_all_protein_combos_per_cluster = gcs.download_parquet(prefix+'A2-DBSCAN-SeqVec-all_protein_combos_per_cluster.parquet')\n",
    "# a3_all_protein_combos_per_cluster = gcs.download_parquet(prefix+'A3-DBSCAN-SeqVec-all_protein_combos_per_cluster.parquet')\n",
    "b1_all_protein_combos_per_cluster = gcs.download_parquet(prefix+'B1-HDBSCAN-DeepFold-all_protein_combos_per_cluster.parquet')\n",
    "b2_all_protein_combos_per_cluster = gcs.download_parquet(prefix+'B2-HDBSCAN-SeqVec-all_protein_combos_per_cluster.parquet')\n",
    "# b3_all_protein_combos_per_cluster = gcs.download_parquet(prefix+'B3-HDBSCAN-SeqVec-all_protein_combos_per_cluster.parquet')\n"
   ]
  },
  {
   "cell_type": "code",
   "execution_count": 5,
   "id": "788121c0",
   "metadata": {},
   "outputs": [
    {
     "data": {
      "text/html": [
       "<div>\n",
       "<style scoped>\n",
       "    .dataframe tbody tr th:only-of-type {\n",
       "        vertical-align: middle;\n",
       "    }\n",
       "\n",
       "    .dataframe tbody tr th {\n",
       "        vertical-align: top;\n",
       "    }\n",
       "\n",
       "    .dataframe thead th {\n",
       "        text-align: right;\n",
       "    }\n",
       "</style>\n",
       "<table border=\"1\" class=\"dataframe\">\n",
       "  <thead>\n",
       "    <tr style=\"text-align: right;\">\n",
       "      <th></th>\n",
       "      <th>protein</th>\n",
       "      <th>cluster_label</th>\n",
       "    </tr>\n",
       "  </thead>\n",
       "  <tbody>\n",
       "    <tr>\n",
       "      <th>0</th>\n",
       "      <td>Q53HV7</td>\n",
       "      <td>434</td>\n",
       "    </tr>\n",
       "    <tr>\n",
       "      <th>1</th>\n",
       "      <td>A4UGR9</td>\n",
       "      <td>-1</td>\n",
       "    </tr>\n",
       "    <tr>\n",
       "      <th>2</th>\n",
       "      <td>P09529</td>\n",
       "      <td>-1</td>\n",
       "    </tr>\n",
       "    <tr>\n",
       "      <th>3</th>\n",
       "      <td>P19622</td>\n",
       "      <td>-1</td>\n",
       "    </tr>\n",
       "    <tr>\n",
       "      <th>4</th>\n",
       "      <td>Q9UPU9</td>\n",
       "      <td>-1</td>\n",
       "    </tr>\n",
       "    <tr>\n",
       "      <th>...</th>\n",
       "      <td>...</td>\n",
       "      <td>...</td>\n",
       "    </tr>\n",
       "    <tr>\n",
       "      <th>20296</th>\n",
       "      <td>Q9NQ76</td>\n",
       "      <td>-1</td>\n",
       "    </tr>\n",
       "    <tr>\n",
       "      <th>20297</th>\n",
       "      <td>A6NKD9</td>\n",
       "      <td>580</td>\n",
       "    </tr>\n",
       "    <tr>\n",
       "      <th>20298</th>\n",
       "      <td>Q9UPR3</td>\n",
       "      <td>-1</td>\n",
       "    </tr>\n",
       "    <tr>\n",
       "      <th>20299</th>\n",
       "      <td>Q9NZZ3</td>\n",
       "      <td>-1</td>\n",
       "    </tr>\n",
       "    <tr>\n",
       "      <th>20300</th>\n",
       "      <td></td>\n",
       "      <td>579</td>\n",
       "    </tr>\n",
       "  </tbody>\n",
       "</table>\n",
       "<p>20301 rows × 2 columns</p>\n",
       "</div>"
      ],
      "text/plain": [
       "      protein  cluster_label\n",
       "0      Q53HV7            434\n",
       "1      A4UGR9             -1\n",
       "2      P09529             -1\n",
       "3      P19622             -1\n",
       "4      Q9UPU9             -1\n",
       "...       ...            ...\n",
       "20296  Q9NQ76             -1\n",
       "20297  A6NKD9            580\n",
       "20298  Q9UPR3             -1\n",
       "20299  Q9NZZ3             -1\n",
       "20300                    579\n",
       "\n",
       "[20301 rows x 2 columns]"
      ]
     },
     "execution_count": 5,
     "metadata": {},
     "output_type": "execute_result"
    }
   ],
   "source": [
    "b1_clusters"
   ]
  },
  {
   "cell_type": "markdown",
   "id": "5d3cf223",
   "metadata": {},
   "source": [
    "# Output Data Review"
   ]
  },
  {
   "cell_type": "code",
   "execution_count": 193,
   "id": "2dcd3c92",
   "metadata": {},
   "outputs": [
    {
     "data": {
      "text/plain": [
       "(29886034, 3)"
      ]
     },
     "execution_count": 193,
     "metadata": {},
     "output_type": "execute_result"
    }
   ],
   "source": [
    "a1_all_protein_combos_per_cluster.shape"
   ]
  },
  {
   "cell_type": "code",
   "execution_count": 194,
   "id": "eaeef084",
   "metadata": {},
   "outputs": [
    {
     "data": {
      "text/html": [
       "<div>\n",
       "<style scoped>\n",
       "    .dataframe tbody tr th:only-of-type {\n",
       "        vertical-align: middle;\n",
       "    }\n",
       "\n",
       "    .dataframe tbody tr th {\n",
       "        vertical-align: top;\n",
       "    }\n",
       "\n",
       "    .dataframe thead th {\n",
       "        text-align: right;\n",
       "    }\n",
       "</style>\n",
       "<table border=\"1\" class=\"dataframe\">\n",
       "  <thead>\n",
       "    <tr style=\"text-align: right;\">\n",
       "      <th></th>\n",
       "      <th>query_protein</th>\n",
       "      <th>target_protein</th>\n",
       "      <th>cluster</th>\n",
       "    </tr>\n",
       "  </thead>\n",
       "  <tbody>\n",
       "    <tr>\n",
       "      <th>1</th>\n",
       "      <td>P09529</td>\n",
       "      <td>Q9UPU9</td>\n",
       "      <td>0</td>\n",
       "    </tr>\n",
       "    <tr>\n",
       "      <th>2</th>\n",
       "      <td>P09529</td>\n",
       "      <td>Q9HCL3</td>\n",
       "      <td>0</td>\n",
       "    </tr>\n",
       "    <tr>\n",
       "      <th>3</th>\n",
       "      <td>P09529</td>\n",
       "      <td>Q2I0M5</td>\n",
       "      <td>0</td>\n",
       "    </tr>\n",
       "    <tr>\n",
       "      <th>4</th>\n",
       "      <td>P09529</td>\n",
       "      <td>Q9Y639</td>\n",
       "      <td>0</td>\n",
       "    </tr>\n",
       "    <tr>\n",
       "      <th>5</th>\n",
       "      <td>P09529</td>\n",
       "      <td>Q8IWF6</td>\n",
       "      <td>0</td>\n",
       "    </tr>\n",
       "  </tbody>\n",
       "</table>\n",
       "</div>"
      ],
      "text/plain": [
       "  query_protein target_protein  cluster\n",
       "1        P09529         Q9UPU9        0\n",
       "2        P09529         Q9HCL3        0\n",
       "3        P09529         Q2I0M5        0\n",
       "4        P09529         Q9Y639        0\n",
       "5        P09529         Q8IWF6        0"
      ]
     },
     "execution_count": 194,
     "metadata": {},
     "output_type": "execute_result"
    }
   ],
   "source": [
    "a1_all_protein_combos_per_cluster.head()"
   ]
  },
  {
   "cell_type": "code",
   "execution_count": 199,
   "id": "82765fe7",
   "metadata": {},
   "outputs": [
    {
     "data": {
      "text/html": [
       "<div>\n",
       "<style scoped>\n",
       "    .dataframe tbody tr th:only-of-type {\n",
       "        vertical-align: middle;\n",
       "    }\n",
       "\n",
       "    .dataframe tbody tr th {\n",
       "        vertical-align: top;\n",
       "    }\n",
       "\n",
       "    .dataframe thead th {\n",
       "        text-align: right;\n",
       "    }\n",
       "</style>\n",
       "<table border=\"1\" class=\"dataframe\">\n",
       "  <thead>\n",
       "    <tr style=\"text-align: right;\">\n",
       "      <th></th>\n",
       "      <th>query_protein</th>\n",
       "      <th>target_protein</th>\n",
       "    </tr>\n",
       "    <tr>\n",
       "      <th>cluster</th>\n",
       "      <th></th>\n",
       "      <th></th>\n",
       "    </tr>\n",
       "  </thead>\n",
       "  <tbody>\n",
       "    <tr>\n",
       "      <th>0</th>\n",
       "      <td>5447</td>\n",
       "      <td>5447</td>\n",
       "    </tr>\n",
       "    <tr>\n",
       "      <th>23</th>\n",
       "      <td>250</td>\n",
       "      <td>250</td>\n",
       "    </tr>\n",
       "    <tr>\n",
       "      <th>35</th>\n",
       "      <td>211</td>\n",
       "      <td>211</td>\n",
       "    </tr>\n",
       "    <tr>\n",
       "      <th>12</th>\n",
       "      <td>179</td>\n",
       "      <td>179</td>\n",
       "    </tr>\n",
       "    <tr>\n",
       "      <th>19</th>\n",
       "      <td>110</td>\n",
       "      <td>110</td>\n",
       "    </tr>\n",
       "    <tr>\n",
       "      <th>...</th>\n",
       "      <td>...</td>\n",
       "      <td>...</td>\n",
       "    </tr>\n",
       "    <tr>\n",
       "      <th>578</th>\n",
       "      <td>2</td>\n",
       "      <td>2</td>\n",
       "    </tr>\n",
       "    <tr>\n",
       "      <th>582</th>\n",
       "      <td>2</td>\n",
       "      <td>2</td>\n",
       "    </tr>\n",
       "    <tr>\n",
       "      <th>583</th>\n",
       "      <td>2</td>\n",
       "      <td>2</td>\n",
       "    </tr>\n",
       "    <tr>\n",
       "      <th>586</th>\n",
       "      <td>2</td>\n",
       "      <td>2</td>\n",
       "    </tr>\n",
       "    <tr>\n",
       "      <th>1221</th>\n",
       "      <td>2</td>\n",
       "      <td>2</td>\n",
       "    </tr>\n",
       "  </tbody>\n",
       "</table>\n",
       "<p>1222 rows × 2 columns</p>\n",
       "</div>"
      ],
      "text/plain": [
       "         query_protein  target_protein\n",
       "cluster                               \n",
       "0                 5447            5447\n",
       "23                 250             250\n",
       "35                 211             211\n",
       "12                 179             179\n",
       "19                 110             110\n",
       "...                ...             ...\n",
       "578                  2               2\n",
       "582                  2               2\n",
       "583                  2               2\n",
       "586                  2               2\n",
       "1221                 2               2\n",
       "\n",
       "[1222 rows x 2 columns]"
      ]
     },
     "execution_count": 199,
     "metadata": {},
     "output_type": "execute_result"
    }
   ],
   "source": [
    "pivot = a1_all_protein_combos_per_cluster.pivot_table(index='cluster',\n",
    "                                             values=['target_protein', 'query_protein'],\n",
    "                                             aggfunc=pd.Series.nunique)\n",
    "pivot.sort_values('query_protein', ascending=False)"
   ]
  },
  {
   "cell_type": "code",
   "execution_count": 200,
   "id": "91bedb6a",
   "metadata": {},
   "outputs": [
    {
     "data": {
      "text/html": [
       "<div>\n",
       "<style scoped>\n",
       "    .dataframe tbody tr th:only-of-type {\n",
       "        vertical-align: middle;\n",
       "    }\n",
       "\n",
       "    .dataframe tbody tr th {\n",
       "        vertical-align: top;\n",
       "    }\n",
       "\n",
       "    .dataframe thead th {\n",
       "        text-align: right;\n",
       "    }\n",
       "</style>\n",
       "<table border=\"1\" class=\"dataframe\">\n",
       "  <thead>\n",
       "    <tr style=\"text-align: right;\">\n",
       "      <th></th>\n",
       "      <th>query_protein</th>\n",
       "      <th>target_protein</th>\n",
       "    </tr>\n",
       "    <tr>\n",
       "      <th>cluster</th>\n",
       "      <th></th>\n",
       "      <th></th>\n",
       "    </tr>\n",
       "  </thead>\n",
       "  <tbody>\n",
       "    <tr>\n",
       "      <th>28</th>\n",
       "      <td>691</td>\n",
       "      <td>691</td>\n",
       "    </tr>\n",
       "    <tr>\n",
       "      <th>19</th>\n",
       "      <td>426</td>\n",
       "      <td>426</td>\n",
       "    </tr>\n",
       "    <tr>\n",
       "      <th>107</th>\n",
       "      <td>152</td>\n",
       "      <td>152</td>\n",
       "    </tr>\n",
       "    <tr>\n",
       "      <th>151</th>\n",
       "      <td>127</td>\n",
       "      <td>127</td>\n",
       "    </tr>\n",
       "    <tr>\n",
       "      <th>329</th>\n",
       "      <td>103</td>\n",
       "      <td>103</td>\n",
       "    </tr>\n",
       "    <tr>\n",
       "      <th>...</th>\n",
       "      <td>...</td>\n",
       "      <td>...</td>\n",
       "    </tr>\n",
       "    <tr>\n",
       "      <th>764</th>\n",
       "      <td>2</td>\n",
       "      <td>2</td>\n",
       "    </tr>\n",
       "    <tr>\n",
       "      <th>765</th>\n",
       "      <td>2</td>\n",
       "      <td>2</td>\n",
       "    </tr>\n",
       "    <tr>\n",
       "      <th>767</th>\n",
       "      <td>2</td>\n",
       "      <td>2</td>\n",
       "    </tr>\n",
       "    <tr>\n",
       "      <th>768</th>\n",
       "      <td>2</td>\n",
       "      <td>2</td>\n",
       "    </tr>\n",
       "    <tr>\n",
       "      <th>1605</th>\n",
       "      <td>2</td>\n",
       "      <td>2</td>\n",
       "    </tr>\n",
       "  </tbody>\n",
       "</table>\n",
       "<p>1606 rows × 2 columns</p>\n",
       "</div>"
      ],
      "text/plain": [
       "         query_protein  target_protein\n",
       "cluster                               \n",
       "28                 691             691\n",
       "19                 426             426\n",
       "107                152             152\n",
       "151                127             127\n",
       "329                103             103\n",
       "...                ...             ...\n",
       "764                  2               2\n",
       "765                  2               2\n",
       "767                  2               2\n",
       "768                  2               2\n",
       "1605                 2               2\n",
       "\n",
       "[1606 rows x 2 columns]"
      ]
     },
     "execution_count": 200,
     "metadata": {},
     "output_type": "execute_result"
    }
   ],
   "source": [
    "pivot = a2_all_protein_combos_per_cluster.pivot_table(index='cluster',\n",
    "                                             values=['target_protein', 'query_protein'],\n",
    "                                             aggfunc=pd.Series.nunique)\n",
    "pivot.sort_values('query_protein', ascending=False)"
   ]
  },
  {
   "cell_type": "code",
   "execution_count": 201,
   "id": "d5a15c21",
   "metadata": {},
   "outputs": [
    {
     "data": {
      "text/html": [
       "<div>\n",
       "<style scoped>\n",
       "    .dataframe tbody tr th:only-of-type {\n",
       "        vertical-align: middle;\n",
       "    }\n",
       "\n",
       "    .dataframe tbody tr th {\n",
       "        vertical-align: top;\n",
       "    }\n",
       "\n",
       "    .dataframe thead th {\n",
       "        text-align: right;\n",
       "    }\n",
       "</style>\n",
       "<table border=\"1\" class=\"dataframe\">\n",
       "  <thead>\n",
       "    <tr style=\"text-align: right;\">\n",
       "      <th></th>\n",
       "      <th>query_protein</th>\n",
       "      <th>target_protein</th>\n",
       "    </tr>\n",
       "    <tr>\n",
       "      <th>cluster</th>\n",
       "      <th></th>\n",
       "      <th></th>\n",
       "    </tr>\n",
       "  </thead>\n",
       "  <tbody>\n",
       "    <tr>\n",
       "      <th>519</th>\n",
       "      <td>308</td>\n",
       "      <td>308</td>\n",
       "    </tr>\n",
       "    <tr>\n",
       "      <th>550</th>\n",
       "      <td>254</td>\n",
       "      <td>254</td>\n",
       "    </tr>\n",
       "    <tr>\n",
       "      <th>486</th>\n",
       "      <td>126</td>\n",
       "      <td>126</td>\n",
       "    </tr>\n",
       "    <tr>\n",
       "      <th>436</th>\n",
       "      <td>124</td>\n",
       "      <td>124</td>\n",
       "    </tr>\n",
       "    <tr>\n",
       "      <th>432</th>\n",
       "      <td>85</td>\n",
       "      <td>85</td>\n",
       "    </tr>\n",
       "    <tr>\n",
       "      <th>...</th>\n",
       "      <td>...</td>\n",
       "      <td>...</td>\n",
       "    </tr>\n",
       "    <tr>\n",
       "      <th>297</th>\n",
       "      <td>5</td>\n",
       "      <td>5</td>\n",
       "    </tr>\n",
       "    <tr>\n",
       "      <th>467</th>\n",
       "      <td>5</td>\n",
       "      <td>5</td>\n",
       "    </tr>\n",
       "    <tr>\n",
       "      <th>294</th>\n",
       "      <td>5</td>\n",
       "      <td>5</td>\n",
       "    </tr>\n",
       "    <tr>\n",
       "      <th>293</th>\n",
       "      <td>5</td>\n",
       "      <td>5</td>\n",
       "    </tr>\n",
       "    <tr>\n",
       "      <th>0</th>\n",
       "      <td>5</td>\n",
       "      <td>5</td>\n",
       "    </tr>\n",
       "  </tbody>\n",
       "</table>\n",
       "<p>607 rows × 2 columns</p>\n",
       "</div>"
      ],
      "text/plain": [
       "         query_protein  target_protein\n",
       "cluster                               \n",
       "519                308             308\n",
       "550                254             254\n",
       "486                126             126\n",
       "436                124             124\n",
       "432                 85              85\n",
       "...                ...             ...\n",
       "297                  5               5\n",
       "467                  5               5\n",
       "294                  5               5\n",
       "293                  5               5\n",
       "0                    5               5\n",
       "\n",
       "[607 rows x 2 columns]"
      ]
     },
     "execution_count": 201,
     "metadata": {},
     "output_type": "execute_result"
    }
   ],
   "source": [
    "pivot = b1_all_protein_combos_per_cluster.pivot_table(index='cluster',\n",
    "                                             values=['target_protein', 'query_protein'],\n",
    "                                             aggfunc=pd.Series.nunique)\n",
    "pivot.sort_values('query_protein', ascending=False)"
   ]
  },
  {
   "cell_type": "code",
   "execution_count": 202,
   "id": "3bed7605",
   "metadata": {},
   "outputs": [
    {
     "data": {
      "text/html": [
       "<div>\n",
       "<style scoped>\n",
       "    .dataframe tbody tr th:only-of-type {\n",
       "        vertical-align: middle;\n",
       "    }\n",
       "\n",
       "    .dataframe tbody tr th {\n",
       "        vertical-align: top;\n",
       "    }\n",
       "\n",
       "    .dataframe thead th {\n",
       "        text-align: right;\n",
       "    }\n",
       "</style>\n",
       "<table border=\"1\" class=\"dataframe\">\n",
       "  <thead>\n",
       "    <tr style=\"text-align: right;\">\n",
       "      <th></th>\n",
       "      <th>query_protein</th>\n",
       "      <th>target_protein</th>\n",
       "    </tr>\n",
       "    <tr>\n",
       "      <th>cluster</th>\n",
       "      <th></th>\n",
       "      <th></th>\n",
       "    </tr>\n",
       "  </thead>\n",
       "  <tbody>\n",
       "    <tr>\n",
       "      <th>579</th>\n",
       "      <td>416</td>\n",
       "      <td>416</td>\n",
       "    </tr>\n",
       "    <tr>\n",
       "      <th>578</th>\n",
       "      <td>195</td>\n",
       "      <td>195</td>\n",
       "    </tr>\n",
       "    <tr>\n",
       "      <th>755</th>\n",
       "      <td>129</td>\n",
       "      <td>129</td>\n",
       "    </tr>\n",
       "    <tr>\n",
       "      <th>421</th>\n",
       "      <td>99</td>\n",
       "      <td>99</td>\n",
       "    </tr>\n",
       "    <tr>\n",
       "      <th>667</th>\n",
       "      <td>89</td>\n",
       "      <td>89</td>\n",
       "    </tr>\n",
       "    <tr>\n",
       "      <th>...</th>\n",
       "      <td>...</td>\n",
       "      <td>...</td>\n",
       "    </tr>\n",
       "    <tr>\n",
       "      <th>451</th>\n",
       "      <td>5</td>\n",
       "      <td>5</td>\n",
       "    </tr>\n",
       "    <tr>\n",
       "      <th>180</th>\n",
       "      <td>5</td>\n",
       "      <td>5</td>\n",
       "    </tr>\n",
       "    <tr>\n",
       "      <th>625</th>\n",
       "      <td>5</td>\n",
       "      <td>5</td>\n",
       "    </tr>\n",
       "    <tr>\n",
       "      <th>449</th>\n",
       "      <td>5</td>\n",
       "      <td>5</td>\n",
       "    </tr>\n",
       "    <tr>\n",
       "      <th>414</th>\n",
       "      <td>5</td>\n",
       "      <td>5</td>\n",
       "    </tr>\n",
       "  </tbody>\n",
       "</table>\n",
       "<p>757 rows × 2 columns</p>\n",
       "</div>"
      ],
      "text/plain": [
       "         query_protein  target_protein\n",
       "cluster                               \n",
       "579                416             416\n",
       "578                195             195\n",
       "755                129             129\n",
       "421                 99              99\n",
       "667                 89              89\n",
       "...                ...             ...\n",
       "451                  5               5\n",
       "180                  5               5\n",
       "625                  5               5\n",
       "449                  5               5\n",
       "414                  5               5\n",
       "\n",
       "[757 rows x 2 columns]"
      ]
     },
     "execution_count": 202,
     "metadata": {},
     "output_type": "execute_result"
    }
   ],
   "source": [
    "pivot = b2_all_protein_combos_per_cluster.pivot_table(index='cluster',\n",
    "                                             values=['target_protein', 'query_protein'],\n",
    "                                             aggfunc=pd.Series.nunique)\n",
    "pivot.sort_values('query_protein', ascending=False)"
   ]
  },
  {
   "cell_type": "code",
   "execution_count": null,
   "id": "7c354cee",
   "metadata": {},
   "outputs": [],
   "source": []
  },
  {
   "cell_type": "code",
   "execution_count": null,
   "id": "61ed1c30",
   "metadata": {},
   "outputs": [],
   "source": []
  },
  {
   "cell_type": "code",
   "execution_count": 206,
   "id": "af1b77e3",
   "metadata": {},
   "outputs": [],
   "source": [
    "\n",
    "def get_noise_stats(model):\n",
    "    labels = np.unique(model.labels_, return_counts=True)\n",
    "    noise_ct = labels[1][0]\n",
    "    max_cluster_size = labels[1][1:].max()\n",
    "    num_proteins=model.labels_.shape[0]\n",
    "\n",
    "\n",
    "    return {\"Number of clusters categories (incl. noise)\": np.unique(model.labels_, return_counts=True)[1].shape[0],\n",
    "            \"Number of clusters (excl. noise)\": np.unique(model.labels_, return_counts=True)[1].shape[0]-1,\n",
    "            \"Noise\": noise_ct,\n",
    "            \"Largest non-noise cluster\": max_cluster_size,\n",
    "            \"Noise as % of total\":  noise_ct/num_proteins,\n",
    "            \"Noise and largest cluster as % of total\": (noise_ct+max_cluster_size)/num_proteins}\n"
   ]
  },
  {
   "cell_type": "code",
   "execution_count": 207,
   "id": "e6f1a129",
   "metadata": {},
   "outputs": [
    {
     "data": {
      "text/plain": [
       "{'Number of clusters categories (incl. noise)': 1223,\n",
       " 'Number of clusters (excl. noise)': 1222,\n",
       " 'Noise': 10240,\n",
       " 'Largest non-noise cluster': 5451,\n",
       " 'Noise as % of total': 0.504408649820206,\n",
       " 'Noise and largest cluster as % of total': 0.7729175902664893}"
      ]
     },
     "execution_count": 207,
     "metadata": {},
     "output_type": "execute_result"
    }
   ],
   "source": [
    "get_noise_stats(a1_model)"
   ]
  },
  {
   "cell_type": "code",
   "execution_count": 208,
   "id": "9dcb767b",
   "metadata": {},
   "outputs": [
    {
     "data": {
      "text/plain": [
       "{'Number of clusters categories (incl. noise)': 1607,\n",
       " 'Number of clusters (excl. noise)': 1606,\n",
       " 'Noise': 12966,\n",
       " 'Largest non-noise cluster': 691,\n",
       " 'Noise as % of total': 0.6323644166991806,\n",
       " 'Noise and largest cluster as % of total': 0.6660651580179477}"
      ]
     },
     "execution_count": 208,
     "metadata": {},
     "output_type": "execute_result"
    }
   ],
   "source": [
    "get_noise_stats(a2_model)"
   ]
  },
  {
   "cell_type": "code",
   "execution_count": 209,
   "id": "7e44be58",
   "metadata": {},
   "outputs": [
    {
     "data": {
      "text/plain": [
       "{'Number of clusters categories (incl. noise)': 608,\n",
       " 'Number of clusters (excl. noise)': 607,\n",
       " 'Noise': 14056,\n",
       " 'Largest non-noise cluster': 308,\n",
       " 'Noise as % of total': 0.692379685729767,\n",
       " 'Noise and largest cluster as % of total': 0.7075513521501404}"
      ]
     },
     "execution_count": 209,
     "metadata": {},
     "output_type": "execute_result"
    }
   ],
   "source": [
    "get_noise_stats(b1_model)"
   ]
  },
  {
   "cell_type": "code",
   "execution_count": 210,
   "id": "b9cc3a62",
   "metadata": {},
   "outputs": [
    {
     "data": {
      "text/plain": [
       "{'Number of clusters categories (incl. noise)': 758,\n",
       " 'Number of clusters (excl. noise)': 757,\n",
       " 'Noise': 11579,\n",
       " 'Largest non-noise cluster': 416,\n",
       " 'Noise as % of total': 0.5647190792040577,\n",
       " 'Noise and largest cluster as % of total': 0.5850078033554429}"
      ]
     },
     "execution_count": 210,
     "metadata": {},
     "output_type": "execute_result"
    }
   ],
   "source": [
    "get_noise_stats(b2_model)"
   ]
  },
  {
   "cell_type": "markdown",
   "id": "ac08908a",
   "metadata": {},
   "source": [
    "# Input Data Generation"
   ]
  },
  {
   "cell_type": "markdown",
   "id": "844a26ff",
   "metadata": {},
   "source": [
    "# Download Embeddings"
   ]
  },
  {
   "cell_type": "markdown",
   "id": "4ae29f20",
   "metadata": {},
   "source": [
    "## 1. DeepFold"
   ]
  },
  {
   "cell_type": "code",
   "execution_count": 55,
   "id": "5a1b39dc",
   "metadata": {},
   "outputs": [
    {
     "data": {
      "text/plain": [
       "<module 'utils.model_and_evaluate_cluster' from '/Users/haeranglee/Documents/pss/utils/model_and_evaluate_cluster.py'>"
      ]
     },
     "execution_count": 55,
     "metadata": {},
     "output_type": "execute_result"
    }
   ],
   "source": [
    "importlib.reload(ev)"
   ]
  },
  {
   "cell_type": "code",
   "execution_count": 51,
   "id": "5c9bccdb",
   "metadata": {},
   "outputs": [],
   "source": [
    "prefix = 'embeddings/DeepFold/withMask=false/'\n",
    "keys = gcs.list_file_paths(prefix)[1:]"
   ]
  },
  {
   "cell_type": "code",
   "execution_count": 52,
   "id": "fda35f46",
   "metadata": {},
   "outputs": [
    {
     "data": {
      "text/plain": [
       "['gs://capstone-fall21-protein/embeddings/DeepFold/withMask=false/embeddings_00.csv',\n",
       " 'gs://capstone-fall21-protein/embeddings/DeepFold/withMask=false/embeddings_01.csv',\n",
       " 'gs://capstone-fall21-protein/embeddings/DeepFold/withMask=false/embeddings_02.csv',\n",
       " 'gs://capstone-fall21-protein/embeddings/DeepFold/withMask=false/embeddings_03.csv',\n",
       " 'gs://capstone-fall21-protein/embeddings/DeepFold/withMask=false/embeddings_04.csv',\n",
       " 'gs://capstone-fall21-protein/embeddings/DeepFold/withMask=false/embeddings_05.csv',\n",
       " 'gs://capstone-fall21-protein/embeddings/DeepFold/withMask=false/embeddings_06.csv',\n",
       " 'gs://capstone-fall21-protein/embeddings/DeepFold/withMask=false/embeddings_07.csv',\n",
       " 'gs://capstone-fall21-protein/embeddings/DeepFold/withMask=false/embeddings_08.csv',\n",
       " 'gs://capstone-fall21-protein/embeddings/DeepFold/withMask=false/embeddings_09.csv',\n",
       " 'gs://capstone-fall21-protein/embeddings/DeepFold/withMask=false/embeddings_10.csv',\n",
       " 'gs://capstone-fall21-protein/embeddings/DeepFold/withMask=false/embeddings_11.csv',\n",
       " 'gs://capstone-fall21-protein/embeddings/DeepFold/withMask=false/embeddings_12.csv',\n",
       " 'gs://capstone-fall21-protein/embeddings/DeepFold/withMask=false/embeddings_13.csv',\n",
       " 'gs://capstone-fall21-protein/embeddings/DeepFold/withMask=false/embeddings_14.csv',\n",
       " 'gs://capstone-fall21-protein/embeddings/DeepFold/withMask=false/embeddings_15.csv',\n",
       " 'gs://capstone-fall21-protein/embeddings/DeepFold/withMask=false/embeddings_16.csv',\n",
       " 'gs://capstone-fall21-protein/embeddings/DeepFold/withMask=false/embeddings_17.csv',\n",
       " 'gs://capstone-fall21-protein/embeddings/DeepFold/withMask=false/embeddings_18.csv',\n",
       " 'gs://capstone-fall21-protein/embeddings/DeepFold/withMask=false/embeddings_19.csv',\n",
       " 'gs://capstone-fall21-protein/embeddings/DeepFold/withMask=false/embeddings_20.csv']"
      ]
     },
     "execution_count": 52,
     "metadata": {},
     "output_type": "execute_result"
    }
   ],
   "source": [
    "keys"
   ]
  },
  {
   "cell_type": "code",
   "execution_count": 56,
   "id": "04e20001",
   "metadata": {},
   "outputs": [
    {
     "name": "stdout",
     "output_type": "stream",
     "text": [
      "embeddings/DeepFold/withMask=false/embeddings_00.csv\n",
      "embeddings/DeepFold/withMask=false/embeddings_01.csv\n",
      "embeddings/DeepFold/withMask=false/embeddings_02.csv\n",
      "embeddings/DeepFold/withMask=false/embeddings_03.csv\n",
      "embeddings/DeepFold/withMask=false/embeddings_04.csv\n",
      "embeddings/DeepFold/withMask=false/embeddings_05.csv\n",
      "embeddings/DeepFold/withMask=false/embeddings_06.csv\n",
      "embeddings/DeepFold/withMask=false/embeddings_07.csv\n",
      "embeddings/DeepFold/withMask=false/embeddings_08.csv\n",
      "embeddings/DeepFold/withMask=false/embeddings_09.csv\n",
      "embeddings/DeepFold/withMask=false/embeddings_10.csv\n",
      "embeddings/DeepFold/withMask=false/embeddings_11.csv\n",
      "embeddings/DeepFold/withMask=false/embeddings_12.csv\n",
      "embeddings/DeepFold/withMask=false/embeddings_13.csv\n",
      "embeddings/DeepFold/withMask=false/embeddings_14.csv\n",
      "embeddings/DeepFold/withMask=false/embeddings_15.csv\n",
      "embeddings/DeepFold/withMask=false/embeddings_16.csv\n",
      "embeddings/DeepFold/withMask=false/embeddings_17.csv\n",
      "embeddings/DeepFold/withMask=false/embeddings_18.csv\n",
      "embeddings/DeepFold/withMask=false/embeddings_19.csv\n",
      "embeddings/DeepFold/withMask=false/embeddings_20.csv\n"
     ]
    }
   ],
   "source": [
    "X_deepfold, missing_deepfold, protein_id_deepfold = ev.import_deepfold_embeddings(keys)"
   ]
  },
  {
   "cell_type": "code",
   "execution_count": 33,
   "id": "b48e3f64",
   "metadata": {},
   "outputs": [
    {
     "name": "stdout",
     "output_type": "stream",
     "text": [
      "X_deepfold.shape (20301, 398)\n",
      "missing_deepfold.shape (203,)\n",
      "protein_id_deepfold.shape (20301,)\n"
     ]
    }
   ],
   "source": [
    "print(\"X_deepfold.shape\", X_deepfold.shape)\n",
    "print(\"missing_deepfold.shape\", missing_deepfold.shape)\n",
    "print(\"protein_id_deepfold.shape\", protein_id_deepfold.shape)"
   ]
  },
  {
   "cell_type": "code",
   "execution_count": 32,
   "id": "17922495",
   "metadata": {},
   "outputs": [
    {
     "name": "stdout",
     "output_type": "stream",
     "text": [
      "(100, 100)\n",
      "0.05531216821492077 1.3958603498450148 1.1258949664407183\n"
     ]
    },
    {
     "data": {
      "image/png": "[encoded data removed]",
      "text/plain": [
       "<Figure size 432x288 with 1 Axes>"
      ]
     },
     "metadata": {
      "needs_background": "light"
     },
     "output_type": "display_data"
    }
   ],
   "source": [
    "# Show euclidean distances between a random set of points\n",
    "\n",
    "ed = euclidean_distances(X_deepfold[np.random.choice(range(len(X_deepfold)), 100)],\n",
    "                         X_deepfold[np.random.choice(range(len(X_deepfold)), 100)]\n",
    "                        )\n",
    "print(ed.shape)\n",
    "\n",
    "min_ed = np.min(ed)\n",
    "max_ed = np.max(ed)\n",
    "median_ed = np.median(ed)\n",
    "\n",
    "print(min_ed, max_ed, median_ed)\n",
    "ed_flatten = ed.flatten()\n",
    "\n",
    "plt.scatter(range(len(ed_flatten)), np.sort(ed_flatten))\n",
    "plt.axvline(len(ed_flatten)/2)\n",
    "plt.axvline(len(ed_flatten)/4)\n",
    "plt.axvline(len(ed_flatten)/10)\n",
    "plt.axvline(len(ed_flatten)/100)\n",
    "plt.show()"
   ]
  },
  {
   "cell_type": "markdown",
   "id": "0145c324",
   "metadata": {},
   "source": [
    "The euclidean distance among the proteins range from 0 to 1.41, median is about 1.12. And based on the plot of euclidean distances, it appears that there are a lot of proteins that are similar to each other and there is a long tail of different proteins. "
   ]
  },
  {
   "cell_type": "markdown",
   "id": "b67084e7",
   "metadata": {},
   "source": [
    "## 2. SeqVec"
   ]
  },
  {
   "cell_type": "code",
   "execution_count": 57,
   "id": "8f206604",
   "metadata": {},
   "outputs": [
    {
     "data": {
      "text/plain": [
       "(20504, 1024)"
      ]
     },
     "execution_count": 57,
     "metadata": {},
     "output_type": "execute_result"
    }
   ],
   "source": [
    "prefix = 'embeddings/SeqVec/'\n",
    "keys = gcs.list_file_paths(prefix)\n",
    "\n",
    "# There's only one file \n",
    "key = gcs.uri_to_bucket_and_key(keys[1])[1]\n",
    "seqvec_df = gcs.download_pkl(key)\n",
    "\n",
    "# Convert pd Series into np arr\n",
    "X_seqvec = np.stack( seqvec_df[\"seqvec\"]).astype(np.float64)\n",
    "\n",
    "X_seqvec.shape"
   ]
  },
  {
   "cell_type": "code",
   "execution_count": 60,
   "id": "94db9956",
   "metadata": {},
   "outputs": [
    {
     "data": {
      "text/plain": [
       "(20504,)"
      ]
     },
     "execution_count": 60,
     "metadata": {},
     "output_type": "execute_result"
    }
   ],
   "source": [
    "protein_id_seqvec = np.array(seqvec_df[\"protein_id\"])\n",
    "protein_id_seqvec.shape"
   ]
  },
  {
   "cell_type": "markdown",
   "id": "3f28adb4",
   "metadata": {},
   "source": [
    "# 3. DeepFold without Disordered"
   ]
  },
  {
   "cell_type": "code",
   "execution_count": 161,
   "id": "cb09cd79",
   "metadata": {},
   "outputs": [],
   "source": [
    "prefix = 'embeddings/DeepFold/withMask=true/'\n",
    "keys = gcs.list_file_paths(prefix)[1:]"
   ]
  },
  {
   "cell_type": "code",
   "execution_count": 162,
   "id": "15dbb1dd",
   "metadata": {},
   "outputs": [
    {
     "data": {
      "text/plain": [
       "['gs://capstone-fall21-protein/embeddings/DeepFold/withMask=true/deepfold_00.csv',\n",
       " 'gs://capstone-fall21-protein/embeddings/DeepFold/withMask=true/deepfold_01.csv',\n",
       " 'gs://capstone-fall21-protein/embeddings/DeepFold/withMask=true/deepfold_02.csv',\n",
       " 'gs://capstone-fall21-protein/embeddings/DeepFold/withMask=true/deepfold_03.csv',\n",
       " 'gs://capstone-fall21-protein/embeddings/DeepFold/withMask=true/deepfold_04.csv',\n",
       " 'gs://capstone-fall21-protein/embeddings/DeepFold/withMask=true/deepfold_05.csv',\n",
       " 'gs://capstone-fall21-protein/embeddings/DeepFold/withMask=true/deepfold_06.csv',\n",
       " 'gs://capstone-fall21-protein/embeddings/DeepFold/withMask=true/deepfold_07.csv',\n",
       " 'gs://capstone-fall21-protein/embeddings/DeepFold/withMask=true/deepfold_08.csv',\n",
       " 'gs://capstone-fall21-protein/embeddings/DeepFold/withMask=true/deepfold_09.csv',\n",
       " 'gs://capstone-fall21-protein/embeddings/DeepFold/withMask=true/deepfold_10.csv',\n",
       " 'gs://capstone-fall21-protein/embeddings/DeepFold/withMask=true/deepfold_11.csv',\n",
       " 'gs://capstone-fall21-protein/embeddings/DeepFold/withMask=true/deepfold_12.csv',\n",
       " 'gs://capstone-fall21-protein/embeddings/DeepFold/withMask=true/deepfold_13.csv',\n",
       " 'gs://capstone-fall21-protein/embeddings/DeepFold/withMask=true/deepfold_14.csv',\n",
       " 'gs://capstone-fall21-protein/embeddings/DeepFold/withMask=true/deepfold_15.csv',\n",
       " 'gs://capstone-fall21-protein/embeddings/DeepFold/withMask=true/deepfold_16.csv',\n",
       " 'gs://capstone-fall21-protein/embeddings/DeepFold/withMask=true/deepfold_17.csv',\n",
       " 'gs://capstone-fall21-protein/embeddings/DeepFold/withMask=true/deepfold_18.csv',\n",
       " 'gs://capstone-fall21-protein/embeddings/DeepFold/withMask=true/deepfold_19.csv',\n",
       " 'gs://capstone-fall21-protein/embeddings/DeepFold/withMask=true/deepfold_20.csv',\n",
       " 'gs://capstone-fall21-protein/embeddings/DeepFold/withMask=true/deepfold_21.csv',\n",
       " 'gs://capstone-fall21-protein/embeddings/DeepFold/withMask=true/deepfold_22.csv',\n",
       " 'gs://capstone-fall21-protein/embeddings/DeepFold/withMask=true/deepfold_23.csv']"
      ]
     },
     "execution_count": 162,
     "metadata": {},
     "output_type": "execute_result"
    }
   ],
   "source": [
    "keys"
   ]
  },
  {
   "cell_type": "code",
   "execution_count": 168,
   "id": "2595628c",
   "metadata": {},
   "outputs": [
    {
     "name": "stdout",
     "output_type": "stream",
     "text": [
      "embeddings/DeepFold/withMask=true/deepfold_00.csv\n",
      "embeddings/DeepFold/withMask=true/deepfold_01.csv\n",
      "embeddings/DeepFold/withMask=true/deepfold_02.csv\n",
      "embeddings/DeepFold/withMask=true/deepfold_03.csv\n",
      "embeddings/DeepFold/withMask=true/deepfold_04.csv\n",
      "embeddings/DeepFold/withMask=true/deepfold_05.csv\n",
      "embeddings/DeepFold/withMask=true/deepfold_06.csv\n",
      "embeddings/DeepFold/withMask=true/deepfold_07.csv\n",
      "embeddings/DeepFold/withMask=true/deepfold_08.csv\n",
      "embeddings/DeepFold/withMask=true/deepfold_09.csv\n",
      "embeddings/DeepFold/withMask=true/deepfold_10.csv\n",
      "embeddings/DeepFold/withMask=true/deepfold_11.csv\n",
      "embeddings/DeepFold/withMask=true/deepfold_12.csv\n",
      "embeddings/DeepFold/withMask=true/deepfold_13.csv\n",
      "embeddings/DeepFold/withMask=true/deepfold_14.csv\n",
      "embeddings/DeepFold/withMask=true/deepfold_15.csv\n",
      "embeddings/DeepFold/withMask=true/deepfold_16.csv\n",
      "embeddings/DeepFold/withMask=true/deepfold_17.csv\n",
      "embeddings/DeepFold/withMask=true/deepfold_18.csv\n",
      "embeddings/DeepFold/withMask=true/deepfold_19.csv\n",
      "embeddings/DeepFold/withMask=true/deepfold_20.csv\n",
      "embeddings/DeepFold/withMask=true/deepfold_21.csv\n",
      "embeddings/DeepFold/withMask=true/deepfold_22.csv\n",
      "embeddings/DeepFold/withMask=true/deepfold_23.csv\n"
     ]
    }
   ],
   "source": [
    "X_deepfold_mask, missing_deepfold_mask, protein_id_deepfold_mask = ev.import_deepfold_embeddings(keys)"
   ]
  },
  {
   "cell_type": "code",
   "execution_count": 164,
   "id": "9a22aced",
   "metadata": {},
   "outputs": [
    {
     "data": {
      "text/plain": [
       "19490"
      ]
     },
     "execution_count": 164,
     "metadata": {},
     "output_type": "execute_result"
    }
   ],
   "source": [
    "len(protein_id_deepfold_mask)"
   ]
  },
  {
   "cell_type": "code",
   "execution_count": 165,
   "id": "3180d847",
   "metadata": {},
   "outputs": [
    {
     "data": {
      "text/plain": [
       "19490"
      ]
     },
     "execution_count": 165,
     "metadata": {},
     "output_type": "execute_result"
    }
   ],
   "source": [
    "len(X_deepfold_mask)"
   ]
  },
  {
   "cell_type": "code",
   "execution_count": 166,
   "id": "f07c9706",
   "metadata": {},
   "outputs": [
    {
     "data": {
      "text/plain": [
       "1017"
      ]
     },
     "execution_count": 166,
     "metadata": {},
     "output_type": "execute_result"
    }
   ],
   "source": [
    "len(missing_deepfold_mask)"
   ]
  },
  {
   "cell_type": "code",
   "execution_count": 167,
   "id": "12c081bd",
   "metadata": {},
   "outputs": [
    {
     "data": {
      "text/plain": [
       "20507"
      ]
     },
     "execution_count": 167,
     "metadata": {},
     "output_type": "execute_result"
    }
   ],
   "source": [
    "19490+1017"
   ]
  },
  {
   "cell_type": "markdown",
   "id": "cd231dd9",
   "metadata": {},
   "source": [
    "# Modeling\n",
    "\n",
    "## A. DBSCAN\n",
    "\n",
    "### A.1. DBSCAN + DeepFold"
   ]
  },
  {
   "cell_type": "code",
   "execution_count": 177,
   "id": "e5e35a3f",
   "metadata": {},
   "outputs": [
    {
     "name": "stdout",
     "output_type": "stream",
     "text": [
      "0.1 2\n",
      "0.1 5\n",
      "0.1 10\n",
      "0.36 2\n",
      "0.36 5\n",
      "0.36 10\n",
      "0.6199999999999999 2\n",
      "0.6199999999999999 5\n",
      "0.6199999999999999 10\n",
      "0.8799999999999998 2\n",
      "0.8799999999999998 5\n",
      "0.8799999999999998 10\n",
      "1.14 2\n",
      "1.14 5\n",
      "1.14 10\n",
      "1.4 2\n",
      "1.4 5\n",
      "1.4 10\n"
     ]
    }
   ],
   "source": [
    "range_eps = np.linspace(start=0.1, stop=1.4, num=6)\n",
    "range_min_samples = [2, 5, 10]\n",
    "\n",
    "a1_gridsearch = ev.dbscan_gridsearch(X_deepfold, range_eps, range_min_samples, metric='euclidean')"
   ]
  },
  {
   "cell_type": "code",
   "execution_count": 178,
   "id": "d8e81be0",
   "metadata": {
    "scrolled": true
   },
   "outputs": [
    {
     "data": {
      "text/html": [
       "<div>\n",
       "<style scoped>\n",
       "    .dataframe tbody tr th:only-of-type {\n",
       "        vertical-align: middle;\n",
       "    }\n",
       "\n",
       "    .dataframe tbody tr th {\n",
       "        vertical-align: top;\n",
       "    }\n",
       "\n",
       "    .dataframe thead th {\n",
       "        text-align: right;\n",
       "    }\n",
       "</style>\n",
       "<table border=\"1\" class=\"dataframe\">\n",
       "  <thead>\n",
       "    <tr style=\"text-align: right;\">\n",
       "      <th></th>\n",
       "      <th>eps</th>\n",
       "      <th>min_samples</th>\n",
       "      <th>metric</th>\n",
       "      <th>Num. Clusters</th>\n",
       "      <th>Noise Size</th>\n",
       "      <th>Max Cluster Size</th>\n",
       "      <th>DB_sc</th>\n",
       "      <th>Silhouette_sc</th>\n",
       "      <th>DB_sc excl. noise</th>\n",
       "      <th>Silhouette_sc excl. noise</th>\n",
       "    </tr>\n",
       "  </thead>\n",
       "  <tbody>\n",
       "    <tr>\n",
       "      <th>6</th>\n",
       "      <td>0.62</td>\n",
       "      <td>2</td>\n",
       "      <td>euclidean</td>\n",
       "      <td>593</td>\n",
       "      <td>2610</td>\n",
       "      <td>15346</td>\n",
       "      <td>1.355311</td>\n",
       "      <td>-0.131881</td>\n",
       "      <td>1.103202</td>\n",
       "      <td>-0.110608</td>\n",
       "    </tr>\n",
       "    <tr>\n",
       "      <th>3</th>\n",
       "      <td>0.36</td>\n",
       "      <td>2</td>\n",
       "      <td>euclidean</td>\n",
       "      <td>1203</td>\n",
       "      <td>8684</td>\n",
       "      <td>7433</td>\n",
       "      <td>1.221966</td>\n",
       "      <td>-0.238412</td>\n",
       "      <td>1.044844</td>\n",
       "      <td>-0.119199</td>\n",
       "    </tr>\n",
       "    <tr>\n",
       "      <th>4</th>\n",
       "      <td>0.36</td>\n",
       "      <td>5</td>\n",
       "      <td>euclidean</td>\n",
       "      <td>137</td>\n",
       "      <td>11422</td>\n",
       "      <td>7300</td>\n",
       "      <td>1.281423</td>\n",
       "      <td>-0.264797</td>\n",
       "      <td>1.060325</td>\n",
       "      <td>-0.202788</td>\n",
       "    </tr>\n",
       "    <tr>\n",
       "      <th>0</th>\n",
       "      <td>0.10</td>\n",
       "      <td>2</td>\n",
       "      <td>euclidean</td>\n",
       "      <td>626</td>\n",
       "      <td>17810</td>\n",
       "      <td>293</td>\n",
       "      <td>0.975601</td>\n",
       "      <td>-0.352351</td>\n",
       "      <td>0.320525</td>\n",
       "      <td>0.577396</td>\n",
       "    </tr>\n",
       "  </tbody>\n",
       "</table>\n",
       "</div>"
      ],
      "text/plain": [
       "    eps min_samples     metric Num. Clusters Noise Size Max Cluster Size  \\\n",
       "6  0.62           2  euclidean           593       2610            15346   \n",
       "3  0.36           2  euclidean          1203       8684             7433   \n",
       "4  0.36           5  euclidean           137      11422             7300   \n",
       "0  0.10           2  euclidean           626      17810              293   \n",
       "\n",
       "      DB_sc Silhouette_sc DB_sc excl. noise Silhouette_sc excl. noise  \n",
       "6  1.355311     -0.131881          1.103202                 -0.110608  \n",
       "3  1.221966     -0.238412          1.044844                 -0.119199  \n",
       "4  1.281423     -0.264797          1.060325                 -0.202788  \n",
       "0  0.975601     -0.352351          0.320525                  0.577396  "
      ]
     },
     "execution_count": 178,
     "metadata": {},
     "output_type": "execute_result"
    }
   ],
   "source": [
    "a1_gridsearch[\n",
    "    (a1_gridsearch[\"Noise Size\"] > 0)\n",
    "    & (a1_gridsearch[\"Num. Clusters\"] > 100)\n",
    "]"
   ]
  },
  {
   "cell_type": "markdown",
   "id": "55db658b",
   "metadata": {},
   "source": [
    "None of these models look usable because either there's too much noise or too much concentration in one giant cluster. The best it can do is 8684 in noise plus 7433 in a big cluster, at a total of about 16,000 untrustworthy protein clustering.\n",
    "Try again with cosine distance."
   ]
  },
  {
   "cell_type": "code",
   "execution_count": 179,
   "id": "3a1e6384",
   "metadata": {},
   "outputs": [
    {
     "name": "stdout",
     "output_type": "stream",
     "text": [
      "0.05 2\n",
      "0.05 5\n",
      "0.05 10\n",
      "0.2625 2\n",
      "0.2625 5\n",
      "0.2625 10\n",
      "0.475 2\n",
      "0.475 5\n",
      "0.475 10\n",
      "0.6875 2\n",
      "0.6875 5\n",
      "0.6875 10\n",
      "0.9 2\n",
      "0.9 5\n",
      "0.9 10\n"
     ]
    }
   ],
   "source": [
    "# With cosine \n",
    "range_eps = np.linspace(start=0.05, stop=0.9, num=5)\n",
    "range_min_samples = [2, 5, 10]\n",
    "\n",
    "a1_gridsearch  = ev.dbscan_gridsearch(X_deepfold, range_eps, range_min_samples, metric='cosine')"
   ]
  },
  {
   "cell_type": "code",
   "execution_count": 190,
   "id": "ee0b6495",
   "metadata": {
    "scrolled": true
   },
   "outputs": [
    {
     "data": {
      "text/html": [
       "<div>\n",
       "<style scoped>\n",
       "    .dataframe tbody tr th:only-of-type {\n",
       "        vertical-align: middle;\n",
       "    }\n",
       "\n",
       "    .dataframe tbody tr th {\n",
       "        vertical-align: top;\n",
       "    }\n",
       "\n",
       "    .dataframe thead th {\n",
       "        text-align: right;\n",
       "    }\n",
       "</style>\n",
       "<table border=\"1\" class=\"dataframe\">\n",
       "  <thead>\n",
       "    <tr style=\"text-align: right;\">\n",
       "      <th></th>\n",
       "      <th>eps</th>\n",
       "      <th>min_samples</th>\n",
       "      <th>metric</th>\n",
       "      <th>Num. Clusters</th>\n",
       "      <th>Noise Size</th>\n",
       "      <th>Max Cluster Size</th>\n",
       "      <th>DB_sc</th>\n",
       "      <th>Silhouette_sc</th>\n",
       "      <th>DB_sc excl. noise</th>\n",
       "      <th>Silhouette_sc excl. noise</th>\n",
       "    </tr>\n",
       "  </thead>\n",
       "  <tbody>\n",
       "    <tr>\n",
       "      <th>3</th>\n",
       "      <td>0.2625</td>\n",
       "      <td>2</td>\n",
       "      <td>cosine</td>\n",
       "      <td>282</td>\n",
       "      <td>1258</td>\n",
       "      <td>18076</td>\n",
       "      <td>1.404573</td>\n",
       "      <td>-0.093246</td>\n",
       "      <td>1.137328</td>\n",
       "      <td>-0.0843</td>\n",
       "    </tr>\n",
       "    <tr>\n",
       "      <th>4</th>\n",
       "      <td>0.2625</td>\n",
       "      <td>5</td>\n",
       "      <td>cosine</td>\n",
       "      <td>51</td>\n",
       "      <td>1932</td>\n",
       "      <td>17944</td>\n",
       "      <td>1.645877</td>\n",
       "      <td>-0.012078</td>\n",
       "      <td>1.248503</td>\n",
       "      <td>0.003874</td>\n",
       "    </tr>\n",
       "    <tr>\n",
       "      <th>0</th>\n",
       "      <td>0.0500</td>\n",
       "      <td>2</td>\n",
       "      <td>cosine</td>\n",
       "      <td>1222</td>\n",
       "      <td>10240</td>\n",
       "      <td>5451</td>\n",
       "      <td>1.187003</td>\n",
       "      <td>-0.239669</td>\n",
       "      <td>0.972835</td>\n",
       "      <td>-0.054089</td>\n",
       "    </tr>\n",
       "    <tr>\n",
       "      <th>1</th>\n",
       "      <td>0.0500</td>\n",
       "      <td>5</td>\n",
       "      <td>cosine</td>\n",
       "      <td>137</td>\n",
       "      <td>13038</td>\n",
       "      <td>5284</td>\n",
       "      <td>1.226663</td>\n",
       "      <td>-0.243661</td>\n",
       "      <td>0.979484</td>\n",
       "      <td>-0.097481</td>\n",
       "    </tr>\n",
       "  </tbody>\n",
       "</table>\n",
       "</div>"
      ],
      "text/plain": [
       "      eps min_samples  metric Num. Clusters Noise Size Max Cluster Size  \\\n",
       "3  0.2625           2  cosine           282       1258            18076   \n",
       "4  0.2625           5  cosine            51       1932            17944   \n",
       "0  0.0500           2  cosine          1222      10240             5451   \n",
       "1  0.0500           5  cosine           137      13038             5284   \n",
       "\n",
       "      DB_sc Silhouette_sc DB_sc excl. noise Silhouette_sc excl. noise  \n",
       "3  1.404573     -0.093246          1.137328                   -0.0843  \n",
       "4  1.645877     -0.012078          1.248503                  0.003874  \n",
       "0  1.187003     -0.239669          0.972835                 -0.054089  \n",
       "1  1.226663     -0.243661          0.979484                 -0.097481  "
      ]
     },
     "execution_count": 190,
     "metadata": {},
     "output_type": "execute_result"
    }
   ],
   "source": [
    "a1_gridsearch[\n",
    "    (a1_gridsearch[\"Noise Size\"] > 0)\n",
    "    & (a1_gridsearch[\"Num. Clusters\"] > 50)\n",
    "]"
   ]
  },
  {
   "cell_type": "markdown",
   "id": "45073418",
   "metadata": {},
   "source": [
    "The least egregious seems to be the modein index `0`, despite a large number of clusters (1,223). But notice how the Silhouette score is negative. "
   ]
  },
  {
   "cell_type": "code",
   "execution_count": 38,
   "id": "c8fa3a4c",
   "metadata": {},
   "outputs": [],
   "source": [
    "a1_model = DBSCAN(eps=0.0500, \n",
    "                  min_samples=2,\n",
    "                  metric='cosine').fit(X_deepfold)"
   ]
  },
  {
   "cell_type": "code",
   "execution_count": 39,
   "id": "d9da8f08",
   "metadata": {},
   "outputs": [],
   "source": [
    "file_path = 'model_outputs/a1_model.pkl'\n",
    "with open(file_path, 'wb') as file:\n",
    "    pickle.dump(a1_model, file)"
   ]
  },
  {
   "cell_type": "markdown",
   "id": "2ce25506",
   "metadata": {},
   "source": [
    "### A.2. DBSCAN + SeqVec"
   ]
  },
  {
   "cell_type": "code",
   "execution_count": 25,
   "id": "a35d4ec4",
   "metadata": {},
   "outputs": [
    {
     "data": {
      "text/plain": [
       "<module 'utils.model_and_evaluate_cluster' from '/Users/haeranglee/Documents/pss/utils/model_and_evaluate_cluster.py'>"
      ]
     },
     "execution_count": 25,
     "metadata": {},
     "output_type": "execute_result"
    }
   ],
   "source": [
    "importlib.reload(ev)"
   ]
  },
  {
   "cell_type": "code",
   "execution_count": 182,
   "id": "f2c9c928",
   "metadata": {},
   "outputs": [
    {
     "name": "stdout",
     "output_type": "stream",
     "text": [
      "0.05 1\n",
      "0.05 2\n",
      "0.05 5\n",
      "0.05 10\n",
      "0.2625 1\n",
      "0.2625 2\n",
      "0.2625 5\n",
      "0.2625 10\n",
      "0.475 1\n",
      "0.475 2\n",
      "0.475 5\n",
      "0.475 10\n",
      "0.6875 1\n",
      "0.6875 2\n",
      "0.6875 5\n",
      "0.6875 10\n",
      "0.9 1\n",
      "0.9 2\n",
      "0.9 5\n",
      "0.9 10\n"
     ]
    }
   ],
   "source": [
    "# With cosine \n",
    "range_eps = np.linspace(start=0.05, stop=0.9, num=5)\n",
    "range_min_samples = [1, 2, 5, 10]\n",
    "\n",
    "a2_gridsearch  = ev.dbscan_gridsearch(X_seqvec, range_eps, range_min_samples, metric='cosine')"
   ]
  },
  {
   "cell_type": "code",
   "execution_count": 189,
   "id": "3aaa6440",
   "metadata": {
    "scrolled": true
   },
   "outputs": [
    {
     "data": {
      "text/html": [
       "<div>\n",
       "<style scoped>\n",
       "    .dataframe tbody tr th:only-of-type {\n",
       "        vertical-align: middle;\n",
       "    }\n",
       "\n",
       "    .dataframe tbody tr th {\n",
       "        vertical-align: top;\n",
       "    }\n",
       "\n",
       "    .dataframe thead th {\n",
       "        text-align: right;\n",
       "    }\n",
       "</style>\n",
       "<table border=\"1\" class=\"dataframe\">\n",
       "  <thead>\n",
       "    <tr style=\"text-align: right;\">\n",
       "      <th></th>\n",
       "      <th>eps</th>\n",
       "      <th>min_samples</th>\n",
       "      <th>metric</th>\n",
       "      <th>Num. Clusters</th>\n",
       "      <th>Noise Size</th>\n",
       "      <th>Max Cluster Size</th>\n",
       "      <th>DB_sc</th>\n",
       "      <th>Silhouette_sc</th>\n",
       "      <th>DB_sc excl. noise</th>\n",
       "      <th>Silhouette_sc excl. noise</th>\n",
       "    </tr>\n",
       "  </thead>\n",
       "  <tbody>\n",
       "    <tr>\n",
       "      <th>1</th>\n",
       "      <td>0.05</td>\n",
       "      <td>2</td>\n",
       "      <td>cosine</td>\n",
       "      <td>1606</td>\n",
       "      <td>12966</td>\n",
       "      <td>691</td>\n",
       "      <td>1.219293</td>\n",
       "      <td>-0.16328</td>\n",
       "      <td>0.755498</td>\n",
       "      <td>0.369689</td>\n",
       "    </tr>\n",
       "    <tr>\n",
       "      <th>2</th>\n",
       "      <td>0.05</td>\n",
       "      <td>5</td>\n",
       "      <td>cosine</td>\n",
       "      <td>223</td>\n",
       "      <td>16402</td>\n",
       "      <td>689</td>\n",
       "      <td>1.199595</td>\n",
       "      <td>-0.212962</td>\n",
       "      <td>0.823085</td>\n",
       "      <td>0.4112</td>\n",
       "    </tr>\n",
       "    <tr>\n",
       "      <th>3</th>\n",
       "      <td>0.05</td>\n",
       "      <td>10</td>\n",
       "      <td>cosine</td>\n",
       "      <td>80</td>\n",
       "      <td>17645</td>\n",
       "      <td>686</td>\n",
       "      <td>1.123475</td>\n",
       "      <td>-0.186985</td>\n",
       "      <td>0.796239</td>\n",
       "      <td>0.449817</td>\n",
       "    </tr>\n",
       "  </tbody>\n",
       "</table>\n",
       "</div>"
      ],
      "text/plain": [
       "    eps min_samples  metric Num. Clusters Noise Size Max Cluster Size  \\\n",
       "1  0.05           2  cosine          1606      12966              691   \n",
       "2  0.05           5  cosine           223      16402              689   \n",
       "3  0.05          10  cosine            80      17645              686   \n",
       "\n",
       "      DB_sc Silhouette_sc DB_sc excl. noise Silhouette_sc excl. noise  \n",
       "1  1.219293      -0.16328          0.755498                  0.369689  \n",
       "2  1.199595     -0.212962          0.823085                    0.4112  \n",
       "3  1.123475     -0.186985          0.796239                  0.449817  "
      ]
     },
     "execution_count": 189,
     "metadata": {},
     "output_type": "execute_result"
    }
   ],
   "source": [
    "a2_gridsearch[\n",
    "    (a2_gridsearch[\"Noise Size\"] > 0)\n",
    "    & (a2_gridsearch[\"Num. Clusters\"] > 50)\n",
    "]"
   ]
  },
  {
   "cell_type": "markdown",
   "id": "70d3db30",
   "metadata": {},
   "source": [
    "The least aggregious seems to be index 1. That's the same set of params as model a1 with a different embedding. This noise level is way too high."
   ]
  },
  {
   "cell_type": "code",
   "execution_count": 128,
   "id": "0b50f3b6",
   "metadata": {},
   "outputs": [],
   "source": [
    "a2_model = DBSCAN(eps=0.0500, \n",
    "                  min_samples=2,\n",
    "                  metric='cosine').fit(X_seqvec)"
   ]
  },
  {
   "cell_type": "code",
   "execution_count": 19,
   "id": "5186778e",
   "metadata": {},
   "outputs": [],
   "source": [
    "# file_path = 'model_outputs/a2_model.pkl'\n",
    "# with open(file_path, 'wb') as file:\n",
    "#     pickle.dump(a2_model, file)"
   ]
  },
  {
   "cell_type": "markdown",
   "id": "9316275f",
   "metadata": {},
   "source": [
    "### A.2. DBSCAN + DeepFold with Mask\n",
    "\n",
    "This is the embedding that masks out the parts of the protein structure with no shape information."
   ]
  },
  {
   "cell_type": "code",
   "execution_count": 175,
   "id": "38ef2417",
   "metadata": {},
   "outputs": [
    {
     "name": "stdout",
     "output_type": "stream",
     "text": [
      "0.05 2\n",
      "0.05 5\n",
      "0.05 10\n",
      "0.2625 2\n",
      "0.2625 5\n",
      "0.2625 10\n",
      "0.475 2\n",
      "0.475 5\n",
      "0.475 10\n",
      "0.6875 2\n",
      "0.6875 5\n",
      "0.6875 10\n",
      "0.9 2\n",
      "0.9 5\n",
      "0.9 10\n"
     ]
    }
   ],
   "source": [
    "# With cosine \n",
    "range_eps = np.linspace(start=0.05, stop=0.9, num=5)\n",
    "range_min_samples = [2, 5, 10]\n",
    "\n",
    "a3_gridsearch  = ev.dbscan_gridsearch(X_deepfold_mask, range_eps, range_min_samples, metric='cosine')"
   ]
  },
  {
   "cell_type": "code",
   "execution_count": 187,
   "id": "ff467da8",
   "metadata": {
    "scrolled": true
   },
   "outputs": [
    {
     "data": {
      "text/html": [
       "<div>\n",
       "<style scoped>\n",
       "    .dataframe tbody tr th:only-of-type {\n",
       "        vertical-align: middle;\n",
       "    }\n",
       "\n",
       "    .dataframe tbody tr th {\n",
       "        vertical-align: top;\n",
       "    }\n",
       "\n",
       "    .dataframe thead th {\n",
       "        text-align: right;\n",
       "    }\n",
       "</style>\n",
       "<table border=\"1\" class=\"dataframe\">\n",
       "  <thead>\n",
       "    <tr style=\"text-align: right;\">\n",
       "      <th></th>\n",
       "      <th>eps</th>\n",
       "      <th>min_samples</th>\n",
       "      <th>metric</th>\n",
       "      <th>Num. Clusters</th>\n",
       "      <th>Noise Size</th>\n",
       "      <th>Max Cluster Size</th>\n",
       "      <th>DB_sc</th>\n",
       "      <th>Silhouette_sc</th>\n",
       "      <th>DB_sc excl. noise</th>\n",
       "      <th>Silhouette_sc excl. noise</th>\n",
       "    </tr>\n",
       "  </thead>\n",
       "  <tbody>\n",
       "    <tr>\n",
       "      <th>3</th>\n",
       "      <td>0.2625</td>\n",
       "      <td>2</td>\n",
       "      <td>cosine</td>\n",
       "      <td>461</td>\n",
       "      <td>1851</td>\n",
       "      <td>16177</td>\n",
       "      <td>1.469367</td>\n",
       "      <td>-0.12133</td>\n",
       "      <td>1.254838</td>\n",
       "      <td>-0.109396</td>\n",
       "    </tr>\n",
       "    <tr>\n",
       "      <th>4</th>\n",
       "      <td>0.2625</td>\n",
       "      <td>5</td>\n",
       "      <td>cosine</td>\n",
       "      <td>62</td>\n",
       "      <td>2998</td>\n",
       "      <td>15845</td>\n",
       "      <td>1.748409</td>\n",
       "      <td>-0.061578</td>\n",
       "      <td>1.405355</td>\n",
       "      <td>-0.043827</td>\n",
       "    </tr>\n",
       "    <tr>\n",
       "      <th>0</th>\n",
       "      <td>0.0500</td>\n",
       "      <td>2</td>\n",
       "      <td>cosine</td>\n",
       "      <td>1099</td>\n",
       "      <td>10808</td>\n",
       "      <td>4013</td>\n",
       "      <td>1.210669</td>\n",
       "      <td>-0.217391</td>\n",
       "      <td>0.877896</td>\n",
       "      <td>0.025266</td>\n",
       "    </tr>\n",
       "    <tr>\n",
       "      <th>1</th>\n",
       "      <td>0.0500</td>\n",
       "      <td>5</td>\n",
       "      <td>cosine</td>\n",
       "      <td>129</td>\n",
       "      <td>13293</td>\n",
       "      <td>3750</td>\n",
       "      <td>1.282777</td>\n",
       "      <td>-0.211617</td>\n",
       "      <td>0.917169</td>\n",
       "      <td>0.023996</td>\n",
       "    </tr>\n",
       "  </tbody>\n",
       "</table>\n",
       "</div>"
      ],
      "text/plain": [
       "      eps min_samples  metric Num. Clusters Noise Size Max Cluster Size  \\\n",
       "3  0.2625           2  cosine           461       1851            16177   \n",
       "4  0.2625           5  cosine            62       2998            15845   \n",
       "0  0.0500           2  cosine          1099      10808             4013   \n",
       "1  0.0500           5  cosine           129      13293             3750   \n",
       "\n",
       "      DB_sc Silhouette_sc DB_sc excl. noise Silhouette_sc excl. noise  \n",
       "3  1.469367      -0.12133          1.254838                 -0.109396  \n",
       "4  1.748409     -0.061578          1.405355                 -0.043827  \n",
       "0  1.210669     -0.217391          0.877896                  0.025266  \n",
       "1  1.282777     -0.211617          0.917169                  0.023996  "
      ]
     },
     "execution_count": 187,
     "metadata": {},
     "output_type": "execute_result"
    }
   ],
   "source": [
    "a3_gridsearch[\n",
    "    (a3_gridsearch[\"Noise Size\"] > 0)\n",
    "    & (a3_gridsearch[\"Num. Clusters\"] > 50)\n",
    "]"
   ]
  },
  {
   "cell_type": "markdown",
   "id": "1a87f711",
   "metadata": {},
   "source": [
    "The least egregious seems to be the modein index `0`, despite a large number of clusters (1,099). But the DB and Silhouette scores are not super impressive."
   ]
  },
  {
   "cell_type": "code",
   "execution_count": 185,
   "id": "d8d61566",
   "metadata": {},
   "outputs": [],
   "source": [
    "a3_model = DBSCAN(eps=0.0500, \n",
    "                  min_samples=2,\n",
    "                  metric='cosine').fit(X_deepfold_mask)"
   ]
  },
  {
   "cell_type": "code",
   "execution_count": 186,
   "id": "d704819a",
   "metadata": {},
   "outputs": [],
   "source": [
    "file_path = 'model_outputs/a3_model.pkl'\n",
    "with open(file_path, 'wb') as file:\n",
    "    pickle.dump(a3_model, file)"
   ]
  },
  {
   "cell_type": "markdown",
   "id": "0e84f2e5",
   "metadata": {},
   "source": [
    "## B. HDBSCAN\n",
    "\n",
    "`min_cluster_size` [More info](https://readthedocs.org/projects/hdbscan/downloads/pdf/latest/)\n",
    "> Clusters smaller than this value with be called ‘noise’ and remain unclustered in the resulting flat clustering\n",
    "\n",
    "\n",
    "`min_samples` [More info](https://readthedocs.org/projects/hdbscan/downloads/pdf/latest/)\n",
    ">  The simplest intuition for what min_samples does is provide a measure of how conservative\n",
    "you want you clustering to be. The larger the value of min_samples you provide, the more conservative the\n",
    "clustering – more points will be declared as noise, and clusters will be restricted to progressively more dense areas. [...] Note: adjusting min_samples will result in recomputing the hard comptuation of the single linkage\n",
    "tree.\n",
    "\n",
    "`cluster_selection_epsilon` [More info](https://hdbscan.readthedocs.io/en/latest/how_to_use_epsilon.html)\n",
    "> In some cases, we want to choose a small min_cluster_size because even groups of few points might be of interest to us. However, if our data set also contains partitions with high concentrations of objects, this parameter setting can result in a large number of micro-clusters. Selecting a value for cluster_selection_epsilon helps us to merge clusters in these regions. Or in other words, it ensures that clusters below the given threshold are not split up any further.\n",
    "\n",
    "\n",
    "### B.1. HDBSCAN + DeepFold"
   ]
  },
  {
   "cell_type": "code",
   "execution_count": 48,
   "id": "85e8e097",
   "metadata": {},
   "outputs": [],
   "source": [
    "min_cluster_sizes = [5, 10]\n",
    "min_samples = [1, 5]\n",
    "cluster_selection_epsilons = [0, 1.1, 1.3]  # I tried a lot of epsilons 0-1.0 but they did not make any difference\n",
    "\n",
    "b1_gridsearch = ev.hdbscan_gridsearch(X_deepfold, \n",
    "                                       min_cluster_sizes,\n",
    "                                       min_samples,\n",
    "                                       cluster_selection_epsilons\n",
    "                                      )"
   ]
  },
  {
   "cell_type": "code",
   "execution_count": 49,
   "id": "6f608986",
   "metadata": {},
   "outputs": [
    {
     "data": {
      "text/html": [
       "<div>\n",
       "<style scoped>\n",
       "    .dataframe tbody tr th:only-of-type {\n",
       "        vertical-align: middle;\n",
       "    }\n",
       "\n",
       "    .dataframe tbody tr th {\n",
       "        vertical-align: top;\n",
       "    }\n",
       "\n",
       "    .dataframe thead th {\n",
       "        text-align: right;\n",
       "    }\n",
       "</style>\n",
       "<table border=\"1\" class=\"dataframe\">\n",
       "  <thead>\n",
       "    <tr style=\"text-align: right;\">\n",
       "      <th></th>\n",
       "      <th>min_cluster_size</th>\n",
       "      <th>min_sample</th>\n",
       "      <th>cluster_selection_epsilon</th>\n",
       "      <th>alpha</th>\n",
       "      <th>metric</th>\n",
       "      <th>Num. Clusters</th>\n",
       "      <th>Noise Size</th>\n",
       "      <th>Max Cluster Size</th>\n",
       "      <th>DB_sc</th>\n",
       "      <th>Silhouette_sc</th>\n",
       "      <th>DB_sc excl. noise</th>\n",
       "      <th>Silhouette_sc excl. noise</th>\n",
       "    </tr>\n",
       "  </thead>\n",
       "  <tbody>\n",
       "    <tr>\n",
       "      <th>0</th>\n",
       "      <td>5</td>\n",
       "      <td>1</td>\n",
       "      <td>0</td>\n",
       "      <td>1.0</td>\n",
       "      <td>cosine</td>\n",
       "      <td>607</td>\n",
       "      <td>14056</td>\n",
       "      <td>308</td>\n",
       "      <td>1.404565</td>\n",
       "      <td>-0.215893</td>\n",
       "      <td>1.160113</td>\n",
       "      <td>0.324448</td>\n",
       "    </tr>\n",
       "    <tr>\n",
       "      <th>1</th>\n",
       "      <td>5</td>\n",
       "      <td>1</td>\n",
       "      <td>1.1</td>\n",
       "      <td>1.0</td>\n",
       "      <td>cosine</td>\n",
       "      <td>607</td>\n",
       "      <td>14056</td>\n",
       "      <td>308</td>\n",
       "      <td>1.404565</td>\n",
       "      <td>-0.215893</td>\n",
       "      <td>1.160113</td>\n",
       "      <td>0.324448</td>\n",
       "    </tr>\n",
       "    <tr>\n",
       "      <th>2</th>\n",
       "      <td>5</td>\n",
       "      <td>1</td>\n",
       "      <td>1.3</td>\n",
       "      <td>1.0</td>\n",
       "      <td>cosine</td>\n",
       "      <td>607</td>\n",
       "      <td>14056</td>\n",
       "      <td>308</td>\n",
       "      <td>1.404565</td>\n",
       "      <td>-0.215893</td>\n",
       "      <td>1.160113</td>\n",
       "      <td>0.324448</td>\n",
       "    </tr>\n",
       "    <tr>\n",
       "      <th>6</th>\n",
       "      <td>10</td>\n",
       "      <td>1</td>\n",
       "      <td>0</td>\n",
       "      <td>1.0</td>\n",
       "      <td>cosine</td>\n",
       "      <td>182</td>\n",
       "      <td>15175</td>\n",
       "      <td>548</td>\n",
       "      <td>1.433552</td>\n",
       "      <td>-0.203182</td>\n",
       "      <td>1.209009</td>\n",
       "      <td>0.332206</td>\n",
       "    </tr>\n",
       "    <tr>\n",
       "      <th>7</th>\n",
       "      <td>10</td>\n",
       "      <td>1</td>\n",
       "      <td>1.1</td>\n",
       "      <td>1.0</td>\n",
       "      <td>cosine</td>\n",
       "      <td>182</td>\n",
       "      <td>15175</td>\n",
       "      <td>548</td>\n",
       "      <td>1.433552</td>\n",
       "      <td>-0.203182</td>\n",
       "      <td>1.209009</td>\n",
       "      <td>0.332206</td>\n",
       "    </tr>\n",
       "    <tr>\n",
       "      <th>8</th>\n",
       "      <td>10</td>\n",
       "      <td>1</td>\n",
       "      <td>1.3</td>\n",
       "      <td>1.0</td>\n",
       "      <td>cosine</td>\n",
       "      <td>182</td>\n",
       "      <td>15175</td>\n",
       "      <td>548</td>\n",
       "      <td>1.433552</td>\n",
       "      <td>-0.203182</td>\n",
       "      <td>1.209009</td>\n",
       "      <td>0.332206</td>\n",
       "    </tr>\n",
       "    <tr>\n",
       "      <th>9</th>\n",
       "      <td>10</td>\n",
       "      <td>5</td>\n",
       "      <td>0</td>\n",
       "      <td>1.0</td>\n",
       "      <td>cosine</td>\n",
       "      <td>126</td>\n",
       "      <td>15903</td>\n",
       "      <td>662</td>\n",
       "      <td>1.298434</td>\n",
       "      <td>-0.196512</td>\n",
       "      <td>0.965160</td>\n",
       "      <td>0.396092</td>\n",
       "    </tr>\n",
       "    <tr>\n",
       "      <th>10</th>\n",
       "      <td>10</td>\n",
       "      <td>5</td>\n",
       "      <td>1.1</td>\n",
       "      <td>1.0</td>\n",
       "      <td>cosine</td>\n",
       "      <td>126</td>\n",
       "      <td>15903</td>\n",
       "      <td>662</td>\n",
       "      <td>1.298434</td>\n",
       "      <td>-0.196512</td>\n",
       "      <td>0.965160</td>\n",
       "      <td>0.396092</td>\n",
       "    </tr>\n",
       "    <tr>\n",
       "      <th>11</th>\n",
       "      <td>10</td>\n",
       "      <td>5</td>\n",
       "      <td>1.3</td>\n",
       "      <td>1.0</td>\n",
       "      <td>cosine</td>\n",
       "      <td>126</td>\n",
       "      <td>15903</td>\n",
       "      <td>662</td>\n",
       "      <td>1.298434</td>\n",
       "      <td>-0.196512</td>\n",
       "      <td>0.965160</td>\n",
       "      <td>0.396092</td>\n",
       "    </tr>\n",
       "    <tr>\n",
       "      <th>3</th>\n",
       "      <td>5</td>\n",
       "      <td>5</td>\n",
       "      <td>0</td>\n",
       "      <td>1.0</td>\n",
       "      <td>cosine</td>\n",
       "      <td>237</td>\n",
       "      <td>16081</td>\n",
       "      <td>312</td>\n",
       "      <td>1.261480</td>\n",
       "      <td>-0.237520</td>\n",
       "      <td>0.918895</td>\n",
       "      <td>0.409933</td>\n",
       "    </tr>\n",
       "    <tr>\n",
       "      <th>4</th>\n",
       "      <td>5</td>\n",
       "      <td>5</td>\n",
       "      <td>1.1</td>\n",
       "      <td>1.0</td>\n",
       "      <td>cosine</td>\n",
       "      <td>237</td>\n",
       "      <td>16081</td>\n",
       "      <td>312</td>\n",
       "      <td>1.261480</td>\n",
       "      <td>-0.237520</td>\n",
       "      <td>0.918895</td>\n",
       "      <td>0.409933</td>\n",
       "    </tr>\n",
       "    <tr>\n",
       "      <th>5</th>\n",
       "      <td>5</td>\n",
       "      <td>5</td>\n",
       "      <td>1.3</td>\n",
       "      <td>1.0</td>\n",
       "      <td>cosine</td>\n",
       "      <td>237</td>\n",
       "      <td>16081</td>\n",
       "      <td>312</td>\n",
       "      <td>1.261480</td>\n",
       "      <td>-0.237520</td>\n",
       "      <td>0.918895</td>\n",
       "      <td>0.409933</td>\n",
       "    </tr>\n",
       "  </tbody>\n",
       "</table>\n",
       "</div>"
      ],
      "text/plain": [
       "   min_cluster_size min_sample cluster_selection_epsilon  alpha  metric  \\\n",
       "0                 5          1                         0    1.0  cosine   \n",
       "1                 5          1                       1.1    1.0  cosine   \n",
       "2                 5          1                       1.3    1.0  cosine   \n",
       "6                10          1                         0    1.0  cosine   \n",
       "7                10          1                       1.1    1.0  cosine   \n",
       "8                10          1                       1.3    1.0  cosine   \n",
       "9                10          5                         0    1.0  cosine   \n",
       "10               10          5                       1.1    1.0  cosine   \n",
       "11               10          5                       1.3    1.0  cosine   \n",
       "3                 5          5                         0    1.0  cosine   \n",
       "4                 5          5                       1.1    1.0  cosine   \n",
       "5                 5          5                       1.3    1.0  cosine   \n",
       "\n",
       "   Num. Clusters Noise Size Max Cluster Size     DB_sc  Silhouette_sc  \\\n",
       "0            607      14056              308  1.404565      -0.215893   \n",
       "1            607      14056              308  1.404565      -0.215893   \n",
       "2            607      14056              308  1.404565      -0.215893   \n",
       "6            182      15175              548  1.433552      -0.203182   \n",
       "7            182      15175              548  1.433552      -0.203182   \n",
       "8            182      15175              548  1.433552      -0.203182   \n",
       "9            126      15903              662  1.298434      -0.196512   \n",
       "10           126      15903              662  1.298434      -0.196512   \n",
       "11           126      15903              662  1.298434      -0.196512   \n",
       "3            237      16081              312  1.261480      -0.237520   \n",
       "4            237      16081              312  1.261480      -0.237520   \n",
       "5            237      16081              312  1.261480      -0.237520   \n",
       "\n",
       "    DB_sc excl. noise  Silhouette_sc excl. noise  \n",
       "0            1.160113                   0.324448  \n",
       "1            1.160113                   0.324448  \n",
       "2            1.160113                   0.324448  \n",
       "6            1.209009                   0.332206  \n",
       "7            1.209009                   0.332206  \n",
       "8            1.209009                   0.332206  \n",
       "9            0.965160                   0.396092  \n",
       "10           0.965160                   0.396092  \n",
       "11           0.965160                   0.396092  \n",
       "3            0.918895                   0.409933  \n",
       "4            0.918895                   0.409933  \n",
       "5            0.918895                   0.409933  "
      ]
     },
     "execution_count": 49,
     "metadata": {},
     "output_type": "execute_result"
    }
   ],
   "source": [
    "b1_gridsearch"
   ]
  },
  {
   "cell_type": "markdown",
   "id": "b8b002ee",
   "metadata": {},
   "source": [
    "The noise is too high. And the param `cluster_selection_epsilon` isn't doing anything. "
   ]
  },
  {
   "cell_type": "code",
   "execution_count": 50,
   "id": "14ae368c",
   "metadata": {},
   "outputs": [
    {
     "data": {
      "text/plain": [
       "HDBSCAN(algorithm='generic', metric='cosine', min_samples=1)"
      ]
     },
     "execution_count": 50,
     "metadata": {},
     "output_type": "execute_result"
    }
   ],
   "source": [
    "b1_model = hdbscan.HDBSCAN(algorithm='generic', \n",
    "                                     alpha= 1.0, \n",
    "                                     approx_min_span_tree=True,\n",
    "                                     gen_min_span_tree=False, \n",
    "                                     leaf_size=40, \n",
    "                                     metric='cosine', \n",
    "                                     min_cluster_size= 5, \n",
    "                                     min_samples= 1, \n",
    "                                     p=None)\n",
    "b1_model.fit(X_deepfold)"
   ]
  },
  {
   "cell_type": "code",
   "execution_count": 51,
   "id": "84fe7aa3",
   "metadata": {},
   "outputs": [],
   "source": [
    "file_path = 'model_outputs/b1_model.pkl'\n",
    "with open(file_path, 'wb') as file:\n",
    "    pickle.dump(b1_model, file)"
   ]
  },
  {
   "cell_type": "markdown",
   "id": "2065728f",
   "metadata": {},
   "source": [
    "### B.2. HDBSCAN + SeqVec"
   ]
  },
  {
   "cell_type": "code",
   "execution_count": 104,
   "id": "35ff5911",
   "metadata": {},
   "outputs": [],
   "source": [
    "min_cluster_sizes = [5, 10]\n",
    "min_samples = [1, 5]\n",
    "cluster_selection_epsilons = [0, 0.2, 0.5, 1.0]\n",
    "\n",
    "b2_gridsearch = ev.hdbscan_gridsearch(X_seqvec, \n",
    "                                       min_cluster_sizes,\n",
    "                                       min_samples,\n",
    "                                       cluster_selection_epsilons\n",
    "                                      )"
   ]
  },
  {
   "cell_type": "code",
   "execution_count": 105,
   "id": "3787c60d",
   "metadata": {},
   "outputs": [
    {
     "data": {
      "text/html": [
       "<div>\n",
       "<style scoped>\n",
       "    .dataframe tbody tr th:only-of-type {\n",
       "        vertical-align: middle;\n",
       "    }\n",
       "\n",
       "    .dataframe tbody tr th {\n",
       "        vertical-align: top;\n",
       "    }\n",
       "\n",
       "    .dataframe thead th {\n",
       "        text-align: right;\n",
       "    }\n",
       "</style>\n",
       "<table border=\"1\" class=\"dataframe\">\n",
       "  <thead>\n",
       "    <tr style=\"text-align: right;\">\n",
       "      <th></th>\n",
       "      <th>min_cluster_size</th>\n",
       "      <th>min_sample</th>\n",
       "      <th>cluster_selection_epsilon</th>\n",
       "      <th>alpha</th>\n",
       "      <th>metric</th>\n",
       "      <th>Num. Clusters</th>\n",
       "      <th>Noise Size</th>\n",
       "      <th>Max Cluster Size</th>\n",
       "      <th>DB_sc</th>\n",
       "      <th>Silhouette_sc</th>\n",
       "      <th>DB_sc excl. noise</th>\n",
       "      <th>Silhouette_sc excl. noise</th>\n",
       "    </tr>\n",
       "  </thead>\n",
       "  <tbody>\n",
       "    <tr>\n",
       "      <th>0</th>\n",
       "      <td>5</td>\n",
       "      <td>1</td>\n",
       "      <td>0</td>\n",
       "      <td>1.0</td>\n",
       "      <td>cosine</td>\n",
       "      <td>757</td>\n",
       "      <td>11579</td>\n",
       "      <td>416</td>\n",
       "      <td>1.592354</td>\n",
       "      <td>-0.141107</td>\n",
       "      <td>1.347855</td>\n",
       "      <td>0.234666</td>\n",
       "    </tr>\n",
       "    <tr>\n",
       "      <th>1</th>\n",
       "      <td>5</td>\n",
       "      <td>1</td>\n",
       "      <td>0.2</td>\n",
       "      <td>1.0</td>\n",
       "      <td>cosine</td>\n",
       "      <td>757</td>\n",
       "      <td>11579</td>\n",
       "      <td>416</td>\n",
       "      <td>1.592354</td>\n",
       "      <td>-0.141107</td>\n",
       "      <td>1.347855</td>\n",
       "      <td>0.234666</td>\n",
       "    </tr>\n",
       "    <tr>\n",
       "      <th>2</th>\n",
       "      <td>5</td>\n",
       "      <td>1</td>\n",
       "      <td>0.5</td>\n",
       "      <td>1.0</td>\n",
       "      <td>cosine</td>\n",
       "      <td>757</td>\n",
       "      <td>11579</td>\n",
       "      <td>416</td>\n",
       "      <td>1.592354</td>\n",
       "      <td>-0.141107</td>\n",
       "      <td>1.347855</td>\n",
       "      <td>0.234666</td>\n",
       "    </tr>\n",
       "    <tr>\n",
       "      <th>3</th>\n",
       "      <td>5</td>\n",
       "      <td>1</td>\n",
       "      <td>1.0</td>\n",
       "      <td>1.0</td>\n",
       "      <td>cosine</td>\n",
       "      <td>757</td>\n",
       "      <td>11579</td>\n",
       "      <td>416</td>\n",
       "      <td>1.592354</td>\n",
       "      <td>-0.141107</td>\n",
       "      <td>1.347855</td>\n",
       "      <td>0.234666</td>\n",
       "    </tr>\n",
       "    <tr>\n",
       "      <th>8</th>\n",
       "      <td>10</td>\n",
       "      <td>1</td>\n",
       "      <td>0</td>\n",
       "      <td>1.0</td>\n",
       "      <td>cosine</td>\n",
       "      <td>292</td>\n",
       "      <td>12789</td>\n",
       "      <td>416</td>\n",
       "      <td>1.643406</td>\n",
       "      <td>-0.133924</td>\n",
       "      <td>1.407526</td>\n",
       "      <td>0.243833</td>\n",
       "    </tr>\n",
       "    <tr>\n",
       "      <th>9</th>\n",
       "      <td>10</td>\n",
       "      <td>1</td>\n",
       "      <td>0.2</td>\n",
       "      <td>1.0</td>\n",
       "      <td>cosine</td>\n",
       "      <td>292</td>\n",
       "      <td>12789</td>\n",
       "      <td>416</td>\n",
       "      <td>1.643406</td>\n",
       "      <td>-0.133924</td>\n",
       "      <td>1.407526</td>\n",
       "      <td>0.243833</td>\n",
       "    </tr>\n",
       "    <tr>\n",
       "      <th>10</th>\n",
       "      <td>10</td>\n",
       "      <td>1</td>\n",
       "      <td>0.5</td>\n",
       "      <td>1.0</td>\n",
       "      <td>cosine</td>\n",
       "      <td>292</td>\n",
       "      <td>12789</td>\n",
       "      <td>416</td>\n",
       "      <td>1.643406</td>\n",
       "      <td>-0.133924</td>\n",
       "      <td>1.407526</td>\n",
       "      <td>0.243833</td>\n",
       "    </tr>\n",
       "    <tr>\n",
       "      <th>11</th>\n",
       "      <td>10</td>\n",
       "      <td>1</td>\n",
       "      <td>1.0</td>\n",
       "      <td>1.0</td>\n",
       "      <td>cosine</td>\n",
       "      <td>292</td>\n",
       "      <td>12789</td>\n",
       "      <td>416</td>\n",
       "      <td>1.643406</td>\n",
       "      <td>-0.133924</td>\n",
       "      <td>1.407526</td>\n",
       "      <td>0.243833</td>\n",
       "    </tr>\n",
       "    <tr>\n",
       "      <th>4</th>\n",
       "      <td>5</td>\n",
       "      <td>5</td>\n",
       "      <td>0</td>\n",
       "      <td>1.0</td>\n",
       "      <td>cosine</td>\n",
       "      <td>343</td>\n",
       "      <td>14433</td>\n",
       "      <td>401</td>\n",
       "      <td>1.400991</td>\n",
       "      <td>-0.175680</td>\n",
       "      <td>1.060436</td>\n",
       "      <td>0.335780</td>\n",
       "    </tr>\n",
       "    <tr>\n",
       "      <th>5</th>\n",
       "      <td>5</td>\n",
       "      <td>5</td>\n",
       "      <td>0.2</td>\n",
       "      <td>1.0</td>\n",
       "      <td>cosine</td>\n",
       "      <td>343</td>\n",
       "      <td>14433</td>\n",
       "      <td>401</td>\n",
       "      <td>1.400991</td>\n",
       "      <td>-0.175680</td>\n",
       "      <td>1.060436</td>\n",
       "      <td>0.335780</td>\n",
       "    </tr>\n",
       "    <tr>\n",
       "      <th>6</th>\n",
       "      <td>5</td>\n",
       "      <td>5</td>\n",
       "      <td>0.5</td>\n",
       "      <td>1.0</td>\n",
       "      <td>cosine</td>\n",
       "      <td>343</td>\n",
       "      <td>14433</td>\n",
       "      <td>401</td>\n",
       "      <td>1.400991</td>\n",
       "      <td>-0.175680</td>\n",
       "      <td>1.060436</td>\n",
       "      <td>0.335780</td>\n",
       "    </tr>\n",
       "    <tr>\n",
       "      <th>7</th>\n",
       "      <td>5</td>\n",
       "      <td>5</td>\n",
       "      <td>1.0</td>\n",
       "      <td>1.0</td>\n",
       "      <td>cosine</td>\n",
       "      <td>343</td>\n",
       "      <td>14433</td>\n",
       "      <td>401</td>\n",
       "      <td>1.400991</td>\n",
       "      <td>-0.175680</td>\n",
       "      <td>1.060436</td>\n",
       "      <td>0.335780</td>\n",
       "    </tr>\n",
       "    <tr>\n",
       "      <th>12</th>\n",
       "      <td>10</td>\n",
       "      <td>5</td>\n",
       "      <td>0</td>\n",
       "      <td>1.0</td>\n",
       "      <td>cosine</td>\n",
       "      <td>198</td>\n",
       "      <td>14601</td>\n",
       "      <td>441</td>\n",
       "      <td>1.421062</td>\n",
       "      <td>-0.144064</td>\n",
       "      <td>1.097451</td>\n",
       "      <td>0.335412</td>\n",
       "    </tr>\n",
       "    <tr>\n",
       "      <th>13</th>\n",
       "      <td>10</td>\n",
       "      <td>5</td>\n",
       "      <td>0.2</td>\n",
       "      <td>1.0</td>\n",
       "      <td>cosine</td>\n",
       "      <td>198</td>\n",
       "      <td>14601</td>\n",
       "      <td>441</td>\n",
       "      <td>1.421062</td>\n",
       "      <td>-0.144064</td>\n",
       "      <td>1.097451</td>\n",
       "      <td>0.335412</td>\n",
       "    </tr>\n",
       "    <tr>\n",
       "      <th>14</th>\n",
       "      <td>10</td>\n",
       "      <td>5</td>\n",
       "      <td>0.5</td>\n",
       "      <td>1.0</td>\n",
       "      <td>cosine</td>\n",
       "      <td>198</td>\n",
       "      <td>14601</td>\n",
       "      <td>441</td>\n",
       "      <td>1.421062</td>\n",
       "      <td>-0.144064</td>\n",
       "      <td>1.097451</td>\n",
       "      <td>0.335412</td>\n",
       "    </tr>\n",
       "    <tr>\n",
       "      <th>15</th>\n",
       "      <td>10</td>\n",
       "      <td>5</td>\n",
       "      <td>1.0</td>\n",
       "      <td>1.0</td>\n",
       "      <td>cosine</td>\n",
       "      <td>198</td>\n",
       "      <td>14601</td>\n",
       "      <td>441</td>\n",
       "      <td>1.421062</td>\n",
       "      <td>-0.144064</td>\n",
       "      <td>1.097451</td>\n",
       "      <td>0.335412</td>\n",
       "    </tr>\n",
       "  </tbody>\n",
       "</table>\n",
       "</div>"
      ],
      "text/plain": [
       "   min_cluster_size min_sample cluster_selection_epsilon  alpha  metric  \\\n",
       "0                 5          1                         0    1.0  cosine   \n",
       "1                 5          1                       0.2    1.0  cosine   \n",
       "2                 5          1                       0.5    1.0  cosine   \n",
       "3                 5          1                       1.0    1.0  cosine   \n",
       "8                10          1                         0    1.0  cosine   \n",
       "9                10          1                       0.2    1.0  cosine   \n",
       "10               10          1                       0.5    1.0  cosine   \n",
       "11               10          1                       1.0    1.0  cosine   \n",
       "4                 5          5                         0    1.0  cosine   \n",
       "5                 5          5                       0.2    1.0  cosine   \n",
       "6                 5          5                       0.5    1.0  cosine   \n",
       "7                 5          5                       1.0    1.0  cosine   \n",
       "12               10          5                         0    1.0  cosine   \n",
       "13               10          5                       0.2    1.0  cosine   \n",
       "14               10          5                       0.5    1.0  cosine   \n",
       "15               10          5                       1.0    1.0  cosine   \n",
       "\n",
       "   Num. Clusters Noise Size Max Cluster Size     DB_sc  Silhouette_sc  \\\n",
       "0            757      11579              416  1.592354      -0.141107   \n",
       "1            757      11579              416  1.592354      -0.141107   \n",
       "2            757      11579              416  1.592354      -0.141107   \n",
       "3            757      11579              416  1.592354      -0.141107   \n",
       "8            292      12789              416  1.643406      -0.133924   \n",
       "9            292      12789              416  1.643406      -0.133924   \n",
       "10           292      12789              416  1.643406      -0.133924   \n",
       "11           292      12789              416  1.643406      -0.133924   \n",
       "4            343      14433              401  1.400991      -0.175680   \n",
       "5            343      14433              401  1.400991      -0.175680   \n",
       "6            343      14433              401  1.400991      -0.175680   \n",
       "7            343      14433              401  1.400991      -0.175680   \n",
       "12           198      14601              441  1.421062      -0.144064   \n",
       "13           198      14601              441  1.421062      -0.144064   \n",
       "14           198      14601              441  1.421062      -0.144064   \n",
       "15           198      14601              441  1.421062      -0.144064   \n",
       "\n",
       "    DB_sc excl. noise  Silhouette_sc excl. noise  \n",
       "0            1.347855                   0.234666  \n",
       "1            1.347855                   0.234666  \n",
       "2            1.347855                   0.234666  \n",
       "3            1.347855                   0.234666  \n",
       "8            1.407526                   0.243833  \n",
       "9            1.407526                   0.243833  \n",
       "10           1.407526                   0.243833  \n",
       "11           1.407526                   0.243833  \n",
       "4            1.060436                   0.335780  \n",
       "5            1.060436                   0.335780  \n",
       "6            1.060436                   0.335780  \n",
       "7            1.060436                   0.335780  \n",
       "12           1.097451                   0.335412  \n",
       "13           1.097451                   0.335412  \n",
       "14           1.097451                   0.335412  \n",
       "15           1.097451                   0.335412  "
      ]
     },
     "execution_count": 105,
     "metadata": {},
     "output_type": "execute_result"
    }
   ],
   "source": [
    "b2_gridsearch"
   ]
  },
  {
   "cell_type": "code",
   "execution_count": 129,
   "id": "99f6648c",
   "metadata": {},
   "outputs": [
    {
     "data": {
      "text/plain": [
       "HDBSCAN(algorithm='generic', metric='cosine', min_samples=1)"
      ]
     },
     "execution_count": 129,
     "metadata": {},
     "output_type": "execute_result"
    }
   ],
   "source": [
    "b2_model = hdbscan.HDBSCAN(algorithm='generic', \n",
    "                                     alpha= 1.0, \n",
    "                                     approx_min_span_tree=True,\n",
    "                                     gen_min_span_tree=False, \n",
    "                                     leaf_size=40, \n",
    "                                     metric='cosine', \n",
    "                                     min_cluster_size= 5, \n",
    "                                     min_samples= 1, \n",
    "                                     p=None)\n",
    "b2_model.fit(X_seqvec)"
   ]
  },
  {
   "cell_type": "code",
   "execution_count": 31,
   "id": "aecab5e5",
   "metadata": {},
   "outputs": [],
   "source": [
    "# file_path = 'model_outputs/b2_model.pkl'\n",
    "# with open(file_path, 'wb') as file:\n",
    "#     pickle.dump(b2_model, file)"
   ]
  },
  {
   "cell_type": "code",
   "execution_count": null,
   "id": "dc3fd06b",
   "metadata": {},
   "outputs": [],
   "source": []
  },
  {
   "cell_type": "markdown",
   "id": "6230f312",
   "metadata": {},
   "source": [
    "### B.3. HDBSCAN + DeepFold with Mask"
   ]
  },
  {
   "cell_type": "code",
   "execution_count": 195,
   "id": "e5d31342",
   "metadata": {},
   "outputs": [],
   "source": [
    "min_cluster_sizes = [5, 10]\n",
    "min_samples = [1, 5]\n",
    "cluster_selection_epsilons = [0, 1.1, 1.3]  # I tried a lot of epsilons 0-1.0 but they did not make any difference\n",
    "\n",
    "b3_gridsearch = ev.hdbscan_gridsearch(X_deepfold_mask, \n",
    "                                       min_cluster_sizes,\n",
    "                                       min_samples,\n",
    "                                       cluster_selection_epsilons\n",
    "                                      )"
   ]
  },
  {
   "cell_type": "code",
   "execution_count": 196,
   "id": "fe6f82cf",
   "metadata": {},
   "outputs": [
    {
     "data": {
      "text/html": [
       "<div>\n",
       "<style scoped>\n",
       "    .dataframe tbody tr th:only-of-type {\n",
       "        vertical-align: middle;\n",
       "    }\n",
       "\n",
       "    .dataframe tbody tr th {\n",
       "        vertical-align: top;\n",
       "    }\n",
       "\n",
       "    .dataframe thead th {\n",
       "        text-align: right;\n",
       "    }\n",
       "</style>\n",
       "<table border=\"1\" class=\"dataframe\">\n",
       "  <thead>\n",
       "    <tr style=\"text-align: right;\">\n",
       "      <th></th>\n",
       "      <th>min_cluster_size</th>\n",
       "      <th>min_sample</th>\n",
       "      <th>cluster_selection_epsilon</th>\n",
       "      <th>alpha</th>\n",
       "      <th>metric</th>\n",
       "      <th>Num. Clusters</th>\n",
       "      <th>Noise Size</th>\n",
       "      <th>Max Cluster Size</th>\n",
       "      <th>DB_sc</th>\n",
       "      <th>Silhouette_sc</th>\n",
       "      <th>DB_sc excl. noise</th>\n",
       "      <th>Silhouette_sc excl. noise</th>\n",
       "    </tr>\n",
       "  </thead>\n",
       "  <tbody>\n",
       "    <tr>\n",
       "      <th>0</th>\n",
       "      <td>5</td>\n",
       "      <td>1</td>\n",
       "      <td>0</td>\n",
       "      <td>1.0</td>\n",
       "      <td>cosine</td>\n",
       "      <td>646</td>\n",
       "      <td>12243</td>\n",
       "      <td>439</td>\n",
       "      <td>1.490504</td>\n",
       "      <td>-0.163373</td>\n",
       "      <td>1.230200</td>\n",
       "      <td>0.291738</td>\n",
       "    </tr>\n",
       "    <tr>\n",
       "      <th>1</th>\n",
       "      <td>5</td>\n",
       "      <td>1</td>\n",
       "      <td>1.1</td>\n",
       "      <td>1.0</td>\n",
       "      <td>cosine</td>\n",
       "      <td>646</td>\n",
       "      <td>12243</td>\n",
       "      <td>439</td>\n",
       "      <td>1.490504</td>\n",
       "      <td>-0.163373</td>\n",
       "      <td>1.230200</td>\n",
       "      <td>0.291738</td>\n",
       "    </tr>\n",
       "    <tr>\n",
       "      <th>2</th>\n",
       "      <td>5</td>\n",
       "      <td>1</td>\n",
       "      <td>1.3</td>\n",
       "      <td>1.0</td>\n",
       "      <td>cosine</td>\n",
       "      <td>646</td>\n",
       "      <td>12243</td>\n",
       "      <td>439</td>\n",
       "      <td>1.490504</td>\n",
       "      <td>-0.163373</td>\n",
       "      <td>1.230200</td>\n",
       "      <td>0.291738</td>\n",
       "    </tr>\n",
       "    <tr>\n",
       "      <th>6</th>\n",
       "      <td>10</td>\n",
       "      <td>1</td>\n",
       "      <td>0</td>\n",
       "      <td>1.0</td>\n",
       "      <td>cosine</td>\n",
       "      <td>196</td>\n",
       "      <td>13412</td>\n",
       "      <td>450</td>\n",
       "      <td>1.550226</td>\n",
       "      <td>-0.165878</td>\n",
       "      <td>1.281883</td>\n",
       "      <td>0.292096</td>\n",
       "    </tr>\n",
       "    <tr>\n",
       "      <th>7</th>\n",
       "      <td>10</td>\n",
       "      <td>1</td>\n",
       "      <td>1.1</td>\n",
       "      <td>1.0</td>\n",
       "      <td>cosine</td>\n",
       "      <td>196</td>\n",
       "      <td>13412</td>\n",
       "      <td>450</td>\n",
       "      <td>1.550226</td>\n",
       "      <td>-0.165878</td>\n",
       "      <td>1.281883</td>\n",
       "      <td>0.292096</td>\n",
       "    </tr>\n",
       "    <tr>\n",
       "      <th>8</th>\n",
       "      <td>10</td>\n",
       "      <td>1</td>\n",
       "      <td>1.3</td>\n",
       "      <td>1.0</td>\n",
       "      <td>cosine</td>\n",
       "      <td>196</td>\n",
       "      <td>13412</td>\n",
       "      <td>450</td>\n",
       "      <td>1.550226</td>\n",
       "      <td>-0.165878</td>\n",
       "      <td>1.281883</td>\n",
       "      <td>0.292096</td>\n",
       "    </tr>\n",
       "    <tr>\n",
       "      <th>3</th>\n",
       "      <td>5</td>\n",
       "      <td>5</td>\n",
       "      <td>0</td>\n",
       "      <td>1.0</td>\n",
       "      <td>cosine</td>\n",
       "      <td>253</td>\n",
       "      <td>14620</td>\n",
       "      <td>432</td>\n",
       "      <td>1.367598</td>\n",
       "      <td>-0.204090</td>\n",
       "      <td>0.973767</td>\n",
       "      <td>0.389095</td>\n",
       "    </tr>\n",
       "    <tr>\n",
       "      <th>4</th>\n",
       "      <td>5</td>\n",
       "      <td>5</td>\n",
       "      <td>1.1</td>\n",
       "      <td>1.0</td>\n",
       "      <td>cosine</td>\n",
       "      <td>253</td>\n",
       "      <td>14620</td>\n",
       "      <td>432</td>\n",
       "      <td>1.367598</td>\n",
       "      <td>-0.204090</td>\n",
       "      <td>0.973767</td>\n",
       "      <td>0.389095</td>\n",
       "    </tr>\n",
       "    <tr>\n",
       "      <th>5</th>\n",
       "      <td>5</td>\n",
       "      <td>5</td>\n",
       "      <td>1.3</td>\n",
       "      <td>1.0</td>\n",
       "      <td>cosine</td>\n",
       "      <td>253</td>\n",
       "      <td>14620</td>\n",
       "      <td>432</td>\n",
       "      <td>1.367598</td>\n",
       "      <td>-0.204090</td>\n",
       "      <td>0.973767</td>\n",
       "      <td>0.389095</td>\n",
       "    </tr>\n",
       "    <tr>\n",
       "      <th>9</th>\n",
       "      <td>10</td>\n",
       "      <td>5</td>\n",
       "      <td>0</td>\n",
       "      <td>1.0</td>\n",
       "      <td>cosine</td>\n",
       "      <td>124</td>\n",
       "      <td>14899</td>\n",
       "      <td>432</td>\n",
       "      <td>1.415267</td>\n",
       "      <td>-0.186487</td>\n",
       "      <td>1.029854</td>\n",
       "      <td>0.386007</td>\n",
       "    </tr>\n",
       "    <tr>\n",
       "      <th>10</th>\n",
       "      <td>10</td>\n",
       "      <td>5</td>\n",
       "      <td>1.1</td>\n",
       "      <td>1.0</td>\n",
       "      <td>cosine</td>\n",
       "      <td>124</td>\n",
       "      <td>14899</td>\n",
       "      <td>432</td>\n",
       "      <td>1.415267</td>\n",
       "      <td>-0.186487</td>\n",
       "      <td>1.029854</td>\n",
       "      <td>0.386007</td>\n",
       "    </tr>\n",
       "    <tr>\n",
       "      <th>11</th>\n",
       "      <td>10</td>\n",
       "      <td>5</td>\n",
       "      <td>1.3</td>\n",
       "      <td>1.0</td>\n",
       "      <td>cosine</td>\n",
       "      <td>124</td>\n",
       "      <td>14899</td>\n",
       "      <td>432</td>\n",
       "      <td>1.415267</td>\n",
       "      <td>-0.186487</td>\n",
       "      <td>1.029854</td>\n",
       "      <td>0.386007</td>\n",
       "    </tr>\n",
       "  </tbody>\n",
       "</table>\n",
       "</div>"
      ],
      "text/plain": [
       "   min_cluster_size min_sample cluster_selection_epsilon  alpha  metric  \\\n",
       "0                 5          1                         0    1.0  cosine   \n",
       "1                 5          1                       1.1    1.0  cosine   \n",
       "2                 5          1                       1.3    1.0  cosine   \n",
       "6                10          1                         0    1.0  cosine   \n",
       "7                10          1                       1.1    1.0  cosine   \n",
       "8                10          1                       1.3    1.0  cosine   \n",
       "3                 5          5                         0    1.0  cosine   \n",
       "4                 5          5                       1.1    1.0  cosine   \n",
       "5                 5          5                       1.3    1.0  cosine   \n",
       "9                10          5                         0    1.0  cosine   \n",
       "10               10          5                       1.1    1.0  cosine   \n",
       "11               10          5                       1.3    1.0  cosine   \n",
       "\n",
       "   Num. Clusters Noise Size Max Cluster Size     DB_sc  Silhouette_sc  \\\n",
       "0            646      12243              439  1.490504      -0.163373   \n",
       "1            646      12243              439  1.490504      -0.163373   \n",
       "2            646      12243              439  1.490504      -0.163373   \n",
       "6            196      13412              450  1.550226      -0.165878   \n",
       "7            196      13412              450  1.550226      -0.165878   \n",
       "8            196      13412              450  1.550226      -0.165878   \n",
       "3            253      14620              432  1.367598      -0.204090   \n",
       "4            253      14620              432  1.367598      -0.204090   \n",
       "5            253      14620              432  1.367598      -0.204090   \n",
       "9            124      14899              432  1.415267      -0.186487   \n",
       "10           124      14899              432  1.415267      -0.186487   \n",
       "11           124      14899              432  1.415267      -0.186487   \n",
       "\n",
       "    DB_sc excl. noise  Silhouette_sc excl. noise  \n",
       "0            1.230200                   0.291738  \n",
       "1            1.230200                   0.291738  \n",
       "2            1.230200                   0.291738  \n",
       "6            1.281883                   0.292096  \n",
       "7            1.281883                   0.292096  \n",
       "8            1.281883                   0.292096  \n",
       "3            0.973767                   0.389095  \n",
       "4            0.973767                   0.389095  \n",
       "5            0.973767                   0.389095  \n",
       "9            1.029854                   0.386007  \n",
       "10           1.029854                   0.386007  \n",
       "11           1.029854                   0.386007  "
      ]
     },
     "execution_count": 196,
     "metadata": {},
     "output_type": "execute_result"
    }
   ],
   "source": [
    "b3_gridsearch[\n",
    "      (b3_gridsearch[\"Noise Size\"] > 0)\n",
    "    & (b3_gridsearch[\"Num. Clusters\"] > 50)\n",
    "]"
   ]
  },
  {
   "cell_type": "markdown",
   "id": "6a3fd145",
   "metadata": {},
   "source": [
    "The noise is too high. And the param `cluster_selection_epsilon` isn't doing anything. "
   ]
  },
  {
   "cell_type": "code",
   "execution_count": 197,
   "id": "cfc887c6",
   "metadata": {},
   "outputs": [
    {
     "data": {
      "text/plain": [
       "HDBSCAN(algorithm='generic', metric='cosine', min_samples=1)"
      ]
     },
     "execution_count": 197,
     "metadata": {},
     "output_type": "execute_result"
    }
   ],
   "source": [
    "b3_model = hdbscan.HDBSCAN(algorithm='generic', \n",
    "                                     alpha= 1.0, \n",
    "                                     approx_min_span_tree=True,\n",
    "                                     gen_min_span_tree=False, \n",
    "                                     leaf_size=40, \n",
    "                                     metric='cosine', \n",
    "                                     min_cluster_size= 5, \n",
    "                                     min_samples= 1, \n",
    "                                     p=None)\n",
    "b3_model.fit(X_deepfold_mask)"
   ]
  },
  {
   "cell_type": "code",
   "execution_count": 198,
   "id": "2bd036c3",
   "metadata": {},
   "outputs": [],
   "source": [
    "file_path = 'model_outputs/b3_model.pkl'\n",
    "with open(file_path, 'wb') as file:\n",
    "    pickle.dump(b3_model, file)"
   ]
  },
  {
   "cell_type": "markdown",
   "id": "83a25c29",
   "metadata": {},
   "source": [
    "# Evaluation\n"
   ]
  },
  {
   "cell_type": "code",
   "execution_count": 214,
   "id": "399c0fd1",
   "metadata": {},
   "outputs": [
    {
     "data": {
      "text/plain": [
       "['gs://capstone-fall21-protein/annotations/blast_annotations.parquet',\n",
       " 'gs://capstone-fall21-protein/annotations/blast_annotations_agg.parquet',\n",
       " 'gs://capstone-fall21-protein/annotations/pairwise_evaluation_metrics.parquet']"
      ]
     },
     "execution_count": 214,
     "metadata": {},
     "output_type": "execute_result"
    }
   ],
   "source": [
    "prefix = 'annotations/'\n",
    "keys = gcs.list_file_paths(prefix)[1:]\n",
    "keys"
   ]
  },
  {
   "cell_type": "code",
   "execution_count": null,
   "id": "79561f03",
   "metadata": {},
   "outputs": [],
   "source": []
  },
  {
   "cell_type": "code",
   "execution_count": 216,
   "id": "e3dd9647",
   "metadata": {},
   "outputs": [],
   "source": [
    "# Download lookup files\n",
    "pairwise_metrics = gcs.download_parquet(\"annotations/blast_annotations_agg.parquet\")\n",
    "# pairwise_metrics = pairwise_metrics.drop_duplicates()\n",
    "\n",
    "# Download protein files, then summarizes amino acid sequence-level confidence information.\n",
    "asp = ev.download_asp()\n",
    "\n",
    "# Download sequences info \n",
    "sequences = gcs.download_parquet(\"structure_files/sequences/sequences.parquet\")\n",
    "sequences[\"seq_len\"] = sequences[\"pdbx_seq_one_letter_code\"].str.len()"
   ]
  },
  {
   "cell_type": "code",
   "execution_count": 217,
   "id": "f63e62f6",
   "metadata": {},
   "outputs": [
    {
     "data": {
      "text/plain": [
       "(1963860, 5)"
      ]
     },
     "execution_count": 217,
     "metadata": {},
     "output_type": "execute_result"
    }
   ],
   "source": [
    "pairwise_metrics.shape"
   ]
  },
  {
   "cell_type": "code",
   "execution_count": 218,
   "id": "9b8ae448",
   "metadata": {},
   "outputs": [
    {
     "data": {
      "text/html": [
       "<div>\n",
       "<style scoped>\n",
       "    .dataframe tbody tr th:only-of-type {\n",
       "        vertical-align: middle;\n",
       "    }\n",
       "\n",
       "    .dataframe tbody tr th {\n",
       "        vertical-align: top;\n",
       "    }\n",
       "\n",
       "    .dataframe thead th {\n",
       "        text-align: right;\n",
       "    }\n",
       "</style>\n",
       "<table border=\"1\" class=\"dataframe\">\n",
       "  <thead>\n",
       "    <tr style=\"text-align: right;\">\n",
       "      <th></th>\n",
       "      <th>query_protein</th>\n",
       "      <th>target_protein</th>\n",
       "      <th>hit_span_mean</th>\n",
       "      <th>bitscore_mean</th>\n",
       "      <th>evalue_mean</th>\n",
       "    </tr>\n",
       "  </thead>\n",
       "  <tbody>\n",
       "    <tr>\n",
       "      <th>0</th>\n",
       "      <td>AF-A0A024R1R8-F1-model_v1</td>\n",
       "      <td>AF-P61978-F1-model_v1</td>\n",
       "      <td>41.0</td>\n",
       "      <td>23.9</td>\n",
       "      <td>9.500000e+00</td>\n",
       "    </tr>\n",
       "    <tr>\n",
       "      <th>1</th>\n",
       "      <td>AF-A0A024R1R8-F1-model_v1</td>\n",
       "      <td>AF-P98177-F1-model_v1</td>\n",
       "      <td>55.0</td>\n",
       "      <td>31.2</td>\n",
       "      <td>3.000000e-02</td>\n",
       "    </tr>\n",
       "    <tr>\n",
       "      <th>2</th>\n",
       "      <td>AF-A0A024R1R8-F1-model_v1</td>\n",
       "      <td>AF-Q7Z392-F1-model_v1</td>\n",
       "      <td>31.0</td>\n",
       "      <td>24.3</td>\n",
       "      <td>9.600000e+00</td>\n",
       "    </tr>\n",
       "    <tr>\n",
       "      <th>3</th>\n",
       "      <td>AF-A0A024R1R8-F1-model_v1</td>\n",
       "      <td>AF-Q8N2Y8-F1-model_v1</td>\n",
       "      <td>33.0</td>\n",
       "      <td>25.0</td>\n",
       "      <td>3.900000e+00</td>\n",
       "    </tr>\n",
       "    <tr>\n",
       "      <th>4</th>\n",
       "      <td>AF-A0A024R1R8-F1-model_v1</td>\n",
       "      <td>AF-Q969I3-F1-model_v1</td>\n",
       "      <td>36.0</td>\n",
       "      <td>24.3</td>\n",
       "      <td>6.800000e+00</td>\n",
       "    </tr>\n",
       "    <tr>\n",
       "      <th>5</th>\n",
       "      <td>AF-A0A024R1R8-F1-model_v1</td>\n",
       "      <td>AF-Q96CB9-F1-model_v1</td>\n",
       "      <td>33.0</td>\n",
       "      <td>29.3</td>\n",
       "      <td>1.500000e-01</td>\n",
       "    </tr>\n",
       "    <tr>\n",
       "      <th>6</th>\n",
       "      <td>AF-A0A024R1R8-F1-model_v1</td>\n",
       "      <td>AF-Q96ME7-F1-model_v1</td>\n",
       "      <td>52.0</td>\n",
       "      <td>24.3</td>\n",
       "      <td>8.900000e+00</td>\n",
       "    </tr>\n",
       "    <tr>\n",
       "      <th>7</th>\n",
       "      <td>AF-A0A024R1R8-F1-model_v1</td>\n",
       "      <td>AF-Q9H7D0-F1-model_v1</td>\n",
       "      <td>44.0</td>\n",
       "      <td>30.4</td>\n",
       "      <td>4.500000e-02</td>\n",
       "    </tr>\n",
       "    <tr>\n",
       "      <th>8</th>\n",
       "      <td>AF-A0A024R1R8-F1-model_v1</td>\n",
       "      <td>AF-Q9UPA5-F1-model_v1</td>\n",
       "      <td>63.0</td>\n",
       "      <td>26.2</td>\n",
       "      <td>1.700000e+00</td>\n",
       "    </tr>\n",
       "    <tr>\n",
       "      <th>9</th>\n",
       "      <td>AF-A0A024R1R8-F1-model_v1</td>\n",
       "      <td>AF-Q9Y2S6-F1-model_v1</td>\n",
       "      <td>64.0</td>\n",
       "      <td>57.4</td>\n",
       "      <td>3.770000e-13</td>\n",
       "    </tr>\n",
       "  </tbody>\n",
       "</table>\n",
       "</div>"
      ],
      "text/plain": [
       "               query_protein         target_protein  hit_span_mean  \\\n",
       "0  AF-A0A024R1R8-F1-model_v1  AF-P61978-F1-model_v1           41.0   \n",
       "1  AF-A0A024R1R8-F1-model_v1  AF-P98177-F1-model_v1           55.0   \n",
       "2  AF-A0A024R1R8-F1-model_v1  AF-Q7Z392-F1-model_v1           31.0   \n",
       "3  AF-A0A024R1R8-F1-model_v1  AF-Q8N2Y8-F1-model_v1           33.0   \n",
       "4  AF-A0A024R1R8-F1-model_v1  AF-Q969I3-F1-model_v1           36.0   \n",
       "5  AF-A0A024R1R8-F1-model_v1  AF-Q96CB9-F1-model_v1           33.0   \n",
       "6  AF-A0A024R1R8-F1-model_v1  AF-Q96ME7-F1-model_v1           52.0   \n",
       "7  AF-A0A024R1R8-F1-model_v1  AF-Q9H7D0-F1-model_v1           44.0   \n",
       "8  AF-A0A024R1R8-F1-model_v1  AF-Q9UPA5-F1-model_v1           63.0   \n",
       "9  AF-A0A024R1R8-F1-model_v1  AF-Q9Y2S6-F1-model_v1           64.0   \n",
       "\n",
       "   bitscore_mean   evalue_mean  \n",
       "0           23.9  9.500000e+00  \n",
       "1           31.2  3.000000e-02  \n",
       "2           24.3  9.600000e+00  \n",
       "3           25.0  3.900000e+00  \n",
       "4           24.3  6.800000e+00  \n",
       "5           29.3  1.500000e-01  \n",
       "6           24.3  8.900000e+00  \n",
       "7           30.4  4.500000e-02  \n",
       "8           26.2  1.700000e+00  \n",
       "9           57.4  3.770000e-13  "
      ]
     },
     "execution_count": 218,
     "metadata": {},
     "output_type": "execute_result"
    }
   ],
   "source": [
    "pairwise_metrics[0:10]"
   ]
  },
  {
   "cell_type": "code",
   "execution_count": 219,
   "id": "acd98fd6",
   "metadata": {},
   "outputs": [],
   "source": [
    "pairwise_metrics[\"query_protein_orig\"]=pairwise_metrics.query_protein\n",
    "pairwise_metrics[\"target_protein_orig\"]=pairwise_metrics.target_protein\n",
    "\n",
    "pairwise_metrics[\"target_protein\"]=pairwise_metrics.target_protein_orig.str.split('-', expand=True)[1]\n",
    "pairwise_metrics[\"query_protein\"]=pairwise_metrics.query_protein_orig.str.split('-', expand=True)[1]"
   ]
  },
  {
   "cell_type": "code",
   "execution_count": 220,
   "id": "3ee797ff",
   "metadata": {},
   "outputs": [
    {
     "data": {
      "text/html": [
       "<div>\n",
       "<style scoped>\n",
       "    .dataframe tbody tr th:only-of-type {\n",
       "        vertical-align: middle;\n",
       "    }\n",
       "\n",
       "    .dataframe tbody tr th {\n",
       "        vertical-align: top;\n",
       "    }\n",
       "\n",
       "    .dataframe thead th {\n",
       "        text-align: right;\n",
       "    }\n",
       "</style>\n",
       "<table border=\"1\" class=\"dataframe\">\n",
       "  <thead>\n",
       "    <tr style=\"text-align: right;\">\n",
       "      <th></th>\n",
       "      <th>query_protein</th>\n",
       "      <th>target_protein</th>\n",
       "      <th>hit_span_mean</th>\n",
       "      <th>bitscore_mean</th>\n",
       "      <th>evalue_mean</th>\n",
       "      <th>query_protein_orig</th>\n",
       "      <th>target_protein_orig</th>\n",
       "    </tr>\n",
       "  </thead>\n",
       "  <tbody>\n",
       "    <tr>\n",
       "      <th>0</th>\n",
       "      <td>A0A024R1R8</td>\n",
       "      <td>P61978</td>\n",
       "      <td>41.0</td>\n",
       "      <td>23.9</td>\n",
       "      <td>9.500000e+00</td>\n",
       "      <td>AF-A0A024R1R8-F1-model_v1</td>\n",
       "      <td>AF-P61978-F1-model_v1</td>\n",
       "    </tr>\n",
       "    <tr>\n",
       "      <th>1</th>\n",
       "      <td>A0A024R1R8</td>\n",
       "      <td>P98177</td>\n",
       "      <td>55.0</td>\n",
       "      <td>31.2</td>\n",
       "      <td>3.000000e-02</td>\n",
       "      <td>AF-A0A024R1R8-F1-model_v1</td>\n",
       "      <td>AF-P98177-F1-model_v1</td>\n",
       "    </tr>\n",
       "    <tr>\n",
       "      <th>2</th>\n",
       "      <td>A0A024R1R8</td>\n",
       "      <td>Q7Z392</td>\n",
       "      <td>31.0</td>\n",
       "      <td>24.3</td>\n",
       "      <td>9.600000e+00</td>\n",
       "      <td>AF-A0A024R1R8-F1-model_v1</td>\n",
       "      <td>AF-Q7Z392-F1-model_v1</td>\n",
       "    </tr>\n",
       "    <tr>\n",
       "      <th>3</th>\n",
       "      <td>A0A024R1R8</td>\n",
       "      <td>Q8N2Y8</td>\n",
       "      <td>33.0</td>\n",
       "      <td>25.0</td>\n",
       "      <td>3.900000e+00</td>\n",
       "      <td>AF-A0A024R1R8-F1-model_v1</td>\n",
       "      <td>AF-Q8N2Y8-F1-model_v1</td>\n",
       "    </tr>\n",
       "    <tr>\n",
       "      <th>4</th>\n",
       "      <td>A0A024R1R8</td>\n",
       "      <td>Q969I3</td>\n",
       "      <td>36.0</td>\n",
       "      <td>24.3</td>\n",
       "      <td>6.800000e+00</td>\n",
       "      <td>AF-A0A024R1R8-F1-model_v1</td>\n",
       "      <td>AF-Q969I3-F1-model_v1</td>\n",
       "    </tr>\n",
       "    <tr>\n",
       "      <th>5</th>\n",
       "      <td>A0A024R1R8</td>\n",
       "      <td>Q96CB9</td>\n",
       "      <td>33.0</td>\n",
       "      <td>29.3</td>\n",
       "      <td>1.500000e-01</td>\n",
       "      <td>AF-A0A024R1R8-F1-model_v1</td>\n",
       "      <td>AF-Q96CB9-F1-model_v1</td>\n",
       "    </tr>\n",
       "    <tr>\n",
       "      <th>6</th>\n",
       "      <td>A0A024R1R8</td>\n",
       "      <td>Q96ME7</td>\n",
       "      <td>52.0</td>\n",
       "      <td>24.3</td>\n",
       "      <td>8.900000e+00</td>\n",
       "      <td>AF-A0A024R1R8-F1-model_v1</td>\n",
       "      <td>AF-Q96ME7-F1-model_v1</td>\n",
       "    </tr>\n",
       "    <tr>\n",
       "      <th>7</th>\n",
       "      <td>A0A024R1R8</td>\n",
       "      <td>Q9H7D0</td>\n",
       "      <td>44.0</td>\n",
       "      <td>30.4</td>\n",
       "      <td>4.500000e-02</td>\n",
       "      <td>AF-A0A024R1R8-F1-model_v1</td>\n",
       "      <td>AF-Q9H7D0-F1-model_v1</td>\n",
       "    </tr>\n",
       "    <tr>\n",
       "      <th>8</th>\n",
       "      <td>A0A024R1R8</td>\n",
       "      <td>Q9UPA5</td>\n",
       "      <td>63.0</td>\n",
       "      <td>26.2</td>\n",
       "      <td>1.700000e+00</td>\n",
       "      <td>AF-A0A024R1R8-F1-model_v1</td>\n",
       "      <td>AF-Q9UPA5-F1-model_v1</td>\n",
       "    </tr>\n",
       "    <tr>\n",
       "      <th>9</th>\n",
       "      <td>A0A024R1R8</td>\n",
       "      <td>Q9Y2S6</td>\n",
       "      <td>64.0</td>\n",
       "      <td>57.4</td>\n",
       "      <td>3.770000e-13</td>\n",
       "      <td>AF-A0A024R1R8-F1-model_v1</td>\n",
       "      <td>AF-Q9Y2S6-F1-model_v1</td>\n",
       "    </tr>\n",
       "  </tbody>\n",
       "</table>\n",
       "</div>"
      ],
      "text/plain": [
       "  query_protein target_protein  hit_span_mean  bitscore_mean   evalue_mean  \\\n",
       "0    A0A024R1R8         P61978           41.0           23.9  9.500000e+00   \n",
       "1    A0A024R1R8         P98177           55.0           31.2  3.000000e-02   \n",
       "2    A0A024R1R8         Q7Z392           31.0           24.3  9.600000e+00   \n",
       "3    A0A024R1R8         Q8N2Y8           33.0           25.0  3.900000e+00   \n",
       "4    A0A024R1R8         Q969I3           36.0           24.3  6.800000e+00   \n",
       "5    A0A024R1R8         Q96CB9           33.0           29.3  1.500000e-01   \n",
       "6    A0A024R1R8         Q96ME7           52.0           24.3  8.900000e+00   \n",
       "7    A0A024R1R8         Q9H7D0           44.0           30.4  4.500000e-02   \n",
       "8    A0A024R1R8         Q9UPA5           63.0           26.2  1.700000e+00   \n",
       "9    A0A024R1R8         Q9Y2S6           64.0           57.4  3.770000e-13   \n",
       "\n",
       "          query_protein_orig    target_protein_orig  \n",
       "0  AF-A0A024R1R8-F1-model_v1  AF-P61978-F1-model_v1  \n",
       "1  AF-A0A024R1R8-F1-model_v1  AF-P98177-F1-model_v1  \n",
       "2  AF-A0A024R1R8-F1-model_v1  AF-Q7Z392-F1-model_v1  \n",
       "3  AF-A0A024R1R8-F1-model_v1  AF-Q8N2Y8-F1-model_v1  \n",
       "4  AF-A0A024R1R8-F1-model_v1  AF-Q969I3-F1-model_v1  \n",
       "5  AF-A0A024R1R8-F1-model_v1  AF-Q96CB9-F1-model_v1  \n",
       "6  AF-A0A024R1R8-F1-model_v1  AF-Q96ME7-F1-model_v1  \n",
       "7  AF-A0A024R1R8-F1-model_v1  AF-Q9H7D0-F1-model_v1  \n",
       "8  AF-A0A024R1R8-F1-model_v1  AF-Q9UPA5-F1-model_v1  \n",
       "9  AF-A0A024R1R8-F1-model_v1  AF-Q9Y2S6-F1-model_v1  "
      ]
     },
     "execution_count": 220,
     "metadata": {},
     "output_type": "execute_result"
    }
   ],
   "source": [
    "pairwise_metrics[0:10]"
   ]
  },
  {
   "cell_type": "code",
   "execution_count": 239,
   "id": "565820e1",
   "metadata": {},
   "outputs": [],
   "source": [
    "pairwise_metrics.rename(\n",
    "    columns={\"bitscore_mean\": \"bitscore\", \n",
    "             \"evalue_mean\": \"evalue\",\n",
    "             'hit_span_mean':\"hit_span\"},\n",
    "    inplace=True)"
   ]
  },
  {
   "cell_type": "code",
   "execution_count": 240,
   "id": "4ba1736f",
   "metadata": {},
   "outputs": [
    {
     "data": {
      "text/plain": [
       "Index(['query_protein', 'target_protein', 'hit_span', 'bitscore', 'evalue',\n",
       "       'query_protein_orig', 'target_protein_orig'],\n",
       "      dtype='object')"
      ]
     },
     "execution_count": 240,
     "metadata": {},
     "output_type": "execute_result"
    }
   ],
   "source": [
    "pairwise_metrics.columns"
   ]
  },
  {
   "cell_type": "code",
   "execution_count": 222,
   "id": "87cbcaec",
   "metadata": {},
   "outputs": [
    {
     "data": {
      "text/plain": [
       "(1963860, 2)"
      ]
     },
     "execution_count": 222,
     "metadata": {},
     "output_type": "execute_result"
    }
   ],
   "source": [
    "pairwise_metrics[[\"target_protein\", \"query_protein\"]].drop_duplicates().shape"
   ]
  },
  {
   "cell_type": "code",
   "execution_count": null,
   "id": "ea13bc39",
   "metadata": {},
   "outputs": [],
   "source": []
  },
  {
   "cell_type": "code",
   "execution_count": 192,
   "id": "ba356a30",
   "metadata": {},
   "outputs": [],
   "source": [
    "# TO DO: Need to fix this pairwise metrics lookup table. Danie to remove dupes."
   ]
  },
  {
   "cell_type": "code",
   "execution_count": 60,
   "id": "e0ee97c0",
   "metadata": {},
   "outputs": [
    {
     "data": {
      "text/plain": [
       "array([0.09171066])"
      ]
     },
     "execution_count": 60,
     "metadata": {},
     "output_type": "execute_result"
    }
   ],
   "source": [
    "np.random.rand(1)"
   ]
  },
  {
   "cell_type": "code",
   "execution_count": 69,
   "id": "fd34e6b5",
   "metadata": {},
   "outputs": [],
   "source": [
    "np.random.seed(1)"
   ]
  },
  {
   "cell_type": "code",
   "execution_count": 77,
   "id": "f18c1108",
   "metadata": {},
   "outputs": [
    {
     "data": {
      "text/plain": [
       "array([5, 8, 9, 5, 0])"
      ]
     },
     "execution_count": 77,
     "metadata": {},
     "output_type": "execute_result"
    }
   ],
   "source": [
    "np.random.seed(1)\n",
    "np.random.randint(10, size = 5)\n"
   ]
  },
  {
   "cell_type": "code",
   "execution_count": 78,
   "id": "01499426",
   "metadata": {},
   "outputs": [
    {
     "data": {
      "text/plain": [
       "array([5, 8, 9, 5, 0])"
      ]
     },
     "execution_count": 78,
     "metadata": {},
     "output_type": "execute_result"
    }
   ],
   "source": [
    "np.random.seed(1)\n",
    "np.random.randint(10, size = 5)\n"
   ]
  },
  {
   "cell_type": "code",
   "execution_count": 114,
   "id": "eae3e211",
   "metadata": {},
   "outputs": [
    {
     "data": {
      "text/plain": [
       "array([9, 9, 9, 8, 4])"
      ]
     },
     "execution_count": 114,
     "metadata": {},
     "output_type": "execute_result"
    }
   ],
   "source": [
    "np.random.seed()\n",
    "np.random.randint(10, size = 5)\n"
   ]
  },
  {
   "cell_type": "code",
   "execution_count": null,
   "id": "0c293edf",
   "metadata": {},
   "outputs": [],
   "source": []
  },
  {
   "cell_type": "code",
   "execution_count": 115,
   "id": "8c07eb86",
   "metadata": {},
   "outputs": [
    {
     "data": {
      "text/plain": [
       "array([4, 6, 7, 5, 8])"
      ]
     },
     "execution_count": 115,
     "metadata": {},
     "output_type": "execute_result"
    }
   ],
   "source": [
    "np.random.randint(10, size = 5)\n"
   ]
  },
  {
   "cell_type": "code",
   "execution_count": 116,
   "id": "e4e0d95c",
   "metadata": {},
   "outputs": [
    {
     "data": {
      "text/plain": [
       "array([0, 3, 9, 4, 7])"
      ]
     },
     "execution_count": 116,
     "metadata": {},
     "output_type": "execute_result"
    }
   ],
   "source": [
    "np.random.randint(10, size = 5)\n"
   ]
  },
  {
   "cell_type": "code",
   "execution_count": null,
   "id": "9253e7f1",
   "metadata": {},
   "outputs": [],
   "source": []
  },
  {
   "cell_type": "code",
   "execution_count": 265,
   "id": "8125b7e6",
   "metadata": {},
   "outputs": [
    {
     "data": {
      "text/plain": [
       "{'Model': \"HDBSCAN(algorithm='generic', metric='cosine', min_samples=1)\",\n",
       " 'Number of clusters categories (incl. noise)': 647,\n",
       " 'Number of clusters (excl. noise)': 646,\n",
       " 'Noise': 12243,\n",
       " 'Largest non-noise cluster': 439,\n",
       " 'Noise as % of total': 0.6281682914315033,\n",
       " 'Noise and largest cluster as % of total': 0.6506926629040534,\n",
       " 'Silhouette score:': 0.2917375184917787,\n",
       " 'DB score:': 1.2302004569923886,\n",
       " 'Length of embedding': 398}"
      ]
     },
     "execution_count": 265,
     "metadata": {},
     "output_type": "execute_result"
    }
   ],
   "source": [
    "noise_stats"
   ]
  },
  {
   "cell_type": "code",
   "execution_count": 273,
   "id": "329d34e4",
   "metadata": {},
   "outputs": [
    {
     "name": "stdout",
     "output_type": "stream",
     "text": [
      "DBSCAN DeepFold\n",
      "{'Model': \"DBSCAN(eps=0.05, metric='cosine', min_samples=2)\", 'Number of clusters categories (incl. noise)': 1223, 'Number of clusters (excl. noise)': 1222, 'Noise': 10240, 'Largest non-noise cluster': 5451, 'Noise as % of total': 0.504408649820206, 'Noise and largest cluster as % of total': 0.7729175902664893, 'Silhouette score': -0.05408927777224968, 'DB score': 0.9728346307494264, 'model_id': 'A1', 'embedding': 'DeepFold', 'algo': 'DBSCAN'}\n",
      "\n",
      "DBSCAN SeqVec\n",
      "{'Model': \"DBSCAN(eps=0.05, metric='cosine', min_samples=2)\", 'Number of clusters categories (incl. noise)': 1607, 'Number of clusters (excl. noise)': 1606, 'Noise': 12966, 'Largest non-noise cluster': 691, 'Noise as % of total': 0.6323644166991806, 'Noise and largest cluster as % of total': 0.6660651580179477, 'Silhouette score': 0.36968903083795035, 'DB score': 0.7554977726075209, 'model_id': 'A2', 'embedding': 'SeqVec', 'algo': 'DBSCAN'}\n",
      "\n",
      "HDBSCAN DeepFold\n",
      "{'Model': \"HDBSCAN(algorithm='generic', metric='cosine', min_samples=1)\", 'Number of clusters categories (incl. noise)': 608, 'Number of clusters (excl. noise)': 607, 'Noise': 14056, 'Largest non-noise cluster': 308, 'Noise as % of total': 0.692379685729767, 'Noise and largest cluster as % of total': 0.7075513521501404, 'Silhouette score': 0.3244481645578054, 'DB score': 1.1601129974106332, 'Length of embedding': 398, 'model_id': 'B1', 'embedding': 'DeepFold', 'algo': 'HDBSCAN'}\n",
      "\n",
      "HDBSCAN SeqVec\n",
      "{'Model': \"HDBSCAN(algorithm='generic', metric='cosine', min_samples=1)\", 'Number of clusters categories (incl. noise)': 758, 'Number of clusters (excl. noise)': 757, 'Noise': 11579, 'Largest non-noise cluster': 416, 'Noise as % of total': 0.5647190792040577, 'Noise and largest cluster as % of total': 0.5850078033554429, 'Silhouette score': 0.23466609163568503, 'DB score': 1.347855372900973, 'Length of embedding': 1024, 'model_id': 'B2', 'embedding': 'SeqVec', 'algo': 'HDBSCAN'}\n",
      "\n",
      "DBSCAN DeepFold_mask\n",
      "{'Model': \"DBSCAN(eps=0.05, metric='cosine', min_samples=2)\", 'Number of clusters categories (incl. noise)': 1100, 'Number of clusters (excl. noise)': 1099, 'Noise': 10808, 'Largest non-noise cluster': 4013, 'Noise as % of total': 0.5545407901487942, 'Noise and largest cluster as % of total': 0.7604412519240636, 'Silhouette score': 0.025266107366985206, 'DB score': 0.8778955769251976, 'model_id': 'A3', 'embedding': 'DeepFold_mask', 'algo': 'DBSCAN'}\n",
      "\n",
      "HDBSCAN DeepFold_mask\n",
      "{'Model': \"HDBSCAN(algorithm='generic', metric='cosine', min_samples=1)\", 'Number of clusters categories (incl. noise)': 647, 'Number of clusters (excl. noise)': 646, 'Noise': 12243, 'Largest non-noise cluster': 439, 'Noise as % of total': 0.6281682914315033, 'Noise and largest cluster as % of total': 0.6506926629040534, 'Silhouette score': 0.2917375184917787, 'DB score': 1.2302004569923886, 'Length of embedding': 398, 'model_id': 'B3', 'embedding': 'DeepFold_mask', 'algo': 'HDBSCAN'}\n",
      "\n"
     ]
    }
   ],
   "source": [
    "total_noise_stats = pd.DataFrame()\n",
    "\n",
    "models = {\n",
    "          'A1': ('DBSCAN' , 'DeepFold', a1_model, protein_id_deepfold, X_deepfold),\n",
    "          'A2': ('DBSCAN' , 'SeqVec',   a2_model, protein_id_seqvec, X_seqvec),\n",
    "          'B1': ('HDBSCAN', 'DeepFold', b1_model, protein_id_deepfold, X_deepfold),\n",
    "          'B2': ('HDBSCAN', 'SeqVec',   b2_model, protein_id_seqvec, X_seqvec),\n",
    "          'A3': ('DBSCAN' , 'DeepFold_mask', a3_model, protein_id_deepfold_mask, X_deepfold_mask),\n",
    "          'B3': ('HDBSCAN', 'DeepFold_mask', b3_model, protein_id_deepfold_mask, X_deepfold_mask),\n",
    "         }\n",
    "\n",
    "for model_code, vals in models.items():\n",
    "    algo, embed, model, protein_id, X = vals \n",
    "    \n",
    "    noise_stats = ev.model_overview(model, X)\n",
    "    noise_stats['model_id'] = model_code\n",
    "    noise_stats['embedding'] = embed\n",
    "    noise_stats['algo'] = algo\n",
    "    \n",
    "    total_noise_stats = total_noise_stats.append(noise_stats, ignore_index=True)\n",
    "\n",
    "    with open(prefix + model_code + '_noise_stats.pkl', 'wb') as file:\n",
    "        pickle.dump(noise_stats, file)\n",
    "        \n",
    "    print(algo, embed)\n",
    "    print(noise_stats)\n",
    "    print()"
   ]
  },
  {
   "cell_type": "code",
   "execution_count": 279,
   "id": "7a70b4e4",
   "metadata": {},
   "outputs": [
    {
     "data": {
      "text/html": [
       "<div>\n",
       "<style scoped>\n",
       "    .dataframe tbody tr th:only-of-type {\n",
       "        vertical-align: middle;\n",
       "    }\n",
       "\n",
       "    .dataframe tbody tr th {\n",
       "        vertical-align: top;\n",
       "    }\n",
       "\n",
       "    .dataframe thead th {\n",
       "        text-align: right;\n",
       "    }\n",
       "</style>\n",
       "<table border=\"1\" class=\"dataframe\">\n",
       "  <thead>\n",
       "    <tr style=\"text-align: right;\">\n",
       "      <th></th>\n",
       "      <th>model_id</th>\n",
       "      <th>embedding</th>\n",
       "      <th>algo</th>\n",
       "      <th>Model</th>\n",
       "      <th>Noise</th>\n",
       "      <th>Number of clusters (excl. noise)</th>\n",
       "      <th>Largest non-noise cluster</th>\n",
       "      <th>Noise as % of total</th>\n",
       "      <th>Noise and largest cluster as % of total</th>\n",
       "      <th>Silhouette score</th>\n",
       "      <th>DB score</th>\n",
       "    </tr>\n",
       "  </thead>\n",
       "  <tbody>\n",
       "    <tr>\n",
       "      <th>1</th>\n",
       "      <td>A2</td>\n",
       "      <td>SeqVec</td>\n",
       "      <td>DBSCAN</td>\n",
       "      <td>DBSCAN(eps=0.05, metric='cosine', min_samples=2)</td>\n",
       "      <td>12966.0</td>\n",
       "      <td>1606.0</td>\n",
       "      <td>691.0</td>\n",
       "      <td>0.632364</td>\n",
       "      <td>0.666065</td>\n",
       "      <td>0.369689</td>\n",
       "      <td>0.755498</td>\n",
       "    </tr>\n",
       "    <tr>\n",
       "      <th>2</th>\n",
       "      <td>B1</td>\n",
       "      <td>DeepFold</td>\n",
       "      <td>HDBSCAN</td>\n",
       "      <td>HDBSCAN(algorithm='generic', metric='cosine', ...</td>\n",
       "      <td>14056.0</td>\n",
       "      <td>607.0</td>\n",
       "      <td>308.0</td>\n",
       "      <td>0.692380</td>\n",
       "      <td>0.707551</td>\n",
       "      <td>0.324448</td>\n",
       "      <td>1.160113</td>\n",
       "    </tr>\n",
       "    <tr>\n",
       "      <th>5</th>\n",
       "      <td>B3</td>\n",
       "      <td>DeepFold_mask</td>\n",
       "      <td>HDBSCAN</td>\n",
       "      <td>HDBSCAN(algorithm='generic', metric='cosine', ...</td>\n",
       "      <td>12243.0</td>\n",
       "      <td>646.0</td>\n",
       "      <td>439.0</td>\n",
       "      <td>0.628168</td>\n",
       "      <td>0.650693</td>\n",
       "      <td>0.291738</td>\n",
       "      <td>1.230200</td>\n",
       "    </tr>\n",
       "    <tr>\n",
       "      <th>3</th>\n",
       "      <td>B2</td>\n",
       "      <td>SeqVec</td>\n",
       "      <td>HDBSCAN</td>\n",
       "      <td>HDBSCAN(algorithm='generic', metric='cosine', ...</td>\n",
       "      <td>11579.0</td>\n",
       "      <td>757.0</td>\n",
       "      <td>416.0</td>\n",
       "      <td>0.564719</td>\n",
       "      <td>0.585008</td>\n",
       "      <td>0.234666</td>\n",
       "      <td>1.347855</td>\n",
       "    </tr>\n",
       "    <tr>\n",
       "      <th>4</th>\n",
       "      <td>A3</td>\n",
       "      <td>DeepFold_mask</td>\n",
       "      <td>DBSCAN</td>\n",
       "      <td>DBSCAN(eps=0.05, metric='cosine', min_samples=2)</td>\n",
       "      <td>10808.0</td>\n",
       "      <td>1099.0</td>\n",
       "      <td>4013.0</td>\n",
       "      <td>0.554541</td>\n",
       "      <td>0.760441</td>\n",
       "      <td>0.025266</td>\n",
       "      <td>0.877896</td>\n",
       "    </tr>\n",
       "    <tr>\n",
       "      <th>0</th>\n",
       "      <td>A1</td>\n",
       "      <td>DeepFold</td>\n",
       "      <td>DBSCAN</td>\n",
       "      <td>DBSCAN(eps=0.05, metric='cosine', min_samples=2)</td>\n",
       "      <td>10240.0</td>\n",
       "      <td>1222.0</td>\n",
       "      <td>5451.0</td>\n",
       "      <td>0.504409</td>\n",
       "      <td>0.772918</td>\n",
       "      <td>-0.054089</td>\n",
       "      <td>0.972835</td>\n",
       "    </tr>\n",
       "  </tbody>\n",
       "</table>\n",
       "</div>"
      ],
      "text/plain": [
       "  model_id      embedding     algo  \\\n",
       "1       A2         SeqVec   DBSCAN   \n",
       "2       B1       DeepFold  HDBSCAN   \n",
       "5       B3  DeepFold_mask  HDBSCAN   \n",
       "3       B2         SeqVec  HDBSCAN   \n",
       "4       A3  DeepFold_mask   DBSCAN   \n",
       "0       A1       DeepFold   DBSCAN   \n",
       "\n",
       "                                               Model    Noise  \\\n",
       "1   DBSCAN(eps=0.05, metric='cosine', min_samples=2)  12966.0   \n",
       "2  HDBSCAN(algorithm='generic', metric='cosine', ...  14056.0   \n",
       "5  HDBSCAN(algorithm='generic', metric='cosine', ...  12243.0   \n",
       "3  HDBSCAN(algorithm='generic', metric='cosine', ...  11579.0   \n",
       "4   DBSCAN(eps=0.05, metric='cosine', min_samples=2)  10808.0   \n",
       "0   DBSCAN(eps=0.05, metric='cosine', min_samples=2)  10240.0   \n",
       "\n",
       "   Number of clusters (excl. noise)  Largest non-noise cluster  \\\n",
       "1                            1606.0                      691.0   \n",
       "2                             607.0                      308.0   \n",
       "5                             646.0                      439.0   \n",
       "3                             757.0                      416.0   \n",
       "4                            1099.0                     4013.0   \n",
       "0                            1222.0                     5451.0   \n",
       "\n",
       "   Noise as % of total  Noise and largest cluster as % of total  \\\n",
       "1             0.632364                                 0.666065   \n",
       "2             0.692380                                 0.707551   \n",
       "5             0.628168                                 0.650693   \n",
       "3             0.564719                                 0.585008   \n",
       "4             0.554541                                 0.760441   \n",
       "0             0.504409                                 0.772918   \n",
       "\n",
       "   Silhouette score  DB score  \n",
       "1          0.369689  0.755498  \n",
       "2          0.324448  1.160113  \n",
       "5          0.291738  1.230200  \n",
       "3          0.234666  1.347855  \n",
       "4          0.025266  0.877896  \n",
       "0         -0.054089  0.972835  "
      ]
     },
     "execution_count": 279,
     "metadata": {},
     "output_type": "execute_result"
    }
   ],
   "source": [
    "total_noise_stats.sort_values(\"Silhouette score\", ascending=False)[\n",
    "    [\n",
    "        'model_id', 'embedding', 'algo',\n",
    "        'Model', \n",
    "        'Noise',\n",
    "        'Number of clusters (excl. noise)', \n",
    "        'Largest non-noise cluster', \n",
    "        'Noise as % of total',\n",
    "        'Noise and largest cluster as % of total', \n",
    "        'Silhouette score',\n",
    "        'DB score'\n",
    "    ]\n",
    "]"
   ]
  },
  {
   "cell_type": "code",
   "execution_count": 276,
   "id": "05d095dc",
   "metadata": {},
   "outputs": [],
   "source": [
    "total_noise_stats.to_parquet(prefix + \"total_noise_stats.parquet\")"
   ]
  },
  {
   "cell_type": "code",
   "execution_count": null,
   "id": "1641276d",
   "metadata": {},
   "outputs": [],
   "source": []
  },
  {
   "cell_type": "code",
   "execution_count": 271,
   "id": "84bb6824",
   "metadata": {},
   "outputs": [
    {
     "data": {
      "text/plain": [
       "<module 'utils.model_and_evaluate_cluster' from '/Users/haeranglee/Documents/pss/utils/model_and_evaluate_cluster.py'>"
      ]
     },
     "execution_count": 271,
     "metadata": {},
     "output_type": "execute_result"
    }
   ],
   "source": [
    "importlib.reload(ev)"
   ]
  },
  {
   "cell_type": "code",
   "execution_count": 241,
   "id": "7b488230",
   "metadata": {},
   "outputs": [
    {
     "name": "stdout",
     "output_type": "stream",
     "text": [
      "Current date and time :  2021-10-30 01:45:38\n",
      "DBSCAN(eps=0.05, metric='cosine', min_samples=2) started processing:  2021-10-30 01:45:38\n",
      "{'Model': \"DBSCAN(eps=0.05, metric='cosine', min_samples=2)\", 'Number of clusters categories (incl. noise)': 1100, 'Number of clusters (excl. noise)': 1099, 'Noise': 10808, 'Largest non-noise cluster': 4013, 'Noise as % of total': 0.5545407901487942, 'Noise and largest cluster as % of total': 0.7604412519240636, 'Silhouette score:': 0.025266107366985206, 'DB score:': 0.8778955769251976}\n",
      "DBSCAN(eps=0.05, metric='cosine', min_samples=2) - started combo generation:  2021-10-30 01:45:39\n",
      "Combo duration :  0:07:09.301237\n",
      "DBSCAN(eps=0.05, metric='cosine', min_samples=2) - started BLAST generation:  2021-10-30 01:52:52\n",
      "DBSCAN(eps=0.05, metric='cosine', min_samples=2) - started confidence level generation & seq stats:  2021-10-30 01:53:59\n",
      "Completed processing A3-DBSCAN-DeepFold_mask\n",
      "DBSCAN(eps=0.05, metric='cosine', min_samples=2) - completed processing:  2021-10-30 01:54:05\n",
      "\n",
      "HDBSCAN(algorithm='generic', metric='cosine', min_samples=1) started processing:  2021-10-30 01:54:05\n",
      "{'Model': \"HDBSCAN(algorithm='generic', metric='cosine', min_samples=1)\", 'Number of clusters categories (incl. noise)': 647, 'Number of clusters (excl. noise)': 646, 'Noise': 12243, 'Largest non-noise cluster': 439, 'Noise as % of total': 0.6281682914315033, 'Noise and largest cluster as % of total': 0.6506926629040534, 'Silhouette score:': 0.2917375184917787, 'DB score:': 1.2302004569923886, 'Length of embedding': 398}\n",
      "HDBSCAN(algorithm='generic', metric='cosine', min_samples=1) - started combo generation:  2021-10-30 01:54:06\n",
      "Combo duration :  0:00:02.853194\n",
      "HDBSCAN(algorithm='generic', metric='cosine', min_samples=1) - started BLAST generation:  2021-10-30 01:54:09\n",
      "HDBSCAN(algorithm='generic', metric='cosine', min_samples=1) - started confidence level generation & seq stats:  2021-10-30 01:54:14\n",
      "Completed processing B3-HDBSCAN-DeepFold_mask\n",
      "HDBSCAN(algorithm='generic', metric='cosine', min_samples=1) - completed processing:  2021-10-30 01:54:19\n",
      "\n",
      "Current date and time : \n",
      "2021-10-30 01:54:19\n"
     ]
    }
   ],
   "source": [
    "importlib.reload(ev)\n",
    "\n",
    "print (\"Current date and time : \", datetime.datetime.now().strftime(\"%Y-%m-%d %H:%M:%S\"))\n",
    "\n",
    "prefix = 'model_outputs/no_cluster_size_limit/'\n",
    "\n",
    "models = {\n",
    "#           'A1': ('DBSCAN' , 'DeepFold', a1_model, protein_id_deepfold, X_deepfold),\n",
    "#           'A2': ('DBSCAN' , 'SeqVec',   a2_model, protein_id_seqvec, X_seqvec),\n",
    "#           'B1': ('HDBSCAN', 'DeepFold', b1_model, protein_id_deepfold, X_deepfold),\n",
    "#           'B2': ('HDBSCAN', 'SeqVec',   b2_model, protein_id_seqvec, X_seqvec)\n",
    "          'A3': ('DBSCAN' , 'DeepFold_mask', a3_model, protein_id_deepfold_mask, X_deepfold_mask),\n",
    "          'B3': ('HDBSCAN', 'DeepFold_mask', b3_model, protein_id_deepfold_mask, X_deepfold_mask),\n",
    "         }\n",
    "\n",
    "for model_code, vals in models.items():\n",
    "    algo, embed, model, protein_id, X = vals \n",
    "    print (model, \"started processing: \", datetime.datetime.now().strftime(\"%Y-%m-%d %H:%M:%S\"))\n",
    "    \n",
    "    \n",
    "    # Model stats including standard cluster similarity eval \n",
    "    model_overview_stats = ev.model_overview(model, X)\n",
    "    with open(prefix + model_code + '-' + algo + '-' + embed + '-model_overview.pkl', 'wb') as file:\n",
    "        pickle.dump(model_overview_stats, file)\n",
    "    print(model_overview_stats)\n",
    "        \n",
    "    # Do more eval\n",
    "    clusters = pd.DataFrame({'protein':      protein_id, \n",
    "                            'cluster_label': model.labels_})\n",
    "    \n",
    "    with open(prefix+ model_code +'_model.pkl', 'wb') as file:\n",
    "        pickle.dump(model, file)\n",
    "    \n",
    "    with open(prefix+ model_code +'_clusters.pkl', 'wb') as file:\n",
    "        pickle.dump(clusters, file)\n",
    "    \n",
    "    with open(prefix+ model_code +'_noise_stats.pkl', 'wb') as file:\n",
    "        pickle.dump(noise_stats, file)\n",
    "    \n",
    "    \n",
    "    started_combos = datetime.datetime.now()\n",
    "    print (model, \"- started combo generation: \", datetime.datetime.now().strftime(\"%Y-%m-%d %H:%M:%S\"))\n",
    "\n",
    "    # output all protein combos for TM Align calc \n",
    "    all_protein_combos_per_cluster = ev.find_all_protein_combos_per_cluster(clusters, \n",
    "                                                                            exclude_unclustered=True, \n",
    "                                                                            max_clus_size=99999,\n",
    "                                                                            rand_seed=1710)\n",
    "    \n",
    "    print(\"Combo duration : \", datetime.datetime.now() - started_combos)\n",
    "    all_protein_combos_per_cluster.to_parquet(prefix + model_code + '-' + algo + '-' + embed + \"-all_protein_combos_per_cluster.parquet\")\n",
    "    \n",
    "    print (model, \"- started BLAST generation: \", datetime.datetime.now().strftime(\"%Y-%m-%d %H:%M:%S\"))\n",
    "    \n",
    "    # Output proteins with blast - this might cause issues later for the final selected model if missing. \n",
    "    # ... since we sample to calculate BLAST scores from particularly large clusters. \n",
    "    proteins_w_blast = ev.join_blast(clusters, pairwise_metrics, all_protein_combos_per_cluster)\n",
    "    proteins_w_blast.to_parquet(prefix + model_code + '-' + algo + '-' + embed + '-proteins_w_blast.parquet')\n",
    "    \n",
    "    # Output clusters with blast aggregation \n",
    "    # Excludes noise (-1)\n",
    "    blast_stats_by_cluster = ev.cluster_blast(proteins_w_blast).set_index(\"cluster\")\n",
    "    \n",
    "    print (model, \"- started confidence level generation & seq stats: \", datetime.datetime.now().strftime(\"%Y-%m-%d %H:%M:%S\"))\n",
    "    # Confidence level per protein \n",
    "    cluster_conf = ev.protein_confidence_agg(clusters, asp)\n",
    "    \n",
    "    # Sequence stats\n",
    "    sequence_stats = ev.sequence_stats(clusters, sequences).set_index(\"cluster_label\")\n",
    "    \n",
    "    cluster_stats = ev.merge_cluster_stats(cluster_conf, sequence_stats)\n",
    "    \n",
    "    cluster_stats = ev.merge_cluster_stats(cluster_stats, blast_stats_by_cluster)\n",
    "    \n",
    "    # Reorder columns\n",
    "    cluster_stats['model'] = algo\n",
    "    cluster_stats['embedding'] = embed\n",
    "    first_cols = ['model', 'embedding', 'num_proteins'] \n",
    "    ordered_cols = first_cols + list(cluster_stats.columns[~cluster_stats.columns.isin(first_cols)])\n",
    "    ordered_cols\n",
    "    cluster_stats = cluster_stats.reindex(columns=ordered_cols)\n",
    "\n",
    "    cluster_stats.to_parquet(prefix + model_code + '-' + algo + '-' + embed + '-cluster_stats.parquet')\n",
    "    \n",
    "        \n",
    "    print(\"Completed processing \"+ model_code + '-' + algo + '-' + embed)\n",
    "    print (model, \"- completed processing: \", datetime.datetime.now().strftime(\"%Y-%m-%d %H:%M:%S\"))\n",
    "    print()\n",
    "\n",
    "    \n",
    "now = datetime.datetime.now()\n",
    "print (\"Current date and time : \")\n",
    "print (now.strftime(\"%Y-%m-%d %H:%M:%S\"))"
   ]
  },
  {
   "cell_type": "markdown",
   "id": "3b16feac",
   "metadata": {},
   "source": [
    "**Upload all files onto gcs**"
   ]
  },
  {
   "cell_type": "code",
   "execution_count": 280,
   "id": "2039a44c",
   "metadata": {},
   "outputs": [
    {
     "name": "stdout",
     "output_type": "stream",
     "text": [
      "Upload: model_outputs/no_cluster_size_limit/B2_noise_stats.pkl\n",
      "Upload: model_outputs/no_cluster_size_limit/A1_noise_stats.pkl\n",
      "Upload: model_outputs/no_cluster_size_limit/total_noise_stats.parquet\n",
      "Upload: model_outputs/no_cluster_size_limit/B3_noise_stats.pkl\n",
      "Upload: model_outputs/no_cluster_size_limit/A3_noise_stats.pkl\n",
      "Upload: model_outputs/no_cluster_size_limit/B1_noise_stats.pkl\n",
      "Upload: model_outputs/no_cluster_size_limit/A2_noise_stats.pkl\n"
     ]
    }
   ],
   "source": [
    "home_path = os.getcwd()\n",
    "# prefix = 'model_outputs/'\n",
    "prefix = 'model_outputs/no_cluster_size_limit/'\n",
    "\n",
    "\n",
    "for file in os.listdir(home_path + '/' + prefix):\n",
    "#     if ('.parquet' in file) or ('.pkl' in file):\n",
    "    if ('noise_stats' in file):\n",
    "        print(\"Upload: \"+prefix + file)\n",
    "        gcs.upload_blob(home_path+ '/' + prefix + file, \n",
    "                        prefix + file)"
   ]
  },
  {
   "cell_type": "code",
   "execution_count": null,
   "id": "05a7acf4",
   "metadata": {},
   "outputs": [],
   "source": []
  },
  {
   "cell_type": "code",
   "execution_count": null,
   "id": "ec57bad5",
   "metadata": {},
   "outputs": [],
   "source": []
  },
  {
   "cell_type": "code",
   "execution_count": null,
   "id": "d83b8cef",
   "metadata": {},
   "outputs": [],
   "source": []
  },
  {
   "cell_type": "markdown",
   "id": "f6e487d6",
   "metadata": {},
   "source": [
    "# Final Model"
   ]
  },
  {
   "cell_type": "code",
   "execution_count": 40,
   "id": "12e9b805",
   "metadata": {},
   "outputs": [
    {
     "data": {
      "text/plain": [
       "<module 'utils.model_and_evaluate_cluster' from '/Users/haeranglee/Documents/pss/utils/model_and_evaluate_cluster.py'>"
      ]
     },
     "execution_count": 40,
     "metadata": {},
     "output_type": "execute_result"
    }
   ],
   "source": [
    "importlib.reload(ev)"
   ]
  },
  {
   "cell_type": "code",
   "execution_count": null,
   "id": "1436b084",
   "metadata": {},
   "outputs": [],
   "source": []
  },
  {
   "cell_type": "code",
   "execution_count": null,
   "id": "149ecd73",
   "metadata": {},
   "outputs": [],
   "source": []
  },
  {
   "cell_type": "code",
   "execution_count": 70,
   "id": "63d83b5d",
   "metadata": {},
   "outputs": [],
   "source": []
  },
  {
   "cell_type": "code",
   "execution_count": 148,
   "id": "45f17113",
   "metadata": {},
   "outputs": [
    {
     "name": "stdout",
     "output_type": "stream",
     "text": [
      "Current date and time :  2021_1029_0054\n",
      "[t-SNE] Computing 121 nearest neighbors...\n",
      "[t-SNE] Indexed 21261 samples in 0.011s...\n",
      "[t-SNE] Computed neighbors for 21261 samples in 16.154s...\n",
      "[t-SNE] Computed conditional probabilities for sample 1000 / 21261\n",
      "[t-SNE] Computed conditional probabilities for sample 2000 / 21261\n",
      "[t-SNE] Computed conditional probabilities for sample 3000 / 21261\n",
      "[t-SNE] Computed conditional probabilities for sample 4000 / 21261\n",
      "[t-SNE] Computed conditional probabilities for sample 5000 / 21261\n",
      "[t-SNE] Computed conditional probabilities for sample 6000 / 21261\n",
      "[t-SNE] Computed conditional probabilities for sample 7000 / 21261\n",
      "[t-SNE] Computed conditional probabilities for sample 8000 / 21261\n",
      "[t-SNE] Computed conditional probabilities for sample 9000 / 21261\n",
      "[t-SNE] Computed conditional probabilities for sample 10000 / 21261\n",
      "[t-SNE] Computed conditional probabilities for sample 11000 / 21261\n",
      "[t-SNE] Computed conditional probabilities for sample 12000 / 21261\n",
      "[t-SNE] Computed conditional probabilities for sample 13000 / 21261\n",
      "[t-SNE] Computed conditional probabilities for sample 14000 / 21261\n",
      "[t-SNE] Computed conditional probabilities for sample 15000 / 21261\n",
      "[t-SNE] Computed conditional probabilities for sample 16000 / 21261\n",
      "[t-SNE] Computed conditional probabilities for sample 17000 / 21261\n",
      "[t-SNE] Computed conditional probabilities for sample 18000 / 21261\n",
      "[t-SNE] Computed conditional probabilities for sample 19000 / 21261\n",
      "[t-SNE] Computed conditional probabilities for sample 20000 / 21261\n",
      "[t-SNE] Computed conditional probabilities for sample 21000 / 21261\n",
      "[t-SNE] Computed conditional probabilities for sample 21261 / 21261\n",
      "[t-SNE] Mean sigma: 0.660639\n",
      "[t-SNE] KL divergence after 250 iterations with early exaggeration: 92.235130\n",
      "[t-SNE] KL divergence after 300 iterations: 3.355557\n",
      "Run time: 0:02:07.447671\n"
     ]
    }
   ],
   "source": [
    "final_model = b2_model\n",
    "final_clusters = b2_clusters\n",
    "final_embedding= X_seqvec\n",
    "\n",
    "def get_final_model_stats(final_model, final_clusters, final_embedding):\n",
    "    beg = datetime.datetime.now()\n",
    "    ts = beg.strftime(\"%Y_%m%d_%H%M\")\n",
    "    prefix = \"mvp_input/\" + ts + \"/\"\n",
    "    os.makedirs(prefix)\n",
    "    \n",
    "    print (\"Current date and time : \", ts)\n",
    "    \n",
    "    # Save model \n",
    "    with open(prefix + 'model.pkl', 'wb') as file:\n",
    "        pickle.dump(final_model, file)\n",
    "        \n",
    "    # Find centroids for all clusters in the model \n",
    "    centroids = []\n",
    "    \n",
    "    for i in range(len(final_clusters.cluster_label.unique())-1):   # -1 for excuding noise \n",
    "        centroids.append(\n",
    "          final_model.weighted_cluster_centroid(i))\n",
    "\n",
    "    centroids = np.stack(centroids)   # in the order of cluster label, from 0 to the end. \n",
    "\n",
    "    # intermediary data table used for TSNE generation \n",
    "    final_embedding_plus_centroids = np.append(final_embedding, centroids, axis=0)\n",
    "        \n",
    "    # Reduce dimensionality to 3D for viz\n",
    "        # I didn't look too deep into it or try to tune. \n",
    "        # But I added the centroid data at the end BEFORE generating TSNE \n",
    "        # then I will separate out the 3D coords for proteins and centroids later \n",
    "    tsne = TSNE(n_components=3, verbose=1, perplexity=40, n_iter=300)\n",
    "    tsne_results = tsne.fit_transform(final_embedding_plus_centroids)\n",
    "    \n",
    "    # Separate 3D coords for 20k proteins vs. centroids of each cluster \n",
    "    tsne_proteins  = tsne_results[:-len(centroids)]\n",
    "    tsne_centroids = tsne_results[-len(centroids):]\n",
    "    \n",
    "    # Save proteins to clusters map\n",
    "    # Show XYZ coords \n",
    "    alphafold_proteins_in_model = pd.concat([final_clusters,\n",
    "                                             pd.DataFrame(tsne_proteins, columns=['x', 'y', 'z'])],\n",
    "                                            axis=1)\n",
    "    \n",
    "    alphafold_proteins_in_model.to_parquet(prefix + \"alphafold_proteins_in_model.parquet\")\n",
    "    \n",
    "    # Upload model overview\n",
    "    model_overview = ev.model_overview(final_model, final_embedding)\n",
    "    with open(prefix + 'model_overview.pkl', 'wb') as file:\n",
    "        pickle.dump(model_overview, file)\n",
    "        \n",
    "    # Save cluster-level summary \n",
    "    # Generate from protein data \n",
    "    cluster_data = pd.concat([\n",
    "        final_clusters.pivot_table(index='cluster_label', \n",
    "                               aggfunc=len\n",
    "                              ).reset_index(), \n",
    "        pd.DataFrame(tsne_centroids, columns=['x', 'y', 'z'])\n",
    "    ], axis=1)\n",
    "\n",
    "    cluster_data.to_parquet(prefix + \"cluster_data.parquet\")\n",
    "    \n",
    "    print(\"Run time:\",  datetime.datetime.now() - beg )\n",
    "    \n",
    "    return alphafold_proteins_in_model, cluster_data, model_overview, prefix\n",
    "\n",
    "    \n",
    "####################################\n",
    "# run\n",
    "    \n",
    "alphafold_proteins_in_model, cluster_data, model_overview, prefix = get_final_model_stats(final_model,\n",
    "                                                                                 final_clusters, \n",
    "                                                                                 final_embedding)"
   ]
  },
  {
   "cell_type": "code",
   "execution_count": 149,
   "id": "f936f5c5",
   "metadata": {},
   "outputs": [],
   "source": [
    "protein_data=0"
   ]
  },
  {
   "cell_type": "code",
   "execution_count": 153,
   "id": "63908488",
   "metadata": {},
   "outputs": [
    {
     "data": {
      "text/plain": [
       "(20504, 5)"
      ]
     },
     "execution_count": 153,
     "metadata": {},
     "output_type": "execute_result"
    }
   ],
   "source": [
    "alphafold_proteins_in_model.shape"
   ]
  },
  {
   "cell_type": "code",
   "execution_count": 154,
   "id": "6a5cb3ee",
   "metadata": {},
   "outputs": [
    {
     "data": {
      "text/plain": [
       "(758, 5)"
      ]
     },
     "execution_count": 154,
     "metadata": {},
     "output_type": "execute_result"
    }
   ],
   "source": [
    "cluster_data.shape"
   ]
  },
  {
   "cell_type": "code",
   "execution_count": 155,
   "id": "47921e3c",
   "metadata": {},
   "outputs": [
    {
     "data": {
      "text/plain": [
       "{'Model': \"HDBSCAN(algorithm='generic', metric='cosine', min_samples=1)\",\n",
       " 'Length of embedding': 1024,\n",
       " 'Number of clusters categories (incl. noise)': 758,\n",
       " 'Number of clusters (excl. noise)': 757,\n",
       " 'Noise': 11579,\n",
       " 'Largest non-noise cluster': 416,\n",
       " 'Noise as % of total': 0.5647190792040577,\n",
       " 'Noise and largest cluster as % of total': 0.5850078033554429}"
      ]
     },
     "execution_count": 155,
     "metadata": {},
     "output_type": "execute_result"
    }
   ],
   "source": [
    "model_overview"
   ]
  },
  {
   "cell_type": "code",
   "execution_count": 159,
   "id": "8bbafc99",
   "metadata": {},
   "outputs": [],
   "source": [
    "prefix = 'mvp_input/2021_1029_0054/'"
   ]
  },
  {
   "cell_type": "code",
   "execution_count": 160,
   "id": "165ee849",
   "metadata": {},
   "outputs": [
    {
     "name": "stdout",
     "output_type": "stream",
     "text": [
      "Upload: mvp_input/2021_1029_0054/cluster_data.parquet\n",
      "Upload: mvp_input/2021_1029_0054/model.pkl\n",
      "Upload: mvp_input/2021_1029_0054/alphafold_proteins_in_model.parquet\n",
      "Upload: mvp_input/2021_1029_0054/model_overview.pkl\n"
     ]
    }
   ],
   "source": [
    "home_path = os.getcwd()\n",
    "# prefix = 'model_outputs/'\n",
    "prefix = 'mvp_input/no_cluster_size_limit/'\n",
    "\n",
    "\n",
    "for file in os.listdir(home_path + '/' + prefix):\n",
    "    if ('.parquet' in file) or ('.pkl' in file):\n",
    "        print(\"Upload: \"+prefix + file)\n",
    "        gcs.upload_blob(home_path+ '/' + prefix + file, \n",
    "                        prefix + file)"
   ]
  },
  {
   "cell_type": "code",
   "execution_count": null,
   "id": "2bfc08de",
   "metadata": {},
   "outputs": [],
   "source": []
  },
  {
   "cell_type": "code",
   "execution_count": null,
   "id": "8300b60b",
   "metadata": {},
   "outputs": [],
   "source": []
  }
 ],
 "metadata": {
  "kernelspec": {
   "display_name": "Python 3 (ipykernel)",
   "language": "python",
   "name": "python3"
  },
  "language_info": {
   "codemirror_mode": {
    "name": "ipython",
    "version": 3
   },
   "file_extension": ".py",
   "mimetype": "text/x-python",
   "name": "python",
   "nbconvert_exporter": "python",
   "pygments_lexer": "ipython3",
   "version": "3.9.7"
  }
 },
 "nbformat": 4,
 "nbformat_minor": 5
}
