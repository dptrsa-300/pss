{
 "cells": [
  {
   "cell_type": "markdown",
   "id": "b2997827",
   "metadata": {},
   "source": [
    "# Clustering on DeepFold Embeddings\n",
    "Haerang Lee\n",
    "\n",
    "I'm going to take Skyler's DeepFold embeddings. Those files are in `embeddings/DeepFold` in the GCS bucket.\n",
    "\n",
    "Then let me run some clustering models on top of it.\n",
    "\n",
    "**Silly question**: If I want to put this notebook under a directory, how do I access `utils` in the parent directory? Right now I just put my notebook in the home dir."
   ]
  },
  {
   "cell_type": "code",
   "execution_count": 1,
   "id": "31305d27",
   "metadata": {},
   "outputs": [],
   "source": [
    "from google.cloud import storage\n",
    "import argparse\n",
    "import gzip\n",
    "import os\n",
    "import sys\n",
    "import time\n",
    "from multiprocessing import Pool\n",
    "\n",
    "import numpy as np\n",
    "import pandas as pd\n",
    "from tqdm.auto import tqdm\n",
    "\n",
    "from utils import gcs_utils as gcs"
   ]
  },
  {
   "cell_type": "code",
   "execution_count": 2,
   "id": "1e064b07",
   "metadata": {},
   "outputs": [],
   "source": [
    "# Get all the keys from gcs\n",
    "allkeys = gcs.list_keys()"
   ]
  },
  {
   "cell_type": "code",
   "execution_count": 3,
   "id": "41f78067",
   "metadata": {},
   "outputs": [
    {
     "data": {
      "text/plain": [
       "['/annotations/blast_annotations.csv',\n",
       " 'UP000005640_9606_HUMAN.tar',\n",
       " 'UP000005640_9606_HUMAN/cif/AF-A0A024R1R8-F1-model_v1.cif.gz',\n",
       " 'UP000005640_9606_HUMAN/cif/AF-A0A024RBG1-F1-model_v1.cif.gz',\n",
       " 'UP000005640_9606_HUMAN/cif/AF-A0A024RCN7-F1-model_v1.cif.gz',\n",
       " 'UP000005640_9606_HUMAN/cif/AF-A0A075B6H5-F1-model_v1.cif.gz',\n",
       " 'UP000005640_9606_HUMAN/cif/AF-A0A075B6H7-F1-model_v1.cif.gz',\n",
       " 'UP000005640_9606_HUMAN/cif/AF-A0A075B6H8-F1-model_v1.cif.gz',\n",
       " 'UP000005640_9606_HUMAN/cif/AF-A0A075B6H9-F1-model_v1.cif.gz',\n",
       " 'UP000005640_9606_HUMAN/cif/AF-A0A075B6I0-F1-model_v1.cif.gz']"
      ]
     },
     "execution_count": 3,
     "metadata": {},
     "output_type": "execute_result"
    }
   ],
   "source": [
    "# What's in here?\n",
    "allkeys[0:10]"
   ]
  },
  {
   "cell_type": "code",
   "execution_count": 4,
   "id": "48398bc0",
   "metadata": {},
   "outputs": [
    {
     "data": {
      "text/plain": [
       "46812"
      ]
     },
     "execution_count": 4,
     "metadata": {},
     "output_type": "execute_result"
    }
   ],
   "source": [
    "# How many files are there?\n",
    "len(allkeys)"
   ]
  },
  {
   "cell_type": "code",
   "execution_count": 5,
   "id": "68dda701",
   "metadata": {},
   "outputs": [
    {
     "name": "stdout",
     "output_type": "stream",
     "text": [
      "embeddings/\n",
      "embeddings/DeepFold/\n",
      "embeddings/DeepFold/embeddings_0.csv\n",
      "embeddings/DeepFold/embeddings_1.csv\n",
      "embeddings/DeepFold/embeddings_10.csv\n",
      "embeddings/DeepFold/embeddings_11.csv\n",
      "embeddings/DeepFold/embeddings_12.csv\n",
      "embeddings/DeepFold/embeddings_13.csv\n",
      "embeddings/DeepFold/embeddings_14.csv\n",
      "embeddings/DeepFold/embeddings_15.csv\n",
      "embeddings/DeepFold/embeddings_16.csv\n",
      "embeddings/DeepFold/embeddings_17.csv\n",
      "embeddings/DeepFold/embeddings_18.csv\n",
      "embeddings/DeepFold/embeddings_19.csv\n",
      "embeddings/DeepFold/embeddings_2.csv\n",
      "embeddings/DeepFold/embeddings_20.csv\n",
      "embeddings/DeepFold/embeddings_21.csv\n",
      "embeddings/DeepFold/embeddings_22.csv\n",
      "embeddings/DeepFold/embeddings_23.csv\n",
      "embeddings/DeepFold/embeddings_3.csv\n",
      "embeddings/DeepFold/embeddings_4.csv\n",
      "embeddings/DeepFold/embeddings_5.csv\n",
      "embeddings/DeepFold/embeddings_6.csv\n",
      "embeddings/DeepFold/embeddings_7.csv\n",
      "embeddings/DeepFold/embeddings_8.csv\n",
      "embeddings/DeepFold/embeddings_9.csv\n"
     ]
    }
   ],
   "source": [
    "# I just want the DeepFold embedding files\n",
    "for k in allkeys:\n",
    "    if \"embed\" in k:\n",
    "        print(k)"
   ]
  },
  {
   "cell_type": "code",
   "execution_count": 6,
   "id": "4c7ecc19",
   "metadata": {},
   "outputs": [],
   "source": [
    "prefix = 'embeddings/DeepFold'\n",
    "keys = gcs.list_file_paths(prefix)"
   ]
  },
  {
   "cell_type": "markdown",
   "id": "d30ca91e",
   "metadata": {},
   "source": [
    "There are 24 files in the embeddings folder, each containing 1,000 proteins (except the last one). Here are the file names."
   ]
  },
  {
   "cell_type": "code",
   "execution_count": 7,
   "id": "63614748",
   "metadata": {},
   "outputs": [
    {
     "data": {
      "text/plain": [
       "['gs://capstone-fall21-protein/embeddings/DeepFold/',\n",
       " 'gs://capstone-fall21-protein/embeddings/DeepFold/embeddings_0.csv',\n",
       " 'gs://capstone-fall21-protein/embeddings/DeepFold/embeddings_1.csv',\n",
       " 'gs://capstone-fall21-protein/embeddings/DeepFold/embeddings_10.csv',\n",
       " 'gs://capstone-fall21-protein/embeddings/DeepFold/embeddings_11.csv',\n",
       " 'gs://capstone-fall21-protein/embeddings/DeepFold/embeddings_12.csv',\n",
       " 'gs://capstone-fall21-protein/embeddings/DeepFold/embeddings_13.csv',\n",
       " 'gs://capstone-fall21-protein/embeddings/DeepFold/embeddings_14.csv',\n",
       " 'gs://capstone-fall21-protein/embeddings/DeepFold/embeddings_15.csv',\n",
       " 'gs://capstone-fall21-protein/embeddings/DeepFold/embeddings_16.csv',\n",
       " 'gs://capstone-fall21-protein/embeddings/DeepFold/embeddings_17.csv',\n",
       " 'gs://capstone-fall21-protein/embeddings/DeepFold/embeddings_18.csv',\n",
       " 'gs://capstone-fall21-protein/embeddings/DeepFold/embeddings_19.csv',\n",
       " 'gs://capstone-fall21-protein/embeddings/DeepFold/embeddings_2.csv',\n",
       " 'gs://capstone-fall21-protein/embeddings/DeepFold/embeddings_20.csv',\n",
       " 'gs://capstone-fall21-protein/embeddings/DeepFold/embeddings_21.csv',\n",
       " 'gs://capstone-fall21-protein/embeddings/DeepFold/embeddings_22.csv',\n",
       " 'gs://capstone-fall21-protein/embeddings/DeepFold/embeddings_23.csv',\n",
       " 'gs://capstone-fall21-protein/embeddings/DeepFold/embeddings_3.csv',\n",
       " 'gs://capstone-fall21-protein/embeddings/DeepFold/embeddings_4.csv',\n",
       " 'gs://capstone-fall21-protein/embeddings/DeepFold/embeddings_5.csv',\n",
       " 'gs://capstone-fall21-protein/embeddings/DeepFold/embeddings_6.csv',\n",
       " 'gs://capstone-fall21-protein/embeddings/DeepFold/embeddings_7.csv',\n",
       " 'gs://capstone-fall21-protein/embeddings/DeepFold/embeddings_8.csv',\n",
       " 'gs://capstone-fall21-protein/embeddings/DeepFold/embeddings_9.csv']"
      ]
     },
     "execution_count": 7,
     "metadata": {},
     "output_type": "execute_result"
    }
   ],
   "source": [
    "keys"
   ]
  },
  {
   "cell_type": "markdown",
   "id": "4e981978",
   "metadata": {},
   "source": [
    "One of those embeddings files contains 1,000 proteins.\n",
    "The first three elements appear to be empty data, or just `'', '0', '1\\n0'`. The remaining 2,000 are pairs of protein name and relevant embedding (2\\*1000)."
   ]
  },
  {
   "cell_type": "code",
   "execution_count": 8,
   "id": "923ea197",
   "metadata": {},
   "outputs": [
    {
     "data": {
      "text/plain": [
       "'gs://capstone-fall21-protein/embeddings/DeepFold/embeddings_0.csv'"
      ]
     },
     "execution_count": 8,
     "metadata": {},
     "output_type": "execute_result"
    }
   ],
   "source": [
    "keys[1]"
   ]
  },
  {
   "cell_type": "code",
   "execution_count": 65,
   "id": "1259d68d",
   "metadata": {},
   "outputs": [
    {
     "data": {
      "text/plain": [
       "'embeddings/DeepFold/embeddings_7.csv'"
      ]
     },
     "execution_count": 65,
     "metadata": {},
     "output_type": "execute_result"
    }
   ],
   "source": [
    "key = gcs.uri_to_bucket_and_key(keys[22])[1]\n",
    "key"
   ]
  },
  {
   "cell_type": "markdown",
   "id": "84ca26cd",
   "metadata": {},
   "source": [
    "## Download and Parse DeepFold Embeddings"
   ]
  },
  {
   "cell_type": "code",
   "execution_count": 68,
   "id": "febd6411",
   "metadata": {},
   "outputs": [],
   "source": [
    "# Let me download one and play with it.\n",
    "df_emb = gcs.download_text(key)"
   ]
  },
  {
   "cell_type": "code",
   "execution_count": 69,
   "id": "d085e221",
   "metadata": {},
   "outputs": [],
   "source": [
    "# Decode it then split it into a list.\n",
    "df_emb_decode = df_emb.decode('utf-8').split(\",\")"
   ]
  },
  {
   "cell_type": "code",
   "execution_count": 70,
   "id": "c569afa9",
   "metadata": {},
   "outputs": [
    {
     "data": {
      "text/plain": [
       "2003"
      ]
     },
     "execution_count": 70,
     "metadata": {},
     "output_type": "execute_result"
    }
   ],
   "source": [
    "# 2003 items, where the first few are not just metadata or empty strings\n",
    "len(df_emb_decode)"
   ]
  },
  {
   "cell_type": "code",
   "execution_count": 71,
   "id": "fa11b718",
   "metadata": {},
   "outputs": [
    {
     "data": {
      "text/plain": [
       "['', '0', '1\\n0', 'AF-P52758-F1-model_v1']"
      ]
     },
     "execution_count": 71,
     "metadata": {},
     "output_type": "execute_result"
    }
   ],
   "source": [
    "# Item index 3 is where the real data starts. That's the protein name.\n",
    "df_emb_decode[0:4]"
   ]
  },
  {
   "cell_type": "code",
   "execution_count": 75,
   "id": "22d0487a",
   "metadata": {},
   "outputs": [
    {
     "data": {
      "text/plain": [
       "'\"[0.02314364 0.         0.         0.         0.         0.\\n 0.21306136 0.         0.         0.         0.         0.\\n 0.00894155 0.14864615 0.         0.16724743 0.         0.\\n 0.         0.         0.14527881 0.         0.05551712 0.01512884\\n 0.         0.         0.         0.03125526 0.         0.\\n 0.08913685 0.         0.         0.         0.         0.\\n 0.13471818 0.         0.         0.         0.         0.11604603\\n 0.         0.         0.0529888  0.00097862 0.         0.\\n 0.         0.         0.00811869 0.         0.         0.02698607\\n 0.         0.         0.         0.         0.07556766 0.\\n 0.18254162 0.00297375 0.         0.         0.         0.\\n 0.         0.         0.02795849 0.         0.         0.06582197\\n 0.         0.         0.04518154 0.         0.         0.\\n 0.         0.         0.07439934 0.         0.1683139  0.\\n 0.         0.         0.01760291 0.         0.07878704 0.01621049\\n 0.         0.12183473 0.         0.02944913 0.         0.\\n 0.14381258 0.02073403 0.07590045 0.         0.         0.\\n 0.         0.01363126 0.07208093 0.         0.         0.\\n 0.         0.12615182 0.         0.         0.         0.14108258\\n 0.         0.         0.         0.         0.04168807 0.\\n 0.         0.06576484 0.         0.         0.         0.\\n 0.         0.00971658 0.05059295 0.06317799 0.         0.\\n 0.03253891 0.         0.         0.         0.         0.\\n 0.00962644 0.         0.         0.         0.         0.\\n 0.00792778 0.03608674 0.03793285 0.12598439 0.         0.10180479\\n 0.         0.1096139  0.03835648 0.         0.0555568  0.\\n 0.         0.0545046  0.         0.         0.         0.\\n 0.         0.         0.02885103 0.         0.00431074 0.\\n 0.05139066 0.         0.30635807 0.         0.00679156 0.\\n 0.09452131 0.         0.         0.         0.13394403 0.09762918\\n 0.         0.02310242 0.         0.         0.06708985 0.\\n 0.         0.06497151 0.         0.         0.         0.\\n 0.         0.         0.         0.         0.         0.\\n 0.         0.         0.02407264 0.         0.         0.\\n 0.         0.         0.05431239 0.         0.         0.05462025\\n 0.10273146 0.08540751 0.         0.00790119 0.         0.\\n 0.169093   0.         0.         0.         0.04370213 0.\\n 0.         0.12707384 0.         0.         0.         0.01961581\\n 0.         0.         0.         0.02918626 0.         0.\\n 0.         0.0036897  0.01159351 0.         0.06846355 0.\\n 0.         0.         0.         0.02200389 0.         0.02000592\\n 0.         0.         0.0318802  0.09190645 0.         0.\\n 0.         0.0169356  0.19742802 0.02531848 0.08357864 0.00223953\\n 0.         0.         0.04056058 0.05070694 0.         0.\\n 0.25617096 0.         0.         0.         0.         0.\\n 0.         0.05889191 0.         0.         0.         0.03604541\\n 0.         0.         0.         0.1064846  0.08369392 0.14878869\\n 0.         0.00135816 0.10710653 0.         0.         0.\\n 0.         0.11444912 0.         0.         0.         0.02669412\\n 0.         0.01393781 0.         0.07296172 0.         0.\\n 0.         0.         0.         0.         0.         0.04067323\\n 0.         0.         0.         0.         0.0231672  0.\\n 0.         0.         0.04752928 0.03145236 0.00324641 0.\\n 0.         0.02926644 0.00244213 0.         0.09553625 0.\\n 0.01650584 0.07412088 0.11087363 0.         0.         0.\\n 0.         0.01643748 0.         0.         0.01589641 0.\\n 0.05473797 0.         0.02218097 0.0710637  0.0212361  0.25800192\\n 0.         0.         0.         0.         0.         0.\\n 0.13236551 0.         0.         0.         0.         0.\\n 0.00063163 0.         0.         0.         0.         0.08648559\\n 0.04083654 0.01081329 0.09609775 0.         0.11838535 0.07038995\\n 0.         0.         0.         0.         0.         0.\\n 0.         0.         0.         0.         0.         0.\\n 0.08174036 0.         0.         0.02403302 0.         0.06239022\\n 0.04072979 0.         0.         0.01147999 0.         0.00352042\\n 0.01732604 0.         0.02485226 0.         0.02280044 0.\\n 0.         0.        ]\"\\n1'"
      ]
     },
     "execution_count": 75,
     "metadata": {},
     "output_type": "execute_result"
    }
   ],
   "source": [
    "# ... Followed by the 398-length vector that represents a DeepFold embedding\n",
    "df_emb_decode[4]"
   ]
  },
  {
   "cell_type": "code",
   "execution_count": 91,
   "id": "26762fa2",
   "metadata": {},
   "outputs": [],
   "source": [
    "# Let's figure out how to parse the DeepFold embedding. \n",
    "# There's a lot of funny stuff in here.\n",
    "# First, get rid of the file number at the end and just keep the vector\n",
    "\n",
    "sample_emb = df_emb_decode[6].rsplit('\\n', 1)[0]"
   ]
  },
  {
   "cell_type": "code",
   "execution_count": 165,
   "id": "cdfa1269",
   "metadata": {},
   "outputs": [
    {
     "data": {
      "text/plain": [
       "array(['0.', '0.', '0.', '0.', '0.05980834', '0.', '0.11338624',\n",
       "       '0.03886417', '0.02524441', '0.', '0.', '0.', '0.', '0.05950396',\n",
       "       '0.01365902', '0.12355073', '0.00876983', '0.01822875',\n",
       "       '0.09609001', '0.04257268', '0.04186481', '0.02684545',\n",
       "       '0.03763113', '0.', '0.03659998', '0.', '0.', '0.', '0.059562',\n",
       "       '0.', '0.06115272', '0.1620137', '0.03983198', '0.01684552',\n",
       "       '0.02932842', '0.00660839', '0.00770707', '0.04277336',\n",
       "       '0.01949005', '0.', '0.', '0.', '0.', '0.04254051', '0.07754262',\n",
       "       '0.02618456', '0.', '0.', '0.', '0.', '0.', '0.', '0.01862345',\n",
       "       '0.', '0.04642207', '0.', '0.', '0.07284059', '0.06610846',\n",
       "       '0.12522222', '0.', '0.', '0.', '0.03716445', '0.', '0.',\n",
       "       '0.04749022', '0.', '0.03763493', '0.0703754', '0.', '0.',\n",
       "       '0.02273948', '0.', '0.00482177', '0.03592151', '0.', '0.', '0.',\n",
       "       '0.', '0.00829109', '0.02022448', '0.12619579', '0.', '0.', '0.',\n",
       "       '0.06418524', '0.', '0.', '0.09890323', '0.', '0.', '0.00144561',\n",
       "       '0.', '0.09147837', '0.06295256', '0.00653698', '0.', '0.12657993',\n",
       "       '0.', '0.', '0.04163909', '0.', '0.', '0.', '0.02829257',\n",
       "       '0.04039153', '0.06628565', '0.', '0.0087872', '0.0084249',\n",
       "       '0.03270797', '0.14450833', '0.', '0.00741809', '0.', '0.04919405',\n",
       "       '0.', '0.', '0.13808498', '0.09374839', '0.', '0.12582865',\n",
       "       '0.01426593', '0.', '0.15031183', '0.02470017', '0.', '0.03085166',\n",
       "       '0.04417508', '0.0006746', '0.03350945', '0.01194865',\n",
       "       '0.05489074', '0.', '0.07116625', '0.', '0.', '0.', '0.', '0.',\n",
       "       '0.', '0.', '0.01899349', '0.', '0.07686512', '0.', '0.06435193',\n",
       "       '0.', '0.', '0.', '0.15322883', '0.', '0.09604248', '0.02390816',\n",
       "       '0.08016782', '0.', '0.04388826', '0.13394573', '0.', '0.06688856',\n",
       "       '0.', '0.02585234', '0.1017904', '0.0282887', '0.', '0.', '0.',\n",
       "       '0.', '0.01998496', '0.05055141', '0.09936758', '0.', '0.',\n",
       "       '0.17462678', '0.05487485', '0.', '0.', '0.08260254', '0.04759179',\n",
       "       '0.', '0.', '0.', '0.00697605', '0.03123792', '0.', '0.04067155',\n",
       "       '0.08182963', '0.', '0.', '0.', '0.', '0.02955717', '0.',\n",
       "       '0.00343344', '0.03440702', '0.', '0.', '0.06064336', '0.',\n",
       "       '0.04429209', '0.11123917', '0.', '0.', '0.08772237', '0.08640277',\n",
       "       '0.', '0.02345176', '0.15484817', '0.', '0.05288275', '0.', '0.',\n",
       "       '0.', '0.', '0.', '0.11364133', '0.', '0.01076936', '0.03315537',\n",
       "       '0.12002372', '0.03057418', '0.03092458', '0.', '0.00837152',\n",
       "       '0.00635424', '0.', '0.', '0.', '0.', '0.', '0.07709942',\n",
       "       '0.03182171', '0.', '0.01376555', '0.01781355', '0.03038462', '0.',\n",
       "       '0.', '0.', '0.00578539', '0.', '0.09882674', '0.01823773', '0.',\n",
       "       '0.03258087', '0.', '0.02911014', '0.03968379', '0.', '0.03894253',\n",
       "       '0.00932875', '0.08347307', '0.03994662', '0.17834936',\n",
       "       '0.09543647', '0.', '0.', '0.', '0.', '0.05920684', '0.07714174',\n",
       "       '0.04363203', '0.03916556', '0.02598635', '0.', '0.06922439', '0.',\n",
       "       '0.', '0.', '0.', '0.18209377', '0.02272743', '0.05665448', '0.',\n",
       "       '0.04883811', '0.', '0.07745793', '0.', '0.0973512', '0.',\n",
       "       '0.02732183', '0.03171235', '0.11221045', '0.', '0.0436484', '0.',\n",
       "       '0.', '0.', '0.', '0.01079782', '0.', '0.04995101', '0.08127663',\n",
       "       '0.', '0.01610788', '0.', '0.00311978', '0.', '0.', '0.08783942',\n",
       "       '0.0316363', '0.', '0.', '0.10540186', '0.08023261', '0.01441455',\n",
       "       '0.02311896', '0.', '0.', '0.', '0.06996151', '0.15908292',\n",
       "       '0.01964344', '0.', '0.04563855', '0.', '0.02551155', '0.', '0.',\n",
       "       '0.02156669', '0.07118768', '0.', '0.', '0.', '0.', '0.06478353',\n",
       "       '0.', '0.', '0.', '0.04115181', '0.', '0.08003301', '0.', '0.',\n",
       "       '0.', '0.', '0.08841439', '0.04027123', '0.', '0.02714846',\n",
       "       '0.09262609', '0.', '0.05707483', '0.00997529', '0.17844826', '0.',\n",
       "       '0.', '0.03517175', '0.1809456', '0.02974886', '0.', '0.',\n",
       "       '0.0219439', '0.01037093', '0.04509848', '0.', '0.04460922',\n",
       "       '0.02651942', '0.', '0.', '0.', '0.', '0.08297099', '0.1446617',\n",
       "       '0.', '0.', '0.', '0.0002086', '0.02008559', '0.06630368',\n",
       "       '0.18600738', '0.03415132', '0.02067097', '0.01145675', '0.', '0.',\n",
       "       '0.03768767', '0.01105373', '0.', '0.', '0.', '0.', '0.06230666',\n",
       "       '0.04061314', '0.', '0.', '0.', '0.04654699', '0.03952103', '0.',\n",
       "       '0.10568485', '0.', '0.', '0.08500329', '0.03520707', '0.', '0.'],\n",
       "      dtype='<U10')"
      ]
     },
     "execution_count": 165,
     "metadata": {},
     "output_type": "execute_result"
    }
   ],
   "source": [
    "# Now get rid of the double quotes and brackets to just get the values of the array\n",
    "\n",
    "sample_emb_np = np.array(sample_emb[2:-2].split())\n",
    "sample_emb_np"
   ]
  },
  {
   "cell_type": "code",
   "execution_count": 166,
   "id": "91707c66",
   "metadata": {},
   "outputs": [
    {
     "data": {
      "text/plain": [
       "(398,)"
      ]
     },
     "execution_count": 166,
     "metadata": {},
     "output_type": "execute_result"
    }
   ],
   "source": [
    "# Size is as expected \n",
    "\n",
    "sample_emb_np.shape"
   ]
  },
  {
   "cell_type": "code",
   "execution_count": 125,
   "id": "5d189538",
   "metadata": {},
   "outputs": [
    {
     "data": {
      "text/plain": [
       "'AF-P52758-F1-model_v1'"
      ]
     },
     "execution_count": 125,
     "metadata": {},
     "output_type": "execute_result"
    }
   ],
   "source": [
    "# items 0-2 in the embedding file are not relevant. \n",
    "# Take the rest and convert into a numpy array \n",
    "    # First column is the protein names\n",
    "    # Second  column is the DeepFold. vector (size 398)\n",
    "\n",
    "np_emb = np.array(df_emb_decode[3:]).reshape(1000, 2)"
   ]
  },
  {
   "cell_type": "code",
   "execution_count": 233,
   "id": "569e0c54",
   "metadata": {},
   "outputs": [],
   "source": [
    "# Let's take those columns separately to clean it up\n",
    "\n",
    "X=np_emb[:,1].reshape(1000,1)\n",
    "protein=np_emb[:,0].reshape(1000,1)"
   ]
  },
  {
   "cell_type": "code",
   "execution_count": 236,
   "id": "7b4c358d",
   "metadata": {},
   "outputs": [
    {
     "data": {
      "text/plain": [
       "(1000, 1)"
      ]
     },
     "execution_count": 236,
     "metadata": {},
     "output_type": "execute_result"
    }
   ],
   "source": [
    "X.shape"
   ]
  },
  {
   "cell_type": "markdown",
   "id": "b9f0aa79",
   "metadata": {},
   "source": [
    "## Parsing function"
   ]
  },
  {
   "cell_type": "code",
   "execution_count": 234,
   "id": "37e75d60",
   "metadata": {},
   "outputs": [],
   "source": [
    "def parse_deepfold_embedding(unparsed):\n",
    "    \"\"\"Given a single DeepFold vector in a text format, \n",
    "    drop the metadata and convert the into a numpy array.\"\"\"\n",
    "    \n",
    "    return np.array([float(n) for n in unparsed[0].rsplit('\\n', 1)[0][2:-2].split()])"
   ]
  },
  {
   "cell_type": "code",
   "execution_count": 301,
   "id": "be2986e2",
   "metadata": {},
   "outputs": [],
   "source": [
    "# Map the custom parse function. \n",
    "# The result is in a list.\n",
    "\n",
    "parsed_list = list(map(parse_deepfold_embedding, X))"
   ]
  },
  {
   "cell_type": "markdown",
   "id": "4ebc2ee0",
   "metadata": {},
   "source": [
    "# Proteins that are missing DeepFold emeddings"
   ]
  },
  {
   "cell_type": "code",
   "execution_count": 302,
   "id": "591852d8",
   "metadata": {},
   "outputs": [],
   "source": [
    "# Unfortunately, not every protein has a 398-D embedding.\n",
    "# Let's find those out. \n",
    "\n",
    "missing=[]\n",
    "for i in range(len(parsed_list)):\n",
    "    if len(parsed_list[i])!= 398:\n",
    "        missing.append(i)"
   ]
  },
  {
   "cell_type": "code",
   "execution_count": 295,
   "id": "9502050e",
   "metadata": {},
   "outputs": [
    {
     "data": {
      "text/plain": [
       "array(['AF-P53803-F1-model_v1', 'AF-P56378-F1-model_v1',\n",
       "       'AF-P56381-F1-model_v1', 'AF-P58511-F1-model_v1',\n",
       "       'AF-P62273-F1-model_v1', 'AF-P62328-F1-model_v1',\n",
       "       'AF-P62891-F1-model_v1', 'AF-P62945-F1-model_v1',\n",
       "       'AF-P63313-F1-model_v1', 'AF-P80294-F1-model_v1',\n",
       "       'AF-P80297-F1-model_v1', 'AF-P84101-F1-model_v1',\n",
       "       'AF-Q00LT1-F1-model_v1'], dtype='<U6076')"
      ]
     },
     "execution_count": 295,
     "metadata": {},
     "output_type": "execute_result"
    }
   ],
   "source": [
    "# These proteisns are missing DeepFold embeddings\n",
    "\n",
    "np_emb[missing, 0]"
   ]
  },
  {
   "cell_type": "code",
   "execution_count": 296,
   "id": "bb3ae03c",
   "metadata": {},
   "outputs": [
    {
     "data": {
      "text/plain": [
       "[3, 4, 4, 4, 4, 4, 4, 4, 4, 4, 4, 4, 4]"
      ]
     },
     "execution_count": 296,
     "metadata": {},
     "output_type": "execute_result"
    }
   ],
   "source": [
    "[len(embedding) for embedding in np_emb[missing, 1]]"
   ]
  },
  {
   "cell_type": "code",
   "execution_count": 297,
   "id": "9f0019ac",
   "metadata": {},
   "outputs": [
    {
     "data": {
      "text/plain": [
       "array(['\\n60', '\\n220', '\\n221', '\\n340', '\\n551', '\\n563', '\\n600',\n",
       "       '\\n608', '\\n648', '\\n781', '\\n782', '\\n834', '\\n987'],\n",
       "      dtype='<U6076')"
      ]
     },
     "execution_count": 297,
     "metadata": {},
     "output_type": "execute_result"
    }
   ],
   "source": [
    "np_emb[missing, 1]"
   ]
  },
  {
   "cell_type": "code",
   "execution_count": 305,
   "id": "12d83494",
   "metadata": {},
   "outputs": [
    {
     "data": {
      "text/plain": [
       "13"
      ]
     },
     "execution_count": 305,
     "metadata": {},
     "output_type": "execute_result"
    }
   ],
   "source": [
    "len(missing)"
   ]
  },
  {
   "cell_type": "code",
   "execution_count": 303,
   "id": "647a719e",
   "metadata": {},
   "outputs": [
    {
     "data": {
      "text/plain": [
       "(987, 398)"
      ]
     },
     "execution_count": 303,
     "metadata": {},
     "output_type": "execute_result"
    }
   ],
   "source": [
    "# Let's generate a clean dataset by eliminating the proteins with missing embeddings \n",
    "# We end up with 987 out of 1,000 proteins. \n",
    "\n",
    "X_clean = np.stack([x for i,x in enumerate(parsed_list) if i not in missing])\n",
    "X_clean.shape"
   ]
  },
  {
   "cell_type": "code",
   "execution_count": 299,
   "id": "b388054f",
   "metadata": {},
   "outputs": [
    {
     "data": {
      "text/plain": [
       "(987, 1)"
      ]
     },
     "execution_count": 299,
     "metadata": {},
     "output_type": "execute_result"
    }
   ],
   "source": [
    "protein_clean =  np.stack([x for i,x in enumerate(protein) if i not in missing])\n",
    "protein_clean.shape"
   ]
  },
  {
   "cell_type": "markdown",
   "id": "0c203382",
   "metadata": {},
   "source": [
    "# Clustering"
   ]
  },
  {
   "cell_type": "code",
   "execution_count": 316,
   "id": "a056e5c9",
   "metadata": {},
   "outputs": [],
   "source": [
    "from sklearn.cluster import DBSCAN\n",
    "clustering = DBSCAN(eps=0.5, min_samples=5).fit(X_clean)"
   ]
  },
  {
   "cell_type": "code",
   "execution_count": 317,
   "id": "178b0ed3",
   "metadata": {},
   "outputs": [
    {
     "name": "stdout",
     "output_type": "stream",
     "text": [
      "[[ -1 552]\n",
      " [  0   5]\n",
      " [  1 257]\n",
      " [  2  21]\n",
      " [  3  33]\n",
      " [  4   5]\n",
      " [  5  40]\n",
      " [  6  26]\n",
      " [  7  20]\n",
      " [  8   8]\n",
      " [  9   8]\n",
      " [ 10  12]]\n"
     ]
    }
   ],
   "source": [
    "print(np.asarray(np.unique(clustering.labels_, return_counts=True)).T)"
   ]
  },
  {
   "cell_type": "code",
   "execution_count": null,
   "id": "c703a2d8",
   "metadata": {},
   "outputs": [],
   "source": []
  }
 ],
 "metadata": {
  "kernelspec": {
   "display_name": "Python 3 (ipykernel)",
   "language": "python",
   "name": "python3"
  },
  "language_info": {
   "codemirror_mode": {
    "name": "ipython",
    "version": 3
   },
   "file_extension": ".py",
   "mimetype": "text/x-python",
   "name": "python",
   "nbconvert_exporter": "python",
   "pygments_lexer": "ipython3",
   "version": "3.9.7"
  }
 },
 "nbformat": 4,
 "nbformat_minor": 5
}
