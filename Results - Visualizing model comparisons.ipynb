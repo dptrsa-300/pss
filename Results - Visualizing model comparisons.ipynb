{
 "cells": [
  {
   "cell_type": "code",
   "execution_count": 8,
   "id": "0cbffb33",
   "metadata": {},
   "outputs": [],
   "source": [
    "from google.cloud import storage\n",
    "import argparse\n",
    "import gzip\n",
    "import os\n",
    "import sys\n",
    "import time\n",
    "from multiprocessing import Pool\n",
    "\n",
    "import numpy as np\n",
    "import pandas as pd\n",
    "from tqdm.auto import tqdm\n",
    "\n",
    "from utils import gcs_utils as gcs\n",
    "from utils import model_and_evaluate_cluster as ev\n",
    "import urllib.parse\n",
    "import urllib.request\n",
    "\n",
    "import io \n",
    "\n",
    "import importlib\n",
    "import hdbscan\n",
    "import networkx as nx \n",
    "import pickle\n",
    "\n",
    "import obonet\n",
    "\n",
    "from sklearn import datasets, linear_model\n",
    "from sklearn.linear_model import LinearRegression\n",
    "import statsmodels.api as sm\n",
    "from scipy import stats\n",
    "import matplotlib.pyplot as plt\n",
    "import seaborn as sns\n",
    "import statsmodels.formula.api as smf\n",
    "\n"
   ]
  },
  {
   "cell_type": "markdown",
   "id": "e02131dc",
   "metadata": {},
   "source": [
    "# Model Comparison Graphs"
   ]
  },
  {
   "cell_type": "code",
   "execution_count": 12,
   "id": "17c30564",
   "metadata": {},
   "outputs": [],
   "source": [
    "# Just go to our results spreadsheet \"Model Outputs\" tab. File > download > TSV\n",
    "modeloutput = pd.read_csv('Results - Model Outputs.tsv', \n",
    "                          sep='\\t',\n",
    "                         header=3, thousands=',')\n",
    "\n",
    "# Clean up\n",
    "    # Remove NA\n",
    "    # Remove \"Do not use\" embeddings (CurveNet)\n",
    "    # Select just a few cols\n",
    "\n",
    "modeloutput = modeloutput[~modeloutput.goodplace_pairs_pct.isna()]\n",
    "modeloutput = modeloutput[~modeloutput.embedding.str.contains('DO NOT USE')]\n",
    "modeloutput = modeloutput[['id', 'model', 'embedding', 'largest_clus', \n",
    "                           'clusters', 'silhouette', 'db',\n",
    "                           'noise_pct', 'func_sim', \n",
    "                           'goodplace_pairs_pct', 'goodplace_clusters_pct',\n",
    "                           'metrics_coverage_pct']]"
   ]
  },
  {
   "cell_type": "code",
   "execution_count": 13,
   "id": "ff98889a",
   "metadata": {},
   "outputs": [
    {
     "data": {
      "text/html": [
       "<div>\n",
       "<style scoped>\n",
       "    .dataframe tbody tr th:only-of-type {\n",
       "        vertical-align: middle;\n",
       "    }\n",
       "\n",
       "    .dataframe tbody tr th {\n",
       "        vertical-align: top;\n",
       "    }\n",
       "\n",
       "    .dataframe thead th {\n",
       "        text-align: right;\n",
       "    }\n",
       "</style>\n",
       "<table border=\"1\" class=\"dataframe\">\n",
       "  <thead>\n",
       "    <tr style=\"text-align: right;\">\n",
       "      <th></th>\n",
       "      <th>id</th>\n",
       "      <th>model</th>\n",
       "      <th>embedding</th>\n",
       "      <th>largest_clus</th>\n",
       "      <th>clusters</th>\n",
       "      <th>silhouette</th>\n",
       "      <th>db</th>\n",
       "      <th>noise_pct</th>\n",
       "      <th>func_sim</th>\n",
       "      <th>goodplace_pairs_pct</th>\n",
       "      <th>goodplace_clusters_pct</th>\n",
       "      <th>metrics_coverage_pct</th>\n",
       "    </tr>\n",
       "  </thead>\n",
       "  <tbody>\n",
       "    <tr>\n",
       "      <th>2</th>\n",
       "      <td>A2EP</td>\n",
       "      <td>DBSCAN</td>\n",
       "      <td>SeqVec</td>\n",
       "      <td>691.0</td>\n",
       "      <td>1534.0</td>\n",
       "      <td>0.37</td>\n",
       "      <td>0.75</td>\n",
       "      <td>0.6299</td>\n",
       "      <td>0.3943</td>\n",
       "      <td>0.6078</td>\n",
       "      <td>0.4437</td>\n",
       "      <td>0.6532</td>\n",
       "    </tr>\n",
       "    <tr>\n",
       "      <th>4</th>\n",
       "      <td>A1EP</td>\n",
       "      <td>DBSCAN</td>\n",
       "      <td>DeepFold</td>\n",
       "      <td>4571.0</td>\n",
       "      <td>1221.0</td>\n",
       "      <td>0.00</td>\n",
       "      <td>0.93</td>\n",
       "      <td>0.5135</td>\n",
       "      <td>0.0508</td>\n",
       "      <td>0.0372</td>\n",
       "      <td>0.5711</td>\n",
       "      <td>0.0241</td>\n",
       "    </tr>\n",
       "    <tr>\n",
       "      <th>6</th>\n",
       "      <td>A3EP</td>\n",
       "      <td>DBSCAN</td>\n",
       "      <td>Structure LSTM + SeqVec</td>\n",
       "      <td>232.0</td>\n",
       "      <td>714.0</td>\n",
       "      <td>0.55</td>\n",
       "      <td>0.48</td>\n",
       "      <td>0.8792</td>\n",
       "      <td>0.7392</td>\n",
       "      <td>0.8735</td>\n",
       "      <td>0.5855</td>\n",
       "      <td>0.8043</td>\n",
       "    </tr>\n",
       "    <tr>\n",
       "      <th>10</th>\n",
       "      <td>B2EP</td>\n",
       "      <td>HDBSCAN</td>\n",
       "      <td>SeqVec</td>\n",
       "      <td>416.0</td>\n",
       "      <td>741.0</td>\n",
       "      <td>0.23</td>\n",
       "      <td>1.36</td>\n",
       "      <td>0.5555</td>\n",
       "      <td>0.5021</td>\n",
       "      <td>0.5686</td>\n",
       "      <td>0.2363</td>\n",
       "      <td>0.8117</td>\n",
       "    </tr>\n",
       "    <tr>\n",
       "      <th>11</th>\n",
       "      <td>B2EPA</td>\n",
       "      <td>HDBSCAN</td>\n",
       "      <td>SeqVec</td>\n",
       "      <td>401.0</td>\n",
       "      <td>314.0</td>\n",
       "      <td>0.32</td>\n",
       "      <td>1.10</td>\n",
       "      <td>0.6898</td>\n",
       "      <td>0.4601</td>\n",
       "      <td>0.4423</td>\n",
       "      <td>0.3131</td>\n",
       "      <td>0.6491</td>\n",
       "    </tr>\n",
       "  </tbody>\n",
       "</table>\n",
       "</div>"
      ],
      "text/plain": [
       "       id    model                embedding  largest_clus  clusters  \\\n",
       "2    A2EP   DBSCAN                   SeqVec         691.0    1534.0   \n",
       "4    A1EP   DBSCAN                 DeepFold        4571.0    1221.0   \n",
       "6    A3EP   DBSCAN  Structure LSTM + SeqVec         232.0     714.0   \n",
       "10   B2EP  HDBSCAN                   SeqVec         416.0     741.0   \n",
       "11  B2EPA  HDBSCAN                   SeqVec         401.0     314.0   \n",
       "\n",
       "    silhouette    db  noise_pct  func_sim  goodplace_pairs_pct  \\\n",
       "2         0.37  0.75     0.6299    0.3943               0.6078   \n",
       "4         0.00  0.93     0.5135    0.0508               0.0372   \n",
       "6         0.55  0.48     0.8792    0.7392               0.8735   \n",
       "10        0.23  1.36     0.5555    0.5021               0.5686   \n",
       "11        0.32  1.10     0.6898    0.4601               0.4423   \n",
       "\n",
       "    goodplace_clusters_pct  metrics_coverage_pct  \n",
       "2                   0.4437                0.6532  \n",
       "4                   0.5711                0.0241  \n",
       "6                   0.5855                0.8043  \n",
       "10                  0.2363                0.8117  \n",
       "11                  0.3131                0.6491  "
      ]
     },
     "execution_count": 13,
     "metadata": {},
     "output_type": "execute_result"
    }
   ],
   "source": [
    "modeloutput.head()"
   ]
  },
  {
   "cell_type": "code",
   "execution_count": null,
   "id": "e8f86b0a",
   "metadata": {},
   "outputs": [],
   "source": []
  },
  {
   "cell_type": "code",
   "execution_count": 515,
   "id": "6a949374",
   "metadata": {},
   "outputs": [
    {
     "name": "stdout",
     "output_type": "stream",
     "text": [
      "                            OLS Regression Results                            \n",
      "==============================================================================\n",
      "Dep. Variable:              noise_pct   R-squared:                       0.258\n",
      "Model:                            OLS   Adj. R-squared:                  0.215\n",
      "Method:                 Least Squares   F-statistic:                     5.916\n",
      "Date:                Sun, 05 Dec 2021   Prob (F-statistic):             0.0263\n",
      "Time:                        19:06:40   Log-Likelihood:                 15.369\n",
      "No. Observations:                  19   AIC:                            -26.74\n",
      "Df Residuals:                      17   BIC:                            -24.85\n",
      "Df Model:                           1                                         \n",
      "Covariance Type:            nonrobust                                         \n",
      "==============================================================================\n",
      "                 coef    std err          t      P>|t|      [0.025      0.975]\n",
      "------------------------------------------------------------------------------\n",
      "const          0.7120      0.036     19.692      0.000       0.636       0.788\n",
      "clusters   -6.303e-05   2.59e-05     -2.432      0.026      -0.000   -8.36e-06\n",
      "==============================================================================\n",
      "Omnibus:                        0.143   Durbin-Watson:                   1.745\n",
      "Prob(Omnibus):                  0.931   Jarque-Bera (JB):                0.189\n",
      "Skew:                          -0.161   Prob(JB):                        0.910\n",
      "Kurtosis:                       2.632   Cond. No.                     1.93e+03\n",
      "==============================================================================\n",
      "\n",
      "Notes:\n",
      "[1] Standard Errors assume that the covariance matrix of the errors is correctly specified.\n",
      "[2] The condition number is large, 1.93e+03. This might indicate that there are\n",
      "strong multicollinearity or other numerical problems.\n"
     ]
    },
    {
     "name": "stderr",
     "output_type": "stream",
     "text": [
      "/Users/haeranglee/opt/anaconda3/envs/pss/lib/python3.9/site-packages/scipy/stats/stats.py:1541: UserWarning: kurtosistest only valid for n>=20 ... continuing anyway, n=19\n",
      "  warnings.warn(\"kurtosistest only valid for n>=20 ... continuing \"\n"
     ]
    }
   ],
   "source": [
    "data=modeloutput\n",
    "x=\"clusters\"\n",
    "y=\"noise_pct\"\n",
    "\n",
    "X = sm.add_constant(modeloutput[x])\n",
    "Y = modeloutput[y]\n",
    "\n",
    "est = sm.OLS(Y, sm.add_constant(X))\n",
    "est2 = est.fit()\n",
    "print(est2.summary())\n"
   ]
  },
  {
   "cell_type": "code",
   "execution_count": null,
   "id": "49beffd9",
   "metadata": {},
   "outputs": [],
   "source": []
  },
  {
   "cell_type": "code",
   "execution_count": 11,
   "id": "895acae0",
   "metadata": {},
   "outputs": [
    {
     "data": {
      "text/plain": [
       "<matplotlib.legend.Legend at 0x16fa0a940>"
      ]
     },
     "execution_count": 11,
     "metadata": {},
     "output_type": "execute_result"
    },
    {
     "data": {
      "image/png": "[encoded data removed]",
      "text/plain": [
       "<Figure size 432x432 with 1 Axes>"
      ]
     },
     "metadata": {
      "needs_background": "light"
     },
     "output_type": "display_data"
    }
   ],
   "source": [
    "data=modeloutput\n",
    "x=\"clusters\"\n",
    "y=\"noise_pct\"\n",
    "hue='model'\n",
    "\n",
    "f, ax = plt.subplots(figsize=(6, 6))\n",
    "sns.scatterplot(data=data, x=x, y=y,\n",
    "                hue=hue,\n",
    "                s=200\n",
    "                )\n",
    "ax.legend(loc='upper right')"
   ]
  },
  {
   "cell_type": "markdown",
   "id": "44e27f18",
   "metadata": {},
   "source": [
    "We control the noise level. So put that into X. Let's see what affect it has on structural similarity."
   ]
  },
  {
   "cell_type": "code",
   "execution_count": 14,
   "id": "f77c811c",
   "metadata": {},
   "outputs": [
    {
     "data": {
      "text/plain": [
       "<matplotlib.legend.Legend at 0x16faa2430>"
      ]
     },
     "execution_count": 14,
     "metadata": {},
     "output_type": "execute_result"
    },
    {
     "data": {
      "image/png": "[encoded data removed]",
      "text/plain": [
       "<Figure size 432x432 with 1 Axes>"
      ]
     },
     "metadata": {
      "needs_background": "light"
     },
     "output_type": "display_data"
    }
   ],
   "source": [
    "data=modeloutput\n",
    "x=\"noise_pct\"\n",
    "y=\"silhouette\"\n",
    "hue='model'\n",
    "\n",
    "f, ax = plt.subplots(figsize=(6, 6))\n",
    "sns.scatterplot(data=data, x=x, y=y,\n",
    "                hue=hue,\n",
    "                s=200\n",
    "                )\n",
    "ax.legend(loc='upper right')"
   ]
  },
  {
   "cell_type": "markdown",
   "id": "afa6e5f6",
   "metadata": {},
   "source": [
    "Then we want to know if we are giving up on the things that MATTER"
   ]
  },
  {
   "cell_type": "code",
   "execution_count": 34,
   "id": "65894bdc",
   "metadata": {},
   "outputs": [
    {
     "data": {
      "text/plain": [
       "<matplotlib.legend.Legend at 0x170096a90>"
      ]
     },
     "execution_count": 34,
     "metadata": {},
     "output_type": "execute_result"
    },
    {
     "data": {
      "image/png": "[encoded data removed]",
      "text/plain": [
       "<Figure size 432x432 with 1 Axes>"
      ]
     },
     "metadata": {
      "needs_background": "light"
     },
     "output_type": "display_data"
    }
   ],
   "source": [
    "data=modeloutput\n",
    "x=\"noise_pct\"\n",
    "y=\"goodplace_pairs_pct\"\n",
    "hue='model'\n",
    "\n",
    "f, ax = plt.subplots(figsize=(6, 6))\n",
    "sns.scatterplot(data=data, x=x, y=y,\n",
    "                hue=hue,\n",
    "                s=200\n",
    "                )\n",
    "ax.legend(loc='best')"
   ]
  },
  {
   "cell_type": "code",
   "execution_count": 33,
   "id": "f4696300",
   "metadata": {},
   "outputs": [
    {
     "data": {
      "text/plain": [
       "<matplotlib.legend.Legend at 0x170021f70>"
      ]
     },
     "execution_count": 33,
     "metadata": {},
     "output_type": "execute_result"
    },
    {
     "data": {
      "image/png": "[encoded data removed]",
      "text/plain": [
       "<Figure size 432x432 with 1 Axes>"
      ]
     },
     "metadata": {
      "needs_background": "light"
     },
     "output_type": "display_data"
    }
   ],
   "source": [
    "data=modeloutput\n",
    "x=\"noise_pct\"\n",
    "y=\"goodplace_pairs_pct\"\n",
    "hue='embedding'\n",
    "\n",
    "f, ax = plt.subplots(figsize=(6, 6))\n",
    "sns.scatterplot(data=data, x=x, y=y,\n",
    "                hue=hue,\n",
    "                s=200\n",
    "                )\n",
    "ax.legend(loc='best')"
   ]
  },
  {
   "cell_type": "code",
   "execution_count": 27,
   "id": "590f6b56",
   "metadata": {},
   "outputs": [
    {
     "name": "stdout",
     "output_type": "stream",
     "text": [
      "                             OLS Regression Results                            \n",
      "===============================================================================\n",
      "Dep. Variable:     goodplace_pairs_pct   R-squared:                       0.285\n",
      "Model:                             OLS   Adj. R-squared:                  0.142\n",
      "Method:                  Least Squares   F-statistic:                     1.991\n",
      "Date:                 Sun, 05 Dec 2021   Prob (F-statistic):              0.159\n",
      "Time:                         19:25:49   Log-Likelihood:                 11.589\n",
      "No. Observations:                   19   AIC:                            -15.18\n",
      "Df Residuals:                       15   BIC:                            -11.40\n",
      "Df Model:                            3                                         \n",
      "Covariance Type:             nonrobust                                         \n",
      "========================================================================================================\n",
      "                                           coef    std err          t      P>|t|      [0.025      0.975]\n",
      "--------------------------------------------------------------------------------------------------------\n",
      "Intercept                               -0.0525      0.210     -0.250      0.806      -0.501       0.396\n",
      "embedding[T.SeqVec]                      0.1599      0.109      1.463      0.164      -0.073       0.393\n",
      "embedding[T.Structure LSTM + SeqVec]     0.1161      0.098      1.190      0.253      -0.092       0.324\n",
      "noise_pct                                0.5920      0.275      2.152      0.048       0.006       1.178\n",
      "==============================================================================\n",
      "Omnibus:                        0.158   Durbin-Watson:                   2.144\n",
      "Prob(Omnibus):                  0.924   Jarque-Bera (JB):                0.308\n",
      "Skew:                           0.175   Prob(JB):                        0.857\n",
      "Kurtosis:                       2.483   Cond. No.                         13.7\n",
      "==============================================================================\n",
      "\n",
      "Notes:\n",
      "[1] Standard Errors assume that the covariance matrix of the errors is correctly specified.\n"
     ]
    },
    {
     "name": "stderr",
     "output_type": "stream",
     "text": [
      "/Users/haeranglee/opt/anaconda3/envs/pss/lib/python3.9/site-packages/scipy/stats/stats.py:1541: UserWarning: kurtosistest only valid for n>=20 ... continuing anyway, n=19\n",
      "  warnings.warn(\"kurtosistest only valid for n>=20 ... continuing \"\n"
     ]
    }
   ],
   "source": [
    "mod = smf.ols(\"goodplace_pairs_pct ~ noise_pct + embedding\", data=modeloutput).fit()\n",
    "print(mod.summary())"
   ]
  },
  {
   "cell_type": "code",
   "execution_count": 25,
   "id": "21cc912c",
   "metadata": {},
   "outputs": [
    {
     "name": "stdout",
     "output_type": "stream",
     "text": [
      "                             OLS Regression Results                            \n",
      "===============================================================================\n",
      "Dep. Variable:     goodplace_pairs_pct   R-squared:                       0.225\n",
      "Model:                             OLS   Adj. R-squared:                  0.070\n",
      "Method:                  Least Squares   F-statistic:                     1.452\n",
      "Date:                 Sun, 05 Dec 2021   Prob (F-statistic):              0.267\n",
      "Time:                         19:23:52   Log-Likelihood:                 10.828\n",
      "No. Observations:                   19   AIC:                            -13.66\n",
      "Df Residuals:                       15   BIC:                            -9.877\n",
      "Df Model:                            3                                         \n",
      "Covariance Type:             nonrobust                                         \n",
      "====================================================================================\n",
      "                       coef    std err          t      P>|t|      [0.025      0.975]\n",
      "------------------------------------------------------------------------------------\n",
      "Intercept            0.1553      0.211      0.737      0.473      -0.294       0.605\n",
      "model[T.HDBSCAN]    -0.0414      0.102     -0.406      0.690      -0.258       0.176\n",
      "model[T.OPTICS]     -0.0954      0.109     -0.874      0.396      -0.328       0.137\n",
      "noise_pct            0.5204      0.284      1.836      0.086      -0.084       1.125\n",
      "==============================================================================\n",
      "Omnibus:                        5.405   Durbin-Watson:                   2.647\n",
      "Prob(Omnibus):                  0.067   Jarque-Bera (JB):                3.007\n",
      "Skew:                          -0.685   Prob(JB):                        0.222\n",
      "Kurtosis:                       4.387   Cond. No.                         13.3\n",
      "==============================================================================\n",
      "\n",
      "Notes:\n",
      "[1] Standard Errors assume that the covariance matrix of the errors is correctly specified.\n"
     ]
    }
   ],
   "source": [
    "mod = smf.ols(\"goodplace_pairs_pct ~ noise_pct + model\", data=modeloutput).fit()\n",
    "print(mod.summary())"
   ]
  },
  {
   "cell_type": "code",
   "execution_count": 28,
   "id": "de46e8c2",
   "metadata": {},
   "outputs": [
    {
     "data": {
      "text/plain": [
       "Index(['id', 'model', 'embedding', 'largest_clus', 'clusters', 'silhouette',\n",
       "       'db', 'noise_pct', 'func_sim', 'goodplace_pairs_pct',\n",
       "       'goodplace_clusters_pct', 'metrics_coverage_pct'],\n",
       "      dtype='object')"
      ]
     },
     "execution_count": 28,
     "metadata": {},
     "output_type": "execute_result"
    }
   ],
   "source": [
    "modeloutput.columns"
   ]
  },
  {
   "cell_type": "code",
   "execution_count": 32,
   "id": "d65bf095",
   "metadata": {},
   "outputs": [
    {
     "data": {
      "text/plain": [
       "<matplotlib.legend.Legend at 0x16ffa6df0>"
      ]
     },
     "execution_count": 32,
     "metadata": {},
     "output_type": "execute_result"
    },
    {
     "data": {
      "image/png": "[encoded data removed]",
      "text/plain": [
       "<Figure size 432x432 with 1 Axes>"
      ]
     },
     "metadata": {
      "needs_background": "light"
     },
     "output_type": "display_data"
    }
   ],
   "source": [
    "data=modeloutput\n",
    "x=\"noise_pct\"\n",
    "y=\"func_sim\"\n",
    "hue='embedding'\n",
    "\n",
    "f, ax = plt.subplots(figsize=(6, 6))\n",
    "sns.scatterplot(data=data, x=x, y=y,\n",
    "                hue=hue,\n",
    "                s=200\n",
    "                )\n",
    "ax.legend(loc='best')"
   ]
  },
  {
   "cell_type": "code",
   "execution_count": 31,
   "id": "54e5d77e",
   "metadata": {},
   "outputs": [
    {
     "data": {
      "text/plain": [
       "<matplotlib.legend.Legend at 0x16ff35e80>"
      ]
     },
     "execution_count": 31,
     "metadata": {},
     "output_type": "execute_result"
    },
    {
     "data": {
      "image/png": "[encoded data removed]",
      "text/plain": [
       "<Figure size 432x432 with 1 Axes>"
      ]
     },
     "metadata": {
      "needs_background": "light"
     },
     "output_type": "display_data"
    }
   ],
   "source": [
    "data=modeloutput\n",
    "x=\"noise_pct\"\n",
    "y=\"func_sim\"\n",
    "hue='model'\n",
    "\n",
    "f, ax = plt.subplots(figsize=(6, 6))\n",
    "sns.scatterplot(data=data, x=x, y=y,\n",
    "                hue=hue,\n",
    "                s=200\n",
    "                )\n",
    "ax.legend(loc='best')"
   ]
  },
  {
   "cell_type": "code",
   "execution_count": 35,
   "id": "94e0d20a",
   "metadata": {},
   "outputs": [
    {
     "name": "stdout",
     "output_type": "stream",
     "text": [
      "                             OLS Regression Results                            \n",
      "===============================================================================\n",
      "Dep. Variable:     goodplace_pairs_pct   R-squared:                       0.748\n",
      "Model:                             OLS   Adj. R-squared:                  0.698\n",
      "Method:                  Least Squares   F-statistic:                     14.88\n",
      "Date:                 Sun, 05 Dec 2021   Prob (F-statistic):           9.13e-05\n",
      "Time:                         19:33:49   Log-Likelihood:                 21.517\n",
      "No. Observations:                   19   AIC:                            -35.03\n",
      "Df Residuals:                       15   BIC:                            -31.26\n",
      "Df Model:                            3                                         \n",
      "Covariance Type:             nonrobust                                         \n",
      "====================================================================================\n",
      "                       coef    std err          t      P>|t|      [0.025      0.975]\n",
      "------------------------------------------------------------------------------------\n",
      "Intercept            0.0992      0.081      1.226      0.239      -0.073       0.272\n",
      "model[T.HDBSCAN]    -0.1272      0.059     -2.164      0.047      -0.252      -0.002\n",
      "model[T.OPTICS]     -0.1571      0.063     -2.512      0.024      -0.290      -0.024\n",
      "func_sim             1.0310      0.160      6.450      0.000       0.690       1.372\n",
      "==============================================================================\n",
      "Omnibus:                        7.620   Durbin-Watson:                   1.902\n",
      "Prob(Omnibus):                  0.022   Jarque-Bera (JB):                4.840\n",
      "Skew:                           1.044   Prob(JB):                       0.0889\n",
      "Kurtosis:                       4.323   Cond. No.                         10.9\n",
      "==============================================================================\n",
      "\n",
      "Notes:\n",
      "[1] Standard Errors assume that the covariance matrix of the errors is correctly specified.\n"
     ]
    },
    {
     "name": "stderr",
     "output_type": "stream",
     "text": [
      "/Users/haeranglee/opt/anaconda3/envs/pss/lib/python3.9/site-packages/scipy/stats/stats.py:1541: UserWarning: kurtosistest only valid for n>=20 ... continuing anyway, n=19\n",
      "  warnings.warn(\"kurtosistest only valid for n>=20 ... continuing \"\n"
     ]
    }
   ],
   "source": [
    "mod = smf.ols(\"goodplace_pairs_pct ~ func_sim + model\", data=modeloutput).fit()\n",
    "print(mod.summary())"
   ]
  },
  {
   "cell_type": "code",
   "execution_count": 36,
   "id": "938a438b",
   "metadata": {},
   "outputs": [
    {
     "name": "stdout",
     "output_type": "stream",
     "text": [
      "                             OLS Regression Results                            \n",
      "===============================================================================\n",
      "Dep. Variable:     goodplace_pairs_pct   R-squared:                       0.768\n",
      "Model:                             OLS   Adj. R-squared:                  0.722\n",
      "Method:                  Least Squares   F-statistic:                     16.55\n",
      "Date:                 Sun, 05 Dec 2021   Prob (F-statistic):           5.05e-05\n",
      "Time:                         19:34:10   Log-Likelihood:                 22.283\n",
      "No. Observations:                   19   AIC:                            -36.57\n",
      "Df Residuals:                       15   BIC:                            -32.79\n",
      "Df Model:                            3                                         \n",
      "Covariance Type:             nonrobust                                         \n",
      "========================================================================================================\n",
      "                                           coef    std err          t      P>|t|      [0.025      0.975]\n",
      "--------------------------------------------------------------------------------------------------------\n",
      "Intercept                                0.0156      0.071      0.220      0.829      -0.135       0.166\n",
      "embedding[T.SeqVec]                     -0.1024      0.070     -1.459      0.165      -0.252       0.047\n",
      "embedding[T.Structure LSTM + SeqVec]    -0.1827      0.068     -2.704      0.016      -0.327      -0.039\n",
      "func_sim                                 1.2548      0.186      6.746      0.000       0.858       1.651\n",
      "==============================================================================\n",
      "Omnibus:                        6.347   Durbin-Watson:                   1.684\n",
      "Prob(Omnibus):                  0.042   Jarque-Bera (JB):                4.023\n",
      "Skew:                           1.079   Prob(JB):                        0.134\n",
      "Kurtosis:                       3.654   Cond. No.                         13.3\n",
      "==============================================================================\n",
      "\n",
      "Notes:\n",
      "[1] Standard Errors assume that the covariance matrix of the errors is correctly specified.\n"
     ]
    },
    {
     "name": "stderr",
     "output_type": "stream",
     "text": [
      "/Users/haeranglee/opt/anaconda3/envs/pss/lib/python3.9/site-packages/scipy/stats/stats.py:1541: UserWarning: kurtosistest only valid for n>=20 ... continuing anyway, n=19\n",
      "  warnings.warn(\"kurtosistest only valid for n>=20 ... continuing \"\n"
     ]
    }
   ],
   "source": [
    "mod = smf.ols(\"goodplace_pairs_pct ~ func_sim + embedding\", data=modeloutput).fit()\n",
    "print(mod.summary())"
   ]
  },
  {
   "cell_type": "code",
   "execution_count": null,
   "id": "6eed6519",
   "metadata": {},
   "outputs": [],
   "source": []
  }
 ],
 "metadata": {
  "kernelspec": {
   "display_name": "Python 3 (ipykernel)",
   "language": "python",
   "name": "python3"
  },
  "language_info": {
   "codemirror_mode": {
    "name": "ipython",
    "version": 3
   },
   "file_extension": ".py",
   "mimetype": "text/x-python",
   "name": "python",
   "nbconvert_exporter": "python",
   "pygments_lexer": "ipython3",
   "version": "3.9.7"
  },
  "toc": {
   "base_numbering": 1,
   "nav_menu": {},
   "number_sections": true,
   "sideBar": true,
   "skip_h1_title": false,
   "title_cell": "Table of Contents",
   "title_sidebar": "Contents",
   "toc_cell": false,
   "toc_position": {
    "height": "calc(100% - 180px)",
    "left": "10px",
    "top": "150px",
    "width": "232.6px"
   },
   "toc_section_display": true,
   "toc_window_display": true
  }
 },
 "nbformat": 4,
 "nbformat_minor": 5
}
