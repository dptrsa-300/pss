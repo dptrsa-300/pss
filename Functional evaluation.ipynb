{
 "cells": [
  {
   "cell_type": "markdown",
   "id": "b2997827",
   "metadata": {},
   "source": [
    "# Functional Evaluations\n",
    "Haerang Lee\n",
    "\n",
    "Find out a way to look into functional agreements."
   ]
  },
  {
   "cell_type": "code",
   "execution_count": 1,
   "id": "31305d27",
   "metadata": {},
   "outputs": [],
   "source": [
    "from google.cloud import storage\n",
    "import argparse\n",
    "import gzip\n",
    "import os\n",
    "import sys\n",
    "import time\n",
    "from multiprocessing import Pool\n",
    "\n",
    "import numpy as np\n",
    "import pandas as pd\n",
    "from tqdm.auto import tqdm\n",
    "\n",
    "from utils import gcs_utils as gcs\n",
    "from utils import model_and_evaluate_cluster as ev\n",
    "import urllib.parse\n",
    "import urllib.request\n",
    "\n",
    "import io \n",
    "\n",
    "import importlib\n",
    "import hdbscan\n",
    "import networkx as nx "
   ]
  },
  {
   "cell_type": "code",
   "execution_count": 29,
   "id": "c7617250",
   "metadata": {},
   "outputs": [
    {
     "data": {
      "text/plain": [
       "<module 'utils.model_and_evaluate_cluster' from '/Users/haeranglee/Documents/pss/utils/model_and_evaluate_cluster.py'>"
      ]
     },
     "execution_count": 29,
     "metadata": {},
     "output_type": "execute_result"
    }
   ],
   "source": [
    "importlib.reload(ev)"
   ]
  },
  {
   "cell_type": "markdown",
   "id": "ccad3f34",
   "metadata": {},
   "source": [
    "# Tutorial"
   ]
  },
  {
   "cell_type": "code",
   "execution_count": 30,
   "id": "700f5d70",
   "metadata": {},
   "outputs": [],
   "source": [
    "# Import possible pairs\n",
    "prefix='model_outputs/no_cluster_size_limit/'\n",
    "all_protein_combos_per_cluster = gcs.download_parquet(prefix+'B2-HDBSCAN-SeqVec-all_protein_combos_per_cluster.parquet')"
   ]
  },
  {
   "cell_type": "code",
   "execution_count": 31,
   "id": "fd0a0abf",
   "metadata": {},
   "outputs": [
    {
     "name": "stdout",
     "output_type": "stream",
     "text": [
      "2021-Nov-07 15:53:28 No GO annotations provided. Downloading from google cloud.\n"
     ]
    },
    {
     "name": "stderr",
     "output_type": "stream",
     "text": [
      "/var/folders/zz/58vwrfdn6p5bgkhdv0xng5780000gn/T/ipykernel_27576/3331789406.py:1: DtypeWarning: Columns (15) have mixed types.Specify dtype option on import or set low_memory=False.\n",
      "  funsim_result = ev.funsim_evaluator(all_protein_combos_per_cluster)\n"
     ]
    },
    {
     "name": "stdout",
     "output_type": "stream",
     "text": [
      "2021-Nov-07 15:53:31 Total number of proteins in GO annotations: 18240\n",
      "2021-Nov-07 15:53:31 IC_t created\n",
      "2021-Nov-07 15:53:32 Dictionary of proteins and their GO terms lookup created\n"
     ]
    }
   ],
   "source": [
    "funsim_result = ev.funsim_evaluator(all_protein_combos_per_cluster)"
   ]
  },
  {
   "cell_type": "code",
   "execution_count": 32,
   "id": "2b2f5ab1",
   "metadata": {
    "scrolled": true
   },
   "outputs": [
    {
     "name": "stdout",
     "output_type": "stream",
     "text": [
      "2021-Nov-07 15:53:34 Funsim calculated.\n",
      "2021-Nov-07 15:53:34 Funsim summary by cluster done.\n",
      "2021-Nov-07 15:53:34 Get NP Arr of GO terms for each protein\n",
      "2021-Nov-07 15:53:34 Turn GO terms into dict\n",
      "2021-Nov-07 15:53:35 Map GO desc...\n",
      "2021-Nov-07 15:53:35 Mapping GO desc done.\n",
      "2021-Nov-07 15:53:35 Common GO term sumary per cluster processed.\n",
      "2021-Nov-07 15:53:35 Merged cluster-level funsim score with GO summary.\n"
     ]
    }
   ],
   "source": [
    "funsim_result.funsim()\n",
    "cluster_funsim, protein_pair_funsim = funsim_result.cluster_funsim, funsim_result.protein_pair_funsim"
   ]
  },
  {
   "cell_type": "code",
   "execution_count": 33,
   "id": "4ff4ed92",
   "metadata": {},
   "outputs": [
    {
     "data": {
      "text/html": [
       "<div>\n",
       "<style scoped>\n",
       "    .dataframe tbody tr th:only-of-type {\n",
       "        vertical-align: middle;\n",
       "    }\n",
       "\n",
       "    .dataframe tbody tr th {\n",
       "        vertical-align: top;\n",
       "    }\n",
       "\n",
       "    .dataframe thead th {\n",
       "        text-align: right;\n",
       "    }\n",
       "</style>\n",
       "<table border=\"1\" class=\"dataframe\">\n",
       "  <thead>\n",
       "    <tr style=\"text-align: right;\">\n",
       "      <th></th>\n",
       "      <th>num_pairs</th>\n",
       "      <th>num_pairs_with_funsim</th>\n",
       "      <th>funsim</th>\n",
       "      <th>perc_pairs_w_funsim</th>\n",
       "      <th>cluster</th>\n",
       "      <th>go</th>\n",
       "      <th>go_summary</th>\n",
       "    </tr>\n",
       "    <tr>\n",
       "      <th>cluster</th>\n",
       "      <th></th>\n",
       "      <th></th>\n",
       "      <th></th>\n",
       "      <th></th>\n",
       "      <th></th>\n",
       "      <th></th>\n",
       "      <th></th>\n",
       "    </tr>\n",
       "  </thead>\n",
       "  <tbody>\n",
       "    <tr>\n",
       "      <th>0</th>\n",
       "      <td>45</td>\n",
       "      <td>45</td>\n",
       "      <td>0.477738</td>\n",
       "      <td>1.0</td>\n",
       "      <td>0</td>\n",
       "      <td>{'GO:0001540': 1, 'GO:0004175': 2, 'GO:0004190...</td>\n",
       "      <td>{'GO:0004190': {'Num. Protein': 10, 'Name': 'a...</td>\n",
       "    </tr>\n",
       "    <tr>\n",
       "      <th>1</th>\n",
       "      <td>276</td>\n",
       "      <td>0</td>\n",
       "      <td>NaN</td>\n",
       "      <td>0.0</td>\n",
       "      <td>1</td>\n",
       "      <td>{}</td>\n",
       "      <td>{}</td>\n",
       "    </tr>\n",
       "    <tr>\n",
       "      <th>2</th>\n",
       "      <td>15</td>\n",
       "      <td>15</td>\n",
       "      <td>0.408240</td>\n",
       "      <td>1.0</td>\n",
       "      <td>2</td>\n",
       "      <td>{'GO:0003723': 1, 'GO:0005198': 2, 'GO:0005509...</td>\n",
       "      <td>{'GO:0005509': {'Num. Protein': 5, 'Name': 'ca...</td>\n",
       "    </tr>\n",
       "    <tr>\n",
       "      <th>3</th>\n",
       "      <td>10</td>\n",
       "      <td>10</td>\n",
       "      <td>0.724022</td>\n",
       "      <td>1.0</td>\n",
       "      <td>3</td>\n",
       "      <td>{'GO:0003674': 1, 'GO:0004252': 5, 'GO:0005515...</td>\n",
       "      <td>{'GO:0004252': {'Num. Protein': 5, 'Name': 'se...</td>\n",
       "    </tr>\n",
       "    <tr>\n",
       "      <th>4</th>\n",
       "      <td>15</td>\n",
       "      <td>15</td>\n",
       "      <td>0.407159</td>\n",
       "      <td>1.0</td>\n",
       "      <td>4</td>\n",
       "      <td>{'GO:0003674': 3, 'GO:0005515': 4}</td>\n",
       "      <td>{'GO:0005515': {'Num. Protein': 4, 'Name': 'pr...</td>\n",
       "    </tr>\n",
       "  </tbody>\n",
       "</table>\n",
       "</div>"
      ],
      "text/plain": [
       "         num_pairs  num_pairs_with_funsim    funsim  perc_pairs_w_funsim  \\\n",
       "cluster                                                                    \n",
       "0               45                     45  0.477738                  1.0   \n",
       "1              276                      0       NaN                  0.0   \n",
       "2               15                     15  0.408240                  1.0   \n",
       "3               10                     10  0.724022                  1.0   \n",
       "4               15                     15  0.407159                  1.0   \n",
       "\n",
       "         cluster                                                 go  \\\n",
       "cluster                                                               \n",
       "0              0  {'GO:0001540': 1, 'GO:0004175': 2, 'GO:0004190...   \n",
       "1              1                                                 {}   \n",
       "2              2  {'GO:0003723': 1, 'GO:0005198': 2, 'GO:0005509...   \n",
       "3              3  {'GO:0003674': 1, 'GO:0004252': 5, 'GO:0005515...   \n",
       "4              4                 {'GO:0003674': 3, 'GO:0005515': 4}   \n",
       "\n",
       "                                                go_summary  \n",
       "cluster                                                     \n",
       "0        {'GO:0004190': {'Num. Protein': 10, 'Name': 'a...  \n",
       "1                                                       {}  \n",
       "2        {'GO:0005509': {'Num. Protein': 5, 'Name': 'ca...  \n",
       "3        {'GO:0004252': {'Num. Protein': 5, 'Name': 'se...  \n",
       "4        {'GO:0005515': {'Num. Protein': 4, 'Name': 'pr...  "
      ]
     },
     "execution_count": 33,
     "metadata": {},
     "output_type": "execute_result"
    }
   ],
   "source": [
    "cluster_funsim.head()"
   ]
  },
  {
   "cell_type": "code",
   "execution_count": 34,
   "id": "7bffc2f5",
   "metadata": {},
   "outputs": [
    {
     "data": {
      "text/html": [
       "<div>\n",
       "<style scoped>\n",
       "    .dataframe tbody tr th:only-of-type {\n",
       "        vertical-align: middle;\n",
       "    }\n",
       "\n",
       "    .dataframe tbody tr th {\n",
       "        vertical-align: top;\n",
       "    }\n",
       "\n",
       "    .dataframe thead th {\n",
       "        text-align: right;\n",
       "    }\n",
       "</style>\n",
       "<table border=\"1\" class=\"dataframe\">\n",
       "  <thead>\n",
       "    <tr style=\"text-align: right;\">\n",
       "      <th></th>\n",
       "      <th>protein_A</th>\n",
       "      <th>protein_B</th>\n",
       "      <th>cluster</th>\n",
       "      <th>funsim</th>\n",
       "    </tr>\n",
       "  </thead>\n",
       "  <tbody>\n",
       "    <tr>\n",
       "      <th>1</th>\n",
       "      <td>O96009</td>\n",
       "      <td>P00797</td>\n",
       "      <td>0</td>\n",
       "      <td>0.428994</td>\n",
       "    </tr>\n",
       "    <tr>\n",
       "      <th>2</th>\n",
       "      <td>O96009</td>\n",
       "      <td>P07339</td>\n",
       "      <td>0</td>\n",
       "      <td>0.383279</td>\n",
       "    </tr>\n",
       "    <tr>\n",
       "      <th>3</th>\n",
       "      <td>O96009</td>\n",
       "      <td>P0DJD7</td>\n",
       "      <td>0</td>\n",
       "      <td>0.396631</td>\n",
       "    </tr>\n",
       "    <tr>\n",
       "      <th>4</th>\n",
       "      <td>O96009</td>\n",
       "      <td>P0DJD8</td>\n",
       "      <td>0</td>\n",
       "      <td>0.374980</td>\n",
       "    </tr>\n",
       "    <tr>\n",
       "      <th>5</th>\n",
       "      <td>O96009</td>\n",
       "      <td>P0DJD9</td>\n",
       "      <td>0</td>\n",
       "      <td>0.374980</td>\n",
       "    </tr>\n",
       "  </tbody>\n",
       "</table>\n",
       "</div>"
      ],
      "text/plain": [
       "  protein_A protein_B  cluster    funsim\n",
       "1    O96009    P00797        0  0.428994\n",
       "2    O96009    P07339        0  0.383279\n",
       "3    O96009    P0DJD7        0  0.396631\n",
       "4    O96009    P0DJD8        0  0.374980\n",
       "5    O96009    P0DJD9        0  0.374980"
      ]
     },
     "execution_count": 34,
     "metadata": {},
     "output_type": "execute_result"
    }
   ],
   "source": [
    "protein_pair_funsim.head()"
   ]
  },
  {
   "cell_type": "markdown",
   "id": "f38e917e",
   "metadata": {},
   "source": [
    "Here's a function that will create a dataframe from GO summary of each cluster. In the below example, I pull the stats for cluster number 2. "
   ]
  },
  {
   "cell_type": "code",
   "execution_count": 35,
   "id": "9724f843",
   "metadata": {},
   "outputs": [
    {
     "data": {
      "text/html": [
       "<div>\n",
       "<style scoped>\n",
       "    .dataframe tbody tr th:only-of-type {\n",
       "        vertical-align: middle;\n",
       "    }\n",
       "\n",
       "    .dataframe tbody tr th {\n",
       "        vertical-align: top;\n",
       "    }\n",
       "\n",
       "    .dataframe thead th {\n",
       "        text-align: right;\n",
       "    }\n",
       "</style>\n",
       "<table border=\"1\" class=\"dataframe\">\n",
       "  <thead>\n",
       "    <tr style=\"text-align: right;\">\n",
       "      <th></th>\n",
       "      <th>Num. Protein</th>\n",
       "      <th>Name</th>\n",
       "      <th>Description</th>\n",
       "    </tr>\n",
       "  </thead>\n",
       "  <tbody>\n",
       "    <tr>\n",
       "      <th>GO:0005509</th>\n",
       "      <td>5</td>\n",
       "      <td>calcium ion binding</td>\n",
       "      <td>Binding to a calcium ion (Ca2+).</td>\n",
       "    </tr>\n",
       "    <tr>\n",
       "      <th>GO:0046914</th>\n",
       "      <td>5</td>\n",
       "      <td>transition metal ion binding</td>\n",
       "      <td>Binding to a transition metal ions; a transiti...</td>\n",
       "    </tr>\n",
       "    <tr>\n",
       "      <th>GO:0005515</th>\n",
       "      <td>3</td>\n",
       "      <td>protein binding</td>\n",
       "      <td>Binding to a protein.</td>\n",
       "    </tr>\n",
       "    <tr>\n",
       "      <th>GO:0005198</th>\n",
       "      <td>2</td>\n",
       "      <td>structural molecule activity</td>\n",
       "      <td>The action of a molecule that contributes to t...</td>\n",
       "    </tr>\n",
       "    <tr>\n",
       "      <th>GO:0003723</th>\n",
       "      <td>1</td>\n",
       "      <td>RNA binding</td>\n",
       "      <td>Binding to an RNA molecule or a portion thereof.</td>\n",
       "    </tr>\n",
       "    <tr>\n",
       "      <th>GO:0030280</th>\n",
       "      <td>1</td>\n",
       "      <td>structural constituent of skin epidermis</td>\n",
       "      <td>The action of a molecule that contributes to t...</td>\n",
       "    </tr>\n",
       "    <tr>\n",
       "      <th>GO:0048306</th>\n",
       "      <td>1</td>\n",
       "      <td>calcium-dependent protein binding</td>\n",
       "      <td>Binding to a protein or protein complex in the...</td>\n",
       "    </tr>\n",
       "  </tbody>\n",
       "</table>\n",
       "</div>"
      ],
      "text/plain": [
       "            Num. Protein                                      Name  \\\n",
       "GO:0005509             5                       calcium ion binding   \n",
       "GO:0046914             5              transition metal ion binding   \n",
       "GO:0005515             3                           protein binding   \n",
       "GO:0005198             2              structural molecule activity   \n",
       "GO:0003723             1                               RNA binding   \n",
       "GO:0030280             1  structural constituent of skin epidermis   \n",
       "GO:0048306             1         calcium-dependent protein binding   \n",
       "\n",
       "                                                  Description  \n",
       "GO:0005509                   Binding to a calcium ion (Ca2+).  \n",
       "GO:0046914  Binding to a transition metal ions; a transiti...  \n",
       "GO:0005515                              Binding to a protein.  \n",
       "GO:0005198  The action of a molecule that contributes to t...  \n",
       "GO:0003723   Binding to an RNA molecule or a portion thereof.  \n",
       "GO:0030280  The action of a molecule that contributes to t...  \n",
       "GO:0048306  Binding to a protein or protein complex in the...  "
      ]
     },
     "execution_count": 35,
     "metadata": {},
     "output_type": "execute_result"
    }
   ],
   "source": [
    "clusterno = 2\n",
    "cluster_go_summary = funsim_result.get_go_summary_df(clusterno=clusterno)\n",
    "cluster_go_summary"
   ]
  },
  {
   "cell_type": "code",
   "execution_count": null,
   "id": "7a781b6a",
   "metadata": {},
   "outputs": [],
   "source": []
  },
  {
   "cell_type": "markdown",
   "id": "32a4bf3d",
   "metadata": {},
   "source": [
    "# Background\n",
    "\n",
    "## Gene Ontology\n",
    "\n",
    "More info on Gene Ontology: http://geneontology.org/docs/ontology-documentation/\n",
    "1. **Molecular function**: describe activities that occur at the molecular level, such as “catalysis” or “transport”. GO molecular function terms represent activities rather than the entities (molecules or complexes) that perform the actions\n",
    "1. **Cellular component**: locations relative to cellular structures in which a gene product performs a function, either cellular compartments (e.g., mitochondrion), or stable macromolecular complexes of which they are parts (e.g., the ribosome)\n",
    "1. **Biological process**: The larger processes, or ‘biological programs’ accomplished by multiple molecular activities. Examples of broad biological process terms are DNA repair or signal transduction."
   ]
  },
  {
   "cell_type": "markdown",
   "id": "23ed36bd",
   "metadata": {},
   "source": [
    "## Functional Similarity Formula\n",
    "\n",
    "\n",
    "Funcsim methodology from https://www.nature.com/articles/s41598-018-30455-0\n",
    "> Functional similarity of a gene pair or a set is determined by the semantic similarities of the GO terms annotating the gene pair or set. Semantic similarity defines a distance between terms in the semantic space of GO and is quantified by the information contents (IC) of the terms. The information content (IC) of a GO term t is defined by negative log-likelihood:\n",
    "$$IC(t)=-log(p(t))$$\n",
    "> where term probability P(t) of term t is determined from the annotations of the corpus (corpus-based) or from the structure of the DAG (structure-based). The intuition is that terms in lower levels of DAG, that is, the terms with lower probability carry more specific information than the terms at higher levels in the hierarchy. Corpus-based methods evaluate the term probability as\n",
    "$$p(t)= \\frac{M}{N}$$\n",
    "where M is the number of genes annotated by term t and N is the total number of genes in the annotating corpus.\n"
   ]
  },
  {
   "cell_type": "markdown",
   "id": "aef245d3",
   "metadata": {},
   "source": [
    "## Data: Human Protein to GO Mapping\n",
    "\n",
    "GAF: GO annotation files. \n",
    "\n",
    "Dataset `goa_human.gaf` downloaded from http://current.geneontology.org/products/pages/downloads.html\n",
    "> **Filtered Files**\n",
    ">\n",
    "> These files are taxon-specific and reflect the work of specific projects, primarily the model organisms database groups, to provide comprehensive, non-redundant annotation files for their organism. All the files in this table have been filtered using the annotation file QC pipeline. A major component to the filtering is the requirement that particular taxon IDs can only be included within the association files provided by specific projects; the current list of authoritative groups and major model organisms can be found below. \n",
    "\n",
    "```\n",
    "Homo sapiens\n",
    "EBI Gene Ontology Annotation Database (goa) \tprotein \t543477 \tgoa_human.gaf (gzip)\n",
    "```\n",
    "Data dictionary: http://geneontology.org/docs/go-annotation-file-gaf-format-2.1/\n",
    "\n",
    "\n"
   ]
  },
  {
   "cell_type": "code",
   "execution_count": 99,
   "id": "c3c55c4e",
   "metadata": {},
   "outputs": [],
   "source": [
    "a_file = gzip. open(\"functional_sim/data/goa_human.gaf.gz\", \"rb\")\n",
    "contents = a_file. read()"
   ]
  },
  {
   "cell_type": "code",
   "execution_count": 178,
   "id": "f9ff76cf",
   "metadata": {},
   "outputs": [
    {
     "name": "stdout",
     "output_type": "stream",
     "text": [
      "!gaf-version: 2.2\n",
      "!\n",
      "!generated-by: GOC\n",
      "!\n",
      "!date-generated: 2021-10-27T15:09\n",
      "!\n",
      "!Header from source association file:\n",
      "!=================================\n",
      "!\n",
      "!generated-by: GOC\n",
      "!\n",
      "!date-generated: 2021-10-27T04:08\n",
      "!\n",
      "!Header from goa_human source association file:\n",
      "!=================================\n",
      "!\n",
      "!The set of protein accessions included in this file is based on UniProt reference proteomes, which provide one protein per gene.\n",
      "!They include the protein sequences annotated in Swiss-Prot or the longest TrEMBL transcript if there is no Swiss-Prot record.\n",
      "!If a particular protein accession is not annotated with GO, then it will not appear in this file.\n",
      "!\n",
      "!Note that the annotation set in this file is filtered in order to reduce redundancy; the full, unfiltered set can be found in\n",
      "!ftp://ftp.ebi.ac.uk/pub/databases/GO/goa/UNIPROT/goa_uniprot_all.gz\n",
      "!\n",
      "!date-generated: 2021-06-16 11:28\n",
      "!generated-by: UniProt\n",
      "!go-version: http://purl.obolibrary.org/obo/go/releases/2021-06-06/extensions/go-plus.owl\n",
      "!\n",
      "!=================================\n",
      "!\n",
      "!Header copied from paint_goa_human_valid.gaf\n",
      "!=================================\n",
      "!Created on Wed Sep  8 16:26:55 2021.\n",
      "!generated-by: PANTHER\n",
      "!date-generated: 2021-09-08\n",
      "!PANTHER version: v.15.0.\n",
      "!GO version: 2021-08-18.\n",
      "!\n",
      "!=================================\n",
      "!\n",
      "!Documentation about this header can be found here: https://github.com/geneontology/go-site/blob/master/docs/gaf_validation.md\n",
      "\n"
     ]
    }
   ],
   "source": [
    "print(contents.decode('utf-8')[0:1423])"
   ]
  },
  {
   "cell_type": "code",
   "execution_count": 135,
   "id": "d7cc39bf",
   "metadata": {},
   "outputs": [
    {
     "name": "stderr",
     "output_type": "stream",
     "text": [
      "/Users/haeranglee/opt/anaconda3/envs/pss/lib/python3.9/site-packages/IPython/core/interactiveshell.py:3441: DtypeWarning: Columns (15) have mixed types.Specify dtype option on import or set low_memory=False.\n",
      "  exec(code_obj, self.user_global_ns, self.user_ns)\n"
     ]
    },
    {
     "data": {
      "text/html": [
       "<div>\n",
       "<style scoped>\n",
       "    .dataframe tbody tr th:only-of-type {\n",
       "        vertical-align: middle;\n",
       "    }\n",
       "\n",
       "    .dataframe tbody tr th {\n",
       "        vertical-align: top;\n",
       "    }\n",
       "\n",
       "    .dataframe thead th {\n",
       "        text-align: right;\n",
       "    }\n",
       "</style>\n",
       "<table border=\"1\" class=\"dataframe\">\n",
       "  <thead>\n",
       "    <tr style=\"text-align: right;\">\n",
       "      <th></th>\n",
       "      <th>DB</th>\n",
       "      <th>DB Object ID</th>\n",
       "      <th>DB Object Symbol</th>\n",
       "      <th>Qualifier</th>\n",
       "      <th>GO ID</th>\n",
       "      <th>Reference</th>\n",
       "      <th>Evidence Code</th>\n",
       "      <th>With or From</th>\n",
       "      <th>Aspect</th>\n",
       "      <th>Name</th>\n",
       "      <th>Synonym</th>\n",
       "      <th>Type</th>\n",
       "      <th>Taxon</th>\n",
       "      <th>Date</th>\n",
       "      <th>Assigned By</th>\n",
       "      <th>Annotation Extension</th>\n",
       "      <th>Gene Product Form ID</th>\n",
       "    </tr>\n",
       "  </thead>\n",
       "  <tbody>\n",
       "    <tr>\n",
       "      <th>0</th>\n",
       "      <td>UniProtKB</td>\n",
       "      <td>A0A024RBG1</td>\n",
       "      <td>NUDT4B</td>\n",
       "      <td>enables</td>\n",
       "      <td>GO:0003723</td>\n",
       "      <td>GO_REF:0000043</td>\n",
       "      <td>IEA</td>\n",
       "      <td>UniProtKB-KW:KW-0694</td>\n",
       "      <td>F</td>\n",
       "      <td>Diphosphoinositol polyphosphate phosphohydrola...</td>\n",
       "      <td>NUDT4B</td>\n",
       "      <td>protein</td>\n",
       "      <td>taxon:9606</td>\n",
       "      <td>20210612</td>\n",
       "      <td>UniProt</td>\n",
       "      <td>NaN</td>\n",
       "      <td>NaN</td>\n",
       "    </tr>\n",
       "    <tr>\n",
       "      <th>1</th>\n",
       "      <td>UniProtKB</td>\n",
       "      <td>A0A024RBG1</td>\n",
       "      <td>NUDT4B</td>\n",
       "      <td>enables</td>\n",
       "      <td>GO:0046872</td>\n",
       "      <td>GO_REF:0000043</td>\n",
       "      <td>IEA</td>\n",
       "      <td>UniProtKB-KW:KW-0479</td>\n",
       "      <td>F</td>\n",
       "      <td>Diphosphoinositol polyphosphate phosphohydrola...</td>\n",
       "      <td>NUDT4B</td>\n",
       "      <td>protein</td>\n",
       "      <td>taxon:9606</td>\n",
       "      <td>20210612</td>\n",
       "      <td>UniProt</td>\n",
       "      <td>NaN</td>\n",
       "      <td>NaN</td>\n",
       "    </tr>\n",
       "    <tr>\n",
       "      <th>2</th>\n",
       "      <td>UniProtKB</td>\n",
       "      <td>A0A024RBG1</td>\n",
       "      <td>NUDT4B</td>\n",
       "      <td>enables</td>\n",
       "      <td>GO:0052840</td>\n",
       "      <td>GO_REF:0000003</td>\n",
       "      <td>IEA</td>\n",
       "      <td>EC:3.6.1.52</td>\n",
       "      <td>F</td>\n",
       "      <td>Diphosphoinositol polyphosphate phosphohydrola...</td>\n",
       "      <td>NUDT4B</td>\n",
       "      <td>protein</td>\n",
       "      <td>taxon:9606</td>\n",
       "      <td>20210612</td>\n",
       "      <td>UniProt</td>\n",
       "      <td>NaN</td>\n",
       "      <td>NaN</td>\n",
       "    </tr>\n",
       "    <tr>\n",
       "      <th>3</th>\n",
       "      <td>UniProtKB</td>\n",
       "      <td>A0A024RBG1</td>\n",
       "      <td>NUDT4B</td>\n",
       "      <td>enables</td>\n",
       "      <td>GO:0052842</td>\n",
       "      <td>GO_REF:0000003</td>\n",
       "      <td>IEA</td>\n",
       "      <td>EC:3.6.1.52</td>\n",
       "      <td>F</td>\n",
       "      <td>Diphosphoinositol polyphosphate phosphohydrola...</td>\n",
       "      <td>NUDT4B</td>\n",
       "      <td>protein</td>\n",
       "      <td>taxon:9606</td>\n",
       "      <td>20210612</td>\n",
       "      <td>UniProt</td>\n",
       "      <td>NaN</td>\n",
       "      <td>NaN</td>\n",
       "    </tr>\n",
       "    <tr>\n",
       "      <th>4</th>\n",
       "      <td>UniProtKB</td>\n",
       "      <td>A0A024RBG1</td>\n",
       "      <td>NUDT4B</td>\n",
       "      <td>located_in</td>\n",
       "      <td>GO:0005829</td>\n",
       "      <td>GO_REF:0000052</td>\n",
       "      <td>IDA</td>\n",
       "      <td>NaN</td>\n",
       "      <td>C</td>\n",
       "      <td>Diphosphoinositol polyphosphate phosphohydrola...</td>\n",
       "      <td>NUDT4B</td>\n",
       "      <td>protein</td>\n",
       "      <td>taxon:9606</td>\n",
       "      <td>20161204</td>\n",
       "      <td>HPA</td>\n",
       "      <td>NaN</td>\n",
       "      <td>NaN</td>\n",
       "    </tr>\n",
       "  </tbody>\n",
       "</table>\n",
       "</div>"
      ],
      "text/plain": [
       "          DB DB Object ID DB Object Symbol   Qualifier       GO ID  \\\n",
       "0  UniProtKB   A0A024RBG1           NUDT4B     enables  GO:0003723   \n",
       "1  UniProtKB   A0A024RBG1           NUDT4B     enables  GO:0046872   \n",
       "2  UniProtKB   A0A024RBG1           NUDT4B     enables  GO:0052840   \n",
       "3  UniProtKB   A0A024RBG1           NUDT4B     enables  GO:0052842   \n",
       "4  UniProtKB   A0A024RBG1           NUDT4B  located_in  GO:0005829   \n",
       "\n",
       "        Reference Evidence Code          With or From Aspect  \\\n",
       "0  GO_REF:0000043           IEA  UniProtKB-KW:KW-0694      F   \n",
       "1  GO_REF:0000043           IEA  UniProtKB-KW:KW-0479      F   \n",
       "2  GO_REF:0000003           IEA           EC:3.6.1.52      F   \n",
       "3  GO_REF:0000003           IEA           EC:3.6.1.52      F   \n",
       "4  GO_REF:0000052           IDA                   NaN      C   \n",
       "\n",
       "                                                Name Synonym     Type  \\\n",
       "0  Diphosphoinositol polyphosphate phosphohydrola...  NUDT4B  protein   \n",
       "1  Diphosphoinositol polyphosphate phosphohydrola...  NUDT4B  protein   \n",
       "2  Diphosphoinositol polyphosphate phosphohydrola...  NUDT4B  protein   \n",
       "3  Diphosphoinositol polyphosphate phosphohydrola...  NUDT4B  protein   \n",
       "4  Diphosphoinositol polyphosphate phosphohydrola...  NUDT4B  protein   \n",
       "\n",
       "        Taxon      Date Assigned By Annotation Extension  Gene Product Form ID  \n",
       "0  taxon:9606  20210612     UniProt                  NaN                   NaN  \n",
       "1  taxon:9606  20210612     UniProt                  NaN                   NaN  \n",
       "2  taxon:9606  20210612     UniProt                  NaN                   NaN  \n",
       "3  taxon:9606  20210612     UniProt                  NaN                   NaN  \n",
       "4  taxon:9606  20161204         HPA                  NaN                   NaN  "
      ]
     },
     "execution_count": 135,
     "metadata": {},
     "output_type": "execute_result"
    }
   ],
   "source": [
    "goa = pd.read_csv(\"functional_sim/data/goa_human.gaf.gz\", \n",
    "            compression='gzip', \n",
    "            header=None,\n",
    "            skiprows=41, \n",
    "            sep='\\t')\n",
    "goa.columns=[\"DB\",\n",
    "                    \"DB Object ID\",\n",
    "                    \"DB Object Symbol\",\n",
    "                    \"Qualifier\",\n",
    "                    \"GO ID\",\n",
    "                    \"Reference\",\n",
    "                    \"Evidence Code\",\n",
    "                    \"With or From\",\n",
    "                    \"Aspect\",\n",
    "                    \"Name\",\n",
    "                    \"Synonym\",\n",
    "                    \"Type\",\n",
    "                    \"Taxon\",\n",
    "                    \"Date\",\n",
    "                    \"Assigned By\",\n",
    "                    \"Annotation Extension\",\n",
    "                    \"Gene Product Form ID\"]\n",
    "goa.head()"
   ]
  },
  {
   "cell_type": "code",
   "execution_count": 164,
   "id": "e4c0e73d",
   "metadata": {},
   "outputs": [
    {
     "data": {
      "text/plain": [
       "(609748, 17)"
      ]
     },
     "execution_count": 164,
     "metadata": {},
     "output_type": "execute_result"
    }
   ],
   "source": [
    "goa.shape"
   ]
  },
  {
   "cell_type": "code",
   "execution_count": 149,
   "id": "a220a8e0",
   "metadata": {},
   "outputs": [
    {
     "data": {
      "text/plain": [
       "18527"
      ]
     },
     "execution_count": 149,
     "metadata": {},
     "output_type": "execute_result"
    }
   ],
   "source": [
    "goa[\"GO ID\"].unique().size"
   ]
  },
  {
   "cell_type": "code",
   "execution_count": 137,
   "id": "b0ac0027",
   "metadata": {},
   "outputs": [
    {
     "data": {
      "text/plain": [
       "array(['UniProtKB'], dtype=object)"
      ]
     },
     "execution_count": 137,
     "metadata": {},
     "output_type": "execute_result"
    }
   ],
   "source": [
    "goa[\"DB\"].unique()"
   ]
  },
  {
   "cell_type": "markdown",
   "id": "d3afb90e",
   "metadata": {},
   "source": [
    "The GOA human GAF file has 610K rows with protein IDs from UniProt."
   ]
  },
  {
   "cell_type": "code",
   "execution_count": 140,
   "id": "5b4c002d",
   "metadata": {},
   "outputs": [
    {
     "data": {
      "text/plain": [
       "array(['enables', 'located_in', 'involved_in', 'part_of', 'NOT|enables',\n",
       "       'NOT|involved_in', 'is_active_in', 'NOT|colocalizes_with',\n",
       "       'colocalizes_with', 'acts_upstream_of_or_within', 'contributes_to',\n",
       "       'NOT|located_in', 'NOT|part_of', 'NOT|acts_upstream_of_or_within',\n",
       "       'acts_upstream_of', 'acts_upstream_of_positive_effect',\n",
       "       'acts_upstream_of_or_within_positive_effect',\n",
       "       'acts_upstream_of_or_within_negative_effect', 'NOT|contributes_to',\n",
       "       'acts_upstream_of_negative_effect',\n",
       "       'NOT|acts_upstream_of_or_within_negative_effect',\n",
       "       'NOT|is_active_in'], dtype=object)"
      ]
     },
     "execution_count": 140,
     "metadata": {},
     "output_type": "execute_result"
    }
   ],
   "source": [
    "goa[\"Qualifier\"].unique()"
   ]
  },
  {
   "cell_type": "code",
   "execution_count": 184,
   "id": "be57b36e",
   "metadata": {},
   "outputs": [
    {
     "data": {
      "text/plain": [
       "19788"
      ]
     },
     "execution_count": 184,
     "metadata": {},
     "output_type": "execute_result"
    }
   ],
   "source": [
    "len(goa[\"DB Object ID\"].unique())"
   ]
  },
  {
   "cell_type": "code",
   "execution_count": 185,
   "id": "589ae897",
   "metadata": {},
   "outputs": [
    {
     "data": {
      "text/plain": [
       "19718"
      ]
     },
     "execution_count": 185,
     "metadata": {},
     "output_type": "execute_result"
    }
   ],
   "source": [
    "# DB Object Symbol\n",
    "len(goa[\"DB Object Symbol\"].unique())"
   ]
  },
  {
   "cell_type": "markdown",
   "id": "8e0bf892",
   "metadata": {},
   "source": [
    "There are about 20,000 unique proteins here. That's a great coverage. "
   ]
  },
  {
   "cell_type": "code",
   "execution_count": 139,
   "id": "f7f2d87b",
   "metadata": {},
   "outputs": [
    {
     "data": {
      "text/plain": [
       "18527"
      ]
     },
     "execution_count": 139,
     "metadata": {},
     "output_type": "execute_result"
    }
   ],
   "source": [
    "len(goa[\"GO ID\"].unique())"
   ]
  },
  {
   "cell_type": "code",
   "execution_count": 141,
   "id": "f7cde006",
   "metadata": {},
   "outputs": [
    {
     "data": {
      "text/plain": [
       "array(['IEA', 'IDA', 'TAS', 'IPI', 'IEP', 'ISS', 'NAS', 'IMP', 'ISA',\n",
       "       'HDA', 'EXP', 'ND', 'HEP', 'IC', 'RCA', 'HMP', 'IGI', 'IKR', 'IGC',\n",
       "       'ISO', 'ISM', 'IBA'], dtype=object)"
      ]
     },
     "execution_count": 141,
     "metadata": {},
     "output_type": "execute_result"
    }
   ],
   "source": [
    "goa[\"Evidence Code\"].unique()"
   ]
  },
  {
   "cell_type": "markdown",
   "id": "2d9a36e4",
   "metadata": {},
   "source": [
    "Taxonomy should be human. Some proteins may be found in multiple organisms other than human, but in the end, every data point in this dataset is in some way related to human."
   ]
  },
  {
   "cell_type": "code",
   "execution_count": 183,
   "id": "dc02f699",
   "metadata": {},
   "outputs": [
    {
     "data": {
      "text/plain": [
       "array(['taxon:9606', 'taxon:9606|taxon:1280', 'taxon:9606|taxon:33892',\n",
       "       'taxon:9606|taxon:11103', 'taxon:9606|taxon:11052',\n",
       "       'taxon:9606|taxon:562', 'taxon:9606|taxon:197911',\n",
       "       'taxon:9606|taxon:90370', 'taxon:9606|taxon:31649',\n",
       "       'taxon:9606|taxon:1313'], dtype=object)"
      ]
     },
     "execution_count": 183,
     "metadata": {},
     "output_type": "execute_result"
    }
   ],
   "source": [
    "goa[\"Taxon\"].unique()[0:10]"
   ]
  },
  {
   "cell_type": "code",
   "execution_count": 182,
   "id": "199ace28",
   "metadata": {},
   "outputs": [
    {
     "data": {
      "text/plain": [
       "[]"
      ]
     },
     "execution_count": 182,
     "metadata": {},
     "output_type": "execute_result"
    }
   ],
   "source": [
    "[taxon for taxon in goa[\"Taxon\"].unique() if '9606' not in taxon]"
   ]
  },
  {
   "cell_type": "markdown",
   "id": "8616f642",
   "metadata": {},
   "source": [
    "**QC** \n",
    "\n",
    "Can I find all GO in the human GOA dataset within GO BASIC?\n",
    "\n",
    "\n",
    "I downloaded the GO Term hierarchy. The file I downloaded is `go-basic.obo` from http://geneontology.org/docs/download-ontology/ \n",
    "\n",
    "Description of the dataset from the source:\n",
    "> This is the basic version of the GO, filtered such that the graph is guaranteed to be acyclic and annotations can be propagated up the graph. The relations included are is a, part of, regulates, negatively regulates and positively regulates. This version excludes relationships that cross the 3 GO hierarchies. This version should be used with most GO-based annotation tools.\n",
    "go.obo and go."
   ]
  },
  {
   "cell_type": "code",
   "execution_count": null,
   "id": "78d060b9",
   "metadata": {},
   "outputs": [],
   "source": [
    "import obonet\n",
    "import networkx as nx\n",
    "gobasic = obonet.read_obo(\"functional_sim/data/go-basic.obo\")"
   ]
  },
  {
   "cell_type": "code",
   "execution_count": 290,
   "id": "c0fd1b2a",
   "metadata": {},
   "outputs": [],
   "source": [
    "goa_goid_set = set(goa[\"GO ID\"])\n",
    "gobasic_set = set(gobasic.nodes)"
   ]
  },
  {
   "cell_type": "code",
   "execution_count": 291,
   "id": "95e15347",
   "metadata": {},
   "outputs": [
    {
     "data": {
      "text/plain": [
       "set()"
      ]
     },
     "execution_count": 291,
     "metadata": {},
     "output_type": "execute_result"
    }
   ],
   "source": [
    "goa_goid_set.difference(gobasic_set)"
   ]
  },
  {
   "cell_type": "markdown",
   "id": "5a246f74",
   "metadata": {},
   "source": [
    "GOA is a subset of gobasic, which is the full graph. "
   ]
  },
  {
   "cell_type": "code",
   "execution_count": 292,
   "id": "9127b5d4",
   "metadata": {},
   "outputs": [
    {
     "data": {
      "text/plain": [
       "25323"
      ]
     },
     "execution_count": 292,
     "metadata": {},
     "output_type": "execute_result"
    }
   ],
   "source": [
    "len(gobasic_set.difference(goa_goid_set))"
   ]
  },
  {
   "cell_type": "markdown",
   "id": "afc1f151",
   "metadata": {},
   "source": [
    "I want to work only with GOMF. "
   ]
  },
  {
   "cell_type": "code",
   "execution_count": null,
   "id": "4acac428",
   "metadata": {},
   "outputs": [],
   "source": [
    "r_gobasic = nx.reverse_view(gobasic_sub)\n",
    "\n",
    "# 'GO:0003674' - This is the code for molecular function, which is the topmost parent\n",
    "# I'm interested in all the nodes that are 1 distance away from the topmost parent. \n"
   ]
  },
  {
   "cell_type": "code",
   "execution_count": null,
   "id": "50d805e1",
   "metadata": {},
   "outputs": [],
   "source": [
    "# # Do not run again if already calculated. Import pickle file. \n",
    "# shortest_from_root = dict(nx.all_pairs_shortest_path_length(r_gobasic))\n",
    "# with open('functional_sim/intermediary_data/shortest_from_root.pkl', 'wb') as file:\n",
    "#     pickle.dump(shortest_from_root, file)\n",
    "\n",
    "with open('functional_sim/intermediary_data/shortest_from_root.pkl', 'rb') as file:\n",
    "    shortest_from_root = pickle.load(file)    \n",
    "    "
   ]
  },
  {
   "cell_type": "code",
   "execution_count": 293,
   "id": "0ebfbc23",
   "metadata": {},
   "outputs": [
    {
     "data": {
      "text/plain": [
       "43850"
      ]
     },
     "execution_count": 293,
     "metadata": {},
     "output_type": "execute_result"
    }
   ],
   "source": [
    "# How many GO's are in the shortest paths? \n",
    "len(shortest_from_root)"
   ]
  },
  {
   "cell_type": "code",
   "execution_count": 294,
   "id": "8fd7f838",
   "metadata": {},
   "outputs": [
    {
     "data": {
      "text/plain": [
       "11168"
      ]
     },
     "execution_count": 294,
     "metadata": {},
     "output_type": "execute_result"
    }
   ],
   "source": [
    "# Here are how many eventually connect to our root, molecular_function.\n",
    "len(shortest_from_root['GO:0003674'])"
   ]
  },
  {
   "cell_type": "markdown",
   "id": "b2275172",
   "metadata": {},
   "source": [
    "There's a total of 11,168 GOMF terms in the GO-basic graph. In the human GAF dataset, there are only about 4,000. In addition to the species filter, the GAF dataset was filtered further through its QC checks. See [Gene Ontology wiki](http://wiki.geneontology.org/index.php/Release_Pipeline#Annotation_QC_checks) for more info."
   ]
  },
  {
   "cell_type": "code",
   "execution_count": 295,
   "id": "c6001e5e",
   "metadata": {},
   "outputs": [
    {
     "data": {
      "text/plain": [
       "43850"
      ]
     },
     "execution_count": 295,
     "metadata": {},
     "output_type": "execute_result"
    }
   ],
   "source": [
    "# MF + BP + CC\n",
    "\n",
    "len(shortest_from_root['GO:0003674']\n",
    "   )+len(shortest_from_root['GO:0008150']\n",
    "        )+len(shortest_from_root['GO:0005575'])"
   ]
  },
  {
   "cell_type": "markdown",
   "id": "be6350d5",
   "metadata": {},
   "source": [
    "43850  total GOs covered. These three sub-ontologies cover all the gene ontologies! And these are mutually exclusive categories, since, for this dataset, the cross-sub-ontology relationships have been removed.\n"
   ]
  },
  {
   "cell_type": "code",
   "execution_count": 193,
   "id": "b14632e0",
   "metadata": {},
   "outputs": [
    {
     "data": {
      "text/plain": [
       "4431"
      ]
     },
     "execution_count": 193,
     "metadata": {},
     "output_type": "execute_result"
    }
   ],
   "source": [
    "# GOMF only \n",
    "\n",
    "goa_goid_mf = [goid for goid in set(goa[\"GO ID\"]) if goid in shortest_from_root['GO:0003674'] ]\n",
    "len(goa_goid_mf)"
   ]
  },
  {
   "cell_type": "code",
   "execution_count": 194,
   "id": "5b624b4c",
   "metadata": {},
   "outputs": [
    {
     "data": {
      "text/plain": [
       "['GO:0005412',\n",
       " 'GO:0035254',\n",
       " 'GO:0005035',\n",
       " 'GO:0031690',\n",
       " 'GO:0046980',\n",
       " 'GO:1990247',\n",
       " 'GO:0050567',\n",
       " 'GO:0052630',\n",
       " 'GO:0052814',\n",
       " 'GO:0003943']"
      ]
     },
     "execution_count": 194,
     "metadata": {},
     "output_type": "execute_result"
    }
   ],
   "source": [
    "goa_goid_mf[0:10]"
   ]
  },
  {
   "cell_type": "markdown",
   "id": "8e11ef4f",
   "metadata": {},
   "source": [
    "# Data: GO ID, Name, and Desc\n",
    "\n",
    "\n",
    "\n",
    "But I also want the go term names.\n",
    "\n",
    "From http://geneontology.org/docs/faq/\n",
    "\n",
    ">    How do I get the term names for my list of GO ids?\n",
    ">\n",
    ">    You can use the YeastMine Analyze tool available at SGD to retrieve the GO term names for each ID.\n",
    ">\n",
    ">    Go to the Analyze tool on YeastMine\n",
    ">    In the Select Type pull down, select GO Term\n",
    ">    Enter your GO ids or upload a list in the full format (GO:0016020, GO:0016301…)\n",
    ">    Click on Create List. The tool offers several options to download the list.\n",
    "\n"
   ]
  },
  {
   "cell_type": "code",
   "execution_count": null,
   "id": "10b46c79",
   "metadata": {},
   "outputs": [],
   "source": [
    "pd.DataFrame(goa_goid_mf).to_csv('functional_sim/goa_goid_mf.csv', index=False, header=False)"
   ]
  },
  {
   "cell_type": "markdown",
   "id": "20c74ddc",
   "metadata": {},
   "source": [
    "I uploaded `goa_goid_mf.csv` onto YeastMine and downloaded `yeastmine_results_goa_goid_mf.tsv`."
   ]
  },
  {
   "cell_type": "code",
   "execution_count": 13,
   "id": "d1d2e656",
   "metadata": {},
   "outputs": [
    {
     "data": {
      "text/plain": [
       "(4431, 4)"
      ]
     },
     "execution_count": 13,
     "metadata": {},
     "output_type": "execute_result"
    }
   ],
   "source": [
    "go_term_names = pd.read_csv('functional_sim/data/yeastmine_results_goa_goid_mf.tsv', sep='\\t')\n",
    "go_term_names.columns = [col[10:] for col in go_term_names.columns]\n",
    "go_term_names.shape"
   ]
  },
  {
   "cell_type": "code",
   "execution_count": 14,
   "id": "01d041b6",
   "metadata": {},
   "outputs": [
    {
     "data": {
      "text/html": [
       "<div>\n",
       "<style scoped>\n",
       "    .dataframe tbody tr th:only-of-type {\n",
       "        vertical-align: middle;\n",
       "    }\n",
       "\n",
       "    .dataframe tbody tr th {\n",
       "        vertical-align: top;\n",
       "    }\n",
       "\n",
       "    .dataframe thead th {\n",
       "        text-align: right;\n",
       "    }\n",
       "</style>\n",
       "<table border=\"1\" class=\"dataframe\">\n",
       "  <thead>\n",
       "    <tr style=\"text-align: right;\">\n",
       "      <th></th>\n",
       "      <th>Identifier</th>\n",
       "      <th>Name</th>\n",
       "      <th>Namespace</th>\n",
       "      <th>Description</th>\n",
       "    </tr>\n",
       "  </thead>\n",
       "  <tbody>\n",
       "    <tr>\n",
       "      <th>0</th>\n",
       "      <td>GO:0000009</td>\n",
       "      <td>alpha-1,6-mannosyltransferase activity</td>\n",
       "      <td>molecular_function</td>\n",
       "      <td>Catalysis of the transfer of a mannose residue...</td>\n",
       "    </tr>\n",
       "    <tr>\n",
       "      <th>1</th>\n",
       "      <td>GO:0000010</td>\n",
       "      <td>trans-hexaprenyltranstransferase activity</td>\n",
       "      <td>molecular_function</td>\n",
       "      <td>Catalysis of the reaction: all-trans-hexapreny...</td>\n",
       "    </tr>\n",
       "    <tr>\n",
       "      <th>2</th>\n",
       "      <td>GO:0000014</td>\n",
       "      <td>single-stranded DNA endodeoxyribonuclease acti...</td>\n",
       "      <td>molecular_function</td>\n",
       "      <td>Catalysis of the hydrolysis of ester linkages ...</td>\n",
       "    </tr>\n",
       "    <tr>\n",
       "      <th>3</th>\n",
       "      <td>GO:0000016</td>\n",
       "      <td>lactase activity</td>\n",
       "      <td>molecular_function</td>\n",
       "      <td>Catalysis of the reaction: lactose + H2O = D-g...</td>\n",
       "    </tr>\n",
       "    <tr>\n",
       "      <th>4</th>\n",
       "      <td>GO:0000026</td>\n",
       "      <td>alpha-1,2-mannosyltransferase activity</td>\n",
       "      <td>molecular_function</td>\n",
       "      <td>Catalysis of the transfer of a mannose residue...</td>\n",
       "    </tr>\n",
       "  </tbody>\n",
       "</table>\n",
       "</div>"
      ],
      "text/plain": [
       "   Identifier                                               Name  \\\n",
       "0  GO:0000009             alpha-1,6-mannosyltransferase activity   \n",
       "1  GO:0000010          trans-hexaprenyltranstransferase activity   \n",
       "2  GO:0000014  single-stranded DNA endodeoxyribonuclease acti...   \n",
       "3  GO:0000016                                   lactase activity   \n",
       "4  GO:0000026             alpha-1,2-mannosyltransferase activity   \n",
       "\n",
       "            Namespace                                        Description  \n",
       "0  molecular_function  Catalysis of the transfer of a mannose residue...  \n",
       "1  molecular_function  Catalysis of the reaction: all-trans-hexapreny...  \n",
       "2  molecular_function  Catalysis of the hydrolysis of ester linkages ...  \n",
       "3  molecular_function  Catalysis of the reaction: lactose + H2O = D-g...  \n",
       "4  molecular_function  Catalysis of the transfer of a mannose residue...  "
      ]
     },
     "execution_count": 14,
     "metadata": {},
     "output_type": "execute_result"
    }
   ],
   "source": [
    "go_term_names.head()"
   ]
  },
  {
   "cell_type": "code",
   "execution_count": null,
   "id": "560ea1a2",
   "metadata": {},
   "outputs": [],
   "source": []
  }
 ],
 "metadata": {
  "kernelspec": {
   "display_name": "Python 3 (ipykernel)",
   "language": "python",
   "name": "python3"
  },
  "language_info": {
   "codemirror_mode": {
    "name": "ipython",
    "version": 3
   },
   "file_extension": ".py",
   "mimetype": "text/x-python",
   "name": "python",
   "nbconvert_exporter": "python",
   "pygments_lexer": "ipython3",
   "version": "3.9.7"
  }
 },
 "nbformat": 4,
 "nbformat_minor": 5
}
