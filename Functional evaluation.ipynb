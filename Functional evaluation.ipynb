{
 "cells": [
  {
   "cell_type": "markdown",
   "id": "b2997827",
   "metadata": {},
   "source": [
    "# Functional Evaluations\n",
    "Haerang Lee\n",
    "\n",
    "Find out a way to look into functional agreements."
   ]
  },
  {
   "cell_type": "code",
   "execution_count": 1,
   "id": "31305d27",
   "metadata": {},
   "outputs": [],
   "source": [
    "from google.cloud import storage\n",
    "import argparse\n",
    "import gzip\n",
    "import os\n",
    "import sys\n",
    "import time\n",
    "from multiprocessing import Pool\n",
    "\n",
    "import numpy as np\n",
    "import pandas as pd\n",
    "from tqdm.auto import tqdm\n",
    "\n",
    "from utils import gcs_utils as gcs\n",
    "from utils import model_and_evaluate_cluster as ev\n",
    "import urllib.parse\n",
    "import urllib.request\n",
    "\n",
    "import io \n",
    "\n",
    "import importlib\n",
    "import hdbscan\n",
    "import networkx as nx "
   ]
  },
  {
   "cell_type": "code",
   "execution_count": 305,
   "id": "f81994d9",
   "metadata": {},
   "outputs": [
    {
     "data": {
      "text/plain": [
       "<module 'utils.model_and_evaluate_cluster' from '/Users/haeranglee/Documents/pss/utils/model_and_evaluate_cluster.py'>"
      ]
     },
     "execution_count": 305,
     "metadata": {},
     "output_type": "execute_result"
    }
   ],
   "source": [
    "importlib.reload(ev)"
   ]
  },
  {
   "cell_type": "markdown",
   "id": "32a4bf3d",
   "metadata": {},
   "source": [
    "# Background\n",
    "\n",
    "## Gene Ontology\n",
    "\n",
    "More info on Gene Ontology: http://geneontology.org/docs/ontology-documentation/\n",
    "1. **Molecular function**: describe activities that occur at the molecular level, such as “catalysis” or “transport”. GO molecular function terms represent activities rather than the entities (molecules or complexes) that perform the actions\n",
    "1. **Cellular component**: locations relative to cellular structures in which a gene product performs a function, either cellular compartments (e.g., mitochondrion), or stable macromolecular complexes of which they are parts (e.g., the ribosome)\n",
    "1. **Biological process**: The larger processes, or ‘biological programs’ accomplished by multiple molecular activities. Examples of broad biological process terms are DNA repair or signal transduction."
   ]
  },
  {
   "cell_type": "markdown",
   "id": "b1d6e46c",
   "metadata": {},
   "source": [
    "## Functional Similarity Formula\n",
    "\n",
    "\n",
    "Funcsim methodology from https://www.nature.com/articles/s41598-018-30455-0\n",
    "> Functional similarity of a gene pair or a set is determined by the semantic similarities of the GO terms annotating the gene pair or set. Semantic similarity defines a distance between terms in the semantic space of GO and is quantified by the information contents (IC) of the terms. The information content (IC) of a GO term t is defined by negative log-likelihood:\n",
    "$$IC(t)=-log(p(t))$$\n",
    "> where term probability P(t) of term t is determined from the annotations of the corpus (corpus-based) or from the structure of the DAG (structure-based). The intuition is that terms in lower levels of DAG, that is, the terms with lower probability carry more specific information than the terms at higher levels in the hierarchy. Corpus-based methods evaluate the term probability as\n",
    "$$p(t)= \\frac{M}{N}$$\n",
    "where M is the number of genes annotated by term t and N is the total number of genes in the annotating corpus.\n"
   ]
  },
  {
   "cell_type": "markdown",
   "id": "5060e1f6",
   "metadata": {},
   "source": [
    "## Data: Human Protein to GO Mapping\n",
    "\n",
    "GAF: GO annotation files. \n",
    "\n",
    "Dataset `goa_human.gaf` downloaded from http://current.geneontology.org/products/pages/downloads.html\n",
    "> **Filtered Files**\n",
    ">\n",
    "> These files are taxon-specific and reflect the work of specific projects, primarily the model organisms database groups, to provide comprehensive, non-redundant annotation files for their organism. All the files in this table have been filtered using the annotation file QC pipeline. A major component to the filtering is the requirement that particular taxon IDs can only be included within the association files provided by specific projects; the current list of authoritative groups and major model organisms can be found below. \n",
    "\n",
    "```\n",
    "Homo sapiens\n",
    "EBI Gene Ontology Annotation Database (goa) \tprotein \t543477 \tgoa_human.gaf (gzip)\n",
    "```\n",
    "Data dictionary: http://geneontology.org/docs/go-annotation-file-gaf-format-2.1/\n",
    "\n",
    "\n"
   ]
  },
  {
   "cell_type": "code",
   "execution_count": 99,
   "id": "12201abb",
   "metadata": {},
   "outputs": [],
   "source": [
    "a_file = gzip. open(\"functional_sim/data/goa_human.gaf.gz\", \"rb\")\n",
    "contents = a_file. read()"
   ]
  },
  {
   "cell_type": "code",
   "execution_count": 178,
   "id": "e5cec227",
   "metadata": {},
   "outputs": [
    {
     "name": "stdout",
     "output_type": "stream",
     "text": [
      "!gaf-version: 2.2\n",
      "!\n",
      "!generated-by: GOC\n",
      "!\n",
      "!date-generated: 2021-10-27T15:09\n",
      "!\n",
      "!Header from source association file:\n",
      "!=================================\n",
      "!\n",
      "!generated-by: GOC\n",
      "!\n",
      "!date-generated: 2021-10-27T04:08\n",
      "!\n",
      "!Header from goa_human source association file:\n",
      "!=================================\n",
      "!\n",
      "!The set of protein accessions included in this file is based on UniProt reference proteomes, which provide one protein per gene.\n",
      "!They include the protein sequences annotated in Swiss-Prot or the longest TrEMBL transcript if there is no Swiss-Prot record.\n",
      "!If a particular protein accession is not annotated with GO, then it will not appear in this file.\n",
      "!\n",
      "!Note that the annotation set in this file is filtered in order to reduce redundancy; the full, unfiltered set can be found in\n",
      "!ftp://ftp.ebi.ac.uk/pub/databases/GO/goa/UNIPROT/goa_uniprot_all.gz\n",
      "!\n",
      "!date-generated: 2021-06-16 11:28\n",
      "!generated-by: UniProt\n",
      "!go-version: http://purl.obolibrary.org/obo/go/releases/2021-06-06/extensions/go-plus.owl\n",
      "!\n",
      "!=================================\n",
      "!\n",
      "!Header copied from paint_goa_human_valid.gaf\n",
      "!=================================\n",
      "!Created on Wed Sep  8 16:26:55 2021.\n",
      "!generated-by: PANTHER\n",
      "!date-generated: 2021-09-08\n",
      "!PANTHER version: v.15.0.\n",
      "!GO version: 2021-08-18.\n",
      "!\n",
      "!=================================\n",
      "!\n",
      "!Documentation about this header can be found here: https://github.com/geneontology/go-site/blob/master/docs/gaf_validation.md\n",
      "\n"
     ]
    }
   ],
   "source": [
    "print(contents.decode('utf-8')[0:1423])"
   ]
  },
  {
   "cell_type": "code",
   "execution_count": 135,
   "id": "e3608422",
   "metadata": {},
   "outputs": [
    {
     "name": "stderr",
     "output_type": "stream",
     "text": [
      "/Users/haeranglee/opt/anaconda3/envs/pss/lib/python3.9/site-packages/IPython/core/interactiveshell.py:3441: DtypeWarning: Columns (15) have mixed types.Specify dtype option on import or set low_memory=False.\n",
      "  exec(code_obj, self.user_global_ns, self.user_ns)\n"
     ]
    },
    {
     "data": {
      "text/html": [
       "<div>\n",
       "<style scoped>\n",
       "    .dataframe tbody tr th:only-of-type {\n",
       "        vertical-align: middle;\n",
       "    }\n",
       "\n",
       "    .dataframe tbody tr th {\n",
       "        vertical-align: top;\n",
       "    }\n",
       "\n",
       "    .dataframe thead th {\n",
       "        text-align: right;\n",
       "    }\n",
       "</style>\n",
       "<table border=\"1\" class=\"dataframe\">\n",
       "  <thead>\n",
       "    <tr style=\"text-align: right;\">\n",
       "      <th></th>\n",
       "      <th>DB</th>\n",
       "      <th>DB Object ID</th>\n",
       "      <th>DB Object Symbol</th>\n",
       "      <th>Qualifier</th>\n",
       "      <th>GO ID</th>\n",
       "      <th>Reference</th>\n",
       "      <th>Evidence Code</th>\n",
       "      <th>With or From</th>\n",
       "      <th>Aspect</th>\n",
       "      <th>Name</th>\n",
       "      <th>Synonym</th>\n",
       "      <th>Type</th>\n",
       "      <th>Taxon</th>\n",
       "      <th>Date</th>\n",
       "      <th>Assigned By</th>\n",
       "      <th>Annotation Extension</th>\n",
       "      <th>Gene Product Form ID</th>\n",
       "    </tr>\n",
       "  </thead>\n",
       "  <tbody>\n",
       "    <tr>\n",
       "      <th>0</th>\n",
       "      <td>UniProtKB</td>\n",
       "      <td>A0A024RBG1</td>\n",
       "      <td>NUDT4B</td>\n",
       "      <td>enables</td>\n",
       "      <td>GO:0003723</td>\n",
       "      <td>GO_REF:0000043</td>\n",
       "      <td>IEA</td>\n",
       "      <td>UniProtKB-KW:KW-0694</td>\n",
       "      <td>F</td>\n",
       "      <td>Diphosphoinositol polyphosphate phosphohydrola...</td>\n",
       "      <td>NUDT4B</td>\n",
       "      <td>protein</td>\n",
       "      <td>taxon:9606</td>\n",
       "      <td>20210612</td>\n",
       "      <td>UniProt</td>\n",
       "      <td>NaN</td>\n",
       "      <td>NaN</td>\n",
       "    </tr>\n",
       "    <tr>\n",
       "      <th>1</th>\n",
       "      <td>UniProtKB</td>\n",
       "      <td>A0A024RBG1</td>\n",
       "      <td>NUDT4B</td>\n",
       "      <td>enables</td>\n",
       "      <td>GO:0046872</td>\n",
       "      <td>GO_REF:0000043</td>\n",
       "      <td>IEA</td>\n",
       "      <td>UniProtKB-KW:KW-0479</td>\n",
       "      <td>F</td>\n",
       "      <td>Diphosphoinositol polyphosphate phosphohydrola...</td>\n",
       "      <td>NUDT4B</td>\n",
       "      <td>protein</td>\n",
       "      <td>taxon:9606</td>\n",
       "      <td>20210612</td>\n",
       "      <td>UniProt</td>\n",
       "      <td>NaN</td>\n",
       "      <td>NaN</td>\n",
       "    </tr>\n",
       "    <tr>\n",
       "      <th>2</th>\n",
       "      <td>UniProtKB</td>\n",
       "      <td>A0A024RBG1</td>\n",
       "      <td>NUDT4B</td>\n",
       "      <td>enables</td>\n",
       "      <td>GO:0052840</td>\n",
       "      <td>GO_REF:0000003</td>\n",
       "      <td>IEA</td>\n",
       "      <td>EC:3.6.1.52</td>\n",
       "      <td>F</td>\n",
       "      <td>Diphosphoinositol polyphosphate phosphohydrola...</td>\n",
       "      <td>NUDT4B</td>\n",
       "      <td>protein</td>\n",
       "      <td>taxon:9606</td>\n",
       "      <td>20210612</td>\n",
       "      <td>UniProt</td>\n",
       "      <td>NaN</td>\n",
       "      <td>NaN</td>\n",
       "    </tr>\n",
       "    <tr>\n",
       "      <th>3</th>\n",
       "      <td>UniProtKB</td>\n",
       "      <td>A0A024RBG1</td>\n",
       "      <td>NUDT4B</td>\n",
       "      <td>enables</td>\n",
       "      <td>GO:0052842</td>\n",
       "      <td>GO_REF:0000003</td>\n",
       "      <td>IEA</td>\n",
       "      <td>EC:3.6.1.52</td>\n",
       "      <td>F</td>\n",
       "      <td>Diphosphoinositol polyphosphate phosphohydrola...</td>\n",
       "      <td>NUDT4B</td>\n",
       "      <td>protein</td>\n",
       "      <td>taxon:9606</td>\n",
       "      <td>20210612</td>\n",
       "      <td>UniProt</td>\n",
       "      <td>NaN</td>\n",
       "      <td>NaN</td>\n",
       "    </tr>\n",
       "    <tr>\n",
       "      <th>4</th>\n",
       "      <td>UniProtKB</td>\n",
       "      <td>A0A024RBG1</td>\n",
       "      <td>NUDT4B</td>\n",
       "      <td>located_in</td>\n",
       "      <td>GO:0005829</td>\n",
       "      <td>GO_REF:0000052</td>\n",
       "      <td>IDA</td>\n",
       "      <td>NaN</td>\n",
       "      <td>C</td>\n",
       "      <td>Diphosphoinositol polyphosphate phosphohydrola...</td>\n",
       "      <td>NUDT4B</td>\n",
       "      <td>protein</td>\n",
       "      <td>taxon:9606</td>\n",
       "      <td>20161204</td>\n",
       "      <td>HPA</td>\n",
       "      <td>NaN</td>\n",
       "      <td>NaN</td>\n",
       "    </tr>\n",
       "  </tbody>\n",
       "</table>\n",
       "</div>"
      ],
      "text/plain": [
       "          DB DB Object ID DB Object Symbol   Qualifier       GO ID  \\\n",
       "0  UniProtKB   A0A024RBG1           NUDT4B     enables  GO:0003723   \n",
       "1  UniProtKB   A0A024RBG1           NUDT4B     enables  GO:0046872   \n",
       "2  UniProtKB   A0A024RBG1           NUDT4B     enables  GO:0052840   \n",
       "3  UniProtKB   A0A024RBG1           NUDT4B     enables  GO:0052842   \n",
       "4  UniProtKB   A0A024RBG1           NUDT4B  located_in  GO:0005829   \n",
       "\n",
       "        Reference Evidence Code          With or From Aspect  \\\n",
       "0  GO_REF:0000043           IEA  UniProtKB-KW:KW-0694      F   \n",
       "1  GO_REF:0000043           IEA  UniProtKB-KW:KW-0479      F   \n",
       "2  GO_REF:0000003           IEA           EC:3.6.1.52      F   \n",
       "3  GO_REF:0000003           IEA           EC:3.6.1.52      F   \n",
       "4  GO_REF:0000052           IDA                   NaN      C   \n",
       "\n",
       "                                                Name Synonym     Type  \\\n",
       "0  Diphosphoinositol polyphosphate phosphohydrola...  NUDT4B  protein   \n",
       "1  Diphosphoinositol polyphosphate phosphohydrola...  NUDT4B  protein   \n",
       "2  Diphosphoinositol polyphosphate phosphohydrola...  NUDT4B  protein   \n",
       "3  Diphosphoinositol polyphosphate phosphohydrola...  NUDT4B  protein   \n",
       "4  Diphosphoinositol polyphosphate phosphohydrola...  NUDT4B  protein   \n",
       "\n",
       "        Taxon      Date Assigned By Annotation Extension  Gene Product Form ID  \n",
       "0  taxon:9606  20210612     UniProt                  NaN                   NaN  \n",
       "1  taxon:9606  20210612     UniProt                  NaN                   NaN  \n",
       "2  taxon:9606  20210612     UniProt                  NaN                   NaN  \n",
       "3  taxon:9606  20210612     UniProt                  NaN                   NaN  \n",
       "4  taxon:9606  20161204         HPA                  NaN                   NaN  "
      ]
     },
     "execution_count": 135,
     "metadata": {},
     "output_type": "execute_result"
    }
   ],
   "source": [
    "goa = pd.read_csv(\"functional_sim/data/goa_human.gaf.gz\", \n",
    "            compression='gzip', \n",
    "            header=None,\n",
    "            skiprows=41, \n",
    "            sep='\\t')\n",
    "goa.columns=[\"DB\",\n",
    "                    \"DB Object ID\",\n",
    "                    \"DB Object Symbol\",\n",
    "                    \"Qualifier\",\n",
    "                    \"GO ID\",\n",
    "                    \"Reference\",\n",
    "                    \"Evidence Code\",\n",
    "                    \"With or From\",\n",
    "                    \"Aspect\",\n",
    "                    \"Name\",\n",
    "                    \"Synonym\",\n",
    "                    \"Type\",\n",
    "                    \"Taxon\",\n",
    "                    \"Date\",\n",
    "                    \"Assigned By\",\n",
    "                    \"Annotation Extension\",\n",
    "                    \"Gene Product Form ID\"]\n",
    "goa.head()"
   ]
  },
  {
   "cell_type": "code",
   "execution_count": 164,
   "id": "1399b4b1",
   "metadata": {},
   "outputs": [
    {
     "data": {
      "text/plain": [
       "(609748, 17)"
      ]
     },
     "execution_count": 164,
     "metadata": {},
     "output_type": "execute_result"
    }
   ],
   "source": [
    "goa.shape"
   ]
  },
  {
   "cell_type": "code",
   "execution_count": 137,
   "id": "683bcaa6",
   "metadata": {},
   "outputs": [
    {
     "data": {
      "text/plain": [
       "array(['UniProtKB'], dtype=object)"
      ]
     },
     "execution_count": 137,
     "metadata": {},
     "output_type": "execute_result"
    }
   ],
   "source": [
    "goa[\"DB\"].unique()"
   ]
  },
  {
   "cell_type": "markdown",
   "id": "40373bc8",
   "metadata": {},
   "source": [
    "The GOA human GAF file has 610K rows with protein IDs from UniProt."
   ]
  },
  {
   "cell_type": "code",
   "execution_count": 140,
   "id": "a8229fa1",
   "metadata": {},
   "outputs": [
    {
     "data": {
      "text/plain": [
       "array(['enables', 'located_in', 'involved_in', 'part_of', 'NOT|enables',\n",
       "       'NOT|involved_in', 'is_active_in', 'NOT|colocalizes_with',\n",
       "       'colocalizes_with', 'acts_upstream_of_or_within', 'contributes_to',\n",
       "       'NOT|located_in', 'NOT|part_of', 'NOT|acts_upstream_of_or_within',\n",
       "       'acts_upstream_of', 'acts_upstream_of_positive_effect',\n",
       "       'acts_upstream_of_or_within_positive_effect',\n",
       "       'acts_upstream_of_or_within_negative_effect', 'NOT|contributes_to',\n",
       "       'acts_upstream_of_negative_effect',\n",
       "       'NOT|acts_upstream_of_or_within_negative_effect',\n",
       "       'NOT|is_active_in'], dtype=object)"
      ]
     },
     "execution_count": 140,
     "metadata": {},
     "output_type": "execute_result"
    }
   ],
   "source": [
    "goa[\"Qualifier\"].unique()"
   ]
  },
  {
   "cell_type": "code",
   "execution_count": 184,
   "id": "a9944f82",
   "metadata": {},
   "outputs": [
    {
     "data": {
      "text/plain": [
       "19788"
      ]
     },
     "execution_count": 184,
     "metadata": {},
     "output_type": "execute_result"
    }
   ],
   "source": [
    "len(goa[\"DB Object ID\"].unique())"
   ]
  },
  {
   "cell_type": "code",
   "execution_count": 185,
   "id": "a765819a",
   "metadata": {},
   "outputs": [
    {
     "data": {
      "text/plain": [
       "19718"
      ]
     },
     "execution_count": 185,
     "metadata": {},
     "output_type": "execute_result"
    }
   ],
   "source": [
    "# DB Object Symbol\n",
    "len(goa[\"DB Object Symbol\"].unique())"
   ]
  },
  {
   "cell_type": "markdown",
   "id": "766d6901",
   "metadata": {},
   "source": [
    "There are about 20,000 unique proteins here. That's a great coverage. "
   ]
  },
  {
   "cell_type": "code",
   "execution_count": 139,
   "id": "65334572",
   "metadata": {},
   "outputs": [
    {
     "data": {
      "text/plain": [
       "18527"
      ]
     },
     "execution_count": 139,
     "metadata": {},
     "output_type": "execute_result"
    }
   ],
   "source": [
    "len(goa[\"GO ID\"].unique())"
   ]
  },
  {
   "cell_type": "code",
   "execution_count": 141,
   "id": "428fc21f",
   "metadata": {},
   "outputs": [
    {
     "data": {
      "text/plain": [
       "array(['IEA', 'IDA', 'TAS', 'IPI', 'IEP', 'ISS', 'NAS', 'IMP', 'ISA',\n",
       "       'HDA', 'EXP', 'ND', 'HEP', 'IC', 'RCA', 'HMP', 'IGI', 'IKR', 'IGC',\n",
       "       'ISO', 'ISM', 'IBA'], dtype=object)"
      ]
     },
     "execution_count": 141,
     "metadata": {},
     "output_type": "execute_result"
    }
   ],
   "source": [
    "goa[\"Evidence Code\"].unique()"
   ]
  },
  {
   "cell_type": "markdown",
   "id": "b3850488",
   "metadata": {},
   "source": [
    "Taxonomy should be human. Some proteins may be found in multiple organisms other than human, but in the end, every data point in this dataset is in some way related to human."
   ]
  },
  {
   "cell_type": "code",
   "execution_count": 183,
   "id": "46191cd9",
   "metadata": {},
   "outputs": [
    {
     "data": {
      "text/plain": [
       "array(['taxon:9606', 'taxon:9606|taxon:1280', 'taxon:9606|taxon:33892',\n",
       "       'taxon:9606|taxon:11103', 'taxon:9606|taxon:11052',\n",
       "       'taxon:9606|taxon:562', 'taxon:9606|taxon:197911',\n",
       "       'taxon:9606|taxon:90370', 'taxon:9606|taxon:31649',\n",
       "       'taxon:9606|taxon:1313'], dtype=object)"
      ]
     },
     "execution_count": 183,
     "metadata": {},
     "output_type": "execute_result"
    }
   ],
   "source": [
    "goa[\"Taxon\"].unique()[0:10]"
   ]
  },
  {
   "cell_type": "code",
   "execution_count": 182,
   "id": "dae3eaef",
   "metadata": {},
   "outputs": [
    {
     "data": {
      "text/plain": [
       "[]"
      ]
     },
     "execution_count": 182,
     "metadata": {},
     "output_type": "execute_result"
    }
   ],
   "source": [
    "[taxon for taxon in goa[\"Taxon\"].unique() if '9606' not in taxon]"
   ]
  },
  {
   "cell_type": "markdown",
   "id": "d2a29853",
   "metadata": {},
   "source": [
    "**QC** \n",
    "\n",
    "Can I find all GO in the human GOA dataset within GO BASIC?\n",
    "\n",
    "\n",
    "I downloaded the GO Term hierarchy. The file I downloaded is `go-basic.obo` from http://geneontology.org/docs/download-ontology/ \n",
    "\n",
    "Description of the dataset from the source:\n",
    "> This is the basic version of the GO, filtered such that the graph is guaranteed to be acyclic and annotations can be propagated up the graph. The relations included are is a, part of, regulates, negatively regulates and positively regulates. This version excludes relationships that cross the 3 GO hierarchies. This version should be used with most GO-based annotation tools.\n",
    "go.obo and go."
   ]
  },
  {
   "cell_type": "code",
   "execution_count": null,
   "id": "6e184912",
   "metadata": {},
   "outputs": [],
   "source": [
    "import obonet\n",
    "import networkx as nx\n",
    "gobasic = obonet.read_obo(\"functional_sim/data/go-basic.obo\")"
   ]
  },
  {
   "cell_type": "code",
   "execution_count": 290,
   "id": "d74bae25",
   "metadata": {},
   "outputs": [],
   "source": [
    "goa_goid_set = set(goa[\"GO ID\"])\n",
    "gobasic_set = set(gobasic.nodes)"
   ]
  },
  {
   "cell_type": "code",
   "execution_count": 291,
   "id": "7fa7ca5a",
   "metadata": {},
   "outputs": [
    {
     "data": {
      "text/plain": [
       "set()"
      ]
     },
     "execution_count": 291,
     "metadata": {},
     "output_type": "execute_result"
    }
   ],
   "source": [
    "goa_goid_set.difference(gobasic_set)"
   ]
  },
  {
   "cell_type": "markdown",
   "id": "d14d5661",
   "metadata": {},
   "source": [
    "GOA is a subset of gobasic, which is the full graph. "
   ]
  },
  {
   "cell_type": "code",
   "execution_count": 292,
   "id": "eb1457be",
   "metadata": {},
   "outputs": [
    {
     "data": {
      "text/plain": [
       "25323"
      ]
     },
     "execution_count": 292,
     "metadata": {},
     "output_type": "execute_result"
    }
   ],
   "source": [
    "len(gobasic_set.difference(goa_goid_set))"
   ]
  },
  {
   "cell_type": "markdown",
   "id": "5d557e53",
   "metadata": {},
   "source": [
    "I want to work only with GOMF. "
   ]
  },
  {
   "cell_type": "code",
   "execution_count": null,
   "id": "643c9adb",
   "metadata": {},
   "outputs": [],
   "source": [
    "r_gobasic = nx.reverse_view(gobasic_sub)\n",
    "\n",
    "# 'GO:0003674' - This is the code for molecular function, which is the topmost parent\n",
    "# I'm interested in all the nodes that are 1 distance away from the topmost parent. \n"
   ]
  },
  {
   "cell_type": "code",
   "execution_count": null,
   "id": "3c8a3621",
   "metadata": {},
   "outputs": [],
   "source": [
    "# # Do not run again if already calculated. Import pickle file. \n",
    "# shortest_from_root = dict(nx.all_pairs_shortest_path_length(r_gobasic))\n",
    "# with open('functional_sim/intermediary_data/shortest_from_root.pkl', 'wb') as file:\n",
    "#     pickle.dump(shortest_from_root, file)\n",
    "\n",
    "with open('functional_sim/intermediary_data/shortest_from_root.pkl', 'rb') as file:\n",
    "    shortest_from_root = pickle.load(file)    \n",
    "    "
   ]
  },
  {
   "cell_type": "code",
   "execution_count": 293,
   "id": "7491831c",
   "metadata": {},
   "outputs": [
    {
     "data": {
      "text/plain": [
       "43850"
      ]
     },
     "execution_count": 293,
     "metadata": {},
     "output_type": "execute_result"
    }
   ],
   "source": [
    "# How many GO's are in the shortest paths? \n",
    "len(shortest_from_root)"
   ]
  },
  {
   "cell_type": "code",
   "execution_count": 294,
   "id": "f1c8ec8d",
   "metadata": {},
   "outputs": [
    {
     "data": {
      "text/plain": [
       "11168"
      ]
     },
     "execution_count": 294,
     "metadata": {},
     "output_type": "execute_result"
    }
   ],
   "source": [
    "# Here are how many eventually connect to our root, molecular_function.\n",
    "len(shortest_from_root['GO:0003674'])"
   ]
  },
  {
   "cell_type": "markdown",
   "id": "265dedf3",
   "metadata": {},
   "source": [
    "There's a total of 11,168 GOMF terms in the GO-basic graph. In the human GAF dataset, there are only about 4,000. In addition to the species filter, the GAF dataset was filtered further through its QC checks. See [Gene Ontology wiki](http://wiki.geneontology.org/index.php/Release_Pipeline#Annotation_QC_checks) for more info."
   ]
  },
  {
   "cell_type": "code",
   "execution_count": 295,
   "id": "95709744",
   "metadata": {},
   "outputs": [
    {
     "data": {
      "text/plain": [
       "43850"
      ]
     },
     "execution_count": 295,
     "metadata": {},
     "output_type": "execute_result"
    }
   ],
   "source": [
    "# MF + BP + CC\n",
    "\n",
    "len(shortest_from_root['GO:0003674']\n",
    "   )+len(shortest_from_root['GO:0008150']\n",
    "        )+len(shortest_from_root['GO:0005575'])"
   ]
  },
  {
   "cell_type": "markdown",
   "id": "15ffd1a2",
   "metadata": {},
   "source": [
    "43850  total GOs covered. These three sub-ontologies cover all the gene ontologies! And these are mutually exclusive categories, since, for this dataset, the cross-sub-ontology relationships have been removed.\n"
   ]
  },
  {
   "cell_type": "code",
   "execution_count": 193,
   "id": "0c8e8e35",
   "metadata": {},
   "outputs": [
    {
     "data": {
      "text/plain": [
       "4431"
      ]
     },
     "execution_count": 193,
     "metadata": {},
     "output_type": "execute_result"
    }
   ],
   "source": [
    "# GOMF only \n",
    "\n",
    "goa_goid_mf = [goid for goid in set(goa[\"GO ID\"]) if goid in shortest_from_root['GO:0003674'] ]\n",
    "len(goa_goid_mf)"
   ]
  },
  {
   "cell_type": "code",
   "execution_count": 194,
   "id": "49e86b3f",
   "metadata": {},
   "outputs": [
    {
     "data": {
      "text/plain": [
       "['GO:0005412',\n",
       " 'GO:0035254',\n",
       " 'GO:0005035',\n",
       " 'GO:0031690',\n",
       " 'GO:0046980',\n",
       " 'GO:1990247',\n",
       " 'GO:0050567',\n",
       " 'GO:0052630',\n",
       " 'GO:0052814',\n",
       " 'GO:0003943']"
      ]
     },
     "execution_count": 194,
     "metadata": {},
     "output_type": "execute_result"
    }
   ],
   "source": [
    "goa_goid_mf[0:10]"
   ]
  },
  {
   "cell_type": "markdown",
   "id": "d1bfa302",
   "metadata": {},
   "source": [
    "# Implement Functional Similarity Formula"
   ]
  },
  {
   "cell_type": "markdown",
   "id": "6c5b9b8c",
   "metadata": {},
   "source": [
    "> M is the number of genes annotated by term t"
   ]
  },
  {
   "cell_type": "code",
   "execution_count": 356,
   "id": "4ecf9da3",
   "metadata": {},
   "outputs": [],
   "source": [
    "M = goa[goa['GO ID'].isin(goa_goid_mf)].pivot_table(index='GO ID',\n",
    "                values='DB Object ID',\n",
    "                aggfunc=pd.Series.nunique\n",
    "               ).to_dict()['DB Object ID']"
   ]
  },
  {
   "cell_type": "code",
   "execution_count": 357,
   "id": "5414eb63",
   "metadata": {},
   "outputs": [
    {
     "data": {
      "text/plain": [
       "2"
      ]
     },
     "execution_count": 357,
     "metadata": {},
     "output_type": "execute_result"
    }
   ],
   "source": [
    "M['GO:0000009']"
   ]
  },
  {
   "cell_type": "code",
   "execution_count": 213,
   "id": "47ffd120",
   "metadata": {},
   "outputs": [
    {
     "data": {
      "text/plain": [
       "4431"
      ]
     },
     "execution_count": 213,
     "metadata": {},
     "output_type": "execute_result"
    }
   ],
   "source": [
    "len(M)"
   ]
  },
  {
   "cell_type": "markdown",
   "id": "f4e1cd56",
   "metadata": {},
   "source": [
    "> N is the total number of genes in the annotating corpus."
   ]
  },
  {
   "cell_type": "code",
   "execution_count": 358,
   "id": "e4494220",
   "metadata": {},
   "outputs": [
    {
     "data": {
      "text/plain": [
       "18240"
      ]
     },
     "execution_count": 358,
     "metadata": {},
     "output_type": "execute_result"
    }
   ],
   "source": [
    "N = len(goa[goa['GO ID'].isin(goa_goid_mf)]['DB Object ID'].unique())\n",
    "N"
   ]
  },
  {
   "cell_type": "markdown",
   "id": "65cc494b",
   "metadata": {},
   "source": [
    "> The information content (IC) of a GO term t is defined by negative log-likelihood:\n",
    "$$IC(t)=-log(p(t))$$\n",
    "> where term probability P(t) of term t is determined from the annotations of the corpus (corpus-based) or from the structure of the DAG (structure-based). [...] Corpus-based methods evaluate the term probability as\n",
    "$$p(t)= \\frac{M}{N}$$"
   ]
  },
  {
   "cell_type": "code",
   "execution_count": 221,
   "id": "489f9cc2",
   "metadata": {},
   "outputs": [],
   "source": [
    "IC_t = {\n",
    "    t: -np.log(m/N) for t, m in M.items()\n",
    "}"
   ]
  },
  {
   "cell_type": "code",
   "execution_count": 297,
   "id": "334d2d51",
   "metadata": {},
   "outputs": [
    {
     "data": {
      "text/plain": [
       "9.808847148382007"
      ]
     },
     "execution_count": 297,
     "metadata": {},
     "output_type": "execute_result"
    }
   ],
   "source": [
    "IC_t['GO:0001010']"
   ]
  },
  {
   "cell_type": "code",
   "execution_count": 298,
   "id": "a0075573",
   "metadata": {},
   "outputs": [
    {
     "data": {
      "text/plain": [
       "4431"
      ]
     },
     "execution_count": 298,
     "metadata": {},
     "output_type": "execute_result"
    }
   ],
   "source": [
    "len(IC_t)"
   ]
  },
  {
   "cell_type": "markdown",
   "id": "037ec48b",
   "metadata": {},
   "source": [
    "> **Functional similarity measures between two genes**\n",
    "> \n",
    "> Functional similarity (FS) between two genes is computed using the ICs of individual terms (term-based) or the semantic similarities between the pairs of terms (term pair-based) or among the set of terms (term set-based). Let 𝑇𝑔1\n",
    "and 𝑇𝑔2 be the set of GO terms annotating genes g1 and g2, respectively. Term-based measures such as GIC1 (Jaccard index), DIC39 (dice index), and UIC39 (universal index) are defined using ICs of individual terms:\n",
    ">\n",
    "> GIC\n",
    "$$FS({g}_{1},\\,{g}_{2})=\\frac{{\\sum }_{t\\in {T}_{{g}_{1}}\\cap {T}_{{g}_{2}}}IC(t)}{{\\sum }_{t\\in {T}_{{g}_{1}}\\cup {T}_{{g}_{2}}}IC(t)}$$\n"
   ]
  },
  {
   "cell_type": "markdown",
   "id": "3c6efb7a",
   "metadata": {},
   "source": [
    "For each protein (instead of gene) find the set of relevant terms."
   ]
  },
  {
   "cell_type": "code",
   "execution_count": 359,
   "id": "50d4d27a",
   "metadata": {},
   "outputs": [
    {
     "data": {
      "text/plain": [
       "{'GO:0019901'}"
      ]
     },
     "execution_count": 359,
     "metadata": {},
     "output_type": "execute_result"
    }
   ],
   "source": [
    "goa_by_protein = goa[goa['GO ID'].isin(goa_goid_mf)].pivot_table(\n",
    "    index=[\"DB Object ID\"],\n",
    "    values=[\"GO ID\"],\n",
    "    aggfunc=lambda x:set(x)\n",
    ").to_dict()['GO ID']\n",
    "\n",
    "goa_by_protein['A0A087WT57']"
   ]
  },
  {
   "cell_type": "code",
   "execution_count": 300,
   "id": "e7dc352d",
   "metadata": {},
   "outputs": [
    {
     "data": {
      "text/plain": [
       "18193"
      ]
     },
     "execution_count": 300,
     "metadata": {},
     "output_type": "execute_result"
    }
   ],
   "source": [
    "len(goa_by_protein)"
   ]
  },
  {
   "cell_type": "markdown",
   "id": "4e1a9935",
   "metadata": {},
   "source": [
    "## Sample Functional Similarity"
   ]
  },
  {
   "cell_type": "code",
   "execution_count": null,
   "id": "00565a61",
   "metadata": {},
   "outputs": [],
   "source": []
  },
  {
   "cell_type": "code",
   "execution_count": 365,
   "id": "4272c2c3",
   "metadata": {},
   "outputs": [],
   "source": [
    "# Sample proteins\n",
    "\n",
    "protein_A = 'Q5TAX3'\n",
    "protein_B = 'Q5TB30'"
   ]
  },
  {
   "cell_type": "code",
   "execution_count": 366,
   "id": "a11c9294",
   "metadata": {},
   "outputs": [
    {
     "data": {
      "text/plain": [
       "{'GO:0003723',\n",
       " 'GO:0005515',\n",
       " 'GO:0008270',\n",
       " 'GO:0016779',\n",
       " 'GO:0035198',\n",
       " 'GO:0050265'}"
      ]
     },
     "execution_count": 366,
     "metadata": {},
     "output_type": "execute_result"
    }
   ],
   "source": [
    "goa_by_protein[protein_A]"
   ]
  },
  {
   "cell_type": "code",
   "execution_count": 367,
   "id": "124774af",
   "metadata": {},
   "outputs": [
    {
     "data": {
      "text/plain": [
       "AdjacencyView({'GO:0022857': {'is_a': {}}})"
      ]
     },
     "execution_count": 367,
     "metadata": {},
     "output_type": "execute_result"
    }
   ],
   "source": [
    "gobasic['GO:0071714']"
   ]
  },
  {
   "cell_type": "code",
   "execution_count": 368,
   "id": "02a31f33",
   "metadata": {},
   "outputs": [
    {
     "data": {
      "text/plain": [
       "AdjacencyView({'GO:0005215': {'is_a': {}}})"
      ]
     },
     "execution_count": 368,
     "metadata": {},
     "output_type": "execute_result"
    }
   ],
   "source": [
    "gobasic['GO:0022857']"
   ]
  },
  {
   "cell_type": "code",
   "execution_count": 369,
   "id": "d4fc4a9c",
   "metadata": {},
   "outputs": [
    {
     "data": {
      "text/plain": [
       "{'GO:0005096', 'GO:0005515'}"
      ]
     },
     "execution_count": 369,
     "metadata": {},
     "output_type": "execute_result"
    }
   ],
   "source": [
    "goa_by_protein[protein_B]"
   ]
  },
  {
   "cell_type": "code",
   "execution_count": 370,
   "id": "a928a402",
   "metadata": {},
   "outputs": [
    {
     "data": {
      "text/plain": [
       "{'GO:0005515'}"
      ]
     },
     "execution_count": 370,
     "metadata": {},
     "output_type": "execute_result"
    }
   ],
   "source": [
    "# Intersection of the terms\n",
    "goa_by_protein[protein_A].intersection(goa_by_protein[protein_B])"
   ]
  },
  {
   "cell_type": "code",
   "execution_count": null,
   "id": "6a6238a6",
   "metadata": {},
   "outputs": [],
   "source": []
  },
  {
   "cell_type": "code",
   "execution_count": 371,
   "id": "e216711b",
   "metadata": {},
   "outputs": [],
   "source": [
    "def funsim(protein_pairs, goa=goa):\n",
    "    \"\"\"\n",
    "    Find functional similarities for all protein pairs in each cluster \n",
    "    \n",
    "    Inputs:\n",
    "        - protein_pairs: possible protein pair combinations per cluster \n",
    "        - goa: Gene ontology annotation file that maps proteins to gene ontology \n",
    "    \"\"\"\n",
    "    \n",
    "    # If goa df is not provided, download from GCS \n",
    "    if isinstance(goa, type(None)):\n",
    "        print(\"No GO annotations provided. Downloading from google cloud.\")\n",
    "        goa = pd.read_csv( io.BytesIO(gcs.download_blob(\"functional_sim/data/goa_human.gaf.gz\")), \n",
    "                            compression='gzip', \n",
    "                            header=None,\n",
    "                            skiprows=41,    # hard-coded. May be different for other gaf files.\n",
    "                            sep='\\t')\n",
    "        goa.columns=[\"DB\", \"DB Object ID\", \"DB Object Symbol\", \"Qualifier\", \"GO ID\", \"Reference\", \n",
    "                     \"Evidence Code\", \"With or From\", \"Aspect\", \"Name\", \"Synonym\", \"Type\", \n",
    "                     \"Taxon\", \"Date\", \"Assigned By\", \"Annotation Extension\", \"Gene Product Form ID\"]\n",
    "                       \n",
    "    # Dictionary of proteins and their GO terms \n",
    "    goa_by_protein = goa[goa['GO ID'].isin(goa_goid_mf)].pivot_table(\n",
    "                            index=[\"DB Object ID\"],\n",
    "                            values=[\"GO ID\"],\n",
    "                            aggfunc=lambda x:set(x)\n",
    "                        ).to_dict()['GO ID']\n",
    "    \n",
    "    ##################\n",
    "    # Calculate IC (information content) of each term\n",
    "    \n",
    "    # Identify molecular functions in GO\n",
    "    with open('functional_sim/intermediary_data/shortest_from_root.pkl', 'rb') as file:\n",
    "        shortest_from_root = pickle.load(file)    \n",
    "        goa_goid_mf = [goid for goid in set(goa[\"GO ID\"]) if goid in shortest_from_root['GO:0003674'] ]\n",
    "    \n",
    "    # IC calculation \n",
    "    M = goa[goa['GO ID'].isin(goa_goid_mf)].pivot_table(index='GO ID',\n",
    "                values='DB Object ID',\n",
    "                aggfunc=pd.Series.nunique\n",
    "               ).to_dict()['DB Object ID']\n",
    "    \n",
    "    N = len(goa[goa['GO ID'].isin(goa_goid_mf)]['DB Object ID'].unique())\n",
    "    print(\"Total number of proteins in GO annotations:\", N)\n",
    "    \n",
    "    IC_t = {t: -np.log(m/N) for t, m in M.items()}\n",
    "    \n",
    "    ##################\n",
    "    # Eliminate duplicates in the pairs of proteins, since the jaccard pairwise metric is symmetrical.\n",
    "    \n",
    "    all_protein_combos_per_cluster['protein_A'] = all_protein_combos_per_cluster[\n",
    "        ['query_protein','target_protein']].min(axis=1)\n",
    "\n",
    "    all_protein_combos_per_cluster['protein_B'] = all_protein_combos_per_cluster[\n",
    "        ['query_protein','target_protein']].max(axis=1)\n",
    "\n",
    "    all_protein_combos_per_cluster_dedupe = all_protein_combos_per_cluster[\n",
    "        ['protein_A', 'protein_B', 'cluster']].drop_duplicates()\n",
    "    \n",
    "    \n",
    "    ##################\n",
    "    \n",
    "    \n",
    "    \n",
    "def jaccard_sim_protein_go(protein_A, protein_B, goa_by_protein, IC_t):\n",
    "    \"\"\"Calculate the GIC or the Jaccard index of terms between two proteins.\n",
    "    https://bmcbioinformatics.biomedcentral.com/articles/10.1186/1471-2105-9-S5-S4\n",
    "    \n",
    "    - goa_by_protein: Dictionary where key is protein ID and value is list of GO annotation terms for that protein\n",
    "    - IC_t: Dictionary where key is GO term and value is its information content (IC)\n",
    "    \n",
    "    \"\"\"\n",
    "    if protein_A not in goa_by_protein or protein_B not in goa_by_protein:\n",
    "        return None\n",
    "    \n",
    "    go_intersection = goa_by_protein[protein_A].intersection(goa_by_protein[protein_B])\n",
    "    go_union        = goa_by_protein[protein_A].union(       goa_by_protein[protein_B])\n",
    "    \n",
    "    numerator = 0\n",
    "    denominator = 0\n",
    "    \n",
    "    for goid in go_intersection:\n",
    "        numerator += IC_t[goid]\n",
    "        \n",
    "    denominator = numerator\n",
    "    for goid in go_union - go_intersection:\n",
    "        denominator += IC_t[goid]\n",
    "        \n",
    "    return numerator/denominator"
   ]
  },
  {
   "cell_type": "code",
   "execution_count": null,
   "id": "44f3c323",
   "metadata": {},
   "outputs": [],
   "source": []
  },
  {
   "cell_type": "code",
   "execution_count": null,
   "id": "0582b3df",
   "metadata": {},
   "outputs": [],
   "source": []
  },
  {
   "cell_type": "code",
   "execution_count": 372,
   "id": "b3332c91",
   "metadata": {},
   "outputs": [
    {
     "data": {
      "text/plain": [
       "0.011927170492379131"
      ]
     },
     "execution_count": 372,
     "metadata": {},
     "output_type": "execute_result"
    }
   ],
   "source": [
    "jaccard_sim_protein_go(protein_A, protein_B, goa_by_protein, IC_t)"
   ]
  },
  {
   "cell_type": "code",
   "execution_count": null,
   "id": "9cec2ca1",
   "metadata": {},
   "outputs": [],
   "source": []
  },
  {
   "cell_type": "code",
   "execution_count": 307,
   "id": "365343a2",
   "metadata": {},
   "outputs": [
    {
     "data": {
      "text/plain": [
       "<module 'utils.gcs_utils' from '/Users/haeranglee/Documents/pss/utils/gcs_utils.py'>"
      ]
     },
     "execution_count": 307,
     "metadata": {},
     "output_type": "execute_result"
    }
   ],
   "source": [
    "importlib.reload(gcs)"
   ]
  },
  {
   "cell_type": "markdown",
   "id": "61589c2c",
   "metadata": {},
   "source": [
    "# Run on model cluster"
   ]
  },
  {
   "cell_type": "code",
   "execution_count": 312,
   "id": "0f6791ec",
   "metadata": {},
   "outputs": [],
   "source": [
    "prefix='model_outputs/no_cluster_size_limit/'\n",
    "clusters = gcs.download_pkl(prefix+'B2_clusters.pkl')\n",
    "all_protein_combos_per_cluster = gcs.download_parquet(prefix+'B2-HDBSCAN-SeqVec-all_protein_combos_per_cluster.parquet')"
   ]
  },
  {
   "cell_type": "code",
   "execution_count": 313,
   "id": "ae4eeb3d",
   "metadata": {},
   "outputs": [
    {
     "data": {
      "text/html": [
       "<div>\n",
       "<style scoped>\n",
       "    .dataframe tbody tr th:only-of-type {\n",
       "        vertical-align: middle;\n",
       "    }\n",
       "\n",
       "    .dataframe tbody tr th {\n",
       "        vertical-align: top;\n",
       "    }\n",
       "\n",
       "    .dataframe thead th {\n",
       "        text-align: right;\n",
       "    }\n",
       "</style>\n",
       "<table border=\"1\" class=\"dataframe\">\n",
       "  <thead>\n",
       "    <tr style=\"text-align: right;\">\n",
       "      <th></th>\n",
       "      <th>query_protein</th>\n",
       "      <th>target_protein</th>\n",
       "      <th>cluster</th>\n",
       "    </tr>\n",
       "  </thead>\n",
       "  <tbody>\n",
       "    <tr>\n",
       "      <th>1</th>\n",
       "      <td>O96009</td>\n",
       "      <td>P00797</td>\n",
       "      <td>0</td>\n",
       "    </tr>\n",
       "    <tr>\n",
       "      <th>2</th>\n",
       "      <td>O96009</td>\n",
       "      <td>P07339</td>\n",
       "      <td>0</td>\n",
       "    </tr>\n",
       "    <tr>\n",
       "      <th>3</th>\n",
       "      <td>O96009</td>\n",
       "      <td>P0DJD7</td>\n",
       "      <td>0</td>\n",
       "    </tr>\n",
       "    <tr>\n",
       "      <th>4</th>\n",
       "      <td>O96009</td>\n",
       "      <td>P0DJD8</td>\n",
       "      <td>0</td>\n",
       "    </tr>\n",
       "    <tr>\n",
       "      <th>5</th>\n",
       "      <td>O96009</td>\n",
       "      <td>P0DJD9</td>\n",
       "      <td>0</td>\n",
       "    </tr>\n",
       "  </tbody>\n",
       "</table>\n",
       "</div>"
      ],
      "text/plain": [
       "  query_protein target_protein  cluster\n",
       "1        O96009         P00797        0\n",
       "2        O96009         P07339        0\n",
       "3        O96009         P0DJD7        0\n",
       "4        O96009         P0DJD8        0\n",
       "5        O96009         P0DJD9        0"
      ]
     },
     "execution_count": 313,
     "metadata": {},
     "output_type": "execute_result"
    }
   ],
   "source": [
    "all_protein_combos_per_cluster.head()"
   ]
  },
  {
   "cell_type": "code",
   "execution_count": 374,
   "id": "d7d15366",
   "metadata": {},
   "outputs": [
    {
     "data": {
      "text/plain": [
       "0.42887460994594856"
      ]
     },
     "execution_count": 374,
     "metadata": {},
     "output_type": "execute_result"
    }
   ],
   "source": [
    "jaccard_sim_protein_go('O96009', 'P00797', goa_by_protein, IC_t)"
   ]
  },
  {
   "cell_type": "code",
   "execution_count": 333,
   "id": "adc9d270",
   "metadata": {},
   "outputs": [],
   "source": [
    "all_protein_combos_per_cluster_dedupe = all_protein_combos_per_cluster[['protein_A', 'protein_B', 'cluster']].drop_duplicates()"
   ]
  },
  {
   "cell_type": "code",
   "execution_count": 375,
   "id": "c564d71d",
   "metadata": {},
   "outputs": [
    {
     "data": {
      "text/html": [
       "<div>\n",
       "<style scoped>\n",
       "    .dataframe tbody tr th:only-of-type {\n",
       "        vertical-align: middle;\n",
       "    }\n",
       "\n",
       "    .dataframe tbody tr th {\n",
       "        vertical-align: top;\n",
       "    }\n",
       "\n",
       "    .dataframe thead th {\n",
       "        text-align: right;\n",
       "    }\n",
       "</style>\n",
       "<table border=\"1\" class=\"dataframe\">\n",
       "  <thead>\n",
       "    <tr style=\"text-align: right;\">\n",
       "      <th></th>\n",
       "      <th>protein_A</th>\n",
       "      <th>protein_B</th>\n",
       "      <th>cluster</th>\n",
       "      <th>c</th>\n",
       "    </tr>\n",
       "  </thead>\n",
       "  <tbody>\n",
       "    <tr>\n",
       "      <th>1</th>\n",
       "      <td>O96009</td>\n",
       "      <td>P00797</td>\n",
       "      <td>0</td>\n",
       "      <td>None</td>\n",
       "    </tr>\n",
       "    <tr>\n",
       "      <th>2</th>\n",
       "      <td>O96009</td>\n",
       "      <td>P07339</td>\n",
       "      <td>0</td>\n",
       "      <td>None</td>\n",
       "    </tr>\n",
       "    <tr>\n",
       "      <th>3</th>\n",
       "      <td>O96009</td>\n",
       "      <td>P0DJD7</td>\n",
       "      <td>0</td>\n",
       "      <td>None</td>\n",
       "    </tr>\n",
       "    <tr>\n",
       "      <th>4</th>\n",
       "      <td>O96009</td>\n",
       "      <td>P0DJD8</td>\n",
       "      <td>0</td>\n",
       "      <td>None</td>\n",
       "    </tr>\n",
       "    <tr>\n",
       "      <th>5</th>\n",
       "      <td>O96009</td>\n",
       "      <td>P0DJD9</td>\n",
       "      <td>0</td>\n",
       "      <td>None</td>\n",
       "    </tr>\n",
       "  </tbody>\n",
       "</table>\n",
       "</div>"
      ],
      "text/plain": [
       "  protein_A protein_B  cluster     c\n",
       "1    O96009    P00797        0  None\n",
       "2    O96009    P07339        0  None\n",
       "3    O96009    P0DJD7        0  None\n",
       "4    O96009    P0DJD8        0  None\n",
       "5    O96009    P0DJD9        0  None"
      ]
     },
     "execution_count": 375,
     "metadata": {},
     "output_type": "execute_result"
    }
   ],
   "source": [
    "all_protein_combos_per_cluster_dedupe.head()"
   ]
  },
  {
   "cell_type": "code",
   "execution_count": 376,
   "id": "7b552816",
   "metadata": {},
   "outputs": [],
   "source": [
    "all_protein_combos_per_cluster_dedupe['c'] = \\\n",
    "all_protein_combos_per_cluster_dedupe.apply(\n",
    "    lambda x: jaccard_sim_protein_go(x['protein_A'], x['protein_B'], goa_by_protein, IC_t), \n",
    "    axis=1\n",
    ")\n"
   ]
  },
  {
   "cell_type": "code",
   "execution_count": 377,
   "id": "030d124d",
   "metadata": {},
   "outputs": [
    {
     "data": {
      "text/plain": [
       "count    172208.000000\n",
       "mean          0.501526\n",
       "std           0.387612\n",
       "min           0.000000\n",
       "25%           0.096041\n",
       "50%           0.581808\n",
       "75%           1.000000\n",
       "max           1.000000\n",
       "Name: c, dtype: float64"
      ]
     },
     "execution_count": 377,
     "metadata": {},
     "output_type": "execute_result"
    }
   ],
   "source": [
    "all_protein_combos_per_cluster_dedupe.c.describe()"
   ]
  },
  {
   "cell_type": "code",
   "execution_count": 382,
   "id": "4901a896",
   "metadata": {},
   "outputs": [
    {
     "data": {
      "text/plain": [
       "(172208, 4)"
      ]
     },
     "execution_count": 382,
     "metadata": {},
     "output_type": "execute_result"
    }
   ],
   "source": [
    "all_protein_combos_per_cluster_dedupe[~all_protein_combos_per_cluster_dedupe.c.isna()].shape"
   ]
  },
  {
   "cell_type": "code",
   "execution_count": 383,
   "id": "c258ca8e",
   "metadata": {},
   "outputs": [
    {
     "data": {
      "text/plain": [
       "(13725, 4)"
      ]
     },
     "execution_count": 383,
     "metadata": {},
     "output_type": "execute_result"
    }
   ],
   "source": [
    "all_protein_combos_per_cluster_dedupe[all_protein_combos_per_cluster_dedupe.c.isna()].shape"
   ]
  },
  {
   "cell_type": "code",
   "execution_count": null,
   "id": "e4c969b6",
   "metadata": {},
   "outputs": [],
   "source": []
  },
  {
   "cell_type": "code",
   "execution_count": null,
   "id": "b2c03b9d",
   "metadata": {},
   "outputs": [],
   "source": []
  }
 ],
 "metadata": {
  "kernelspec": {
   "display_name": "Python 3 (ipykernel)",
   "language": "python",
   "name": "python3"
  },
  "language_info": {
   "codemirror_mode": {
    "name": "ipython",
    "version": 3
   },
   "file_extension": ".py",
   "mimetype": "text/x-python",
   "name": "python",
   "nbconvert_exporter": "python",
   "pygments_lexer": "ipython3",
   "version": "3.9.7"
  }
 },
 "nbformat": 4,
 "nbformat_minor": 5
}
