{
 "cells": [
  {
   "cell_type": "markdown",
   "id": "b2997827",
   "metadata": {},
   "source": [
    "# Functional Evaluations\n",
    "Haerang Lee\n",
    "\n",
    "Find out a way to look into functional agreements."
   ]
  },
  {
   "cell_type": "code",
   "execution_count": 1,
   "id": "31305d27",
   "metadata": {},
   "outputs": [],
   "source": [
    "from google.cloud import storage\n",
    "import argparse\n",
    "import gzip\n",
    "import os\n",
    "import sys\n",
    "import time\n",
    "from multiprocessing import Pool\n",
    "\n",
    "import numpy as np\n",
    "import pandas as pd\n",
    "from tqdm.auto import tqdm\n",
    "\n",
    "from utils import gcs_utils as gcs\n",
    "from utils import model_and_evaluate_cluster as ev\n",
    "import urllib.parse\n",
    "import urllib.request\n",
    "\n",
    "import io \n",
    "\n",
    "import importlib\n",
    "import hdbscan\n",
    "import networkx as nx "
   ]
  },
  {
   "cell_type": "code",
   "execution_count": 305,
   "id": "1d633908",
   "metadata": {},
   "outputs": [
    {
     "data": {
      "text/plain": [
       "<module 'utils.model_and_evaluate_cluster' from '/Users/haeranglee/Documents/pss/utils/model_and_evaluate_cluster.py'>"
      ]
     },
     "execution_count": 305,
     "metadata": {},
     "output_type": "execute_result"
    }
   ],
   "source": [
    "importlib.reload(ev)"
   ]
  },
  {
   "cell_type": "markdown",
   "id": "a0612a28",
   "metadata": {},
   "source": [
    "# Tutorial"
   ]
  },
  {
   "cell_type": "code",
   "execution_count": 2,
   "id": "5b717127",
   "metadata": {},
   "outputs": [],
   "source": [
    "# Import possible pairs\n",
    "prefix='model_outputs/no_cluster_size_limit/'\n",
    "all_protein_combos_per_cluster = gcs.download_parquet(prefix+'B2-HDBSCAN-SeqVec-all_protein_combos_per_cluster.parquet')"
   ]
  },
  {
   "cell_type": "code",
   "execution_count": 3,
   "id": "fdb7bc83",
   "metadata": {},
   "outputs": [
    {
     "name": "stdout",
     "output_type": "stream",
     "text": [
      "No GO annotations provided. Downloading from google cloud.\n"
     ]
    },
    {
     "name": "stderr",
     "output_type": "stream",
     "text": [
      "/var/folders/zz/58vwrfdn6p5bgkhdv0xng5780000gn/T/ipykernel_63388/517388801.py:1: DtypeWarning: Columns (15) have mixed types.Specify dtype option on import or set low_memory=False.\n",
      "  cluster_funsim = ev.funsim(all_protein_combos_per_cluster)\n"
     ]
    },
    {
     "name": "stdout",
     "output_type": "stream",
     "text": [
      "Total number of proteins in GO annotations: 18240\n"
     ]
    }
   ],
   "source": [
    "cluster_funsim = ev.funsim(all_protein_combos_per_cluster)"
   ]
  },
  {
   "cell_type": "code",
   "execution_count": 4,
   "id": "9d7729c8",
   "metadata": {},
   "outputs": [
    {
     "data": {
      "text/plain": [
       "(757, 4)"
      ]
     },
     "execution_count": 4,
     "metadata": {},
     "output_type": "execute_result"
    }
   ],
   "source": [
    "cluster_funsim.shape"
   ]
  },
  {
   "cell_type": "code",
   "execution_count": 6,
   "id": "a0d4f43a",
   "metadata": {},
   "outputs": [
    {
     "data": {
      "text/html": [
       "<div>\n",
       "<style scoped>\n",
       "    .dataframe tbody tr th:only-of-type {\n",
       "        vertical-align: middle;\n",
       "    }\n",
       "\n",
       "    .dataframe tbody tr th {\n",
       "        vertical-align: top;\n",
       "    }\n",
       "\n",
       "    .dataframe thead th {\n",
       "        text-align: right;\n",
       "    }\n",
       "</style>\n",
       "<table border=\"1\" class=\"dataframe\">\n",
       "  <thead>\n",
       "    <tr style=\"text-align: right;\">\n",
       "      <th></th>\n",
       "      <th>num_pairs</th>\n",
       "      <th>num_pairs_with_funsim</th>\n",
       "      <th>funsim</th>\n",
       "      <th>perc_pairs_w_funsim</th>\n",
       "    </tr>\n",
       "    <tr>\n",
       "      <th>cluster</th>\n",
       "      <th></th>\n",
       "      <th></th>\n",
       "      <th></th>\n",
       "      <th></th>\n",
       "    </tr>\n",
       "  </thead>\n",
       "  <tbody>\n",
       "    <tr>\n",
       "      <th>0</th>\n",
       "      <td>45</td>\n",
       "      <td>45</td>\n",
       "      <td>0.477738</td>\n",
       "      <td>1.0</td>\n",
       "    </tr>\n",
       "    <tr>\n",
       "      <th>1</th>\n",
       "      <td>276</td>\n",
       "      <td>0</td>\n",
       "      <td>NaN</td>\n",
       "      <td>0.0</td>\n",
       "    </tr>\n",
       "    <tr>\n",
       "      <th>2</th>\n",
       "      <td>15</td>\n",
       "      <td>15</td>\n",
       "      <td>0.408240</td>\n",
       "      <td>1.0</td>\n",
       "    </tr>\n",
       "    <tr>\n",
       "      <th>3</th>\n",
       "      <td>10</td>\n",
       "      <td>10</td>\n",
       "      <td>0.724022</td>\n",
       "      <td>1.0</td>\n",
       "    </tr>\n",
       "    <tr>\n",
       "      <th>4</th>\n",
       "      <td>15</td>\n",
       "      <td>15</td>\n",
       "      <td>0.407159</td>\n",
       "      <td>1.0</td>\n",
       "    </tr>\n",
       "  </tbody>\n",
       "</table>\n",
       "</div>"
      ],
      "text/plain": [
       "         num_pairs  num_pairs_with_funsim    funsim  perc_pairs_w_funsim\n",
       "cluster                                                                 \n",
       "0               45                     45  0.477738                  1.0\n",
       "1              276                      0       NaN                  0.0\n",
       "2               15                     15  0.408240                  1.0\n",
       "3               10                     10  0.724022                  1.0\n",
       "4               15                     15  0.407159                  1.0"
      ]
     },
     "execution_count": 6,
     "metadata": {},
     "output_type": "execute_result"
    }
   ],
   "source": [
    "cluster_funsim.head()"
   ]
  },
  {
   "cell_type": "markdown",
   "id": "32a4bf3d",
   "metadata": {},
   "source": [
    "# Background\n",
    "\n",
    "## Gene Ontology\n",
    "\n",
    "More info on Gene Ontology: http://geneontology.org/docs/ontology-documentation/\n",
    "1. **Molecular function**: describe activities that occur at the molecular level, such as “catalysis” or “transport”. GO molecular function terms represent activities rather than the entities (molecules or complexes) that perform the actions\n",
    "1. **Cellular component**: locations relative to cellular structures in which a gene product performs a function, either cellular compartments (e.g., mitochondrion), or stable macromolecular complexes of which they are parts (e.g., the ribosome)\n",
    "1. **Biological process**: The larger processes, or ‘biological programs’ accomplished by multiple molecular activities. Examples of broad biological process terms are DNA repair or signal transduction."
   ]
  },
  {
   "cell_type": "markdown",
   "id": "183144c6",
   "metadata": {},
   "source": [
    "## Functional Similarity Formula\n",
    "\n",
    "\n",
    "Funcsim methodology from https://www.nature.com/articles/s41598-018-30455-0\n",
    "> Functional similarity of a gene pair or a set is determined by the semantic similarities of the GO terms annotating the gene pair or set. Semantic similarity defines a distance between terms in the semantic space of GO and is quantified by the information contents (IC) of the terms. The information content (IC) of a GO term t is defined by negative log-likelihood:\n",
    "$$IC(t)=-log(p(t))$$\n",
    "> where term probability P(t) of term t is determined from the annotations of the corpus (corpus-based) or from the structure of the DAG (structure-based). The intuition is that terms in lower levels of DAG, that is, the terms with lower probability carry more specific information than the terms at higher levels in the hierarchy. Corpus-based methods evaluate the term probability as\n",
    "$$p(t)= \\frac{M}{N}$$\n",
    "where M is the number of genes annotated by term t and N is the total number of genes in the annotating corpus.\n"
   ]
  },
  {
   "cell_type": "markdown",
   "id": "3b1600da",
   "metadata": {},
   "source": [
    "## Data: Human Protein to GO Mapping\n",
    "\n",
    "GAF: GO annotation files. \n",
    "\n",
    "Dataset `goa_human.gaf` downloaded from http://current.geneontology.org/products/pages/downloads.html\n",
    "> **Filtered Files**\n",
    ">\n",
    "> These files are taxon-specific and reflect the work of specific projects, primarily the model organisms database groups, to provide comprehensive, non-redundant annotation files for their organism. All the files in this table have been filtered using the annotation file QC pipeline. A major component to the filtering is the requirement that particular taxon IDs can only be included within the association files provided by specific projects; the current list of authoritative groups and major model organisms can be found below. \n",
    "\n",
    "```\n",
    "Homo sapiens\n",
    "EBI Gene Ontology Annotation Database (goa) \tprotein \t543477 \tgoa_human.gaf (gzip)\n",
    "```\n",
    "Data dictionary: http://geneontology.org/docs/go-annotation-file-gaf-format-2.1/\n",
    "\n",
    "\n"
   ]
  },
  {
   "cell_type": "code",
   "execution_count": 99,
   "id": "84cf2e32",
   "metadata": {},
   "outputs": [],
   "source": [
    "a_file = gzip. open(\"functional_sim/data/goa_human.gaf.gz\", \"rb\")\n",
    "contents = a_file. read()"
   ]
  },
  {
   "cell_type": "code",
   "execution_count": 178,
   "id": "fd5ce79c",
   "metadata": {},
   "outputs": [
    {
     "name": "stdout",
     "output_type": "stream",
     "text": [
      "!gaf-version: 2.2\n",
      "!\n",
      "!generated-by: GOC\n",
      "!\n",
      "!date-generated: 2021-10-27T15:09\n",
      "!\n",
      "!Header from source association file:\n",
      "!=================================\n",
      "!\n",
      "!generated-by: GOC\n",
      "!\n",
      "!date-generated: 2021-10-27T04:08\n",
      "!\n",
      "!Header from goa_human source association file:\n",
      "!=================================\n",
      "!\n",
      "!The set of protein accessions included in this file is based on UniProt reference proteomes, which provide one protein per gene.\n",
      "!They include the protein sequences annotated in Swiss-Prot or the longest TrEMBL transcript if there is no Swiss-Prot record.\n",
      "!If a particular protein accession is not annotated with GO, then it will not appear in this file.\n",
      "!\n",
      "!Note that the annotation set in this file is filtered in order to reduce redundancy; the full, unfiltered set can be found in\n",
      "!ftp://ftp.ebi.ac.uk/pub/databases/GO/goa/UNIPROT/goa_uniprot_all.gz\n",
      "!\n",
      "!date-generated: 2021-06-16 11:28\n",
      "!generated-by: UniProt\n",
      "!go-version: http://purl.obolibrary.org/obo/go/releases/2021-06-06/extensions/go-plus.owl\n",
      "!\n",
      "!=================================\n",
      "!\n",
      "!Header copied from paint_goa_human_valid.gaf\n",
      "!=================================\n",
      "!Created on Wed Sep  8 16:26:55 2021.\n",
      "!generated-by: PANTHER\n",
      "!date-generated: 2021-09-08\n",
      "!PANTHER version: v.15.0.\n",
      "!GO version: 2021-08-18.\n",
      "!\n",
      "!=================================\n",
      "!\n",
      "!Documentation about this header can be found here: https://github.com/geneontology/go-site/blob/master/docs/gaf_validation.md\n",
      "\n"
     ]
    }
   ],
   "source": [
    "print(contents.decode('utf-8')[0:1423])"
   ]
  },
  {
   "cell_type": "code",
   "execution_count": 135,
   "id": "56573620",
   "metadata": {},
   "outputs": [
    {
     "name": "stderr",
     "output_type": "stream",
     "text": [
      "/Users/haeranglee/opt/anaconda3/envs/pss/lib/python3.9/site-packages/IPython/core/interactiveshell.py:3441: DtypeWarning: Columns (15) have mixed types.Specify dtype option on import or set low_memory=False.\n",
      "  exec(code_obj, self.user_global_ns, self.user_ns)\n"
     ]
    },
    {
     "data": {
      "text/html": [
       "<div>\n",
       "<style scoped>\n",
       "    .dataframe tbody tr th:only-of-type {\n",
       "        vertical-align: middle;\n",
       "    }\n",
       "\n",
       "    .dataframe tbody tr th {\n",
       "        vertical-align: top;\n",
       "    }\n",
       "\n",
       "    .dataframe thead th {\n",
       "        text-align: right;\n",
       "    }\n",
       "</style>\n",
       "<table border=\"1\" class=\"dataframe\">\n",
       "  <thead>\n",
       "    <tr style=\"text-align: right;\">\n",
       "      <th></th>\n",
       "      <th>DB</th>\n",
       "      <th>DB Object ID</th>\n",
       "      <th>DB Object Symbol</th>\n",
       "      <th>Qualifier</th>\n",
       "      <th>GO ID</th>\n",
       "      <th>Reference</th>\n",
       "      <th>Evidence Code</th>\n",
       "      <th>With or From</th>\n",
       "      <th>Aspect</th>\n",
       "      <th>Name</th>\n",
       "      <th>Synonym</th>\n",
       "      <th>Type</th>\n",
       "      <th>Taxon</th>\n",
       "      <th>Date</th>\n",
       "      <th>Assigned By</th>\n",
       "      <th>Annotation Extension</th>\n",
       "      <th>Gene Product Form ID</th>\n",
       "    </tr>\n",
       "  </thead>\n",
       "  <tbody>\n",
       "    <tr>\n",
       "      <th>0</th>\n",
       "      <td>UniProtKB</td>\n",
       "      <td>A0A024RBG1</td>\n",
       "      <td>NUDT4B</td>\n",
       "      <td>enables</td>\n",
       "      <td>GO:0003723</td>\n",
       "      <td>GO_REF:0000043</td>\n",
       "      <td>IEA</td>\n",
       "      <td>UniProtKB-KW:KW-0694</td>\n",
       "      <td>F</td>\n",
       "      <td>Diphosphoinositol polyphosphate phosphohydrola...</td>\n",
       "      <td>NUDT4B</td>\n",
       "      <td>protein</td>\n",
       "      <td>taxon:9606</td>\n",
       "      <td>20210612</td>\n",
       "      <td>UniProt</td>\n",
       "      <td>NaN</td>\n",
       "      <td>NaN</td>\n",
       "    </tr>\n",
       "    <tr>\n",
       "      <th>1</th>\n",
       "      <td>UniProtKB</td>\n",
       "      <td>A0A024RBG1</td>\n",
       "      <td>NUDT4B</td>\n",
       "      <td>enables</td>\n",
       "      <td>GO:0046872</td>\n",
       "      <td>GO_REF:0000043</td>\n",
       "      <td>IEA</td>\n",
       "      <td>UniProtKB-KW:KW-0479</td>\n",
       "      <td>F</td>\n",
       "      <td>Diphosphoinositol polyphosphate phosphohydrola...</td>\n",
       "      <td>NUDT4B</td>\n",
       "      <td>protein</td>\n",
       "      <td>taxon:9606</td>\n",
       "      <td>20210612</td>\n",
       "      <td>UniProt</td>\n",
       "      <td>NaN</td>\n",
       "      <td>NaN</td>\n",
       "    </tr>\n",
       "    <tr>\n",
       "      <th>2</th>\n",
       "      <td>UniProtKB</td>\n",
       "      <td>A0A024RBG1</td>\n",
       "      <td>NUDT4B</td>\n",
       "      <td>enables</td>\n",
       "      <td>GO:0052840</td>\n",
       "      <td>GO_REF:0000003</td>\n",
       "      <td>IEA</td>\n",
       "      <td>EC:3.6.1.52</td>\n",
       "      <td>F</td>\n",
       "      <td>Diphosphoinositol polyphosphate phosphohydrola...</td>\n",
       "      <td>NUDT4B</td>\n",
       "      <td>protein</td>\n",
       "      <td>taxon:9606</td>\n",
       "      <td>20210612</td>\n",
       "      <td>UniProt</td>\n",
       "      <td>NaN</td>\n",
       "      <td>NaN</td>\n",
       "    </tr>\n",
       "    <tr>\n",
       "      <th>3</th>\n",
       "      <td>UniProtKB</td>\n",
       "      <td>A0A024RBG1</td>\n",
       "      <td>NUDT4B</td>\n",
       "      <td>enables</td>\n",
       "      <td>GO:0052842</td>\n",
       "      <td>GO_REF:0000003</td>\n",
       "      <td>IEA</td>\n",
       "      <td>EC:3.6.1.52</td>\n",
       "      <td>F</td>\n",
       "      <td>Diphosphoinositol polyphosphate phosphohydrola...</td>\n",
       "      <td>NUDT4B</td>\n",
       "      <td>protein</td>\n",
       "      <td>taxon:9606</td>\n",
       "      <td>20210612</td>\n",
       "      <td>UniProt</td>\n",
       "      <td>NaN</td>\n",
       "      <td>NaN</td>\n",
       "    </tr>\n",
       "    <tr>\n",
       "      <th>4</th>\n",
       "      <td>UniProtKB</td>\n",
       "      <td>A0A024RBG1</td>\n",
       "      <td>NUDT4B</td>\n",
       "      <td>located_in</td>\n",
       "      <td>GO:0005829</td>\n",
       "      <td>GO_REF:0000052</td>\n",
       "      <td>IDA</td>\n",
       "      <td>NaN</td>\n",
       "      <td>C</td>\n",
       "      <td>Diphosphoinositol polyphosphate phosphohydrola...</td>\n",
       "      <td>NUDT4B</td>\n",
       "      <td>protein</td>\n",
       "      <td>taxon:9606</td>\n",
       "      <td>20161204</td>\n",
       "      <td>HPA</td>\n",
       "      <td>NaN</td>\n",
       "      <td>NaN</td>\n",
       "    </tr>\n",
       "  </tbody>\n",
       "</table>\n",
       "</div>"
      ],
      "text/plain": [
       "          DB DB Object ID DB Object Symbol   Qualifier       GO ID  \\\n",
       "0  UniProtKB   A0A024RBG1           NUDT4B     enables  GO:0003723   \n",
       "1  UniProtKB   A0A024RBG1           NUDT4B     enables  GO:0046872   \n",
       "2  UniProtKB   A0A024RBG1           NUDT4B     enables  GO:0052840   \n",
       "3  UniProtKB   A0A024RBG1           NUDT4B     enables  GO:0052842   \n",
       "4  UniProtKB   A0A024RBG1           NUDT4B  located_in  GO:0005829   \n",
       "\n",
       "        Reference Evidence Code          With or From Aspect  \\\n",
       "0  GO_REF:0000043           IEA  UniProtKB-KW:KW-0694      F   \n",
       "1  GO_REF:0000043           IEA  UniProtKB-KW:KW-0479      F   \n",
       "2  GO_REF:0000003           IEA           EC:3.6.1.52      F   \n",
       "3  GO_REF:0000003           IEA           EC:3.6.1.52      F   \n",
       "4  GO_REF:0000052           IDA                   NaN      C   \n",
       "\n",
       "                                                Name Synonym     Type  \\\n",
       "0  Diphosphoinositol polyphosphate phosphohydrola...  NUDT4B  protein   \n",
       "1  Diphosphoinositol polyphosphate phosphohydrola...  NUDT4B  protein   \n",
       "2  Diphosphoinositol polyphosphate phosphohydrola...  NUDT4B  protein   \n",
       "3  Diphosphoinositol polyphosphate phosphohydrola...  NUDT4B  protein   \n",
       "4  Diphosphoinositol polyphosphate phosphohydrola...  NUDT4B  protein   \n",
       "\n",
       "        Taxon      Date Assigned By Annotation Extension  Gene Product Form ID  \n",
       "0  taxon:9606  20210612     UniProt                  NaN                   NaN  \n",
       "1  taxon:9606  20210612     UniProt                  NaN                   NaN  \n",
       "2  taxon:9606  20210612     UniProt                  NaN                   NaN  \n",
       "3  taxon:9606  20210612     UniProt                  NaN                   NaN  \n",
       "4  taxon:9606  20161204         HPA                  NaN                   NaN  "
      ]
     },
     "execution_count": 135,
     "metadata": {},
     "output_type": "execute_result"
    }
   ],
   "source": [
    "goa = pd.read_csv(\"functional_sim/data/goa_human.gaf.gz\", \n",
    "            compression='gzip', \n",
    "            header=None,\n",
    "            skiprows=41, \n",
    "            sep='\\t')\n",
    "goa.columns=[\"DB\",\n",
    "                    \"DB Object ID\",\n",
    "                    \"DB Object Symbol\",\n",
    "                    \"Qualifier\",\n",
    "                    \"GO ID\",\n",
    "                    \"Reference\",\n",
    "                    \"Evidence Code\",\n",
    "                    \"With or From\",\n",
    "                    \"Aspect\",\n",
    "                    \"Name\",\n",
    "                    \"Synonym\",\n",
    "                    \"Type\",\n",
    "                    \"Taxon\",\n",
    "                    \"Date\",\n",
    "                    \"Assigned By\",\n",
    "                    \"Annotation Extension\",\n",
    "                    \"Gene Product Form ID\"]\n",
    "goa.head()"
   ]
  },
  {
   "cell_type": "code",
   "execution_count": 164,
   "id": "d98667eb",
   "metadata": {},
   "outputs": [
    {
     "data": {
      "text/plain": [
       "(609748, 17)"
      ]
     },
     "execution_count": 164,
     "metadata": {},
     "output_type": "execute_result"
    }
   ],
   "source": [
    "goa.shape"
   ]
  },
  {
   "cell_type": "code",
   "execution_count": 137,
   "id": "0ac9f96b",
   "metadata": {},
   "outputs": [
    {
     "data": {
      "text/plain": [
       "array(['UniProtKB'], dtype=object)"
      ]
     },
     "execution_count": 137,
     "metadata": {},
     "output_type": "execute_result"
    }
   ],
   "source": [
    "goa[\"DB\"].unique()"
   ]
  },
  {
   "cell_type": "markdown",
   "id": "4394bfcf",
   "metadata": {},
   "source": [
    "The GOA human GAF file has 610K rows with protein IDs from UniProt."
   ]
  },
  {
   "cell_type": "code",
   "execution_count": 140,
   "id": "a6a74cfd",
   "metadata": {},
   "outputs": [
    {
     "data": {
      "text/plain": [
       "array(['enables', 'located_in', 'involved_in', 'part_of', 'NOT|enables',\n",
       "       'NOT|involved_in', 'is_active_in', 'NOT|colocalizes_with',\n",
       "       'colocalizes_with', 'acts_upstream_of_or_within', 'contributes_to',\n",
       "       'NOT|located_in', 'NOT|part_of', 'NOT|acts_upstream_of_or_within',\n",
       "       'acts_upstream_of', 'acts_upstream_of_positive_effect',\n",
       "       'acts_upstream_of_or_within_positive_effect',\n",
       "       'acts_upstream_of_or_within_negative_effect', 'NOT|contributes_to',\n",
       "       'acts_upstream_of_negative_effect',\n",
       "       'NOT|acts_upstream_of_or_within_negative_effect',\n",
       "       'NOT|is_active_in'], dtype=object)"
      ]
     },
     "execution_count": 140,
     "metadata": {},
     "output_type": "execute_result"
    }
   ],
   "source": [
    "goa[\"Qualifier\"].unique()"
   ]
  },
  {
   "cell_type": "code",
   "execution_count": 184,
   "id": "1eecc87b",
   "metadata": {},
   "outputs": [
    {
     "data": {
      "text/plain": [
       "19788"
      ]
     },
     "execution_count": 184,
     "metadata": {},
     "output_type": "execute_result"
    }
   ],
   "source": [
    "len(goa[\"DB Object ID\"].unique())"
   ]
  },
  {
   "cell_type": "code",
   "execution_count": 185,
   "id": "19d6cd30",
   "metadata": {},
   "outputs": [
    {
     "data": {
      "text/plain": [
       "19718"
      ]
     },
     "execution_count": 185,
     "metadata": {},
     "output_type": "execute_result"
    }
   ],
   "source": [
    "# DB Object Symbol\n",
    "len(goa[\"DB Object Symbol\"].unique())"
   ]
  },
  {
   "cell_type": "markdown",
   "id": "5431e9b9",
   "metadata": {},
   "source": [
    "There are about 20,000 unique proteins here. That's a great coverage. "
   ]
  },
  {
   "cell_type": "code",
   "execution_count": 139,
   "id": "efdbd559",
   "metadata": {},
   "outputs": [
    {
     "data": {
      "text/plain": [
       "18527"
      ]
     },
     "execution_count": 139,
     "metadata": {},
     "output_type": "execute_result"
    }
   ],
   "source": [
    "len(goa[\"GO ID\"].unique())"
   ]
  },
  {
   "cell_type": "code",
   "execution_count": 141,
   "id": "8b84d719",
   "metadata": {},
   "outputs": [
    {
     "data": {
      "text/plain": [
       "array(['IEA', 'IDA', 'TAS', 'IPI', 'IEP', 'ISS', 'NAS', 'IMP', 'ISA',\n",
       "       'HDA', 'EXP', 'ND', 'HEP', 'IC', 'RCA', 'HMP', 'IGI', 'IKR', 'IGC',\n",
       "       'ISO', 'ISM', 'IBA'], dtype=object)"
      ]
     },
     "execution_count": 141,
     "metadata": {},
     "output_type": "execute_result"
    }
   ],
   "source": [
    "goa[\"Evidence Code\"].unique()"
   ]
  },
  {
   "cell_type": "markdown",
   "id": "6bff06ff",
   "metadata": {},
   "source": [
    "Taxonomy should be human. Some proteins may be found in multiple organisms other than human, but in the end, every data point in this dataset is in some way related to human."
   ]
  },
  {
   "cell_type": "code",
   "execution_count": 183,
   "id": "43791d01",
   "metadata": {},
   "outputs": [
    {
     "data": {
      "text/plain": [
       "array(['taxon:9606', 'taxon:9606|taxon:1280', 'taxon:9606|taxon:33892',\n",
       "       'taxon:9606|taxon:11103', 'taxon:9606|taxon:11052',\n",
       "       'taxon:9606|taxon:562', 'taxon:9606|taxon:197911',\n",
       "       'taxon:9606|taxon:90370', 'taxon:9606|taxon:31649',\n",
       "       'taxon:9606|taxon:1313'], dtype=object)"
      ]
     },
     "execution_count": 183,
     "metadata": {},
     "output_type": "execute_result"
    }
   ],
   "source": [
    "goa[\"Taxon\"].unique()[0:10]"
   ]
  },
  {
   "cell_type": "code",
   "execution_count": 182,
   "id": "26277f4f",
   "metadata": {},
   "outputs": [
    {
     "data": {
      "text/plain": [
       "[]"
      ]
     },
     "execution_count": 182,
     "metadata": {},
     "output_type": "execute_result"
    }
   ],
   "source": [
    "[taxon for taxon in goa[\"Taxon\"].unique() if '9606' not in taxon]"
   ]
  },
  {
   "cell_type": "markdown",
   "id": "0f1ec049",
   "metadata": {},
   "source": [
    "**QC** \n",
    "\n",
    "Can I find all GO in the human GOA dataset within GO BASIC?\n",
    "\n",
    "\n",
    "I downloaded the GO Term hierarchy. The file I downloaded is `go-basic.obo` from http://geneontology.org/docs/download-ontology/ \n",
    "\n",
    "Description of the dataset from the source:\n",
    "> This is the basic version of the GO, filtered such that the graph is guaranteed to be acyclic and annotations can be propagated up the graph. The relations included are is a, part of, regulates, negatively regulates and positively regulates. This version excludes relationships that cross the 3 GO hierarchies. This version should be used with most GO-based annotation tools.\n",
    "go.obo and go."
   ]
  },
  {
   "cell_type": "code",
   "execution_count": null,
   "id": "b6ba6fac",
   "metadata": {},
   "outputs": [],
   "source": [
    "import obonet\n",
    "import networkx as nx\n",
    "gobasic = obonet.read_obo(\"functional_sim/data/go-basic.obo\")"
   ]
  },
  {
   "cell_type": "code",
   "execution_count": 290,
   "id": "bf2d59d7",
   "metadata": {},
   "outputs": [],
   "source": [
    "goa_goid_set = set(goa[\"GO ID\"])\n",
    "gobasic_set = set(gobasic.nodes)"
   ]
  },
  {
   "cell_type": "code",
   "execution_count": 291,
   "id": "4330c2cf",
   "metadata": {},
   "outputs": [
    {
     "data": {
      "text/plain": [
       "set()"
      ]
     },
     "execution_count": 291,
     "metadata": {},
     "output_type": "execute_result"
    }
   ],
   "source": [
    "goa_goid_set.difference(gobasic_set)"
   ]
  },
  {
   "cell_type": "markdown",
   "id": "46a1d0c7",
   "metadata": {},
   "source": [
    "GOA is a subset of gobasic, which is the full graph. "
   ]
  },
  {
   "cell_type": "code",
   "execution_count": 292,
   "id": "0c655cc6",
   "metadata": {},
   "outputs": [
    {
     "data": {
      "text/plain": [
       "25323"
      ]
     },
     "execution_count": 292,
     "metadata": {},
     "output_type": "execute_result"
    }
   ],
   "source": [
    "len(gobasic_set.difference(goa_goid_set))"
   ]
  },
  {
   "cell_type": "markdown",
   "id": "4cf6c6f2",
   "metadata": {},
   "source": [
    "I want to work only with GOMF. "
   ]
  },
  {
   "cell_type": "code",
   "execution_count": null,
   "id": "d411c190",
   "metadata": {},
   "outputs": [],
   "source": [
    "r_gobasic = nx.reverse_view(gobasic_sub)\n",
    "\n",
    "# 'GO:0003674' - This is the code for molecular function, which is the topmost parent\n",
    "# I'm interested in all the nodes that are 1 distance away from the topmost parent. \n"
   ]
  },
  {
   "cell_type": "code",
   "execution_count": null,
   "id": "8b4f81ea",
   "metadata": {},
   "outputs": [],
   "source": [
    "# # Do not run again if already calculated. Import pickle file. \n",
    "# shortest_from_root = dict(nx.all_pairs_shortest_path_length(r_gobasic))\n",
    "# with open('functional_sim/intermediary_data/shortest_from_root.pkl', 'wb') as file:\n",
    "#     pickle.dump(shortest_from_root, file)\n",
    "\n",
    "with open('functional_sim/intermediary_data/shortest_from_root.pkl', 'rb') as file:\n",
    "    shortest_from_root = pickle.load(file)    \n",
    "    "
   ]
  },
  {
   "cell_type": "code",
   "execution_count": 293,
   "id": "84e2b60c",
   "metadata": {},
   "outputs": [
    {
     "data": {
      "text/plain": [
       "43850"
      ]
     },
     "execution_count": 293,
     "metadata": {},
     "output_type": "execute_result"
    }
   ],
   "source": [
    "# How many GO's are in the shortest paths? \n",
    "len(shortest_from_root)"
   ]
  },
  {
   "cell_type": "code",
   "execution_count": 294,
   "id": "4be56b04",
   "metadata": {},
   "outputs": [
    {
     "data": {
      "text/plain": [
       "11168"
      ]
     },
     "execution_count": 294,
     "metadata": {},
     "output_type": "execute_result"
    }
   ],
   "source": [
    "# Here are how many eventually connect to our root, molecular_function.\n",
    "len(shortest_from_root['GO:0003674'])"
   ]
  },
  {
   "cell_type": "markdown",
   "id": "0d396a5a",
   "metadata": {},
   "source": [
    "There's a total of 11,168 GOMF terms in the GO-basic graph. In the human GAF dataset, there are only about 4,000. In addition to the species filter, the GAF dataset was filtered further through its QC checks. See [Gene Ontology wiki](http://wiki.geneontology.org/index.php/Release_Pipeline#Annotation_QC_checks) for more info."
   ]
  },
  {
   "cell_type": "code",
   "execution_count": 295,
   "id": "5ec2aaae",
   "metadata": {},
   "outputs": [
    {
     "data": {
      "text/plain": [
       "43850"
      ]
     },
     "execution_count": 295,
     "metadata": {},
     "output_type": "execute_result"
    }
   ],
   "source": [
    "# MF + BP + CC\n",
    "\n",
    "len(shortest_from_root['GO:0003674']\n",
    "   )+len(shortest_from_root['GO:0008150']\n",
    "        )+len(shortest_from_root['GO:0005575'])"
   ]
  },
  {
   "cell_type": "markdown",
   "id": "9b55fe4c",
   "metadata": {},
   "source": [
    "43850  total GOs covered. These three sub-ontologies cover all the gene ontologies! And these are mutually exclusive categories, since, for this dataset, the cross-sub-ontology relationships have been removed.\n"
   ]
  },
  {
   "cell_type": "code",
   "execution_count": 193,
   "id": "fd34d3c6",
   "metadata": {},
   "outputs": [
    {
     "data": {
      "text/plain": [
       "4431"
      ]
     },
     "execution_count": 193,
     "metadata": {},
     "output_type": "execute_result"
    }
   ],
   "source": [
    "# GOMF only \n",
    "\n",
    "goa_goid_mf = [goid for goid in set(goa[\"GO ID\"]) if goid in shortest_from_root['GO:0003674'] ]\n",
    "len(goa_goid_mf)"
   ]
  },
  {
   "cell_type": "code",
   "execution_count": 194,
   "id": "cfbbce47",
   "metadata": {},
   "outputs": [
    {
     "data": {
      "text/plain": [
       "['GO:0005412',\n",
       " 'GO:0035254',\n",
       " 'GO:0005035',\n",
       " 'GO:0031690',\n",
       " 'GO:0046980',\n",
       " 'GO:1990247',\n",
       " 'GO:0050567',\n",
       " 'GO:0052630',\n",
       " 'GO:0052814',\n",
       " 'GO:0003943']"
      ]
     },
     "execution_count": 194,
     "metadata": {},
     "output_type": "execute_result"
    }
   ],
   "source": [
    "goa_goid_mf[0:10]"
   ]
  },
  {
   "cell_type": "markdown",
   "id": "245708dc",
   "metadata": {},
   "source": [
    "# Implement Functional Similarity Formula"
   ]
  },
  {
   "cell_type": "markdown",
   "id": "ab7420f9",
   "metadata": {},
   "source": [
    "> M is the number of genes annotated by term t"
   ]
  },
  {
   "cell_type": "code",
   "execution_count": 356,
   "id": "7968b6b1",
   "metadata": {},
   "outputs": [],
   "source": [
    "M = goa[goa['GO ID'].isin(goa_goid_mf)].pivot_table(index='GO ID',\n",
    "                values='DB Object ID',\n",
    "                aggfunc=pd.Series.nunique\n",
    "               ).to_dict()['DB Object ID']"
   ]
  },
  {
   "cell_type": "code",
   "execution_count": 357,
   "id": "66afd41f",
   "metadata": {},
   "outputs": [
    {
     "data": {
      "text/plain": [
       "2"
      ]
     },
     "execution_count": 357,
     "metadata": {},
     "output_type": "execute_result"
    }
   ],
   "source": [
    "M['GO:0000009']"
   ]
  },
  {
   "cell_type": "code",
   "execution_count": 213,
   "id": "e1667f8a",
   "metadata": {},
   "outputs": [
    {
     "data": {
      "text/plain": [
       "4431"
      ]
     },
     "execution_count": 213,
     "metadata": {},
     "output_type": "execute_result"
    }
   ],
   "source": [
    "len(M)"
   ]
  },
  {
   "cell_type": "markdown",
   "id": "0c226e2b",
   "metadata": {},
   "source": [
    "> N is the total number of genes in the annotating corpus."
   ]
  },
  {
   "cell_type": "code",
   "execution_count": 358,
   "id": "27e31831",
   "metadata": {},
   "outputs": [
    {
     "data": {
      "text/plain": [
       "18240"
      ]
     },
     "execution_count": 358,
     "metadata": {},
     "output_type": "execute_result"
    }
   ],
   "source": [
    "N = len(goa[goa['GO ID'].isin(goa_goid_mf)]['DB Object ID'].unique())\n",
    "N"
   ]
  },
  {
   "cell_type": "markdown",
   "id": "d2a4f186",
   "metadata": {},
   "source": [
    "> The information content (IC) of a GO term t is defined by negative log-likelihood:\n",
    "$$IC(t)=-log(p(t))$$\n",
    "> where term probability P(t) of term t is determined from the annotations of the corpus (corpus-based) or from the structure of the DAG (structure-based). [...] Corpus-based methods evaluate the term probability as\n",
    "$$p(t)= \\frac{M}{N}$$"
   ]
  },
  {
   "cell_type": "code",
   "execution_count": 221,
   "id": "a0a5602a",
   "metadata": {},
   "outputs": [],
   "source": [
    "IC_t = {\n",
    "    t: -np.log(m/N) for t, m in M.items()\n",
    "}"
   ]
  },
  {
   "cell_type": "code",
   "execution_count": 297,
   "id": "f3522e2b",
   "metadata": {},
   "outputs": [
    {
     "data": {
      "text/plain": [
       "9.808847148382007"
      ]
     },
     "execution_count": 297,
     "metadata": {},
     "output_type": "execute_result"
    }
   ],
   "source": [
    "IC_t['GO:0001010']"
   ]
  },
  {
   "cell_type": "code",
   "execution_count": 298,
   "id": "439c3058",
   "metadata": {},
   "outputs": [
    {
     "data": {
      "text/plain": [
       "4431"
      ]
     },
     "execution_count": 298,
     "metadata": {},
     "output_type": "execute_result"
    }
   ],
   "source": [
    "len(IC_t)"
   ]
  },
  {
   "cell_type": "markdown",
   "id": "f132282a",
   "metadata": {},
   "source": [
    "> **Functional similarity measures between two genes**\n",
    "> \n",
    "> Functional similarity (FS) between two genes is computed using the ICs of individual terms (term-based) or the semantic similarities between the pairs of terms (term pair-based) or among the set of terms (term set-based). Let 𝑇𝑔1\n",
    "and 𝑇𝑔2 be the set of GO terms annotating genes g1 and g2, respectively. Term-based measures such as GIC1 (Jaccard index), DIC39 (dice index), and UIC39 (universal index) are defined using ICs of individual terms:\n",
    ">\n",
    "> GIC\n",
    "$$FS({g}_{1},\\,{g}_{2})=\\frac{{\\sum }_{t\\in {T}_{{g}_{1}}\\cap {T}_{{g}_{2}}}IC(t)}{{\\sum }_{t\\in {T}_{{g}_{1}}\\cup {T}_{{g}_{2}}}IC(t)}$$\n"
   ]
  },
  {
   "cell_type": "markdown",
   "id": "b407c3e5",
   "metadata": {},
   "source": [
    "For each protein (instead of gene) find the set of relevant terms."
   ]
  },
  {
   "cell_type": "code",
   "execution_count": 359,
   "id": "f33244f2",
   "metadata": {},
   "outputs": [
    {
     "data": {
      "text/plain": [
       "{'GO:0019901'}"
      ]
     },
     "execution_count": 359,
     "metadata": {},
     "output_type": "execute_result"
    }
   ],
   "source": [
    "goa_by_protein = goa[goa['GO ID'].isin(goa_goid_mf)].pivot_table(\n",
    "    index=[\"DB Object ID\"],\n",
    "    values=[\"GO ID\"],\n",
    "    aggfunc=lambda x:set(x)\n",
    ").to_dict()['GO ID']\n",
    "\n",
    "goa_by_protein['A0A087WT57']"
   ]
  },
  {
   "cell_type": "code",
   "execution_count": 300,
   "id": "de843208",
   "metadata": {},
   "outputs": [
    {
     "data": {
      "text/plain": [
       "18193"
      ]
     },
     "execution_count": 300,
     "metadata": {},
     "output_type": "execute_result"
    }
   ],
   "source": [
    "len(goa_by_protein)"
   ]
  },
  {
   "cell_type": "markdown",
   "id": "0cc940a1",
   "metadata": {},
   "source": [
    "## Sample Functional Similarity"
   ]
  },
  {
   "cell_type": "code",
   "execution_count": 365,
   "id": "b95bb238",
   "metadata": {},
   "outputs": [],
   "source": [
    "# Sample proteins\n",
    "\n",
    "protein_A = 'Q5TAX3'\n",
    "protein_B = 'Q5TB30'"
   ]
  },
  {
   "cell_type": "code",
   "execution_count": 366,
   "id": "d81c7706",
   "metadata": {},
   "outputs": [
    {
     "data": {
      "text/plain": [
       "{'GO:0003723',\n",
       " 'GO:0005515',\n",
       " 'GO:0008270',\n",
       " 'GO:0016779',\n",
       " 'GO:0035198',\n",
       " 'GO:0050265'}"
      ]
     },
     "execution_count": 366,
     "metadata": {},
     "output_type": "execute_result"
    }
   ],
   "source": [
    "goa_by_protein[protein_A]"
   ]
  },
  {
   "cell_type": "code",
   "execution_count": 367,
   "id": "303f87fd",
   "metadata": {},
   "outputs": [
    {
     "data": {
      "text/plain": [
       "AdjacencyView({'GO:0022857': {'is_a': {}}})"
      ]
     },
     "execution_count": 367,
     "metadata": {},
     "output_type": "execute_result"
    }
   ],
   "source": [
    "gobasic['GO:0071714']"
   ]
  },
  {
   "cell_type": "code",
   "execution_count": 368,
   "id": "689131c3",
   "metadata": {},
   "outputs": [
    {
     "data": {
      "text/plain": [
       "AdjacencyView({'GO:0005215': {'is_a': {}}})"
      ]
     },
     "execution_count": 368,
     "metadata": {},
     "output_type": "execute_result"
    }
   ],
   "source": [
    "gobasic['GO:0022857']"
   ]
  },
  {
   "cell_type": "code",
   "execution_count": 369,
   "id": "cf5381b8",
   "metadata": {},
   "outputs": [
    {
     "data": {
      "text/plain": [
       "{'GO:0005096', 'GO:0005515'}"
      ]
     },
     "execution_count": 369,
     "metadata": {},
     "output_type": "execute_result"
    }
   ],
   "source": [
    "goa_by_protein[protein_B]"
   ]
  },
  {
   "cell_type": "code",
   "execution_count": 370,
   "id": "f488d0a1",
   "metadata": {},
   "outputs": [
    {
     "data": {
      "text/plain": [
       "{'GO:0005515'}"
      ]
     },
     "execution_count": 370,
     "metadata": {},
     "output_type": "execute_result"
    }
   ],
   "source": [
    "# Intersection of the terms\n",
    "goa_by_protein[protein_A].intersection(goa_by_protein[protein_B])"
   ]
  },
  {
   "cell_type": "code",
   "execution_count": 427,
   "id": "ae1d9320",
   "metadata": {},
   "outputs": [
    {
     "data": {
      "text/plain": [
       "0.011927170492379131"
      ]
     },
     "execution_count": 427,
     "metadata": {},
     "output_type": "execute_result"
    }
   ],
   "source": [
    "ev.jaccard_sim_protein_go(protein_A, protein_B, goa_by_protein, IC_t)"
   ]
  },
  {
   "cell_type": "markdown",
   "id": "36ecb80c",
   "metadata": {},
   "source": [
    "# Run on model cluster"
   ]
  },
  {
   "cell_type": "code",
   "execution_count": 312,
   "id": "371754e1",
   "metadata": {},
   "outputs": [],
   "source": [
    "prefix='model_outputs/no_cluster_size_limit/'\n",
    "clusters = gcs.download_pkl(prefix+'B2_clusters.pkl')\n",
    "all_protein_combos_per_cluster = gcs.download_parquet(prefix+'B2-HDBSCAN-SeqVec-all_protein_combos_per_cluster.parquet')"
   ]
  },
  {
   "cell_type": "code",
   "execution_count": 428,
   "id": "2e6b4f06",
   "metadata": {},
   "outputs": [
    {
     "name": "stdout",
     "output_type": "stream",
     "text": [
      "Total number of proteins in GO annotations: 18240\n"
     ]
    }
   ],
   "source": [
    "# importlib.reload(ev)\n",
    "cluster_funsim = ev.funsim(all_protein_combos_per_cluster, goa=goa)"
   ]
  },
  {
   "cell_type": "code",
   "execution_count": 429,
   "id": "9d3a61f5",
   "metadata": {},
   "outputs": [
    {
     "data": {
      "text/plain": [
       "(757, 4)"
      ]
     },
     "execution_count": 429,
     "metadata": {},
     "output_type": "execute_result"
    }
   ],
   "source": [
    "cluster_funsim.shape"
   ]
  },
  {
   "cell_type": "code",
   "execution_count": 432,
   "id": "68c5feb7",
   "metadata": {},
   "outputs": [
    {
     "data": {
      "text/plain": [
       "(758,)"
      ]
     },
     "execution_count": 432,
     "metadata": {},
     "output_type": "execute_result"
    }
   ],
   "source": [
    "clusters.cluster_label.unique().shape"
   ]
  }
 ],
 "metadata": {
  "kernelspec": {
   "display_name": "Python 3 (ipykernel)",
   "language": "python",
   "name": "python3"
  },
  "language_info": {
   "codemirror_mode": {
    "name": "ipython",
    "version": 3
   },
   "file_extension": ".py",
   "mimetype": "text/x-python",
   "name": "python",
   "nbconvert_exporter": "python",
   "pygments_lexer": "ipython3",
   "version": "3.9.7"
  }
 },
 "nbformat": 4,
 "nbformat_minor": 5
}
