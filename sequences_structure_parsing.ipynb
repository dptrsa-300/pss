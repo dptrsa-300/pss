{
 "cells": [
  {
   "cell_type": "code",
   "execution_count": null,
   "id": "02516a7b",
   "metadata": {},
   "outputs": [],
   "source": [
    "%load_ext autoreload\n",
    "%autoreload 2"
   ]
  },
  {
   "cell_type": "code",
   "execution_count": null,
   "id": "e32cf4b6-8925-43ea-8de9-9c75cdecc217",
   "metadata": {},
   "outputs": [],
   "source": [
    "# %%bash\n",
    "# MINICONDA_INSTALLER_SCRIPT=Miniconda3-4.5.4-Linux-x86_64.sh\n",
    "# MINICONDA_PREFIX=/usr/local\n",
    "# wget https://repo.continuum.io/miniconda/$MINICONDA_INSTALLER_SCRIPT\n",
    "# chmod +x $MINICONDA_INSTALLER_SCRIPT\n",
    "# ./$MINICONDA_INSTALLER_SCRIPT -b -f -p $MINICONDA_PREFIX"
   ]
  },
  {
   "cell_type": "code",
   "execution_count": 2,
   "id": "134b0686",
   "metadata": {},
   "outputs": [],
   "source": [
    "import gzip\n",
    "import time\n",
    "from multiprocessing import Pool\n",
    "import numpy as np\n",
    "import pandas as pd\n",
    "from tqdm.auto import tqdm\n",
    "import utils.gcs_utils as gcs\n",
    "import utils.spark_utils as sprk\n",
    "from utils.proteins import *"
   ]
  },
  {
   "cell_type": "code",
   "execution_count": 7,
   "id": "66dd592e-15ef-41c4-b412-d8243930b49a",
   "metadata": {},
   "outputs": [],
   "source": [
    "home_path = \"~/mids/pss\""
   ]
  },
  {
   "cell_type": "code",
   "execution_count": null,
   "id": "7bfd85b5",
   "metadata": {},
   "outputs": [],
   "source": [
    "files = gcs.list_keys(\"UP000005640_9606_HUMAN/cif\")"
   ]
  },
  {
   "cell_type": "markdown",
   "id": "e4441943-9f41-48e5-bf0b-970ef537f4b4",
   "metadata": {},
   "source": [
    "## Parse sequences and atom sites\n",
    "*reduce files that are multipart*"
   ]
  },
  {
   "cell_type": "code",
   "execution_count": null,
   "id": "a258243c-18d0-4565-98e1-32d8e2f4a0e3",
   "metadata": {},
   "outputs": [],
   "source": [
    "def parse_cif_file_in_cloud(key):\n",
    "    content = gcs.download_gzip_to_string(key)\n",
    "    parsed_cif = parse_cif(content)\n",
    "    file_name = key.strip(\".cif.gz\").split(\"/\")[-1]\n",
    "\n",
    "    sequence = get_protein_sequence_from_cif(parsed_cif)\n",
    "    sequence['protein_filename'] = file_name\n",
    "    sequence['protein_id'] = get_protein_id_from_filename(file_name)\n",
    "    sequence['confidence_pLDDT'] = get_global_confidence_from_cif(parsed_cif)\n",
    "\n",
    "    atoms = get_atom_sites_from_cif(parsed_cif)\n",
    "    atoms['protein_filename'] = file_name\n",
    "    atoms['protein_id'] = get_protein_id_from_filename(file_name)\n",
    "    \n",
    "    struct_shape_explode = get_protein_shapes_from_cif(parsed_cif)\n",
    "    atoms_w_shape = join_atoms_with_shape(atoms, struct_shape_explode)\n",
    "    \n",
    "    local_confidence = get_local_confidence_from_cif(parsed_cif)\n",
    "    atoms = sort_by_file_number_and_index(join_atoms_with_confidence(atoms_w_shape, local_confidence))\n",
    "    return sequence, atoms"
   ]
  },
  {
   "cell_type": "code",
   "execution_count": null,
   "id": "0b7a309d",
   "metadata": {},
   "outputs": [],
   "source": [
    "sequences = []\n",
    "\n",
    "# could potentially use spark here with wholeTextFile reader but that is not necessary in our usecase\n",
    "for i in tqdm(range(len(files) // 1000 + 1)):\n",
    "    with Pool() as p:\n",
    "        structures = p.map(parse_cif_file_in_cloud, files[i*1000:(i+1)*1000])\n",
    "    sequences_part, atom_sites_part = zip(*structures)\n",
    "    sequences.append(pd.concat(sequences_part))\n",
    "\n",
    "    # this grows quickly, so we will write these in parts\n",
    "    pd.concat(atom_sites_part).to_parquet(path=f\"{home_path}/structure_files/atom_sites/atom_sites_part_{str(i).zfill(2)}.parquet\")"
   ]
  },
  {
   "cell_type": "code",
   "execution_count": null,
   "id": "5e5f2cfb",
   "metadata": {},
   "outputs": [],
   "source": [
    "sequences_df = reduce_sequence_df(pd.concat(sequences))\n",
    "sequences_df.to_parquet(path=f\"{home_path}/structure_files/sequences/sequences.parquet\")"
   ]
  },
  {
   "cell_type": "code",
   "execution_count": null,
   "id": "536a9a1d-2878-4078-9b3e-2f32614f986d",
   "metadata": {},
   "outputs": [],
   "source": [
    "sequences_df = pd.read_parquet(path=f\"{home_path}/structure_files/sequences/sequences.parquet\")\n",
    "sequences_df.head()"
   ]
  },
  {
   "cell_type": "code",
   "execution_count": 10,
   "id": "abf1286c-4846-4572-8179-4bb61d078d8d",
   "metadata": {},
   "outputs": [
    {
     "data": {
      "text/plain": [
       "Index(['group_PDB', 'id', 'type_symbol', 'label_atom_id', 'label_alt_id',\n",
       "       'label_comp_id', 'label_asym_id', 'label_entity_id', 'label_seq_id',\n",
       "       'pdbx_PDB_ins_code', 'Cartn_x', 'Cartn_y', 'Cartn_z', 'occupancy',\n",
       "       'B_iso_or_equiv', 'pdbx_formal_charge', 'auth_seq_id', 'auth_comp_id',\n",
       "       'auth_asym_id', 'auth_atom_id', 'pdbx_PDB_model_num',\n",
       "       'pdbx_sifts_xref_db_acc', 'pdbx_sifts_xref_db_name',\n",
       "       'pdbx_sifts_xref_db_num', 'pdbx_sifts_xref_db_res', 'protein_filename',\n",
       "       'protein_id', 'shape.beg_label_comp_id', 'shape.beg_label_seq_id',\n",
       "       'shape.conf_type_id', 'shape.end_label_comp_id',\n",
       "       'shape.end_label_seq_id', 'shape.id', 'confidence_pLDDT'],\n",
       "      dtype='object')"
      ]
     },
     "execution_count": 10,
     "metadata": {},
     "output_type": "execute_result"
    }
   ],
   "source": [
    "atom_sites_df = pd.read_parquet(path=f\"{home_path}/atom_sites/atom_sites_part_00.parquet\")\n",
    "atom_sites_df.head().columns"
   ]
  },
  {
   "cell_type": "code",
   "execution_count": 14,
   "id": "d9790247-73ee-42b0-ad20-8c901763129a",
   "metadata": {},
   "outputs": [
    {
     "data": {
      "text/plain": [
       "array([['-52.339', '-6.285', '37.051'],\n",
       "       ['-52.217', '-6.121', '35.586'],\n",
       "       ['-51.273', '-4.965', '35.324'],\n",
       "       ['-53.569', '-5.788', '34.933'],\n",
       "       ['-51.503', '-3.922', '35.912'],\n",
       "       ['-54.554', '-6.956', '34.939'],\n",
       "       ['-56.176', '-6.468', '34.307'],\n",
       "       ['-57.069', '-8.042', '34.423'],\n",
       "       ['-50.236', '-5.171', '34.510'],\n",
       "       ['-49.535', '-4.155', '33.697'],\n",
       "       ['-48.042', '-4.478', '33.581'],\n",
       "       ['-49.730', '-2.697', '34.140'],\n",
       "       ['-47.219', '-4.033', '34.374'],\n",
       "       ['-49.019', '-1.843', '33.272'],\n",
       "       ['-47.745', '-5.248', '32.536'],\n",
       "       ['-46.608', '-5.043', '31.636'],\n",
       "       ['-45.203', '-5.058', '32.240'],\n",
       "       ['-46.877', '-3.811', '30.766'],\n",
       "       ['-44.460', '-4.081', '32.191'],\n",
       "       ['-48.163', '-3.941', '30.180'],\n",
       "       ['-44.776', '-6.246', '32.660'],\n",
       "       ['-43.463', '-6.703', '32.213'],\n",
       "       ['-43.632', '-7.090', '30.745'],\n",
       "       ['-43.027', '-7.931', '33.029'],\n",
       "       ['-44.460', '-7.953', '30.501'],\n",
       "       ['-42.784', '-7.628', '34.480'],\n",
       "       ['-43.655', '-7.832', '35.516'],\n",
       "       ['-41.641', '-7.078', '35.010'],\n",
       "       ['-41.821', '-6.948', '36.335'],\n",
       "       ['-43.032', '-7.397', '36.688'],\n",
       "       ['-42.957', '-6.417', '29.808'],\n",
       "       ['-42.488', '-6.944', '28.506'],\n",
       "       ['-42.108', '-5.780', '27.566'],\n",
       "       ['-43.495', '-7.876', '27.790'],\n",
       "       ['-42.914', '-4.909', '27.262'],\n",
       "       ['-43.438', '-9.337', '28.300'],\n",
       "       ['-42.583', '-10.232', '27.420'],\n",
       "       ['-41.368', '-10.329', '27.721'],\n",
       "       ['-43.127', '-10.756', '26.427'],\n",
       "       ['-40.860', '-5.791', '27.083'],\n",
       "       ['-40.478', '-5.161', '25.812'],\n",
       "       ['-40.166', '-3.660', '25.811'],\n",
       "       ['-41.036', '-2.828', '25.600'],\n",
       "       ['-38.881', '-3.291', '25.888'],\n",
       "       ['-38.487', '-1.930', '25.504'],\n",
       "       ['-37.010', '-1.710', '25.204'],\n",
       "       ['-36.668', '-1.280', '24.110'],\n",
       "       ['-36.095', '-1.956', '26.153'],\n",
       "       ['-34.742', '-1.357', '26.039'],\n",
       "       ['-33.541', '-2.246', '26.374'],\n",
       "       ['-34.725', '0.009', '26.763'],\n",
       "       ['-32.429', '-1.743', '26.473'],\n",
       "       ['-35.554', '1.069', '26.009'],\n",
       "       ['-35.431', '2.465', '26.629'],\n",
       "       ['-36.253', '3.470', '25.807'],\n",
       "       ['-36.196', '4.844', '26.375'],\n",
       "       ['-33.695', '-3.574', '26.466'],\n",
       "       ['-32.540', '-4.471', '26.708'],\n",
       "       ['-31.724', '-4.852', '25.460'],\n",
       "       ['-32.938', '-5.691', '27.563'],\n",
       "       ['-30.582', '-5.274', '25.619'],\n",
       "       ['-32.790', '-5.394', '29.069'],\n",
       "       ['-33.040', '-6.647', '29.929'],\n",
       "       ['-32.802', '-6.347', '31.419'],\n",
       "       ['-33.081', '-7.525', '32.286'],\n",
       "       ['-32.232', '-4.676', '24.230'],\n",
       "       ['-31.488', '-5.059', '23.005'],\n",
       "       ['-30.521', '-3.997', '22.456'],\n",
       "       ['-32.431', '-5.617', '21.917'],\n",
       "       ['-29.616', '-4.369', '21.717'],\n",
       "       ['-32.650', '-7.137', '22.069'],\n",
       "       ['-33.486', '-7.719', '20.913'],\n",
       "       ['-33.634', '-9.246', '21.039'],\n",
       "       ['-34.455', '-9.826', '19.939'],\n",
       "       ['-30.615', '-2.725', '22.853'],\n",
       "       ['-29.741', '-1.677', '22.301'],\n",
       "       ['-28.273', '-1.765', '22.775'],\n",
       "       ['-30.356', '-0.310', '22.625'],\n",
       "       ['-27.364', '-1.359', '22.060'],\n",
       "       ['-28.009', '-2.328', '23.959'],\n",
       "       ['-26.665', '-2.292', '24.556'],\n",
       "       ['-25.746', '-3.454', '24.146'],\n",
       "       ['-26.809', '-2.183', '26.086'],\n",
       "       ['-24.541', '-3.383', '24.386'],\n",
       "       ['-27.172', '-0.761', '26.558'],\n",
       "       ['-27.668', '-0.804', '28.002'],\n",
       "       ['-25.964', '0.179', '26.498'],\n",
       "       ['-26.276', '-4.535', '23.553'],\n",
       "       ['-25.526', '-5.800', '23.419'],\n",
       "       ['-24.919', '-6.062', '22.034'],\n",
       "       ['-26.382', '-6.967', '23.956'],\n",
       "       ['-24.098', '-6.966', '21.948'],\n",
       "       ['-25.621', '-8.242', '24.387'],\n",
       "       ['-24.723', '-8.078', '25.627'],\n",
       "       ['-24.125', '-9.441', '26.016'],\n",
       "       ['-23.109', '-9.336', '27.097'],\n",
       "       ['-25.249', '-5.303', '20.982'],\n",
       "       ['-24.719', '-5.575', '19.629'],\n",
       "       ['-24.099', '-4.423', '18.797'],\n",
       "       ['-25.750', '-6.385', '18.817']], dtype=object)"
      ]
     },
     "execution_count": 14,
     "metadata": {},
     "output_type": "execute_result"
    }
   ],
   "source": [
    "atom_sites_df[['Cartn_x', 'Cartn_y', 'Cartn_z']].iloc[:100,].to_numpy()"
   ]
  },
  {
   "cell_type": "code",
   "execution_count": null,
   "id": "2d7fcbe0",
   "metadata": {},
   "outputs": [],
   "source": []
  }
 ],
 "metadata": {
  "environment": {
   "name": "common-cu110.m80",
   "type": "gcloud",
   "uri": "gcr.io/deeplearning-platform-release/base-cu110:m80"
  },
  "kernelspec": {
   "display_name": "Python 3 (ipykernel)",
   "language": "python",
   "name": "python3"
  },
  "language_info": {
   "codemirror_mode": {
    "name": "ipython",
    "version": 3
   },
   "file_extension": ".py",
   "mimetype": "text/x-python",
   "name": "python",
   "nbconvert_exporter": "python",
   "pygments_lexer": "ipython3",
   "version": "3.9.7"
  }
 },
 "nbformat": 4,
 "nbformat_minor": 5
}
