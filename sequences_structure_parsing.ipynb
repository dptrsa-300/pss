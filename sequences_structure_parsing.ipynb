{
 "cells": [
  {
   "cell_type": "code",
   "execution_count": null,
   "id": "02516a7b",
   "metadata": {},
   "outputs": [],
   "source": [
    "%load_ext autoreload\n",
    "%autoreload 2"
   ]
  },
  {
   "cell_type": "code",
   "execution_count": null,
   "id": "e32cf4b6-8925-43ea-8de9-9c75cdecc217",
   "metadata": {},
   "outputs": [],
   "source": [
    "# %%bash\n",
    "# MINICONDA_INSTALLER_SCRIPT=Miniconda3-4.5.4-Linux-x86_64.sh\n",
    "# MINICONDA_PREFIX=/usr/local\n",
    "# wget https://repo.continuum.io/miniconda/$MINICONDA_INSTALLER_SCRIPT\n",
    "# chmod +x $MINICONDA_INSTALLER_SCRIPT\n",
    "# ./$MINICONDA_INSTALLER_SCRIPT -b -f -p $MINICONDA_PREFIX"
   ]
  },
  {
   "cell_type": "code",
   "execution_count": null,
   "id": "134b0686",
   "metadata": {},
   "outputs": [],
   "source": [
    "import gzip\n",
    "import time\n",
    "from multiprocessing import Pool\n",
    "import numpy as np\n",
    "import pandas as pd\n",
    "from tqdm.auto import tqdm\n",
    "import utils.gcs_utils as gcs\n",
    "import utils.spark_utils as sprk\n",
    "from utils.proteins import *"
   ]
  },
  {
   "cell_type": "code",
   "execution_count": null,
   "id": "66dd592e-15ef-41c4-b412-d8243930b49a",
   "metadata": {},
   "outputs": [],
   "source": [
    "home_path = \"/home/jupyter/pss\""
   ]
  },
  {
   "cell_type": "code",
   "execution_count": null,
   "id": "7bfd85b5",
   "metadata": {},
   "outputs": [],
   "source": [
    "files = gcs.list_keys(\"UP000005640_9606_HUMAN/cif\")"
   ]
  },
  {
   "cell_type": "markdown",
   "id": "e4441943-9f41-48e5-bf0b-970ef537f4b4",
   "metadata": {},
   "source": [
    "## Parse sequences and atom sites\n",
    "*reduce files that are multipart*"
   ]
  },
  {
   "cell_type": "code",
   "execution_count": null,
   "id": "a258243c-18d0-4565-98e1-32d8e2f4a0e3",
   "metadata": {},
   "outputs": [],
   "source": [
    "def parse_cif_file_in_cloud(key):\n",
    "    content = gcs.download_gzip_to_string(key)\n",
    "    parsed_cif = parse_cif(content)\n",
    "    file_name = key.strip(\".cif.gz\").split(\"/\")[-1]\n",
    "\n",
    "    sequence = get_protein_sequence_from_cif(parsed_cif)\n",
    "    sequence['protein_filename'] = file_name\n",
    "    sequence['protein_id'] = get_protein_id_from_filename(file_name)\n",
    "    sequence['confidence_pLDDT'] = get_global_confidence_from_cif(parsed_cif)\n",
    "\n",
    "    atoms = get_atom_sites_from_cif(parsed_cif)\n",
    "    atoms['protein_filename'] = file_name\n",
    "    atoms['protein_id'] = get_protein_id_from_filename(file_name)\n",
    "    \n",
    "    struct_shape_explode = get_protein_shapes_from_cif(parsed_cif)\n",
    "    atoms_w_shape = join_atoms_with_shape(atoms, struct_shape_explode)\n",
    "    \n",
    "    local_confidence = get_local_confidence_from_cif(parsed_cif)\n",
    "    atoms = sort_by_file_number_and_index(join_atoms_with_confidence(atoms_w_shape, local_confidence))\n",
    "    return sequence, atoms"
   ]
  },
  {
   "cell_type": "code",
   "execution_count": null,
   "id": "0b7a309d",
   "metadata": {},
   "outputs": [],
   "source": [
    "sequences = []\n",
    "\n",
    "# could potentially use spark here with wholeTextFile reader but that is not necessary in our usecase\n",
    "for i in tqdm(range(len(files) // 1000 + 1)):\n",
    "    with Pool() as p:\n",
    "        structures = p.map(parse_cif_file_in_cloud, files[i*1000:(i+1)*1000])\n",
    "    sequences_part, atom_sites_part = zip(*structures)\n",
    "    sequences.append(pd.concat(sequences_part))\n",
    "\n",
    "    # this grows quickly, so we will write these in parts\n",
    "    pd.concat(atom_sites_part).to_parquet(path=f\"{home_path}/structure_files/atom_sites/atom_sites_part_{str(i).zfill(2)}.parquet\")"
   ]
  },
  {
   "cell_type": "code",
   "execution_count": null,
   "id": "5e5f2cfb",
   "metadata": {},
   "outputs": [],
   "source": [
    "sequences_df = reduce_sequence_df(pd.concat(sequences))\n",
    "sequences_df.to_parquet(path=f\"{home_path}/structure_files/sequences/sequences.parquet\")"
   ]
  },
  {
   "cell_type": "code",
   "execution_count": null,
   "id": "536a9a1d-2878-4078-9b3e-2f32614f986d",
   "metadata": {},
   "outputs": [],
   "source": [
    "sequences_df = pd.read_parquet(path=f\"{home_path}/structure_files/sequences/sequences.parquet\")\n",
    "sequences_df.head()"
   ]
  },
  {
   "cell_type": "code",
   "execution_count": null,
   "id": "abf1286c-4846-4572-8179-4bb61d078d8d",
   "metadata": {},
   "outputs": [],
   "source": [
    "atom_sites_df = pd.read_parquet(path=f\"{home_path}/structure_files/atom_sites/atom_sites_part_00.parquet\")\n",
    "atom_sites_df.head()"
   ]
  },
  {
   "cell_type": "code",
   "execution_count": null,
   "id": "d9790247-73ee-42b0-ad20-8c901763129a",
   "metadata": {},
   "outputs": [],
   "source": []
  }
 ],
 "metadata": {
  "environment": {
   "name": "common-cu110.m80",
   "type": "gcloud",
   "uri": "gcr.io/deeplearning-platform-release/base-cu110:m80"
  },
  "kernelspec": {
   "display_name": "Python [conda env:pss]",
   "language": "python",
   "name": "conda-env-pss-py"
  },
  "language_info": {
   "codemirror_mode": {
    "name": "ipython",
    "version": 3
   },
   "file_extension": ".py",
   "mimetype": "text/x-python",
   "name": "python",
   "nbconvert_exporter": "python",
   "pygments_lexer": "ipython3",
   "version": "3.9.7"
  }
 },
 "nbformat": 4,
 "nbformat_minor": 5
}
