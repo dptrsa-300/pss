{
 "cells": [
  {
   "cell_type": "code",
   "execution_count": 1,
   "id": "02516a7b",
   "metadata": {},
   "outputs": [],
   "source": [
    "%load_ext autoreload\n",
    "%autoreload 2"
   ]
  },
  {
   "cell_type": "code",
   "execution_count": 2,
   "id": "e32cf4b6-8925-43ea-8de9-9c75cdecc217",
   "metadata": {},
   "outputs": [],
   "source": [
    "# %%bash\n",
    "# MINICONDA_INSTALLER_SCRIPT=Miniconda3-4.5.4-Linux-x86_64.sh\n",
    "# MINICONDA_PREFIX=/usr/local\n",
    "# wget https://repo.continuum.io/miniconda/$MINICONDA_INSTALLER_SCRIPT\n",
    "# chmod +x $MINICONDA_INSTALLER_SCRIPT\n",
    "# ./$MINICONDA_INSTALLER_SCRIPT -b -f -p $MINICONDA_PREFIX"
   ]
  },
  {
   "cell_type": "code",
   "execution_count": 3,
   "id": "134b0686",
   "metadata": {},
   "outputs": [],
   "source": [
    "import gzip\n",
    "import time\n",
    "from multiprocessing import Pool\n",
    "import numpy as np\n",
    "import pandas as pd\n",
    "from tqdm.auto import tqdm\n",
    "import utils.gcs_utils as gcs\n",
    "import utils.spark_utils as sprk\n",
    "from utils.proteins import *"
   ]
  },
  {
   "cell_type": "code",
   "execution_count": 4,
   "id": "862d44c2",
   "metadata": {},
   "outputs": [],
   "source": [
    "import numpy as np\n",
    "from bio_embeddings.embed import SeqVecEmbedder, ProtTransBertBFDEmbedder  "
   ]
  },
  {
   "cell_type": "code",
   "execution_count": 5,
   "id": "7bfd85b5",
   "metadata": {},
   "outputs": [],
   "source": [
    "files = gcs.list_keys(\"UP000005640_9606_HUMAN/cif\")"
   ]
  },
  {
   "cell_type": "markdown",
   "id": "e4441943-9f41-48e5-bf0b-970ef537f4b4",
   "metadata": {},
   "source": [
    "## Parse sequences and atom sites\n",
    "*reduce files that are multipart*"
   ]
  },
  {
   "cell_type": "code",
   "execution_count": 6,
   "id": "0b7a309d",
   "metadata": {},
   "outputs": [
    {
     "data": {
      "application/vnd.jupyter.widget-view+json": {
       "model_id": "5efa23a0d5484f52ae19fcb750b2e1d6",
       "version_major": 2,
       "version_minor": 0
      },
      "text/plain": [
       "  0%|          | 0/24 [00:00<?, ?it/s]"
      ]
     },
     "metadata": {},
     "output_type": "display_data"
    },
    {
     "ename": "SSLError",
     "evalue": "[SSL: WRONG_VERSION_NUMBER] wrong version number (_ssl.c:2633)",
     "output_type": "error",
     "traceback": [
      "\u001b[0;31m---------------------------------------------------------------------------\u001b[0m",
      "\u001b[0;31mRemoteTraceback\u001b[0m                           Traceback (most recent call last)",
      "\u001b[0;31mRemoteTraceback\u001b[0m: \n\"\"\"\nTraceback (most recent call last):\n  File \"/opt/conda/envs/pss/lib/python3.9/site-packages/urllib3/response.py\", line 438, in _error_catcher\n    yield\n  File \"/opt/conda/envs/pss/lib/python3.9/site-packages/urllib3/response.py\", line 519, in read\n    data = self._fp.read(amt) if not fp_closed else b\"\"\n  File \"/opt/conda/envs/pss/lib/python3.9/http/client.py\", line 462, in read\n    n = self.readinto(b)\n  File \"/opt/conda/envs/pss/lib/python3.9/http/client.py\", line 506, in readinto\n    n = self.fp.readinto(b)\n  File \"/opt/conda/envs/pss/lib/python3.9/socket.py\", line 704, in readinto\n    return self._sock.recv_into(b)\n  File \"/opt/conda/envs/pss/lib/python3.9/ssl.py\", line 1241, in recv_into\n    return self.read(nbytes, buffer)\n  File \"/opt/conda/envs/pss/lib/python3.9/ssl.py\", line 1099, in read\n    return self._sslobj.read(len, buffer)\nssl.SSLError: [SSL: WRONG_VERSION_NUMBER] wrong version number (_ssl.c:2633)\n\nDuring handling of the above exception, another exception occurred:\n\nTraceback (most recent call last):\n  File \"/opt/conda/envs/pss/lib/python3.9/multiprocessing/pool.py\", line 125, in worker\n    result = (True, func(*args, **kwds))\n  File \"/opt/conda/envs/pss/lib/python3.9/multiprocessing/pool.py\", line 48, in mapstar\n    return list(map(*args))\n  File \"/tmp/ipykernel_5856/1786615227.py\", line 4, in parse_cif_file_in_cloud\n    content = gcs.download_gzip_to_string(key)\n  File \"/home/jupyter/pss/utils/gcs_utils.py\", line 18, in download_gzip_to_string\n    with download_gzip(key) as f:\n  File \"/home/jupyter/pss/utils/gcs_utils.py\", line 14, in download_gzip\n    return gzip.open(io.BytesIO(blob.download_as_string()), mode=\"rt\")\n  File \"/opt/conda/envs/pss/lib/python3.9/site-packages/google/cloud/storage/blob.py\", line 1532, in download_as_string\n    return self.download_as_bytes(\n  File \"/opt/conda/envs/pss/lib/python3.9/site-packages/google/cloud/storage/blob.py\", line 1417, in download_as_bytes\n    client.download_blob_to_file(\n  File \"/opt/conda/envs/pss/lib/python3.9/site-packages/google/cloud/storage/client.py\", line 1113, in download_blob_to_file\n    blob_or_uri._do_download(\n  File \"/opt/conda/envs/pss/lib/python3.9/site-packages/google/cloud/storage/blob.py\", line 1003, in _do_download\n    response = download.consume(transport, timeout=timeout)\n  File \"/opt/conda/envs/pss/lib/python3.9/site-packages/google/resumable_media/requests/download.py\", line 174, in consume\n    return _helpers.wait_and_retry(\n  File \"/opt/conda/envs/pss/lib/python3.9/site-packages/google/resumable_media/_helpers.py\", line 182, in wait_and_retry\n    response = func()\n  File \"/opt/conda/envs/pss/lib/python3.9/site-packages/google/resumable_media/requests/download.py\", line 170, in retriable_request\n    self._write_to_stream(result)\n  File \"/opt/conda/envs/pss/lib/python3.9/site-packages/google/resumable_media/requests/download.py\", line 105, in _write_to_stream\n    for chunk in body_iter:\n  File \"/opt/conda/envs/pss/lib/python3.9/site-packages/requests/models.py\", line 753, in generate\n    for chunk in self.raw.stream(chunk_size, decode_content=True):\n  File \"/opt/conda/envs/pss/lib/python3.9/site-packages/urllib3/response.py\", line 576, in stream\n    data = self.read(amt=amt, decode_content=decode_content)\n  File \"/opt/conda/envs/pss/lib/python3.9/site-packages/urllib3/response.py\", line 541, in read\n    raise IncompleteRead(self._fp_bytes_read, self.length_remaining)\n  File \"/opt/conda/envs/pss/lib/python3.9/contextlib.py\", line 137, in __exit__\n    self.gen.throw(typ, value, traceback)\n  File \"/opt/conda/envs/pss/lib/python3.9/site-packages/urllib3/response.py\", line 449, in _error_catcher\n    raise SSLError(e)\nurllib3.exceptions.SSLError: [SSL: WRONG_VERSION_NUMBER] wrong version number (_ssl.c:2633)\n\"\"\"",
      "\nThe above exception was the direct cause of the following exception:\n",
      "\u001b[0;31mSSLError\u001b[0m                                  Traceback (most recent call last)",
      "\u001b[0;32m/tmp/ipykernel_5856/1786615227.py\u001b[0m in \u001b[0;36m<module>\u001b[0;34m\u001b[0m\n\u001b[1;32m     16\u001b[0m \u001b[0;32mfor\u001b[0m \u001b[0mi\u001b[0m \u001b[0;32min\u001b[0m \u001b[0mtqdm\u001b[0m\u001b[0;34m(\u001b[0m\u001b[0mrange\u001b[0m\u001b[0;34m(\u001b[0m\u001b[0mlen\u001b[0m\u001b[0;34m(\u001b[0m\u001b[0mfiles\u001b[0m\u001b[0;34m)\u001b[0m \u001b[0;34m//\u001b[0m \u001b[0;36m1000\u001b[0m \u001b[0;34m+\u001b[0m \u001b[0;36m1\u001b[0m\u001b[0;34m)\u001b[0m\u001b[0;34m)\u001b[0m\u001b[0;34m:\u001b[0m\u001b[0;34m\u001b[0m\u001b[0;34m\u001b[0m\u001b[0m\n\u001b[1;32m     17\u001b[0m     \u001b[0;32mwith\u001b[0m \u001b[0mPool\u001b[0m\u001b[0;34m(\u001b[0m\u001b[0;34m)\u001b[0m \u001b[0;32mas\u001b[0m \u001b[0mp\u001b[0m\u001b[0;34m:\u001b[0m\u001b[0;34m\u001b[0m\u001b[0;34m\u001b[0m\u001b[0m\n\u001b[0;32m---> 18\u001b[0;31m         \u001b[0mstructures\u001b[0m \u001b[0;34m=\u001b[0m \u001b[0mp\u001b[0m\u001b[0;34m.\u001b[0m\u001b[0mmap\u001b[0m\u001b[0;34m(\u001b[0m\u001b[0mparse_cif_file_in_cloud\u001b[0m\u001b[0;34m,\u001b[0m \u001b[0mfiles\u001b[0m\u001b[0;34m[\u001b[0m\u001b[0mi\u001b[0m\u001b[0;34m*\u001b[0m\u001b[0;36m1000\u001b[0m\u001b[0;34m:\u001b[0m\u001b[0;34m(\u001b[0m\u001b[0mi\u001b[0m\u001b[0;34m+\u001b[0m\u001b[0;36m1\u001b[0m\u001b[0;34m)\u001b[0m\u001b[0;34m*\u001b[0m\u001b[0;36m1000\u001b[0m\u001b[0;34m]\u001b[0m\u001b[0;34m)\u001b[0m\u001b[0;34m\u001b[0m\u001b[0;34m\u001b[0m\u001b[0m\n\u001b[0m\u001b[1;32m     19\u001b[0m         \u001b[0msequences_part\u001b[0m\u001b[0;34m,\u001b[0m \u001b[0matom_sites_part\u001b[0m \u001b[0;34m=\u001b[0m \u001b[0mzip\u001b[0m\u001b[0;34m(\u001b[0m\u001b[0;34m*\u001b[0m\u001b[0mstructures\u001b[0m\u001b[0;34m)\u001b[0m\u001b[0;34m\u001b[0m\u001b[0;34m\u001b[0m\u001b[0m\n\u001b[1;32m     20\u001b[0m         \u001b[0msequences\u001b[0m\u001b[0;34m.\u001b[0m\u001b[0mappend\u001b[0m\u001b[0;34m(\u001b[0m\u001b[0mpd\u001b[0m\u001b[0;34m.\u001b[0m\u001b[0mconcat\u001b[0m\u001b[0;34m(\u001b[0m\u001b[0msequences_part\u001b[0m\u001b[0;34m)\u001b[0m\u001b[0;34m)\u001b[0m\u001b[0;34m\u001b[0m\u001b[0;34m\u001b[0m\u001b[0m\n",
      "\u001b[0;32m/opt/conda/envs/pss/lib/python3.9/multiprocessing/pool.py\u001b[0m in \u001b[0;36mmap\u001b[0;34m(self, func, iterable, chunksize)\u001b[0m\n\u001b[1;32m    362\u001b[0m         \u001b[0;32min\u001b[0m \u001b[0ma\u001b[0m \u001b[0mlist\u001b[0m \u001b[0mthat\u001b[0m \u001b[0;32mis\u001b[0m \u001b[0mreturned\u001b[0m\u001b[0;34m.\u001b[0m\u001b[0;34m\u001b[0m\u001b[0;34m\u001b[0m\u001b[0m\n\u001b[1;32m    363\u001b[0m         '''\n\u001b[0;32m--> 364\u001b[0;31m         \u001b[0;32mreturn\u001b[0m \u001b[0mself\u001b[0m\u001b[0;34m.\u001b[0m\u001b[0m_map_async\u001b[0m\u001b[0;34m(\u001b[0m\u001b[0mfunc\u001b[0m\u001b[0;34m,\u001b[0m \u001b[0miterable\u001b[0m\u001b[0;34m,\u001b[0m \u001b[0mmapstar\u001b[0m\u001b[0;34m,\u001b[0m \u001b[0mchunksize\u001b[0m\u001b[0;34m)\u001b[0m\u001b[0;34m.\u001b[0m\u001b[0mget\u001b[0m\u001b[0;34m(\u001b[0m\u001b[0;34m)\u001b[0m\u001b[0;34m\u001b[0m\u001b[0;34m\u001b[0m\u001b[0m\n\u001b[0m\u001b[1;32m    365\u001b[0m \u001b[0;34m\u001b[0m\u001b[0m\n\u001b[1;32m    366\u001b[0m     \u001b[0;32mdef\u001b[0m \u001b[0mstarmap\u001b[0m\u001b[0;34m(\u001b[0m\u001b[0mself\u001b[0m\u001b[0;34m,\u001b[0m \u001b[0mfunc\u001b[0m\u001b[0;34m,\u001b[0m \u001b[0miterable\u001b[0m\u001b[0;34m,\u001b[0m \u001b[0mchunksize\u001b[0m\u001b[0;34m=\u001b[0m\u001b[0;32mNone\u001b[0m\u001b[0;34m)\u001b[0m\u001b[0;34m:\u001b[0m\u001b[0;34m\u001b[0m\u001b[0;34m\u001b[0m\u001b[0m\n",
      "\u001b[0;32m/opt/conda/envs/pss/lib/python3.9/multiprocessing/pool.py\u001b[0m in \u001b[0;36mget\u001b[0;34m(self, timeout)\u001b[0m\n\u001b[1;32m    769\u001b[0m             \u001b[0;32mreturn\u001b[0m \u001b[0mself\u001b[0m\u001b[0;34m.\u001b[0m\u001b[0m_value\u001b[0m\u001b[0;34m\u001b[0m\u001b[0;34m\u001b[0m\u001b[0m\n\u001b[1;32m    770\u001b[0m         \u001b[0;32melse\u001b[0m\u001b[0;34m:\u001b[0m\u001b[0;34m\u001b[0m\u001b[0;34m\u001b[0m\u001b[0m\n\u001b[0;32m--> 771\u001b[0;31m             \u001b[0;32mraise\u001b[0m \u001b[0mself\u001b[0m\u001b[0;34m.\u001b[0m\u001b[0m_value\u001b[0m\u001b[0;34m\u001b[0m\u001b[0;34m\u001b[0m\u001b[0m\n\u001b[0m\u001b[1;32m    772\u001b[0m \u001b[0;34m\u001b[0m\u001b[0m\n\u001b[1;32m    773\u001b[0m     \u001b[0;32mdef\u001b[0m \u001b[0m_set\u001b[0m\u001b[0;34m(\u001b[0m\u001b[0mself\u001b[0m\u001b[0;34m,\u001b[0m \u001b[0mi\u001b[0m\u001b[0;34m,\u001b[0m \u001b[0mobj\u001b[0m\u001b[0;34m)\u001b[0m\u001b[0;34m:\u001b[0m\u001b[0;34m\u001b[0m\u001b[0;34m\u001b[0m\u001b[0m\n",
      "\u001b[0;31mSSLError\u001b[0m: [SSL: WRONG_VERSION_NUMBER] wrong version number (_ssl.c:2633)"
     ]
    }
   ],
   "source": [
    "sequences = []\n",
    "\n",
    "def parse_cif_file_in_cloud(key):\n",
    "    content = gcs.download_gzip_to_string(key)\n",
    "    parsed_cif = parse_cif(content)\n",
    "    file_name = key.strip(\".cif.gz\").split(\"/\")[-1]\n",
    "\n",
    "    sequence = get_protein_sequence_from_cif(parsed_cif)\n",
    "    sequence['protein_name'] = file_name\n",
    "\n",
    "    atoms = get_atom_sites_from_cif(parsed_cif)\n",
    "    atoms['protein_name'] = file_name\n",
    "    return sequence, atoms\n",
    "\n",
    "# could potentially use spark here with wholeTextFile reader but that is not necessary in our usecase\n",
    "for i in tqdm(range(len(files) // 1000 + 1)):\n",
    "    with Pool() as p:\n",
    "        structures = p.map(parse_cif_file_in_cloud, files[i*1000:(i+1)*1000])\n",
    "    sequences_part, atom_sites_part = zip(*structures)\n",
    "    sequences.append(pd.concat(sequences_part))\n",
    "\n",
    "    # this grows quickly, so we will write these in parts\n",
    "    pd.concat(atom_sites_part).to_parquet(path=\"/home/jupyter/pss/vectorize/atom_sites_part_{str(i).zfill(2)}.parquet\")"
   ]
  },
  {
   "cell_type": "code",
   "execution_count": null,
   "id": "5e5f2cfb",
   "metadata": {},
   "outputs": [],
   "source": [
    "sequences_df = reduce_sequence_df(pd.concat(sequences))\n",
    "sequences_df.to_parquet(path=\"/home/jupyter/pss/vectorize/sequences.parquet\")"
   ]
  },
  {
   "cell_type": "code",
   "execution_count": null,
   "id": "536a9a1d-2878-4078-9b3e-2f32614f986d",
   "metadata": {},
   "outputs": [],
   "source": [
    "sequences_df = pd.read_parquet(path=\"/home/jupyter/pss/vectorize/sequences.parquet\")"
   ]
  },
  {
   "cell_type": "code",
   "execution_count": null,
   "id": "9fc384e4-c6af-4177-9be9-56673cd63fde",
   "metadata": {},
   "outputs": [],
   "source": [
    "pd.concat(atom_sites).to_parquet(path=\"/home/jupyter/pss/vectorize/atom_sites.parquet\")"
   ]
  },
  {
   "cell_type": "code",
   "execution_count": null,
   "id": "ac673668-7fa5-4719-9a9d-0682dec5966e",
   "metadata": {},
   "outputs": [],
   "source": [
    "atom_sites_df = pd.read_parquet(path=\"/home/jupyter/pss/vectorize/atom_sites.parquet\")"
   ]
  },
  {
   "cell_type": "markdown",
   "id": "f2f7ccbe-a3ed-4e7c-b550-25c38d635fdb",
   "metadata": {},
   "source": [
    "## Parse atom structures and reduce files that are multipart"
   ]
  },
  {
   "cell_type": "code",
   "execution_count": null,
   "id": "baba8b02-1a91-4c65-9168-6fbaa6bf4359",
   "metadata": {},
   "outputs": [],
   "source": []
  }
 ],
 "metadata": {
  "environment": {
   "name": "common-cu110.m80",
   "type": "gcloud",
   "uri": "gcr.io/deeplearning-platform-release/base-cu110:m80"
  },
  "kernelspec": {
   "display_name": "Python [conda env:pss]",
   "language": "python",
   "name": "conda-env-pss-py"
  },
  "language_info": {
   "codemirror_mode": {
    "name": "ipython",
    "version": 3
   },
   "file_extension": ".py",
   "mimetype": "text/x-python",
   "name": "python",
   "nbconvert_exporter": "python",
   "pygments_lexer": "ipython3",
   "version": "3.9.7"
  }
 },
 "nbformat": 4,
 "nbformat_minor": 5
}
