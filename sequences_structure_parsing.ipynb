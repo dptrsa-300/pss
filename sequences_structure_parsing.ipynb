{
 "cells": [
  {
   "cell_type": "code",
   "execution_count": 1,
   "id": "02516a7b",
   "metadata": {},
   "outputs": [],
   "source": [
    "%load_ext autoreload\n",
    "%autoreload 2"
   ]
  },
  {
   "cell_type": "code",
   "execution_count": 2,
   "id": "e32cf4b6-8925-43ea-8de9-9c75cdecc217",
   "metadata": {},
   "outputs": [],
   "source": [
    "# %%bash\n",
    "# MINICONDA_INSTALLER_SCRIPT=Miniconda3-4.5.4-Linux-x86_64.sh\n",
    "# MINICONDA_PREFIX=/usr/local\n",
    "# wget https://repo.continuum.io/miniconda/$MINICONDA_INSTALLER_SCRIPT\n",
    "# chmod +x $MINICONDA_INSTALLER_SCRIPT\n",
    "# ./$MINICONDA_INSTALLER_SCRIPT -b -f -p $MINICONDA_PREFIX"
   ]
  },
  {
   "cell_type": "code",
   "execution_count": 3,
   "id": "134b0686",
   "metadata": {},
   "outputs": [],
   "source": [
    "import gzip\n",
    "import time\n",
    "from multiprocessing import Pool\n",
    "import numpy as np\n",
    "import pandas as pd\n",
    "from tqdm.auto import tqdm\n",
    "import utils.gcs_utils as gcs\n",
    "import utils.spark_utils as sprk\n",
    "from utils.proteins import *"
   ]
  },
  {
   "cell_type": "code",
   "execution_count": 4,
   "id": "862d44c2",
   "metadata": {},
   "outputs": [],
   "source": [
    "import numpy as np\n",
    "from bio_embeddings.embed import SeqVecEmbedder, ProtTransBertBFDEmbedder  "
   ]
  },
  {
   "cell_type": "code",
   "execution_count": 5,
   "id": "7bfd85b5",
   "metadata": {},
   "outputs": [],
   "source": [
    "files = gcs.list_keys(\"UP000005640_9606_HUMAN/cif\")"
   ]
  },
  {
   "cell_type": "markdown",
   "id": "e4441943-9f41-48e5-bf0b-970ef537f4b4",
   "metadata": {},
   "source": [
    "## Parse sequences and atom sites\n",
    "*reduce files that are multipart*"
   ]
  },
  {
   "cell_type": "code",
   "execution_count": 8,
   "id": "0b7a309d",
   "metadata": {},
   "outputs": [
    {
     "data": {
      "application/vnd.jupyter.widget-view+json": {
       "model_id": "e413cea68fca4410b5deac68445284c0",
       "version_major": 2,
       "version_minor": 0
      },
      "text/plain": [
       "  0%|          | 0/24 [00:00<?, ?it/s]"
      ]
     },
     "metadata": {},
     "output_type": "display_data"
    }
   ],
   "source": [
    "sequences = []\n",
    "\n",
    "def parse_cif_file_in_cloud(key):\n",
    "    content = gcs.download_gzip_to_string(key)\n",
    "    parsed_cif = parse_cif(content)\n",
    "    file_name = key.strip(\".cif.gz\").split(\"/\")[-1]\n",
    "\n",
    "    sequence = get_protein_sequence_from_cif(parsed_cif)\n",
    "    sequence['protein_name'] = file_name\n",
    "\n",
    "    atoms = get_atom_sites_from_cif(parsed_cif)\n",
    "    atoms['protein_name'] = file_name\n",
    "    return sequence, atoms\n",
    "\n",
    "# could potentially use spark here with wholeTextFile reader but that is not necessary in our usecase\n",
    "for i in tqdm(range(len(files) // 1000 + 1)):\n",
    "    with Pool() as p:\n",
    "        structures = p.map(parse_cif_file_in_cloud, files[i*1000:(i+1)*1000])\n",
    "    sequences_part, atom_sites_part = zip(*structures)\n",
    "    sequences.append(pd.concat(sequences_part))\n",
    "\n",
    "    # this grows quickly, so we will write these in parts\n",
    "    pd.concat(atom_sites_part).to_parquet(path=f\"/home/jupyter/pss/structure_files/atom_sites/atom_sites_part_{str(i).zfill(2)}.parquet\")"
   ]
  },
  {
   "cell_type": "code",
   "execution_count": 9,
   "id": "5e5f2cfb",
   "metadata": {},
   "outputs": [],
   "source": [
    "sequences_df = reduce_sequence_df(pd.concat(sequences))\n",
    "sequences_df.to_parquet(path=\"/home/jupyter/pss/structure_files/sequences/sequences.parquet\")"
   ]
  },
  {
   "cell_type": "code",
   "execution_count": 11,
   "id": "536a9a1d-2878-4078-9b3e-2f32614f986d",
   "metadata": {},
   "outputs": [],
   "source": [
    "sequences_df = pd.read_parquet(path=\"/home/jupyter/pss/structure_files/sequences/sequences.parquet\")"
   ]
  },
  {
   "cell_type": "code",
   "execution_count": 13,
   "id": "ac673668-7fa5-4719-9a9d-0682dec5966e",
   "metadata": {},
   "outputs": [],
   "source": [
    "atom_sites_df = pd.read_parquet(path=\"/home/jupyter/pss/structure_files/atom_sites/atom_sites_part_00.parquet\")"
   ]
  },
  {
   "cell_type": "code",
   "execution_count": 12,
   "id": "baba8b02-1a91-4c65-9168-6fbaa6bf4359",
   "metadata": {},
   "outputs": [
    {
     "data": {
      "text/html": [
       "<div>\n",
       "<style scoped>\n",
       "    .dataframe tbody tr th:only-of-type {\n",
       "        vertical-align: middle;\n",
       "    }\n",
       "\n",
       "    .dataframe tbody tr th {\n",
       "        vertical-align: top;\n",
       "    }\n",
       "\n",
       "    .dataframe thead th {\n",
       "        text-align: right;\n",
       "    }\n",
       "</style>\n",
       "<table border=\"1\" class=\"dataframe\">\n",
       "  <thead>\n",
       "    <tr style=\"text-align: right;\">\n",
       "      <th></th>\n",
       "      <th>pdbx_db_accession</th>\n",
       "      <th>db_code</th>\n",
       "      <th>db_name</th>\n",
       "      <th>pdbx_seq_one_letter_code</th>\n",
       "      <th>protein_name</th>\n",
       "    </tr>\n",
       "  </thead>\n",
       "  <tbody>\n",
       "    <tr>\n",
       "      <th>0</th>\n",
       "      <td>A0A024R1R8</td>\n",
       "      <td>A0A024R1R8_HUMAN</td>\n",
       "      <td>UNP</td>\n",
       "      <td>MSSHEGGKKKALKQPKKQAKEMDEEEKAFKQKQKEEQKKLEVLKAK...</td>\n",
       "      <td>AF-A0A024R1R8-F1-model_v1</td>\n",
       "    </tr>\n",
       "    <tr>\n",
       "      <th>1</th>\n",
       "      <td>A0A024RBG1</td>\n",
       "      <td>NUD4B_HUMAN</td>\n",
       "      <td>UNP</td>\n",
       "      <td>MMKFKPNQTRTYDREGFKKRAACLCFRSEQEDEVLLVSSSRYPDQW...</td>\n",
       "      <td>AF-A0A024RBG1-F1-model_v1</td>\n",
       "    </tr>\n",
       "    <tr>\n",
       "      <th>2</th>\n",
       "      <td>A0A024RCN7</td>\n",
       "      <td>A0A024RCN7_HUMAN</td>\n",
       "      <td>UNP</td>\n",
       "      <td>MERSFVWLSCLDSDSCNLTFRLGEVESHACSPSLLWNLLTQYLPPG...</td>\n",
       "      <td>AF-A0A024RCN7-F1-model_v1</td>\n",
       "    </tr>\n",
       "    <tr>\n",
       "      <th>3</th>\n",
       "      <td>A0A075B6H5</td>\n",
       "      <td>A0A075B6H5_HUMAN</td>\n",
       "      <td>UNP</td>\n",
       "      <td>METVVTTLPREGGVGPSRKMLLLLLLLGPGSGLSAVVSQHPSRVIC...</td>\n",
       "      <td>AF-A0A075B6H5-F1-model_v1</td>\n",
       "    </tr>\n",
       "    <tr>\n",
       "      <th>4</th>\n",
       "      <td>A0A075B6H7</td>\n",
       "      <td>KV37_HUMAN</td>\n",
       "      <td>UNP</td>\n",
       "      <td>MEAPAQLLFLLLLWLPDTTREIVMTQSPPTLSLSPGERVTLSCRAS...</td>\n",
       "      <td>AF-A0A075B6H7-F1-model_v1</td>\n",
       "    </tr>\n",
       "  </tbody>\n",
       "</table>\n",
       "</div>"
      ],
      "text/plain": [
       "  pdbx_db_accession           db_code db_name  \\\n",
       "0        A0A024R1R8  A0A024R1R8_HUMAN     UNP   \n",
       "1        A0A024RBG1       NUD4B_HUMAN     UNP   \n",
       "2        A0A024RCN7  A0A024RCN7_HUMAN     UNP   \n",
       "3        A0A075B6H5  A0A075B6H5_HUMAN     UNP   \n",
       "4        A0A075B6H7        KV37_HUMAN     UNP   \n",
       "\n",
       "                            pdbx_seq_one_letter_code  \\\n",
       "0  MSSHEGGKKKALKQPKKQAKEMDEEEKAFKQKQKEEQKKLEVLKAK...   \n",
       "1  MMKFKPNQTRTYDREGFKKRAACLCFRSEQEDEVLLVSSSRYPDQW...   \n",
       "2  MERSFVWLSCLDSDSCNLTFRLGEVESHACSPSLLWNLLTQYLPPG...   \n",
       "3  METVVTTLPREGGVGPSRKMLLLLLLLGPGSGLSAVVSQHPSRVIC...   \n",
       "4  MEAPAQLLFLLLLWLPDTTREIVMTQSPPTLSLSPGERVTLSCRAS...   \n",
       "\n",
       "                protein_name  \n",
       "0  AF-A0A024R1R8-F1-model_v1  \n",
       "1  AF-A0A024RBG1-F1-model_v1  \n",
       "2  AF-A0A024RCN7-F1-model_v1  \n",
       "3  AF-A0A075B6H5-F1-model_v1  \n",
       "4  AF-A0A075B6H7-F1-model_v1  "
      ]
     },
     "execution_count": 12,
     "metadata": {},
     "output_type": "execute_result"
    }
   ],
   "source": [
    "sequences_df.head()"
   ]
  },
  {
   "cell_type": "code",
   "execution_count": 49,
   "id": "abf1286c-4846-4572-8179-4bb61d078d8d",
   "metadata": {},
   "outputs": [],
   "source": [
    "a = np.array([[1,2, 3], [4,5,6]])"
   ]
  },
  {
   "cell_type": "code",
   "execution_count": 53,
   "id": "f9059162-2079-4f6e-9657-95760f949ced",
   "metadata": {},
   "outputs": [
    {
     "data": {
      "text/plain": [
       "array([[1, 2, 3],\n",
       "       [4, 5, 6],\n",
       "       [1, 2, 3],\n",
       "       [4, 5, 6]])"
      ]
     },
     "execution_count": 53,
     "metadata": {},
     "output_type": "execute_result"
    }
   ],
   "source": [
    "np.concatenate([a, a], axis=0)"
   ]
  },
  {
   "cell_type": "code",
   "execution_count": null,
   "id": "253ca91c-272a-4f75-9bef-761a343b259d",
   "metadata": {},
   "outputs": [],
   "source": []
  }
 ],
 "metadata": {
  "environment": {
   "name": "common-cu110.m80",
   "type": "gcloud",
   "uri": "gcr.io/deeplearning-platform-release/base-cu110:m80"
  },
  "kernelspec": {
   "display_name": "Python [conda env:pss]",
   "language": "python",
   "name": "conda-env-pss-py"
  },
  "language_info": {
   "codemirror_mode": {
    "name": "ipython",
    "version": 3
   },
   "file_extension": ".py",
   "mimetype": "text/x-python",
   "name": "python",
   "nbconvert_exporter": "python",
   "pygments_lexer": "ipython3",
   "version": "3.9.7"
  }
 },
 "nbformat": 4,
 "nbformat_minor": 5
}
