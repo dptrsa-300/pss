{
 "cells": [
  {
   "cell_type": "code",
   "execution_count": 10,
   "id": "61b6b544",
   "metadata": {},
   "outputs": [],
   "source": [
    "from sklearn.cluster import OPTICS\n",
    "from sklearn.manifold import Isomap\n",
    "from sklearn.manifold import MDS\n",
    "import numpy as np\n",
    "from google.cloud import storage\n",
    "from google.cloud.storage import Blob\n",
    "from numpy import genfromtxt\n",
    "import os\n",
    "import pandas as pd\n",
    "from utils import model_and_evaluate_cluster as ev\n",
    "import itertools\n",
    "import time\n",
    "from os.path import exists\n",
    "\n",
    "import matplotlib.pyplot as plt\n",
    "from matplotlib.pyplot import figure\n",
    "import seaborn as sns; sns.set()\n",
    "import plotly\n",
    "import plotly.express as px"
   ]
  },
  {
   "cell_type": "code",
   "execution_count": 82,
   "id": "c2c6f943",
   "metadata": {},
   "outputs": [],
   "source": [
    "def download_file(path):\n",
    "        data=[]\n",
    "        os.environ['GOOGLE_APPLICATION_CREDENTIALS'] = \"PSS GCS Storage Key.json\"\n",
    "        storage_client = storage.Client()\n",
    "        blob = storage_client.get_bucket('capstone-fall21-protein').get_blob(path)\n",
    "        blob.download_to_filename(path.split('/')[-1])\n",
    "        \n",
    "        \n",
    "def load_model(df):\n",
    "    home = '/home/jupyter/pss/'\n",
    "\n",
    "    model = df\n",
    "    model.query_protein = 'AF-' + model.query_protein.astype(str) + '-F1-model_v1'\n",
    "    model.target_protein = 'AF-' + model.target_protein.astype(str) + '-F1-model_v1'\n",
    "    \n",
    "    batch_stats = pd.read_parquet('pairwise_evaluation_metrics.parquet')\n",
    "    \n",
    "    batch_stats.set_index(['query_protein', 'target_protein'], inplace=True)\n",
    "    model.set_index(['query_protein', 'target_protein'], inplace=True)\n",
    "    model_stats = model.join(batch_stats, on=['query_protein', 'target_protein'], how='left')\n",
    "    \n",
    "    return model_stats.reset_index()\n",
    "\n",
    "\n",
    "pd.options.display.max_colwidth = 100\n",
    "deepfold_nomask = [f'embeddings/DeepFold/withMask=false/embeddings_0{n}.csv' for n in range(0,10)]\n",
    "deepfold_nomask.extend([f'embeddings/DeepFold/withMask=false/embeddings_{n}.csv' for n in range(10,21)])\n",
    "deepfold_mds100 = 'embeddings/DeepFold/MDS100/deepfold_mds100_embeddings.csv'"
   ]
  },
  {
   "cell_type": "code",
   "execution_count": null,
   "id": "ee12fbd1",
   "metadata": {},
   "outputs": [],
   "source": [
    "# DEEPFOLD EMBEDDINGS\n",
    "\n",
    "X, y, p = [], [], []\n",
    "\n",
    "for file in deepfold_mds100:\n",
    "    tX, ty, tp = ev.deepfold_file_processor(file)\n",
    "    X.extend(tX)\n",
    "    y.extend(ty)\n",
    "    p.extend(tp)\n",
    "    \n",
    "print(len(X), len(y), len(p))"
   ]
  },
  {
   "cell_type": "code",
   "execution_count": 5,
   "id": "95bf89bd",
   "metadata": {},
   "outputs": [
    {
     "name": "stdout",
     "output_type": "stream",
     "text": [
      "19320 19320\n"
     ]
    }
   ],
   "source": [
    "# OPTIONAL - Eliminate Low AlphaFold Prediction Confidence Proteins\n",
    "download_file('structure_files/sequences/sequences.parquet')\n",
    "low_bois = pd.read_parquet('sequences.parquet')\n",
    "low_bois = low_bois[low_bois.confidence_pLDDT < 50.]['protein_id'].values\n",
    "tmpX = []\n",
    "tmpy = []\n",
    "for i, p in enumerate(X):\n",
    "    if y[i] not in low_bois:\n",
    "        tmpX.append(p)\n",
    "        tmpy.append(y[i])\n",
    "X = tmpX\n",
    "y = tmpy\n",
    "print(len(X), len(y))"
   ]
  },
  {
   "cell_type": "code",
   "execution_count": null,
   "id": "d7dd56f2",
   "metadata": {},
   "outputs": [],
   "source": [
    "embedding = MDS(n_components=100, random_state=42)\n",
    "start = time.time()\n",
    "X_transformed = embedding.fit_transform(X)\n",
    "duration = int((time.time() - start) / 60)\n",
    "print(f'Took {duation} mins. with shape {X_transformed.shape}')"
   ]
  },
  {
   "cell_type": "code",
   "execution_count": 28,
   "id": "8cf06bd7",
   "metadata": {},
   "outputs": [
    {
     "data": {
      "text/plain": [
       "(19320, 100)"
      ]
     },
     "execution_count": 28,
     "metadata": {},
     "output_type": "execute_result"
    }
   ],
   "source": [
    "X_transformed.shape"
   ]
  },
  {
   "cell_type": "code",
   "execution_count": 79,
   "id": "176c3668",
   "metadata": {},
   "outputs": [],
   "source": [
    "resl = [] \n",
    "for i, row in enumerate(pd.DataFrame(X_transformed).values):\n",
    "    resl.append([row, y[i]])\n",
    "\n",
    "res = pd.DataFrame(resl, columns=['deepfold', 'protein_id'])\n",
    "res = res[res.protein_id != '']"
   ]
  },
  {
   "cell_type": "code",
   "execution_count": 81,
   "id": "88c3124c",
   "metadata": {},
   "outputs": [],
   "source": [
    "res.to_csv('deepfold_mds100_embeddings.csv')"
   ]
  },
  {
   "cell_type": "code",
   "execution_count": null,
   "id": "bc4f53c5",
   "metadata": {},
   "outputs": [],
   "source": [
    "prefix = 'embeddings/DeepFold/withMask=false/'\n",
    "keys = gcs.list_file_paths(prefix)[1:]\n",
    "X_deepfold, missing_deepfold, protein_id_deepfold = ev.import_deepfold_embeddings(keys)\n",
    "\n",
    "\n",
    "protein_conf = gcs.download_parquet('structure_files/proteins_and_confidences.parquet')\n",
    "mask = np.isin(protein_id_deepfold,\n",
    "               np.array(protein_conf[protein_conf.confidence!='D'].protein_id)\n",
    "              )\n",
    "protein_id_deepfold_ep = protein_id_deepfold[mask]\n",
    "X_deepfold_ep = X_deepfold[mask]"
   ]
  }
 ],
 "metadata": {
  "environment": {
   "name": "common-cpu.m79",
   "type": "gcloud",
   "uri": "gcr.io/deeplearning-platform-release/base-cpu:m79"
  },
  "kernelspec": {
   "display_name": "Python [conda env:root] *",
   "language": "python",
   "name": "conda-root-py"
  },
  "language_info": {
   "codemirror_mode": {
    "name": "ipython",
    "version": 3
   },
   "file_extension": ".py",
   "mimetype": "text/x-python",
   "name": "python",
   "nbconvert_exporter": "python",
   "pygments_lexer": "ipython3",
   "version": "3.7.10"
  }
 },
 "nbformat": 4,
 "nbformat_minor": 5
}
