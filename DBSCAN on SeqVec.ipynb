{
 "cells": [
  {
   "cell_type": "markdown",
   "id": "4a5dc4c3",
   "metadata": {},
   "source": [
    "# Clustering on SeqVec Embeddings\n",
    "Haerang Lee\n",
    "\n",
    "Embedding files are in `embeddings/DeepFold` in the GCS bucket.\n",
    "\n"
   ]
  },
  {
   "cell_type": "code",
   "execution_count": 12,
   "id": "77aaa071",
   "metadata": {},
   "outputs": [],
   "source": [
    "from google.cloud import storage\n",
    "import argparse\n",
    "import gzip\n",
    "import os\n",
    "import sys\n",
    "import time\n",
    "from multiprocessing import Pool\n",
    "\n",
    "import numpy as np\n",
    "import pandas as pd\n",
    "from tqdm.auto import tqdm\n",
    "\n",
    "from utils import gcs_utils as gcs\n",
    "\n",
    "import pickle\n",
    "import io"
   ]
  },
  {
   "cell_type": "code",
   "execution_count": 2,
   "id": "91adb078",
   "metadata": {},
   "outputs": [],
   "source": [
    "# Get all the keys from gcs\n",
    "allkeys = gcs.list_keys()"
   ]
  },
  {
   "cell_type": "code",
   "execution_count": 3,
   "id": "e8227706",
   "metadata": {},
   "outputs": [
    {
     "data": {
      "text/plain": [
       "[['', 'annotations'],\n",
       " ['UP000005640_9606_HUMAN.tar'],\n",
       " ['UP000005640_9606_HUMAN', 'cif'],\n",
       " ['UP000005640_9606_HUMAN', 'pdb'],\n",
       " ['alphafold_dbs', 'mgnify'],\n",
       " ['alphafold_dbs', 'params'],\n",
       " ['alphafold_dbs', 'pdb70'],\n",
       " ['alphafold_dbs', 'small_bfd'],\n",
       " ['alphafold_dbs', 'uniclust30'],\n",
       " ['alphafold_dbs', 'uniref90'],\n",
       " ['annotations', ''],\n",
       " ['annotations', 'blast_annotations.csv'],\n",
       " ['annotations', 'blast_annotations_legacy_do_not_use.csv'],\n",
       " ['c5.go.mf.v7.4.symbols.gmt'],\n",
       " ['clusters', ''],\n",
       " ['clusters', 'random_control_clusters.csv'],\n",
       " ['embeddings', ''],\n",
       " ['embeddings', 'DeepFold'],\n",
       " ['embeddings', 'SeqVec'],\n",
       " ['run_stats.csv'],\n",
       " ['samples', 'clusters_with_few_matches.csv'],\n",
       " ['structure_files', 'atom_sites'],\n",
       " ['structure_files', 'sequences']]"
      ]
     },
     "execution_count": 3,
     "metadata": {},
     "output_type": "execute_result"
    }
   ],
   "source": [
    "unique_dir = []\n",
    "for key in allkeys:\n",
    "    if key.split(\"/\")[0:2] not in unique_dir:\n",
    "        unique_dir.append(key.split(\"/\")[0:2])\n",
    "\n",
    "unique_dir"
   ]
  },
  {
   "cell_type": "code",
   "execution_count": 4,
   "id": "a88c8a84",
   "metadata": {},
   "outputs": [],
   "source": [
    "prefix = 'embeddings/SeqVec'\n",
    "keys = gcs.list_file_paths(prefix)[1:]"
   ]
  },
  {
   "cell_type": "code",
   "execution_count": 5,
   "id": "9c916916",
   "metadata": {},
   "outputs": [
    {
     "name": "stdout",
     "output_type": "stream",
     "text": [
      "21\n"
     ]
    },
    {
     "data": {
      "text/plain": [
       "['gs://capstone-fall21-protein/embeddings/SeqVec/seqvec_vectors_0.pkl',\n",
       " 'gs://capstone-fall21-protein/embeddings/SeqVec/seqvec_vectors_1.pkl',\n",
       " 'gs://capstone-fall21-protein/embeddings/SeqVec/seqvec_vectors_10.pkl',\n",
       " 'gs://capstone-fall21-protein/embeddings/SeqVec/seqvec_vectors_11.pkl',\n",
       " 'gs://capstone-fall21-protein/embeddings/SeqVec/seqvec_vectors_12.pkl',\n",
       " 'gs://capstone-fall21-protein/embeddings/SeqVec/seqvec_vectors_13.pkl',\n",
       " 'gs://capstone-fall21-protein/embeddings/SeqVec/seqvec_vectors_14.pkl',\n",
       " 'gs://capstone-fall21-protein/embeddings/SeqVec/seqvec_vectors_15.pkl',\n",
       " 'gs://capstone-fall21-protein/embeddings/SeqVec/seqvec_vectors_16.pkl',\n",
       " 'gs://capstone-fall21-protein/embeddings/SeqVec/seqvec_vectors_17.pkl',\n",
       " 'gs://capstone-fall21-protein/embeddings/SeqVec/seqvec_vectors_18.pkl',\n",
       " 'gs://capstone-fall21-protein/embeddings/SeqVec/seqvec_vectors_19.pkl',\n",
       " 'gs://capstone-fall21-protein/embeddings/SeqVec/seqvec_vectors_2.pkl',\n",
       " 'gs://capstone-fall21-protein/embeddings/SeqVec/seqvec_vectors_20.pkl',\n",
       " 'gs://capstone-fall21-protein/embeddings/SeqVec/seqvec_vectors_3.pkl',\n",
       " 'gs://capstone-fall21-protein/embeddings/SeqVec/seqvec_vectors_4.pkl',\n",
       " 'gs://capstone-fall21-protein/embeddings/SeqVec/seqvec_vectors_5.pkl',\n",
       " 'gs://capstone-fall21-protein/embeddings/SeqVec/seqvec_vectors_6.pkl',\n",
       " 'gs://capstone-fall21-protein/embeddings/SeqVec/seqvec_vectors_7.pkl',\n",
       " 'gs://capstone-fall21-protein/embeddings/SeqVec/seqvec_vectors_8.pkl',\n",
       " 'gs://capstone-fall21-protein/embeddings/SeqVec/seqvec_vectors_9.pkl']"
      ]
     },
     "execution_count": 5,
     "metadata": {},
     "output_type": "execute_result"
    }
   ],
   "source": [
    "print(len(keys))\n",
    "keys"
   ]
  },
  {
   "cell_type": "code",
   "execution_count": 89,
   "id": "4c50d191",
   "metadata": {},
   "outputs": [],
   "source": [
    "import importlib"
   ]
  },
  {
   "cell_type": "code",
   "execution_count": 95,
   "id": "3778825b",
   "metadata": {},
   "outputs": [
    {
     "data": {
      "text/plain": [
       "<module 'utils.gcs_utils' from '/Users/haeranglee/Documents/pss/utils/gcs_utils.py'>"
      ]
     },
     "execution_count": 95,
     "metadata": {},
     "output_type": "execute_result"
    }
   ],
   "source": [
    "importlib.reload(gcs)"
   ]
  },
  {
   "cell_type": "code",
   "execution_count": null,
   "id": "87dc87af",
   "metadata": {},
   "outputs": [],
   "source": []
  },
  {
   "cell_type": "code",
   "execution_count": 101,
   "id": "cbe1f119",
   "metadata": {},
   "outputs": [],
   "source": [
    "seqvec_df = gcs.download_pkl(gcs.uri_to_bucket_and_key(keys[0])[1])"
   ]
  },
  {
   "cell_type": "code",
   "execution_count": 103,
   "id": "be9e6fd4",
   "metadata": {},
   "outputs": [
    {
     "data": {
      "text/html": [
       "<div>\n",
       "<style scoped>\n",
       "    .dataframe tbody tr th:only-of-type {\n",
       "        vertical-align: middle;\n",
       "    }\n",
       "\n",
       "    .dataframe tbody tr th {\n",
       "        vertical-align: top;\n",
       "    }\n",
       "\n",
       "    .dataframe thead th {\n",
       "        text-align: right;\n",
       "    }\n",
       "</style>\n",
       "<table border=\"1\" class=\"dataframe\">\n",
       "  <thead>\n",
       "    <tr style=\"text-align: right;\">\n",
       "      <th></th>\n",
       "      <th>pdbx_db_accession</th>\n",
       "      <th>db_code</th>\n",
       "      <th>db_name</th>\n",
       "      <th>pdbx_seq_one_letter_code</th>\n",
       "      <th>protein_filename</th>\n",
       "      <th>protein_id</th>\n",
       "      <th>seqvec</th>\n",
       "    </tr>\n",
       "  </thead>\n",
       "  <tbody>\n",
       "    <tr>\n",
       "      <th>0</th>\n",
       "      <td>A0A024R1R8</td>\n",
       "      <td>A0A024R1R8_HUMAN</td>\n",
       "      <td>UNP</td>\n",
       "      <td>MSSHEGGKKKALKQPKKQAKEMDEEEKAFKQKQKEEQKKLEVLKAK...</td>\n",
       "      <td>AF-A0A024R1R8-F1-model_v1</td>\n",
       "      <td>A0A024R1R8</td>\n",
       "      <td>[-0.0093454495, 0.032306828, -0.18556054, -0.0...</td>\n",
       "    </tr>\n",
       "    <tr>\n",
       "      <th>1</th>\n",
       "      <td>A0A024RBG1</td>\n",
       "      <td>NUD4B_HUMAN</td>\n",
       "      <td>UNP</td>\n",
       "      <td>MMKFKPNQTRTYDREGFKKRAACLCFRSEQEDEVLLVSSSRYPDQW...</td>\n",
       "      <td>AF-A0A024RBG1-F1-model_v1</td>\n",
       "      <td>A0A024RBG1</td>\n",
       "      <td>[0.021576513, -0.014022889, -0.06683804, -0.03...</td>\n",
       "    </tr>\n",
       "  </tbody>\n",
       "</table>\n",
       "</div>"
      ],
      "text/plain": [
       "  pdbx_db_accession           db_code db_name  \\\n",
       "0        A0A024R1R8  A0A024R1R8_HUMAN     UNP   \n",
       "1        A0A024RBG1       NUD4B_HUMAN     UNP   \n",
       "\n",
       "                            pdbx_seq_one_letter_code  \\\n",
       "0  MSSHEGGKKKALKQPKKQAKEMDEEEKAFKQKQKEEQKKLEVLKAK...   \n",
       "1  MMKFKPNQTRTYDREGFKKRAACLCFRSEQEDEVLLVSSSRYPDQW...   \n",
       "\n",
       "            protein_filename  protein_id  \\\n",
       "0  AF-A0A024R1R8-F1-model_v1  A0A024R1R8   \n",
       "1  AF-A0A024RBG1-F1-model_v1  A0A024RBG1   \n",
       "\n",
       "                                              seqvec  \n",
       "0  [-0.0093454495, 0.032306828, -0.18556054, -0.0...  \n",
       "1  [0.021576513, -0.014022889, -0.06683804, -0.03...  "
      ]
     },
     "execution_count": 103,
     "metadata": {},
     "output_type": "execute_result"
    }
   ],
   "source": [
    "seqvec_df.head(2)"
   ]
  },
  {
   "cell_type": "code",
   "execution_count": 18,
   "id": "435cdafb",
   "metadata": {},
   "outputs": [
    {
     "data": {
      "text/plain": [
       "Index(['pdbx_db_accession', 'db_code', 'db_name', 'pdbx_seq_one_letter_code',\n",
       "       'protein_filename', 'protein_id', 'seqvec'],\n",
       "      dtype='object')"
      ]
     },
     "execution_count": 18,
     "metadata": {},
     "output_type": "execute_result"
    }
   ],
   "source": [
    "seqvec_df.columns"
   ]
  },
  {
   "cell_type": "code",
   "execution_count": 19,
   "id": "16386469",
   "metadata": {},
   "outputs": [
    {
     "data": {
      "text/plain": [
       "(1000, 7)"
      ]
     },
     "execution_count": 19,
     "metadata": {},
     "output_type": "execute_result"
    }
   ],
   "source": [
    "seqvec_df.shape"
   ]
  },
  {
   "cell_type": "markdown",
   "id": "417cf7da",
   "metadata": {},
   "source": [
    "# Download and parse SeqVec"
   ]
  },
  {
   "cell_type": "code",
   "execution_count": 21,
   "id": "b081e485",
   "metadata": {},
   "outputs": [
    {
     "data": {
      "text/plain": [
       "(20504, 7)"
      ]
     },
     "execution_count": 21,
     "metadata": {},
     "output_type": "execute_result"
    }
   ],
   "source": [
    "seqvec_df = pd.DataFrame(columns = ['pdbx_db_accession', 'db_code', 'db_name', 'pdbx_seq_one_letter_code',\n",
    "       'protein_filename', 'protein_id', 'seqvec'])\n",
    "\n",
    "for key in keys:\n",
    "    sample_emb_pkl = gcs.download_pkl(gcs.uri_to_bucket_and_key(key)[1])\n",
    "    seqvec_df_key = pickle.load(io.BytesIO(sample_emb_pkl))\n",
    "    \n",
    "    seqvec_df = seqvec_df.append(seqvec_df_key, ignore_index=True)\n",
    "\n",
    "seqvec_df.shape"
   ]
  },
  {
   "cell_type": "code",
   "execution_count": 29,
   "id": "970e25b0",
   "metadata": {},
   "outputs": [
    {
     "data": {
      "text/html": [
       "<div>\n",
       "<style scoped>\n",
       "    .dataframe tbody tr th:only-of-type {\n",
       "        vertical-align: middle;\n",
       "    }\n",
       "\n",
       "    .dataframe tbody tr th {\n",
       "        vertical-align: top;\n",
       "    }\n",
       "\n",
       "    .dataframe thead th {\n",
       "        text-align: right;\n",
       "    }\n",
       "</style>\n",
       "<table border=\"1\" class=\"dataframe\">\n",
       "  <thead>\n",
       "    <tr style=\"text-align: right;\">\n",
       "      <th></th>\n",
       "      <th>pdbx_db_accession</th>\n",
       "      <th>db_code</th>\n",
       "      <th>db_name</th>\n",
       "      <th>pdbx_seq_one_letter_code</th>\n",
       "      <th>protein_filename</th>\n",
       "      <th>protein_id</th>\n",
       "      <th>seqvec</th>\n",
       "    </tr>\n",
       "  </thead>\n",
       "  <tbody>\n",
       "    <tr>\n",
       "      <th>count</th>\n",
       "      <td>20504</td>\n",
       "      <td>20504</td>\n",
       "      <td>20504</td>\n",
       "      <td>20504</td>\n",
       "      <td>20504</td>\n",
       "      <td>20504</td>\n",
       "      <td>20504</td>\n",
       "    </tr>\n",
       "    <tr>\n",
       "      <th>unique</th>\n",
       "      <td>20504</td>\n",
       "      <td>20504</td>\n",
       "      <td>1</td>\n",
       "      <td>20435</td>\n",
       "      <td>20504</td>\n",
       "      <td>20504</td>\n",
       "      <td>20504</td>\n",
       "    </tr>\n",
       "    <tr>\n",
       "      <th>top</th>\n",
       "      <td>A0A024R1R8</td>\n",
       "      <td>A0A024R1R8_HUMAN</td>\n",
       "      <td>UNP</td>\n",
       "      <td>MEEPRPSKRLRSMAPNQASGGPPPEPGCCVADPEGSVEADGPAQPA...</td>\n",
       "      <td>AF-A0A024R1R8-F1-model_v1</td>\n",
       "      <td>A0A024R1R8</td>\n",
       "      <td>[-0.0093454495, 0.032306828, -0.18556054, -0.0...</td>\n",
       "    </tr>\n",
       "    <tr>\n",
       "      <th>freq</th>\n",
       "      <td>1</td>\n",
       "      <td>1</td>\n",
       "      <td>20504</td>\n",
       "      <td>5</td>\n",
       "      <td>1</td>\n",
       "      <td>1</td>\n",
       "      <td>1</td>\n",
       "    </tr>\n",
       "  </tbody>\n",
       "</table>\n",
       "</div>"
      ],
      "text/plain": [
       "       pdbx_db_accession           db_code db_name  \\\n",
       "count              20504             20504   20504   \n",
       "unique             20504             20504       1   \n",
       "top           A0A024R1R8  A0A024R1R8_HUMAN     UNP   \n",
       "freq                   1                 1   20504   \n",
       "\n",
       "                                 pdbx_seq_one_letter_code  \\\n",
       "count                                               20504   \n",
       "unique                                              20435   \n",
       "top     MEEPRPSKRLRSMAPNQASGGPPPEPGCCVADPEGSVEADGPAQPA...   \n",
       "freq                                                    5   \n",
       "\n",
       "                 protein_filename  protein_id  \\\n",
       "count                       20504       20504   \n",
       "unique                      20504       20504   \n",
       "top     AF-A0A024R1R8-F1-model_v1  A0A024R1R8   \n",
       "freq                            1           1   \n",
       "\n",
       "                                                   seqvec  \n",
       "count                                               20504  \n",
       "unique                                              20504  \n",
       "top     [-0.0093454495, 0.032306828, -0.18556054, -0.0...  \n",
       "freq                                                    1  "
      ]
     },
     "execution_count": 29,
     "metadata": {},
     "output_type": "execute_result"
    }
   ],
   "source": [
    "seqvec_df.describe()"
   ]
  },
  {
   "cell_type": "code",
   "execution_count": 35,
   "id": "47487fa4",
   "metadata": {},
   "outputs": [
    {
     "data": {
      "text/plain": [
       "pdbx_db_accession                                                  A0A024R1R8\n",
       "db_code                                                      A0A024R1R8_HUMAN\n",
       "db_name                                                                   UNP\n",
       "pdbx_seq_one_letter_code    MSSHEGGKKKALKQPKKQAKEMDEEEKAFKQKQKEEQKKLEVLKAK...\n",
       "protein_filename                                    AF-A0A024R1R8-F1-model_v1\n",
       "protein_id                                                         A0A024R1R8\n",
       "seqvec                      [-0.0093454495, 0.032306828, -0.18556054, -0.0...\n",
       "Name: 0, dtype: object"
      ]
     },
     "execution_count": 35,
     "metadata": {},
     "output_type": "execute_result"
    }
   ],
   "source": [
    "seqvec_df.loc[0]"
   ]
  },
  {
   "cell_type": "code",
   "execution_count": null,
   "id": "d90b27f1",
   "metadata": {},
   "outputs": [],
   "source": []
  },
  {
   "cell_type": "markdown",
   "id": "7cbd2d7b",
   "metadata": {},
   "source": [
    "# AA sequence metrics for research paper"
   ]
  },
  {
   "cell_type": "code",
   "execution_count": 28,
   "id": "f6b55d45",
   "metadata": {},
   "outputs": [
    {
     "name": "stdout",
     "output_type": "stream",
     "text": [
      "min: 16\n",
      "mean: 724.2615587202497\n",
      "median: 412.0\n",
      "max: 232350\n"
     ]
    }
   ],
   "source": [
    "print(\"min:\", seqvec_df.pdbx_seq_one_letter_code.str.len().min())\n",
    "print(\"mean:\", seqvec_df.pdbx_seq_one_letter_code.str.len().mean())\n",
    "print(\"median:\", seqvec_df.pdbx_seq_one_letter_code.str.len().median())\n",
    "print(\"max:\", seqvec_df.pdbx_seq_one_letter_code.str.len().max())"
   ]
  },
  {
   "cell_type": "code",
   "execution_count": 52,
   "id": "2f77bebc",
   "metadata": {},
   "outputs": [],
   "source": [
    "# Convert pd Series into np arr\n",
    "seqvec_np = np.stack( seqvec_df[seqvec_df[\"seqvec\"].str.len()!=3][\"seqvec\"])"
   ]
  },
  {
   "cell_type": "code",
   "execution_count": 54,
   "id": "a6ac3aeb",
   "metadata": {},
   "outputs": [
    {
     "data": {
      "text/plain": [
       "(20503, 1024)"
      ]
     },
     "execution_count": 54,
     "metadata": {},
     "output_type": "execute_result"
    }
   ],
   "source": [
    "seqvec_np.shape"
   ]
  },
  {
   "cell_type": "code",
   "execution_count": 55,
   "id": "be0f4ffc",
   "metadata": {},
   "outputs": [
    {
     "data": {
      "text/plain": [
       "array([[-9.34544951e-03,  3.23068276e-02, -1.85560539e-01, ...,\n",
       "        -1.43279582e-01,  1.97943285e-01,  1.21675484e-01],\n",
       "       [ 2.15765126e-02, -1.40228886e-02, -6.68380409e-02, ...,\n",
       "        -8.51393938e-02,  4.25157137e-02,  8.40931572e-03],\n",
       "       [ 1.51273096e-02,  2.13520341e-02, -3.44568044e-02, ...,\n",
       "         8.32618680e-03, -2.26041477e-04, -1.20919093e-03],\n",
       "       ...,\n",
       "       [ 1.06032556e-02, -1.74569979e-01, -2.68086880e-01, ...,\n",
       "        -2.52510719e-02, -1.26974611e-02, -7.81473666e-02],\n",
       "       [ 6.51418939e-02, -6.31700233e-02, -3.16974461e-01, ...,\n",
       "        -7.32864141e-02, -5.47289662e-02, -5.08046485e-02],\n",
       "       [ 1.00569814e-01, -5.66286892e-02, -1.80323139e-01, ...,\n",
       "         3.62861389e-03, -1.69136431e-02, -8.72481391e-02]], dtype=float32)"
      ]
     },
     "execution_count": 55,
     "metadata": {},
     "output_type": "execute_result"
    }
   ],
   "source": [
    "seqvec_np[0:10]"
   ]
  },
  {
   "cell_type": "code",
   "execution_count": 58,
   "id": "d22eda66",
   "metadata": {},
   "outputs": [
    {
     "name": "stdout",
     "output_type": "stream",
     "text": [
      "0.0\n"
     ]
    }
   ],
   "source": [
    "# how sparse is it?\n",
    "\n",
    "filter_arr = []\n",
    "\n",
    "for element in seqvec_np:\n",
    "    filter_arr.append(sum(element == 0))\n",
    "\n",
    "print(np.mean(filter_arr))"
   ]
  },
  {
   "cell_type": "code",
   "execution_count": 59,
   "id": "c0be8b3f",
   "metadata": {},
   "outputs": [
    {
     "name": "stdout",
     "output_type": "stream",
     "text": [
      "517.7067258449983\n"
     ]
    }
   ],
   "source": [
    "# how many negative numbers?\n",
    "\n",
    "filter_arr = []\n",
    "\n",
    "for element in seqvec_np:\n",
    "    filter_arr.append(sum(element < 0))\n",
    "\n",
    "print(np.mean(filter_arr))"
   ]
  },
  {
   "cell_type": "markdown",
   "id": "b1ad78e3",
   "metadata": {},
   "source": [
    "# HDBSCAN on SeqVec"
   ]
  },
  {
   "cell_type": "code",
   "execution_count": 36,
   "id": "c38bd890",
   "metadata": {},
   "outputs": [],
   "source": [
    "import hdbscan"
   ]
  },
  {
   "cell_type": "code",
   "execution_count": 57,
   "id": "8ba93ee5",
   "metadata": {},
   "outputs": [
    {
     "data": {
      "text/plain": [
       "336"
      ]
     },
     "execution_count": 57,
     "metadata": {},
     "output_type": "execute_result"
    }
   ],
   "source": [
    "clusterer = hdbscan.HDBSCAN(algorithm='generic', alpha=1.0, approx_min_span_tree=True,\n",
    "    gen_min_span_tree=False, leaf_size=40, #memory=Memory(cachedir=None),\n",
    "    metric='cosine', min_cluster_size=5, min_samples=None, p=None)\n",
    "clusterer.fit(seqvec_np.astype(np.float64))\n",
    "clusterer.labels_.max()"
   ]
  },
  {
   "cell_type": "code",
   "execution_count": 65,
   "id": "d95c9f75",
   "metadata": {},
   "outputs": [
    {
     "data": {
      "text/plain": [
       "338"
      ]
     },
     "execution_count": 65,
     "metadata": {},
     "output_type": "execute_result"
    }
   ],
   "source": [
    "np.unique(clusterer.labels_).size"
   ]
  },
  {
   "cell_type": "code",
   "execution_count": 60,
   "id": "e4031761",
   "metadata": {},
   "outputs": [
    {
     "data": {
      "text/plain": [
       "(array([ -1,   0,   1,   2,   3,   4,   5,   6,   7,   8,   9,  10,  11,\n",
       "         12,  13,  14,  15,  16,  17,  18,  19,  20,  21,  22,  23,  24,\n",
       "         25,  26,  27,  28,  29,  30,  31,  32,  33,  34,  35,  36,  37,\n",
       "         38,  39,  40,  41,  42,  43,  44,  45,  46,  47,  48,  49,  50,\n",
       "         51,  52,  53,  54,  55,  56,  57,  58,  59,  60,  61,  62,  63,\n",
       "         64,  65,  66,  67,  68,  69,  70,  71,  72,  73,  74,  75,  76,\n",
       "         77,  78,  79,  80,  81,  82,  83,  84,  85,  86,  87,  88,  89,\n",
       "         90,  91,  92,  93,  94,  95,  96,  97,  98,  99, 100, 101, 102,\n",
       "        103, 104, 105, 106, 107, 108, 109, 110, 111, 112, 113, 114, 115,\n",
       "        116, 117, 118, 119, 120, 121, 122, 123, 124, 125, 126, 127, 128,\n",
       "        129, 130, 131, 132, 133, 134, 135, 136, 137, 138, 139, 140, 141,\n",
       "        142, 143, 144, 145, 146, 147, 148, 149, 150, 151, 152, 153, 154,\n",
       "        155, 156, 157, 158, 159, 160, 161, 162, 163, 164, 165, 166, 167,\n",
       "        168, 169, 170, 171, 172, 173, 174, 175, 176, 177, 178, 179, 180,\n",
       "        181, 182, 183, 184, 185, 186, 187, 188, 189, 190, 191, 192, 193,\n",
       "        194, 195, 196, 197, 198, 199, 200, 201, 202, 203, 204, 205, 206,\n",
       "        207, 208, 209, 210, 211, 212, 213, 214, 215, 216, 217, 218, 219,\n",
       "        220, 221, 222, 223, 224, 225, 226, 227, 228, 229, 230, 231, 232,\n",
       "        233, 234, 235, 236, 237, 238, 239, 240, 241, 242, 243, 244, 245,\n",
       "        246, 247, 248, 249, 250, 251, 252, 253, 254, 255, 256, 257, 258,\n",
       "        259, 260, 261, 262, 263, 264, 265, 266, 267, 268, 269, 270, 271,\n",
       "        272, 273, 274, 275, 276, 277, 278, 279, 280, 281, 282, 283, 284,\n",
       "        285, 286, 287, 288, 289, 290, 291, 292, 293, 294, 295, 296, 297,\n",
       "        298, 299, 300, 301, 302, 303, 304, 305, 306, 307, 308, 309, 310,\n",
       "        311, 312, 313, 314, 315, 316, 317, 318, 319, 320, 321, 322, 323,\n",
       "        324, 325, 326, 327, 328, 329, 330, 331, 332, 333, 334, 335, 336]),\n",
       " array([14363,    10,    24,    53,     6,    15,    15,    60,     8,\n",
       "           18,     9,    10,    10,    30,     7,    16,     5,    12,\n",
       "           16,     8,    14,    22,     7,    10,     9,    12,    13,\n",
       "           27,     8,    18,     5,     6,    15,     8,    16,    55,\n",
       "           16,    11,    13,     5,     7,     5,    10,    14,     6,\n",
       "           12,    15,    14,    12,    12,     8,    10,    32,     9,\n",
       "           12,    30,    14,    10,     7,    11,    17,     6,    19,\n",
       "           15,     9,    13,    18,    69,    17,    11,    10,    14,\n",
       "            9,    11,    19,    14,    27,     8,    10,    17,    10,\n",
       "           23,    14,     5,     6,    15,    10,     8,    21,    42,\n",
       "           24,    13,    20,    46,    12,    20,     6,    11,    16,\n",
       "           12,     8,    19,    13,     6,    12,     7,    10,    15,\n",
       "           14,    14,     6,    96,    10,     5,    10,     7,    16,\n",
       "           14,    11,    12,     6,     6,    24,     6,     5,     5,\n",
       "            7,     7,     7,    14,     6,    14,    24,    21,     8,\n",
       "            8,    19,     6,     5,    11,    14,    12,    19,     6,\n",
       "           10,     7,    13,    54,     7,     9,    18,    12,    16,\n",
       "           21,    12,    10,    16,     9,    15,     6,    10,     5,\n",
       "            7,    10,     9,    19,    10,    33,     6,    73,    12,\n",
       "           10,     7,     7,    34,     5,    18,    18,     9,    26,\n",
       "           10,    13,     9,    27,    12,     7,    13,     8,    20,\n",
       "           13,     7,     6,     9,   101,     8,    20,    22,    14,\n",
       "           94,     5,    13,     8,    10,     8,    20,    12,     6,\n",
       "            8,    20,     5,     9,     8,     9,     9,    10,    10,\n",
       "            5,     5,    21,    24,    29,    12,    12,    65,    10,\n",
       "           20,    36,     7,     7,     8,     8,    26,     5,     6,\n",
       "            8,    43,     5,    10,    14,    14,    41,     9,    20,\n",
       "           29,    15,     8,     7,    13,     5,     7,     6,     6,\n",
       "           14,    46,    13,     9,     7,     7,    18,    10,    12,\n",
       "           11,    19,    11,     7,     7,    12,     8,    14,    10,\n",
       "           12,    17,     5,     8,     8,    46,     9,     8,     7,\n",
       "            6,    12,    13,    21,    11,    19,     8,     6,    19,\n",
       "           29,     7,    10,   159,   401,     8,    42,    11,    33,\n",
       "            7,    77,     8,    17,     8,     9,     8,     7,    13,\n",
       "            7,     7,    19,     8,     9,    16,     6,     7,     7,\n",
       "            7,   381,     5,     7,   113,    10,     7,     5,     5,\n",
       "           49,    54,    14,    93,     7,     6,     8,     5,     9,\n",
       "           19,    11,    10,     8,    81]))"
      ]
     },
     "execution_count": 60,
     "metadata": {},
     "output_type": "execute_result"
    }
   ],
   "source": [
    "np.unique(clusterer.labels_, return_counts=True)"
   ]
  },
  {
   "cell_type": "code",
   "execution_count": null,
   "id": "b265acac",
   "metadata": {},
   "outputs": [],
   "source": []
  }
 ],
 "metadata": {
  "kernelspec": {
   "display_name": "Python 3 (ipykernel)",
   "language": "python",
   "name": "python3"
  },
  "language_info": {
   "codemirror_mode": {
    "name": "ipython",
    "version": 3
   },
   "file_extension": ".py",
   "mimetype": "text/x-python",
   "name": "python",
   "nbconvert_exporter": "python",
   "pygments_lexer": "ipython3",
   "version": "3.9.7"
  }
 },
 "nbformat": 4,
 "nbformat_minor": 5
}
